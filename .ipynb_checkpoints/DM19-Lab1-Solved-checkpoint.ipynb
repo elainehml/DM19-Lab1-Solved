{
 "cells": [
  {
   "cell_type": "markdown",
   "metadata": {},
   "source": [
    "# Data Mining Lab 1\n",
    "In this lab session we will focus on the use of scientific computing libraries to efficiently process, transform, and manage data. Furthermore, we will provide best practices and introduce visualization tools for effectively conducting big data analysis and visualization."
   ]
  },
  {
   "cell_type": "markdown",
   "metadata": {},
   "source": [
    "---"
   ]
  },
  {
   "cell_type": "markdown",
   "metadata": {},
   "source": [
    "## Table of Contents\n",
    "1. Data Source\n",
    "2. Data Preparation\n",
    "3. Data Transformation\n",
    " - 3.1 Converting Dictionary into Pandas dataframe\n",
    " - 3.2 Familiarizing yourself with the Data\n",
    "4. Data Mining using Pandas\n",
    " - 4.1 Dealing with Missing Values\n",
    " - 4.2 Dealing with Duplicate Data\n",
    "5. Data Preprocessing\n",
    " - 5.1 Sampling\n",
    " - 5.2 Feature Creation\n",
    " - 5.3 Feature Subset Selection\n",
    " - 5.4 Dimensionality Reduction\n",
    " - 5.5 Atrribute Transformation / Aggregation\n",
    " - 5.6 Discretization and Binarization\n",
    "6. Data Exploration\n",
    "7. Conclusion\n",
    "8. References"
   ]
  },
  {
   "cell_type": "markdown",
   "metadata": {},
   "source": [
    "---"
   ]
  },
  {
   "cell_type": "markdown",
   "metadata": {},
   "source": [
    "## Introduction\n",
    "In this notebook I will explore a text-based, document-based [dataset](http://scikit-learn.org/stable/tutorial/text_analytics/working_with_text_data.html) using scientific computing tools such as Pandas and Numpy. In addition, several fundamental Data Mining concepts will be explored and explained in details, ranging from calculating distance measures to computing term frequency vectors. Coding examples, visualizations and demonstrations will be provided where necessary. Furthermore, additional exercises are provided after special topics. These exercises are geared towards testing the proficiency of students and motivate students to explore beyond the techniques covered in the notebook. "
   ]
  },
  {
   "cell_type": "markdown",
   "metadata": {},
   "source": [
    "---"
   ]
  },
  {
   "cell_type": "markdown",
   "metadata": {},
   "source": [
    "### Requirements\n",
    "Here are the computing and software requirements\n",
    "\n",
    "#### Computing Resources\n",
    "- Operating system: Preferably Linux or MacOS\n",
    "- RAM: 8 GB\n",
    "- Disk space: Mininium 8 GB\n",
    "\n",
    "#### Software Requirements\n",
    "Here is a list of the required programs and libraries necessary for this lab session:\n",
    "\n",
    "##### Language:\n",
    "- [Python 3+](https://www.python.org/download/releases/3.0/) (Note: coding will be done strictly on Python 3)\n",
    "    - Install latest version of Python 3\n",
    "    \n",
    "##### Environment:\n",
    "Using an environment is to avoid some library conflict problems. You can refer this [Setup Instructions](http://cs231n.github.io/setup-instructions/) to install and setup.\n",
    "\n",
    "- [Anaconda](https://www.anaconda.com/download/) (recommended but not required)\n",
    "    - Install anaconda environment\n",
    "    \n",
    "- [Python virtualenv](https://virtualenv.pypa.io/en/stable/userguide/) (recommended to Linux/MacOS user)\n",
    "    - Install virtual environment\n",
    "\n",
    "- [Kaggle Kernel](https://www.kaggle.com/kernels/)\n",
    "    - Run on the cloud  (with some limitations)\n",
    "    - Reference: [Kaggle Kernels Instructions](https://github.com/omarsar/data_mining_lab/blob/master/kagglekernel.md)\n",
    "    \n",
    "##### Necessary Libraries:\n",
    "- [Jupyter](http://jupyter.org/) (Strongly recommended but not required)\n",
    "    - Install `jupyter` and Use `$jupyter notebook` in terminal to run\n",
    "- [Scikit Learn](http://scikit-learn.org/stable/index.html)\n",
    "    - Install `sklearn` latest python library\n",
    "- [Pandas](http://pandas.pydata.org/)\n",
    "    - Install `pandas` python library\n",
    "- [Numpy](http://www.numpy.org/)\n",
    "    - Install `numpy` python library\n",
    "- [Matplotlib](https://matplotlib.org/)\n",
    "    - Install `maplotlib` for python\n",
    "- [Plotly](https://plot.ly/)\n",
    "    - Install and signup for `plotly`\n",
    "- [Seaborn](https://seaborn.pydata.org/)\n",
    "    - Install and signup for `seaborn`\n",
    "- [NLTK](http://www.nltk.org/)\n",
    "    - Install `nltk` library"
   ]
  },
  {
   "cell_type": "markdown",
   "metadata": {},
   "source": [
    "---"
   ]
  },
  {
   "cell_type": "code",
   "execution_count": 1,
   "metadata": {},
   "outputs": [],
   "source": [
    "# necessary for when working with external scripts\n",
    "%load_ext autoreload\n",
    "%autoreload 2"
   ]
  },
  {
   "cell_type": "markdown",
   "metadata": {},
   "source": [
    "---"
   ]
  },
  {
   "cell_type": "markdown",
   "metadata": {},
   "source": [
    "## 1. The Data\n",
    "In this notebook we will explore the popular 20 newsgroup dataset, originally provided [here](http://qwone.com/~jason/20Newsgroups/). The dataset is called \"Twenty Newsgroups\", which means there are 20 categories of news articles available in the entire dataset. A short description of the dataset, provided by the authors, is provided below:\n",
    "\n",
    "- *The 20 Newsgroups data set is a collection of approximately 20,000 newsgroup documents, partitioned (nearly) evenly across 20 different newsgroups. To the best of our knowledge, it was originally collected by Ken Lang, probably for his paper “Newsweeder: Learning to filter netnews,” though he does not explicitly mention this collection. The 20 newsgroups collection has become a popular data set for experiments in text applications of machine learning techniques, such as text classification and text clustering.*\n",
    "\n",
    "If you need more information about the dataset please refer to the reference provided above. Below is a snapshot of the dataset already converted into a table. Keep in mind that the original dataset is not in this nice pretty format. That work is left to us. That is one of the tasks that will be covered in this notebook: how to convert raw data into convenient tabular formats using Pandas. \n",
    "\n",
    "![atl txt](https://docs.google.com/drawings/d/e/2PACX-1vRd845nNXa1x1Enw6IoEbg-05lB19xG3mfO2BjnpZrloT0pSnY89stBV1gS9Iu6cgRCTq3E5giIT5ZI/pub?w=835&h=550)"
   ]
  },
  {
   "cell_type": "markdown",
   "metadata": {},
   "source": [
    "---"
   ]
  },
  {
   "cell_type": "markdown",
   "metadata": {},
   "source": [
    "## 2. Data Preparation\n",
    "Now let us begin to explore the data. The original dataset can be found on the link provided above or you can directly use the version provided by scikit learn. Here we will use the scikit learn version. \n",
    "\n",
    "In this demonstration we are only going to look at 4 categories. This means we will not make use of the complete dataset, but only a subset of it, which includes the 4 categories defined below:"
   ]
  },
  {
   "cell_type": "code",
   "execution_count": 2,
   "metadata": {},
   "outputs": [],
   "source": [
    "# categories\n",
    "categories = ['alt.atheism', 'soc.religion.christian', 'comp.graphics', 'sci.med']"
   ]
  },
  {
   "cell_type": "code",
   "execution_count": 3,
   "metadata": {},
   "outputs": [],
   "source": [
    "# obtain the documents containing the categories provided\n",
    "from sklearn.datasets import fetch_20newsgroups\n",
    "\n",
    "twenty_train = fetch_20newsgroups(subset='train', categories=categories, \\\n",
    "                                  shuffle=True, random_state=42)"
   ]
  },
  {
   "cell_type": "markdown",
   "metadata": {},
   "source": [
    "Let's take at look some of the records that are contained in our subset of the data"
   ]
  },
  {
   "cell_type": "code",
   "execution_count": 4,
   "metadata": {},
   "outputs": [
    {
     "data": {
      "text/plain": [
       "['From: sd345@city.ac.uk (Michael Collier)\\nSubject: Converting images to HP LaserJet III?\\nNntp-Posting-Host: hampton\\nOrganization: The City University\\nLines: 14\\n\\nDoes anyone know of a good way (standard PC application/PD utility) to\\nconvert tif/img/tga files into LaserJet III format.  We would also like to\\ndo the same, converting to HPGL (HP plotter) files.\\n\\nPlease email any response.\\n\\nIs this the correct group?\\n\\nThanks in advance.  Michael.\\n-- \\nMichael Collier (Programmer)                 The Computer Unit,\\nEmail: M.P.Collier@uk.ac.city                The City University,\\nTel: 071 477-8000 x3769                      London,\\nFax: 071 477-8565                            EC1V 0HB.\\n',\n",
       " \"From: ani@ms.uky.edu (Aniruddha B. Deglurkar)\\nSubject: help: Splitting a trimming region along a mesh \\nOrganization: University Of Kentucky, Dept. of Math Sciences\\nLines: 28\\n\\n\\n\\n\\tHi,\\n\\n\\tI have a problem, I hope some of the 'gurus' can help me solve.\\n\\n\\tBackground of the problem:\\n\\tI have a rectangular mesh in the uv domain, i.e  the mesh is a \\n\\tmapping of a 3d Bezier patch into 2d. The area in this domain\\n\\twhich is inside a trimming loop had to be rendered. The trimming\\n\\tloop is a set of 2d Bezier curve segments.\\n\\tFor the sake of notation: the mesh is made up of cells.\\n\\n\\tMy problem is this :\\n\\tThe trimming area has to be split up into individual smaller\\n\\tcells bounded by the trimming curve segments. If a cell\\n\\tis wholly inside the area...then it is output as a whole ,\\n\\telse it is trivially rejected. \\n\\n\\tDoes any body know how thiss can be done, or is there any algo. \\n\\tsomewhere for doing this.\\n\\n\\tAny help would be appreciated.\\n\\n\\tThanks, \\n\\tAni.\\n-- \\nTo get irritated is human, to stay cool, divine.\\n\"]"
      ]
     },
     "execution_count": 4,
     "metadata": {},
     "output_type": "execute_result"
    }
   ],
   "source": [
    "twenty_train.data[0:2]"
   ]
  },
  {
   "cell_type": "markdown",
   "metadata": {},
   "source": [
    "**Note** the `twenty_train` is just a bunch of objects that can be accessed as python dictionaries; so, you can do the following operations on `twenty_train`"
   ]
  },
  {
   "cell_type": "code",
   "execution_count": 5,
   "metadata": {},
   "outputs": [
    {
     "data": {
      "text/plain": [
       "['alt.atheism', 'comp.graphics', 'sci.med', 'soc.religion.christian']"
      ]
     },
     "execution_count": 5,
     "metadata": {},
     "output_type": "execute_result"
    }
   ],
   "source": [
    "twenty_train.target_names"
   ]
  },
  {
   "cell_type": "code",
   "execution_count": 6,
   "metadata": {},
   "outputs": [
    {
     "data": {
      "text/plain": [
       "2257"
      ]
     },
     "execution_count": 6,
     "metadata": {},
     "output_type": "execute_result"
    }
   ],
   "source": [
    "len(twenty_train.data)"
   ]
  },
  {
   "cell_type": "code",
   "execution_count": 7,
   "metadata": {},
   "outputs": [
    {
     "data": {
      "text/plain": [
       "2257"
      ]
     },
     "execution_count": 7,
     "metadata": {},
     "output_type": "execute_result"
    }
   ],
   "source": [
    "len(twenty_train.filenames)"
   ]
  },
  {
   "cell_type": "markdown",
   "metadata": {},
   "source": [
    "#### We can also print an example from the subset"
   ]
  },
  {
   "cell_type": "code",
   "execution_count": 8,
   "metadata": {
    "scrolled": true
   },
   "outputs": [
    {
     "name": "stdout",
     "output_type": "stream",
     "text": [
      "From: sd345@city.ac.uk (Michael Collier)\n",
      "Subject: Converting images to HP LaserJet III?\n",
      "Nntp-Posting-Host: hampton\n",
      "Organization: The City University\n",
      "Lines: 14\n",
      "\n",
      "Does anyone know of a good way (standard PC application/PD utility) to\n",
      "convert tif/img/tga files into LaserJet III format.  We would also like to\n",
      "do the same, converting to HPGL (HP plotter) files.\n",
      "\n",
      "Please email any response.\n",
      "\n",
      "Is this the correct group?\n",
      "\n",
      "Thanks in advance.  Michael.\n",
      "-- \n",
      "Michael Collier (Programmer)                 The Computer Unit,\n",
      "Email: M.P.Collier@uk.ac.city                The City University,\n",
      "Tel: 071 477-8000 x3769                      London,\n",
      "Fax: 071 477-8565                            EC1V 0HB.\n",
      "\n"
     ]
    }
   ],
   "source": [
    "# An example of what the subset contains\n",
    "print(\"\\n\".join(twenty_train.data[0].split(\"\\n\")))"
   ]
  },
  {
   "cell_type": "markdown",
   "metadata": {},
   "source": [
    "... and determine the label of the example via `target_names` key value"
   ]
  },
  {
   "cell_type": "code",
   "execution_count": 9,
   "metadata": {},
   "outputs": [
    {
     "name": "stdout",
     "output_type": "stream",
     "text": [
      "comp.graphics\n"
     ]
    }
   ],
   "source": [
    "print(twenty_train.target_names[twenty_train.target[0]])"
   ]
  },
  {
   "cell_type": "code",
   "execution_count": 10,
   "metadata": {},
   "outputs": [
    {
     "data": {
      "text/plain": [
       "1"
      ]
     },
     "execution_count": 10,
     "metadata": {},
     "output_type": "execute_result"
    }
   ],
   "source": [
    "twenty_train.target[0]"
   ]
  },
  {
   "cell_type": "markdown",
   "metadata": {},
   "source": [
    "... we can also get the category of 10 documents via `target` key value "
   ]
  },
  {
   "cell_type": "code",
   "execution_count": 11,
   "metadata": {},
   "outputs": [
    {
     "data": {
      "text/plain": [
       "array([1, 1, 3, 3, 3, 3, 3, 2, 2, 2])"
      ]
     },
     "execution_count": 11,
     "metadata": {},
     "output_type": "execute_result"
    }
   ],
   "source": [
    "# category of first 10 documents.\n",
    "twenty_train.target[:10]"
   ]
  },
  {
   "cell_type": "markdown",
   "metadata": {},
   "source": [
    "**Note:** As you can observe, both approaches above provide two different ways of obtaining the `category` value for the dataset. Ideally, we want to have access to both types -- numerical and nominal -- in the event some particular library favors a particular type. \n",
    "\n",
    "As you may have already noticed as well, there is no **tabular format** for the current version of the data. As data miners, we are interested in having our dataset in the most convenient format as possible; something we can manipulate easily and is compatible with our algorithms, and so forth."
   ]
  },
  {
   "cell_type": "markdown",
   "metadata": {},
   "source": [
    "Here is one way to get access to the *text* version of the label of a subset of our training data:"
   ]
  },
  {
   "cell_type": "code",
   "execution_count": 12,
   "metadata": {},
   "outputs": [
    {
     "name": "stdout",
     "output_type": "stream",
     "text": [
      "comp.graphics\n",
      "comp.graphics\n",
      "soc.religion.christian\n",
      "soc.religion.christian\n",
      "soc.religion.christian\n",
      "soc.religion.christian\n",
      "soc.religion.christian\n",
      "sci.med\n",
      "sci.med\n",
      "sci.med\n"
     ]
    }
   ],
   "source": [
    "for t in twenty_train.target[:10]:\n",
    "    print(twenty_train.target_names[t])"
   ]
  },
  {
   "cell_type": "markdown",
   "metadata": {},
   "source": [
    "---"
   ]
  },
  {
   "cell_type": "markdown",
   "metadata": {},
   "source": [
    "### ** >>> Exercise 1 (5 min): **  \n",
    "In this exercise, please print out the *text* data for the first three samples in the dataset. (See the above code for help)"
   ]
  },
  {
   "cell_type": "code",
   "execution_count": 13,
   "metadata": {},
   "outputs": [
    {
     "name": "stdout",
     "output_type": "stream",
     "text": [
      "From: sd345@city.ac.uk (Michael Collier)\n",
      "Subject: Converting images to HP LaserJet III?\n",
      "Nntp-Posting-Host: hampton\n",
      "Organization: The City University\n",
      "Lines: 14\n",
      "\n",
      "Does anyone know of a good way (standard PC application/PD utility) to\n",
      "convert tif/img/tga files into LaserJet III format.  We would also like to\n",
      "do the same, converting to HPGL (HP plotter) files.\n",
      "\n",
      "Please email any response.\n",
      "\n",
      "Is this the correct group?\n",
      "\n",
      "Thanks in advance.  Michael.\n",
      "-- \n",
      "Michael Collier (Programmer)                 The Computer Unit,\n",
      "Email: M.P.Collier@uk.ac.city                The City University,\n",
      "Tel: 071 477-8000 x3769                      London,\n",
      "Fax: 071 477-8565                            EC1V 0HB.\n",
      "\n",
      "From: ani@ms.uky.edu (Aniruddha B. Deglurkar)\n",
      "Subject: help: Splitting a trimming region along a mesh \n",
      "Organization: University Of Kentucky, Dept. of Math Sciences\n",
      "Lines: 28\n",
      "\n",
      "\n",
      "\n",
      "\tHi,\n",
      "\n",
      "\tI have a problem, I hope some of the 'gurus' can help me solve.\n",
      "\n",
      "\tBackground of the problem:\n",
      "\tI have a rectangular mesh in the uv domain, i.e  the mesh is a \n",
      "\tmapping of a 3d Bezier patch into 2d. The area in this domain\n",
      "\twhich is inside a trimming loop had to be rendered. The trimming\n",
      "\tloop is a set of 2d Bezier curve segments.\n",
      "\tFor the sake of notation: the mesh is made up of cells.\n",
      "\n",
      "\tMy problem is this :\n",
      "\tThe trimming area has to be split up into individual smaller\n",
      "\tcells bounded by the trimming curve segments. If a cell\n",
      "\tis wholly inside the area...then it is output as a whole ,\n",
      "\telse it is trivially rejected. \n",
      "\n",
      "\tDoes any body know how thiss can be done, or is there any algo. \n",
      "\tsomewhere for doing this.\n",
      "\n",
      "\tAny help would be appreciated.\n",
      "\n",
      "\tThanks, \n",
      "\tAni.\n",
      "-- \n",
      "To get irritated is human, to stay cool, divine.\n",
      "\n",
      "From: djohnson@cs.ucsd.edu (Darin Johnson)\n",
      "Subject: Re: harrassed at work, could use some prayers\n",
      "Organization: =CSE Dept., U.C. San Diego\n",
      "Lines: 63\n",
      "\n",
      "(Well, I'll email also, but this may apply to other people, so\n",
      "I'll post also.)\n",
      "\n",
      ">I've been working at this company for eight years in various\n",
      ">engineering jobs.  I'm female.  Yesterday I counted and realized that\n",
      ">on seven different occasions I've been sexually harrassed at this\n",
      ">company.\n",
      "\n",
      ">I dreaded coming back to work today.  What if my boss comes in to ask\n",
      ">me some kind of question...\n",
      "\n",
      "Your boss should be the person bring these problems to.  If he/she\n",
      "does not seem to take any action, keep going up higher and higher.\n",
      "Sexual harrassment does not need to be tolerated, and it can be an\n",
      "enormous emotional support to discuss this with someone and know that\n",
      "they are trying to do something about it.  If you feel you can not\n",
      "discuss this with your boss, perhaps your company has a personnel\n",
      "department that can work for you while preserving your privacy.  Most\n",
      "companies will want to deal with this problem because constant anxiety\n",
      "does seriously affect how effectively employees do their jobs.\n",
      "\n",
      "It is unclear from your letter if you have done this or not.  It is\n",
      "not inconceivable that management remains ignorant of employee\n",
      "problems/strife even after eight years (it's a miracle if they do\n",
      "notice).  Perhaps your manager did not bring to the attention of\n",
      "higher ups?  If the company indeed does seem to want to ignore the\n",
      "entire problem, there may be a state agency willing to fight with\n",
      "you.  (check with a lawyer, a women's resource center, etc to find out)\n",
      "\n",
      "You may also want to discuss this with your paster, priest, husband,\n",
      "etc.  That is, someone you know will not be judgemental and that is\n",
      "supportive, comforting, etc.  This will bring a lot of healing.\n",
      "\n",
      ">So I returned at 11:25, only to find that ever single\n",
      ">person had already left for lunch.  They left at 11:15 or so.  No one\n",
      ">could be bothered to call me at the other building, even though my\n",
      ">number was posted.\n",
      "\n",
      "This happens to a lot of people.  Honest.  I believe it may seem\n",
      "to be due to gross insensitivity because of the feelings you are\n",
      "going through.  People in offices tend to be more insensitive while\n",
      "working than they normally are (maybe it's the hustle or stress or...)\n",
      "I've had this happen to me a lot, often because they didn't realize\n",
      "my car was broken, etc.  Then they will come back and wonder why I\n",
      "didn't want to go (this would tend to make me stop being angry at\n",
      "being ignored and make me laugh).  Once, we went off without our\n",
      "boss, who was paying for the lunch :-)\n",
      "\n",
      ">For this\n",
      ">reason I hope good Mr. Moderator allows me this latest indulgence.\n",
      "\n",
      "Well, if you can't turn to the computer for support, what would\n",
      "we do?  (signs of the computer age :-)\n",
      "\n",
      "In closing, please don't let the hateful actions of a single person\n",
      "harm you.  They are doing it because they are still the playground\n",
      "bully and enjoy seeing the hurt they cause.  And you should not\n",
      "accept the opinions of an imbecile that you are worthless - much\n",
      "wiser people hold you in great esteem.\n",
      "-- \n",
      "Darin Johnson\n",
      "djohnson@ucsd.edu\n",
      "  - Luxury!  In MY day, we had to make do with 5 bytes of swap...\n",
      "\n"
     ]
    }
   ],
   "source": [
    "for t in twenty_train.data[:3]:\n",
    "    print(t)"
   ]
  },
  {
   "cell_type": "markdown",
   "metadata": {},
   "source": [
    "---"
   ]
  },
  {
   "cell_type": "markdown",
   "metadata": {},
   "source": [
    "## 3. Data Transformation\n",
    "So we want to explore and understand our data a little bit better. Before we do that we definitely need to apply some transformations just so we can have our dataset in a nice format to be able to explore it freely and more efficient. Lucky for us, there are powerful scientific tools to transform our data into that tabular format we are so farmiliar with. So that is what we will do in the next section--transform our data into a nice table format."
   ]
  },
  {
   "cell_type": "markdown",
   "metadata": {},
   "source": [
    "---"
   ]
  },
  {
   "cell_type": "markdown",
   "metadata": {},
   "source": [
    "### 3.1 Converting Dictionary into Pandas Dataframe\n",
    "Here we will show you how to convert dictionary objects into a pandas dataframe. And by the way, a pandas dataframe is nothing more than a table magically stored for efficient information retrieval."
   ]
  },
  {
   "cell_type": "code",
   "execution_count": 14,
   "metadata": {},
   "outputs": [
    {
     "name": "stdout",
     "output_type": "stream",
     "text": [
      "<class 'sklearn.utils.Bunch'>\n",
      "['From: sd345@city.ac.uk (Michael Collier)\\nSubject: Converting images to HP LaserJet III?\\nNntp-Posting-Host: hampton\\nOrganization: The City University\\nLines: 14\\n\\nDoes anyone know of a good way (standard PC application/PD utility) to\\nconvert tif/img/tga files into LaserJet III format.  We would also like to\\ndo the same, converting to HPGL (HP plotter) files.\\n\\nPlease email any response.\\n\\nIs this the correct group?\\n\\nThanks in advance.  Michael.\\n-- \\nMichael Collier (Programmer)                 The Computer Unit,\\nEmail: M.P.Collier@uk.ac.city                The City University,\\nTel: 071 477-8000 x3769                      London,\\nFax: 071 477-8565                            EC1V 0HB.\\n', \"From: ani@ms.uky.edu (Aniruddha B. Deglurkar)\\nSubject: help: Splitting a trimming region along a mesh \\nOrganization: University Of Kentucky, Dept. of Math Sciences\\nLines: 28\\n\\n\\n\\n\\tHi,\\n\\n\\tI have a problem, I hope some of the 'gurus' can help me solve.\\n\\n\\tBackground of the problem:\\n\\tI have a rectangular mesh in the uv domain, i.e  the mesh is a \\n\\tmapping of a 3d Bezier patch into 2d. The area in this domain\\n\\twhich is inside a trimming loop had to be rendered. The trimming\\n\\tloop is a set of 2d Bezier curve segments.\\n\\tFor the sake of notation: the mesh is made up of cells.\\n\\n\\tMy problem is this :\\n\\tThe trimming area has to be split up into individual smaller\\n\\tcells bounded by the trimming curve segments. If a cell\\n\\tis wholly inside the area...then it is output as a whole ,\\n\\telse it is trivially rejected. \\n\\n\\tDoes any body know how thiss can be done, or is there any algo. \\n\\tsomewhere for doing this.\\n\\n\\tAny help would be appreciated.\\n\\n\\tThanks, \\n\\tAni.\\n-- \\nTo get irritated is human, to stay cool, divine.\\n\"]\n"
     ]
    }
   ],
   "source": [
    "print(type(twenty_train))\n",
    "print(twenty_train.data[0:2])"
   ]
  },
  {
   "cell_type": "code",
   "execution_count": 15,
   "metadata": {},
   "outputs": [
    {
     "data": {
      "text/plain": [
       "array([1, 1, 3, ..., 2, 2, 2])"
      ]
     },
     "execution_count": 15,
     "metadata": {},
     "output_type": "execute_result"
    }
   ],
   "source": [
    "twenty_train.target"
   ]
  },
  {
   "cell_type": "code",
   "execution_count": 16,
   "metadata": {},
   "outputs": [],
   "source": [
    "import pandas as pd\n",
    "\n",
    "# my functions\n",
    "import helpers.data_mining_helpers as dmh\n",
    "\n",
    "# construct dataframe from a list\n",
    "X = pd.DataFrame.from_records(dmh.format_rows(twenty_train), columns= ['text'])"
   ]
  },
  {
   "cell_type": "code",
   "execution_count": 17,
   "metadata": {},
   "outputs": [
    {
     "data": {
      "text/plain": [
       "2257"
      ]
     },
     "execution_count": 17,
     "metadata": {},
     "output_type": "execute_result"
    }
   ],
   "source": [
    "len(X)"
   ]
  },
  {
   "cell_type": "code",
   "execution_count": 18,
   "metadata": {},
   "outputs": [
    {
     "data": {
      "text/html": [
       "<div>\n",
       "<style scoped>\n",
       "    .dataframe tbody tr th:only-of-type {\n",
       "        vertical-align: middle;\n",
       "    }\n",
       "\n",
       "    .dataframe tbody tr th {\n",
       "        vertical-align: top;\n",
       "    }\n",
       "\n",
       "    .dataframe thead th {\n",
       "        text-align: right;\n",
       "    }\n",
       "</style>\n",
       "<table border=\"1\" class=\"dataframe\">\n",
       "  <thead>\n",
       "    <tr style=\"text-align: right;\">\n",
       "      <th></th>\n",
       "      <th>text</th>\n",
       "    </tr>\n",
       "  </thead>\n",
       "  <tbody>\n",
       "    <tr>\n",
       "      <td>0</td>\n",
       "      <td>From: sd345@city.ac.uk (Michael Collier) Subje...</td>\n",
       "    </tr>\n",
       "    <tr>\n",
       "      <td>1</td>\n",
       "      <td>From: ani@ms.uky.edu (Aniruddha B. Deglurkar) ...</td>\n",
       "    </tr>\n",
       "  </tbody>\n",
       "</table>\n",
       "</div>"
      ],
      "text/plain": [
       "                                                text\n",
       "0  From: sd345@city.ac.uk (Michael Collier) Subje...\n",
       "1  From: ani@ms.uky.edu (Aniruddha B. Deglurkar) ..."
      ]
     },
     "execution_count": 18,
     "metadata": {},
     "output_type": "execute_result"
    }
   ],
   "source": [
    "X[0:2]"
   ]
  },
  {
   "cell_type": "code",
   "execution_count": 19,
   "metadata": {},
   "outputs": [
    {
     "name": "stdout",
     "output_type": "stream",
     "text": [
      "From: sd345@city.ac.uk (Michael Collier) Subject: Converting images to HP LaserJet III? Nntp-Posting-Host: hampton Organization: The City University Lines: 14  Does anyone know of a good way (standard PC application/PD utility) to convert tif/img/tga files into LaserJet III format.  We would also like to do the same, converting to HPGL (HP plotter) files.  Please email any response.  Is this the correct group?  Thanks in advance.  Michael. --  Michael Collier (Programmer)                 The Computer Unit, Email: M.P.Collier@uk.ac.city                The City University, Tel: 071 477-8000 x3769                      London, Fax: 071 477-8565                            EC1V 0HB. \n",
      "From: ani@ms.uky.edu (Aniruddha B. Deglurkar) Subject: help: Splitting a trimming region along a mesh  Organization: University Of Kentucky, Dept. of Math Sciences Lines: 28    \tHi,  \tI have a problem, I hope some of the 'gurus' can help me solve.  \tBackground of the problem: \tI have a rectangular mesh in the uv domain, i.e  the mesh is a  \tmapping of a 3d Bezier patch into 2d. The area in this domain \twhich is inside a trimming loop had to be rendered. The trimming \tloop is a set of 2d Bezier curve segments. \tFor the sake of notation: the mesh is made up of cells.  \tMy problem is this : \tThe trimming area has to be split up into individual smaller \tcells bounded by the trimming curve segments. If a cell \tis wholly inside the area...then it is output as a whole , \telse it is trivially rejected.   \tDoes any body know how thiss can be done, or is there any algo.  \tsomewhere for doing this.  \tAny help would be appreciated.  \tThanks,  \tAni. --  To get irritated is human, to stay cool, divine. \n",
      "From: djohnson@cs.ucsd.edu (Darin Johnson) Subject: Re: harrassed at work, could use some prayers Organization: =CSE Dept., U.C. San Diego Lines: 63  (Well, I'll email also, but this may apply to other people, so I'll post also.)  >I've been working at this company for eight years in various >engineering jobs.  I'm female.  Yesterday I counted and realized that >on seven different occasions I've been sexually harrassed at this >company.  >I dreaded coming back to work today.  What if my boss comes in to ask >me some kind of question...  Your boss should be the person bring these problems to.  If he/she does not seem to take any action, keep going up higher and higher. Sexual harrassment does not need to be tolerated, and it can be an enormous emotional support to discuss this with someone and know that they are trying to do something about it.  If you feel you can not discuss this with your boss, perhaps your company has a personnel department that can work for you while preserving your privacy.  Most companies will want to deal with this problem because constant anxiety does seriously affect how effectively employees do their jobs.  It is unclear from your letter if you have done this or not.  It is not inconceivable that management remains ignorant of employee problems/strife even after eight years (it's a miracle if they do notice).  Perhaps your manager did not bring to the attention of higher ups?  If the company indeed does seem to want to ignore the entire problem, there may be a state agency willing to fight with you.  (check with a lawyer, a women's resource center, etc to find out)  You may also want to discuss this with your paster, priest, husband, etc.  That is, someone you know will not be judgemental and that is supportive, comforting, etc.  This will bring a lot of healing.  >So I returned at 11:25, only to find that ever single >person had already left for lunch.  They left at 11:15 or so.  No one >could be bothered to call me at the other building, even though my >number was posted.  This happens to a lot of people.  Honest.  I believe it may seem to be due to gross insensitivity because of the feelings you are going through.  People in offices tend to be more insensitive while working than they normally are (maybe it's the hustle or stress or...) I've had this happen to me a lot, often because they didn't realize my car was broken, etc.  Then they will come back and wonder why I didn't want to go (this would tend to make me stop being angry at being ignored and make me laugh).  Once, we went off without our boss, who was paying for the lunch :-)  >For this >reason I hope good Mr. Moderator allows me this latest indulgence.  Well, if you can't turn to the computer for support, what would we do?  (signs of the computer age :-)  In closing, please don't let the hateful actions of a single person harm you.  They are doing it because they are still the playground bully and enjoy seeing the hurt they cause.  And you should not accept the opinions of an imbecile that you are worthless - much wiser people hold you in great esteem. --  Darin Johnson djohnson@ucsd.edu   - Luxury!  In MY day, we had to make do with 5 bytes of swap... \n"
     ]
    }
   ],
   "source": [
    "for t in X[\"text\"][:3]:\n",
    "    print(t)"
   ]
  },
  {
   "cell_type": "markdown",
   "metadata": {},
   "source": [
    "### Adding Columns"
   ]
  },
  {
   "cell_type": "markdown",
   "metadata": {},
   "source": [
    "One of the great advantages of a pandas dataframe is its flexibility. We can add columns to the current dataset programmatically with very little effort."
   ]
  },
  {
   "cell_type": "code",
   "execution_count": 20,
   "metadata": {},
   "outputs": [],
   "source": [
    "# add category to the dataframe\n",
    "X['category'] = twenty_train.target"
   ]
  },
  {
   "cell_type": "code",
   "execution_count": 21,
   "metadata": {},
   "outputs": [],
   "source": [
    "# add category label also\n",
    "X['category_name'] = X.category.apply(lambda t: dmh.format_labels(t, twenty_train))"
   ]
  },
  {
   "cell_type": "markdown",
   "metadata": {},
   "source": [
    "Now we can print and see what our table looks like. "
   ]
  },
  {
   "cell_type": "code",
   "execution_count": 22,
   "metadata": {},
   "outputs": [
    {
     "data": {
      "text/html": [
       "<div>\n",
       "<style scoped>\n",
       "    .dataframe tbody tr th:only-of-type {\n",
       "        vertical-align: middle;\n",
       "    }\n",
       "\n",
       "    .dataframe tbody tr th {\n",
       "        vertical-align: top;\n",
       "    }\n",
       "\n",
       "    .dataframe thead th {\n",
       "        text-align: right;\n",
       "    }\n",
       "</style>\n",
       "<table border=\"1\" class=\"dataframe\">\n",
       "  <thead>\n",
       "    <tr style=\"text-align: right;\">\n",
       "      <th></th>\n",
       "      <th>text</th>\n",
       "      <th>category</th>\n",
       "      <th>category_name</th>\n",
       "    </tr>\n",
       "  </thead>\n",
       "  <tbody>\n",
       "    <tr>\n",
       "      <td>0</td>\n",
       "      <td>From: sd345@city.ac.uk (Michael Collier) Subje...</td>\n",
       "      <td>1</td>\n",
       "      <td>comp.graphics</td>\n",
       "    </tr>\n",
       "    <tr>\n",
       "      <td>1</td>\n",
       "      <td>From: ani@ms.uky.edu (Aniruddha B. Deglurkar) ...</td>\n",
       "      <td>1</td>\n",
       "      <td>comp.graphics</td>\n",
       "    </tr>\n",
       "    <tr>\n",
       "      <td>2</td>\n",
       "      <td>From: djohnson@cs.ucsd.edu (Darin Johnson) Sub...</td>\n",
       "      <td>3</td>\n",
       "      <td>soc.religion.christian</td>\n",
       "    </tr>\n",
       "    <tr>\n",
       "      <td>3</td>\n",
       "      <td>From: s0612596@let.rug.nl (M.M. Zwart) Subject...</td>\n",
       "      <td>3</td>\n",
       "      <td>soc.religion.christian</td>\n",
       "    </tr>\n",
       "    <tr>\n",
       "      <td>4</td>\n",
       "      <td>From: stanly@grok11.columbiasc.ncr.com (stanly...</td>\n",
       "      <td>3</td>\n",
       "      <td>soc.religion.christian</td>\n",
       "    </tr>\n",
       "    <tr>\n",
       "      <td>5</td>\n",
       "      <td>From: vbv@lor.eeap.cwru.edu (Virgilio (Dean) B...</td>\n",
       "      <td>3</td>\n",
       "      <td>soc.religion.christian</td>\n",
       "    </tr>\n",
       "    <tr>\n",
       "      <td>6</td>\n",
       "      <td>From: jodfishe@silver.ucs.indiana.edu (joseph ...</td>\n",
       "      <td>3</td>\n",
       "      <td>soc.religion.christian</td>\n",
       "    </tr>\n",
       "    <tr>\n",
       "      <td>7</td>\n",
       "      <td>From: aldridge@netcom.com (Jacquelin Aldridge)...</td>\n",
       "      <td>2</td>\n",
       "      <td>sci.med</td>\n",
       "    </tr>\n",
       "    <tr>\n",
       "      <td>8</td>\n",
       "      <td>From: geb@cs.pitt.edu (Gordon Banks) Subject: ...</td>\n",
       "      <td>2</td>\n",
       "      <td>sci.med</td>\n",
       "    </tr>\n",
       "    <tr>\n",
       "      <td>9</td>\n",
       "      <td>From: libman@hsc.usc.edu (Marlena Libman) Subj...</td>\n",
       "      <td>2</td>\n",
       "      <td>sci.med</td>\n",
       "    </tr>\n",
       "  </tbody>\n",
       "</table>\n",
       "</div>"
      ],
      "text/plain": [
       "                                                text  category  \\\n",
       "0  From: sd345@city.ac.uk (Michael Collier) Subje...         1   \n",
       "1  From: ani@ms.uky.edu (Aniruddha B. Deglurkar) ...         1   \n",
       "2  From: djohnson@cs.ucsd.edu (Darin Johnson) Sub...         3   \n",
       "3  From: s0612596@let.rug.nl (M.M. Zwart) Subject...         3   \n",
       "4  From: stanly@grok11.columbiasc.ncr.com (stanly...         3   \n",
       "5  From: vbv@lor.eeap.cwru.edu (Virgilio (Dean) B...         3   \n",
       "6  From: jodfishe@silver.ucs.indiana.edu (joseph ...         3   \n",
       "7  From: aldridge@netcom.com (Jacquelin Aldridge)...         2   \n",
       "8  From: geb@cs.pitt.edu (Gordon Banks) Subject: ...         2   \n",
       "9  From: libman@hsc.usc.edu (Marlena Libman) Subj...         2   \n",
       "\n",
       "            category_name  \n",
       "0           comp.graphics  \n",
       "1           comp.graphics  \n",
       "2  soc.religion.christian  \n",
       "3  soc.religion.christian  \n",
       "4  soc.religion.christian  \n",
       "5  soc.religion.christian  \n",
       "6  soc.religion.christian  \n",
       "7                 sci.med  \n",
       "8                 sci.med  \n",
       "9                 sci.med  "
      ]
     },
     "execution_count": 22,
     "metadata": {},
     "output_type": "execute_result"
    }
   ],
   "source": [
    "X[0:10]"
   ]
  },
  {
   "cell_type": "markdown",
   "metadata": {},
   "source": [
    "Nice! Isn't it? With this format we can conduct many operations easily and efficiently since Pandas dataframes provide us with a wide range of built-in features/functionalities. These features are operations which can directly and quickly be applied to the dataset. These operations may include standard operations like **removing records with missing values** and **aggregating new fields** to the current table (hereinafter referred to as a dataframe), which is desirable in almost every data mining project. Go Pandas!"
   ]
  },
  {
   "cell_type": "markdown",
   "metadata": {},
   "source": [
    "---"
   ]
  },
  {
   "cell_type": "markdown",
   "metadata": {},
   "source": [
    "### 3.2 Familiarizing yourself with the Data"
   ]
  },
  {
   "cell_type": "markdown",
   "metadata": {},
   "source": [
    "To begin to show you the awesomeness of Pandas dataframes, let us look at how to run a simple query on our dataset. We want to query for the first 10 rows (documents), and we only want to keep the `text` and `category_name` attributes or fields."
   ]
  },
  {
   "cell_type": "code",
   "execution_count": 23,
   "metadata": {},
   "outputs": [
    {
     "data": {
      "text/html": [
       "<div>\n",
       "<style scoped>\n",
       "    .dataframe tbody tr th:only-of-type {\n",
       "        vertical-align: middle;\n",
       "    }\n",
       "\n",
       "    .dataframe tbody tr th {\n",
       "        vertical-align: top;\n",
       "    }\n",
       "\n",
       "    .dataframe thead th {\n",
       "        text-align: right;\n",
       "    }\n",
       "</style>\n",
       "<table border=\"1\" class=\"dataframe\">\n",
       "  <thead>\n",
       "    <tr style=\"text-align: right;\">\n",
       "      <th></th>\n",
       "      <th>text</th>\n",
       "      <th>category_name</th>\n",
       "    </tr>\n",
       "  </thead>\n",
       "  <tbody>\n",
       "    <tr>\n",
       "      <td>0</td>\n",
       "      <td>From: sd345@city.ac.uk (Michael Collier) Subje...</td>\n",
       "      <td>comp.graphics</td>\n",
       "    </tr>\n",
       "    <tr>\n",
       "      <td>1</td>\n",
       "      <td>From: ani@ms.uky.edu (Aniruddha B. Deglurkar) ...</td>\n",
       "      <td>comp.graphics</td>\n",
       "    </tr>\n",
       "    <tr>\n",
       "      <td>2</td>\n",
       "      <td>From: djohnson@cs.ucsd.edu (Darin Johnson) Sub...</td>\n",
       "      <td>soc.religion.christian</td>\n",
       "    </tr>\n",
       "    <tr>\n",
       "      <td>3</td>\n",
       "      <td>From: s0612596@let.rug.nl (M.M. Zwart) Subject...</td>\n",
       "      <td>soc.religion.christian</td>\n",
       "    </tr>\n",
       "    <tr>\n",
       "      <td>4</td>\n",
       "      <td>From: stanly@grok11.columbiasc.ncr.com (stanly...</td>\n",
       "      <td>soc.religion.christian</td>\n",
       "    </tr>\n",
       "    <tr>\n",
       "      <td>5</td>\n",
       "      <td>From: vbv@lor.eeap.cwru.edu (Virgilio (Dean) B...</td>\n",
       "      <td>soc.religion.christian</td>\n",
       "    </tr>\n",
       "    <tr>\n",
       "      <td>6</td>\n",
       "      <td>From: jodfishe@silver.ucs.indiana.edu (joseph ...</td>\n",
       "      <td>soc.religion.christian</td>\n",
       "    </tr>\n",
       "    <tr>\n",
       "      <td>7</td>\n",
       "      <td>From: aldridge@netcom.com (Jacquelin Aldridge)...</td>\n",
       "      <td>sci.med</td>\n",
       "    </tr>\n",
       "    <tr>\n",
       "      <td>8</td>\n",
       "      <td>From: geb@cs.pitt.edu (Gordon Banks) Subject: ...</td>\n",
       "      <td>sci.med</td>\n",
       "    </tr>\n",
       "    <tr>\n",
       "      <td>9</td>\n",
       "      <td>From: libman@hsc.usc.edu (Marlena Libman) Subj...</td>\n",
       "      <td>sci.med</td>\n",
       "    </tr>\n",
       "  </tbody>\n",
       "</table>\n",
       "</div>"
      ],
      "text/plain": [
       "                                                text           category_name\n",
       "0  From: sd345@city.ac.uk (Michael Collier) Subje...           comp.graphics\n",
       "1  From: ani@ms.uky.edu (Aniruddha B. Deglurkar) ...           comp.graphics\n",
       "2  From: djohnson@cs.ucsd.edu (Darin Johnson) Sub...  soc.religion.christian\n",
       "3  From: s0612596@let.rug.nl (M.M. Zwart) Subject...  soc.religion.christian\n",
       "4  From: stanly@grok11.columbiasc.ncr.com (stanly...  soc.religion.christian\n",
       "5  From: vbv@lor.eeap.cwru.edu (Virgilio (Dean) B...  soc.religion.christian\n",
       "6  From: jodfishe@silver.ucs.indiana.edu (joseph ...  soc.religion.christian\n",
       "7  From: aldridge@netcom.com (Jacquelin Aldridge)...                 sci.med\n",
       "8  From: geb@cs.pitt.edu (Gordon Banks) Subject: ...                 sci.med\n",
       "9  From: libman@hsc.usc.edu (Marlena Libman) Subj...                 sci.med"
      ]
     },
     "execution_count": 23,
     "metadata": {},
     "output_type": "execute_result"
    }
   ],
   "source": [
    "# a simple query\n",
    "X[0:10][[\"text\", \"category_name\"]]"
   ]
  },
  {
   "cell_type": "markdown",
   "metadata": {},
   "source": [
    "Let us look at a few more interesting queries to familiarize ourselves with the efficiency and conveniency of Pandas dataframes."
   ]
  },
  {
   "cell_type": "markdown",
   "metadata": {},
   "source": [
    "#### Let's query the last 10 records"
   ]
  },
  {
   "cell_type": "code",
   "execution_count": 24,
   "metadata": {},
   "outputs": [
    {
     "data": {
      "text/html": [
       "<div>\n",
       "<style scoped>\n",
       "    .dataframe tbody tr th:only-of-type {\n",
       "        vertical-align: middle;\n",
       "    }\n",
       "\n",
       "    .dataframe tbody tr th {\n",
       "        vertical-align: top;\n",
       "    }\n",
       "\n",
       "    .dataframe thead th {\n",
       "        text-align: right;\n",
       "    }\n",
       "</style>\n",
       "<table border=\"1\" class=\"dataframe\">\n",
       "  <thead>\n",
       "    <tr style=\"text-align: right;\">\n",
       "      <th></th>\n",
       "      <th>text</th>\n",
       "      <th>category</th>\n",
       "      <th>category_name</th>\n",
       "    </tr>\n",
       "  </thead>\n",
       "  <tbody>\n",
       "    <tr>\n",
       "      <td>2247</td>\n",
       "      <td>From: daniels@math.ufl.edu (TV's Big Dealer) S...</td>\n",
       "      <td>3</td>\n",
       "      <td>soc.religion.christian</td>\n",
       "    </tr>\n",
       "    <tr>\n",
       "      <td>2248</td>\n",
       "      <td>From: \"danny hawrysio\" &lt;danny.hawrysio@canrem....</td>\n",
       "      <td>1</td>\n",
       "      <td>comp.graphics</td>\n",
       "    </tr>\n",
       "    <tr>\n",
       "      <td>2249</td>\n",
       "      <td>From: shellgate!llo@uu4.psi.com (Larry L. Over...</td>\n",
       "      <td>3</td>\n",
       "      <td>soc.religion.christian</td>\n",
       "    </tr>\n",
       "    <tr>\n",
       "      <td>2250</td>\n",
       "      <td>From: ingles@engin.umich.edu (Ray Ingles) Subj...</td>\n",
       "      <td>0</td>\n",
       "      <td>alt.atheism</td>\n",
       "    </tr>\n",
       "    <tr>\n",
       "      <td>2251</td>\n",
       "      <td>From: Mark-Tarbell@suite.com Subject: Amniocen...</td>\n",
       "      <td>2</td>\n",
       "      <td>sci.med</td>\n",
       "    </tr>\n",
       "    <tr>\n",
       "      <td>2252</td>\n",
       "      <td>From: roos@Operoni.Helsinki.FI (Christophe Roo...</td>\n",
       "      <td>2</td>\n",
       "      <td>sci.med</td>\n",
       "    </tr>\n",
       "    <tr>\n",
       "      <td>2253</td>\n",
       "      <td>From: mhollowa@ic.sunysb.edu (Michael Holloway...</td>\n",
       "      <td>2</td>\n",
       "      <td>sci.med</td>\n",
       "    </tr>\n",
       "    <tr>\n",
       "      <td>2254</td>\n",
       "      <td>From: sasghm@theseus.unx.sas.com (Gary Merrill...</td>\n",
       "      <td>2</td>\n",
       "      <td>sci.med</td>\n",
       "    </tr>\n",
       "    <tr>\n",
       "      <td>2255</td>\n",
       "      <td>From: Dan Wallach &lt;dwallach@cs.berkeley.edu&gt; S...</td>\n",
       "      <td>2</td>\n",
       "      <td>sci.med</td>\n",
       "    </tr>\n",
       "    <tr>\n",
       "      <td>2256</td>\n",
       "      <td>From: dyer@spdcc.com (Steve Dyer) Subject: Re:...</td>\n",
       "      <td>2</td>\n",
       "      <td>sci.med</td>\n",
       "    </tr>\n",
       "  </tbody>\n",
       "</table>\n",
       "</div>"
      ],
      "text/plain": [
       "                                                   text  category  \\\n",
       "2247  From: daniels@math.ufl.edu (TV's Big Dealer) S...         3   \n",
       "2248  From: \"danny hawrysio\" <danny.hawrysio@canrem....         1   \n",
       "2249  From: shellgate!llo@uu4.psi.com (Larry L. Over...         3   \n",
       "2250  From: ingles@engin.umich.edu (Ray Ingles) Subj...         0   \n",
       "2251  From: Mark-Tarbell@suite.com Subject: Amniocen...         2   \n",
       "2252  From: roos@Operoni.Helsinki.FI (Christophe Roo...         2   \n",
       "2253  From: mhollowa@ic.sunysb.edu (Michael Holloway...         2   \n",
       "2254  From: sasghm@theseus.unx.sas.com (Gary Merrill...         2   \n",
       "2255  From: Dan Wallach <dwallach@cs.berkeley.edu> S...         2   \n",
       "2256  From: dyer@spdcc.com (Steve Dyer) Subject: Re:...         2   \n",
       "\n",
       "               category_name  \n",
       "2247  soc.religion.christian  \n",
       "2248           comp.graphics  \n",
       "2249  soc.religion.christian  \n",
       "2250             alt.atheism  \n",
       "2251                 sci.med  \n",
       "2252                 sci.med  \n",
       "2253                 sci.med  \n",
       "2254                 sci.med  \n",
       "2255                 sci.med  \n",
       "2256                 sci.med  "
      ]
     },
     "execution_count": 24,
     "metadata": {},
     "output_type": "execute_result"
    }
   ],
   "source": [
    "X[-10:]"
   ]
  },
  {
   "cell_type": "markdown",
   "metadata": {},
   "source": [
    "Ready for some sourcery? Brace yourselves! Let us see if we can query every 10th record in our dataframe. In addition, our query must only contain the first 10 records. For this we will use the build-in function called `iloc`. This allows us to query a selection of our dataset by position. "
   ]
  },
  {
   "cell_type": "code",
   "execution_count": 25,
   "metadata": {},
   "outputs": [
    {
     "data": {
      "text/html": [
       "<div>\n",
       "<style scoped>\n",
       "    .dataframe tbody tr th:only-of-type {\n",
       "        vertical-align: middle;\n",
       "    }\n",
       "\n",
       "    .dataframe tbody tr th {\n",
       "        vertical-align: top;\n",
       "    }\n",
       "\n",
       "    .dataframe thead th {\n",
       "        text-align: right;\n",
       "    }\n",
       "</style>\n",
       "<table border=\"1\" class=\"dataframe\">\n",
       "  <thead>\n",
       "    <tr style=\"text-align: right;\">\n",
       "      <th></th>\n",
       "      <th>text</th>\n",
       "      <th>category</th>\n",
       "    </tr>\n",
       "  </thead>\n",
       "  <tbody>\n",
       "    <tr>\n",
       "      <td>0</td>\n",
       "      <td>From: sd345@city.ac.uk (Michael Collier) Subje...</td>\n",
       "      <td>1</td>\n",
       "    </tr>\n",
       "    <tr>\n",
       "      <td>10</td>\n",
       "      <td>From: anasaz!karl@anasazi.com (Karl Dussik) Su...</td>\n",
       "      <td>3</td>\n",
       "    </tr>\n",
       "    <tr>\n",
       "      <td>20</td>\n",
       "      <td>From: dotsonm@dmapub.dma.org (Mark Dotson) Sub...</td>\n",
       "      <td>3</td>\n",
       "    </tr>\n",
       "    <tr>\n",
       "      <td>30</td>\n",
       "      <td>From: vgwlu@dunsell.calgary.chevron.com (greg ...</td>\n",
       "      <td>2</td>\n",
       "    </tr>\n",
       "    <tr>\n",
       "      <td>40</td>\n",
       "      <td>From: david-s@hsr.no (David A. Sjoen) Subject:...</td>\n",
       "      <td>3</td>\n",
       "    </tr>\n",
       "    <tr>\n",
       "      <td>50</td>\n",
       "      <td>From: ab@nova.cc.purdue.edu (Allen B) Subject:...</td>\n",
       "      <td>1</td>\n",
       "    </tr>\n",
       "    <tr>\n",
       "      <td>60</td>\n",
       "      <td>From: Nanci Ann Miller &lt;nm0w+@andrew.cmu.edu&gt; ...</td>\n",
       "      <td>0</td>\n",
       "    </tr>\n",
       "    <tr>\n",
       "      <td>70</td>\n",
       "      <td>From: weaver@chdasic.sps.mot.com (Dave Weaver)...</td>\n",
       "      <td>3</td>\n",
       "    </tr>\n",
       "    <tr>\n",
       "      <td>80</td>\n",
       "      <td>From: annick@cortex.physiol.su.oz.au (Annick A...</td>\n",
       "      <td>2</td>\n",
       "    </tr>\n",
       "    <tr>\n",
       "      <td>90</td>\n",
       "      <td>Subject: Vonnegut/atheism From: dmn@kepler.unh...</td>\n",
       "      <td>0</td>\n",
       "    </tr>\n",
       "  </tbody>\n",
       "</table>\n",
       "</div>"
      ],
      "text/plain": [
       "                                                 text  category\n",
       "0   From: sd345@city.ac.uk (Michael Collier) Subje...         1\n",
       "10  From: anasaz!karl@anasazi.com (Karl Dussik) Su...         3\n",
       "20  From: dotsonm@dmapub.dma.org (Mark Dotson) Sub...         3\n",
       "30  From: vgwlu@dunsell.calgary.chevron.com (greg ...         2\n",
       "40  From: david-s@hsr.no (David A. Sjoen) Subject:...         3\n",
       "50  From: ab@nova.cc.purdue.edu (Allen B) Subject:...         1\n",
       "60  From: Nanci Ann Miller <nm0w+@andrew.cmu.edu> ...         0\n",
       "70  From: weaver@chdasic.sps.mot.com (Dave Weaver)...         3\n",
       "80  From: annick@cortex.physiol.su.oz.au (Annick A...         2\n",
       "90  Subject: Vonnegut/atheism From: dmn@kepler.unh...         0"
      ]
     },
     "execution_count": 25,
     "metadata": {},
     "output_type": "execute_result"
    }
   ],
   "source": [
    "# using loc (by position)\n",
    "X.iloc[::10, 0:2][0:10]"
   ]
  },
  {
   "cell_type": "markdown",
   "metadata": {},
   "source": [
    "You can also use the `loc` function to explicity define the columns you want to query. Take a look at this [great discussion](https://stackoverflow.com/questions/28757389/pandas-loc-vs-iloc-vs-ix-vs-at-vs-iat/43968774) on the differences between the `iloc` and `loc` functions."
   ]
  },
  {
   "cell_type": "code",
   "execution_count": 26,
   "metadata": {},
   "outputs": [
    {
     "data": {
      "text/plain": [
       "0     From: sd345@city.ac.uk (Michael Collier) Subje...\n",
       "10    From: anasaz!karl@anasazi.com (Karl Dussik) Su...\n",
       "20    From: dotsonm@dmapub.dma.org (Mark Dotson) Sub...\n",
       "30    From: vgwlu@dunsell.calgary.chevron.com (greg ...\n",
       "40    From: david-s@hsr.no (David A. Sjoen) Subject:...\n",
       "50    From: ab@nova.cc.purdue.edu (Allen B) Subject:...\n",
       "60    From: Nanci Ann Miller <nm0w+@andrew.cmu.edu> ...\n",
       "70    From: weaver@chdasic.sps.mot.com (Dave Weaver)...\n",
       "80    From: annick@cortex.physiol.su.oz.au (Annick A...\n",
       "90    Subject: Vonnegut/atheism From: dmn@kepler.unh...\n",
       "Name: text, dtype: object"
      ]
     },
     "execution_count": 26,
     "metadata": {},
     "output_type": "execute_result"
    }
   ],
   "source": [
    "# using loc (by label)\n",
    "X.loc[::10, 'text'][0:10]"
   ]
  },
  {
   "cell_type": "code",
   "execution_count": 27,
   "metadata": {},
   "outputs": [
    {
     "data": {
      "text/html": [
       "<div>\n",
       "<style scoped>\n",
       "    .dataframe tbody tr th:only-of-type {\n",
       "        vertical-align: middle;\n",
       "    }\n",
       "\n",
       "    .dataframe tbody tr th {\n",
       "        vertical-align: top;\n",
       "    }\n",
       "\n",
       "    .dataframe thead th {\n",
       "        text-align: right;\n",
       "    }\n",
       "</style>\n",
       "<table border=\"1\" class=\"dataframe\">\n",
       "  <thead>\n",
       "    <tr style=\"text-align: right;\">\n",
       "      <th></th>\n",
       "      <th>text</th>\n",
       "      <th>category</th>\n",
       "      <th>category_name</th>\n",
       "    </tr>\n",
       "  </thead>\n",
       "  <tbody>\n",
       "    <tr>\n",
       "      <td>0</td>\n",
       "      <td>From: sd345@city.ac.uk (Michael Collier) Subje...</td>\n",
       "      <td>1</td>\n",
       "      <td>comp.graphics</td>\n",
       "    </tr>\n",
       "    <tr>\n",
       "      <td>10</td>\n",
       "      <td>From: anasaz!karl@anasazi.com (Karl Dussik) Su...</td>\n",
       "      <td>3</td>\n",
       "      <td>soc.religion.christian</td>\n",
       "    </tr>\n",
       "    <tr>\n",
       "      <td>20</td>\n",
       "      <td>From: dotsonm@dmapub.dma.org (Mark Dotson) Sub...</td>\n",
       "      <td>3</td>\n",
       "      <td>soc.religion.christian</td>\n",
       "    </tr>\n",
       "    <tr>\n",
       "      <td>30</td>\n",
       "      <td>From: vgwlu@dunsell.calgary.chevron.com (greg ...</td>\n",
       "      <td>2</td>\n",
       "      <td>sci.med</td>\n",
       "    </tr>\n",
       "    <tr>\n",
       "      <td>40</td>\n",
       "      <td>From: david-s@hsr.no (David A. Sjoen) Subject:...</td>\n",
       "      <td>3</td>\n",
       "      <td>soc.religion.christian</td>\n",
       "    </tr>\n",
       "    <tr>\n",
       "      <td>50</td>\n",
       "      <td>From: ab@nova.cc.purdue.edu (Allen B) Subject:...</td>\n",
       "      <td>1</td>\n",
       "      <td>comp.graphics</td>\n",
       "    </tr>\n",
       "    <tr>\n",
       "      <td>60</td>\n",
       "      <td>From: Nanci Ann Miller &lt;nm0w+@andrew.cmu.edu&gt; ...</td>\n",
       "      <td>0</td>\n",
       "      <td>alt.atheism</td>\n",
       "    </tr>\n",
       "    <tr>\n",
       "      <td>70</td>\n",
       "      <td>From: weaver@chdasic.sps.mot.com (Dave Weaver)...</td>\n",
       "      <td>3</td>\n",
       "      <td>soc.religion.christian</td>\n",
       "    </tr>\n",
       "    <tr>\n",
       "      <td>80</td>\n",
       "      <td>From: annick@cortex.physiol.su.oz.au (Annick A...</td>\n",
       "      <td>2</td>\n",
       "      <td>sci.med</td>\n",
       "    </tr>\n",
       "    <tr>\n",
       "      <td>90</td>\n",
       "      <td>Subject: Vonnegut/atheism From: dmn@kepler.unh...</td>\n",
       "      <td>0</td>\n",
       "      <td>alt.atheism</td>\n",
       "    </tr>\n",
       "  </tbody>\n",
       "</table>\n",
       "</div>"
      ],
      "text/plain": [
       "                                                 text  category  \\\n",
       "0   From: sd345@city.ac.uk (Michael Collier) Subje...         1   \n",
       "10  From: anasaz!karl@anasazi.com (Karl Dussik) Su...         3   \n",
       "20  From: dotsonm@dmapub.dma.org (Mark Dotson) Sub...         3   \n",
       "30  From: vgwlu@dunsell.calgary.chevron.com (greg ...         2   \n",
       "40  From: david-s@hsr.no (David A. Sjoen) Subject:...         3   \n",
       "50  From: ab@nova.cc.purdue.edu (Allen B) Subject:...         1   \n",
       "60  From: Nanci Ann Miller <nm0w+@andrew.cmu.edu> ...         0   \n",
       "70  From: weaver@chdasic.sps.mot.com (Dave Weaver)...         3   \n",
       "80  From: annick@cortex.physiol.su.oz.au (Annick A...         2   \n",
       "90  Subject: Vonnegut/atheism From: dmn@kepler.unh...         0   \n",
       "\n",
       "             category_name  \n",
       "0            comp.graphics  \n",
       "10  soc.religion.christian  \n",
       "20  soc.religion.christian  \n",
       "30                 sci.med  \n",
       "40  soc.religion.christian  \n",
       "50           comp.graphics  \n",
       "60             alt.atheism  \n",
       "70  soc.religion.christian  \n",
       "80                 sci.med  \n",
       "90             alt.atheism  "
      ]
     },
     "execution_count": 27,
     "metadata": {},
     "output_type": "execute_result"
    }
   ],
   "source": [
    "# standard query (Cannot simultaneously select rows and columns)\n",
    "X[::10][0:10]"
   ]
  },
  {
   "cell_type": "markdown",
   "metadata": {},
   "source": [
    "### ** >>> Exercise 2 (take home):** \n",
    "Experiment with other querying techniques using pandas dataframes. Refer to their [documentation](https://pandas.pydata.org/pandas-docs/stable/indexing.html) for more information. "
   ]
  },
  {
   "cell_type": "code",
   "execution_count": 28,
   "metadata": {
    "scrolled": true
   },
   "outputs": [
    {
     "data": {
      "text/plain": [
       "7     From: aldridge@netcom.com (Jacquelin Aldridge)...\n",
       "8     From: geb@cs.pitt.edu (Gordon Banks) Subject: ...\n",
       "9     From: libman@hsc.usc.edu (Marlena Libman) Subj...\n",
       "16    From: texx@ossi.com (Robert \"Texx\" Woodworth) ...\n",
       "28    From: rind@enterprise.bih.harvard.edu (David R...\n",
       "29    From: spp@zabriskie.berkeley.edu (Steve Pope) ...\n",
       "30    From: vgwlu@dunsell.calgary.chevron.com (greg ...\n",
       "32    From: doyle+@pitt.edu (Howard R Doyle) Subject...\n",
       "34    From: geb@cs.pitt.edu (Gordon Banks) Subject: ...\n",
       "44    From: rgasch@nl.oracle.com (Robert Gasch) Subj...\n",
       "49    From: jimj@contractor.EBay.Sun.COM (Jim Jones)...\n",
       "51    From: noring@netcom.com (Jon Noring) Subject: ...\n",
       "54    From: ls8139@albnyvms.bitnet (larry silverberg...\n",
       "56    From: kaminski@netcom.com (Peter Kaminski) Sub...\n",
       "63    From: carl@SOL1.GPS.CALTECH.EDU (Carl J Lydick...\n",
       "66    From: paj@uk.co.gec-mrc (Paul Johnson) Subject...\n",
       "71    From: Daniel.Prince@f129.n102.z1.calcom.socal....\n",
       "77    From: dmp1@ukc.ac.uk (D.M.Procida) Subject: Re...\n",
       "80    From: annick@cortex.physiol.su.oz.au (Annick A...\n",
       "81    From: kelley@vet.vet.purdue.edu (Stephen Kelle...\n",
       "Name: text, dtype: object"
      ]
     },
     "execution_count": 28,
     "metadata": {},
     "output_type": "execute_result"
    }
   ],
   "source": [
    "#Answer here\n",
    "X.query('category==2')[0:20][\"text\"]"
   ]
  },
  {
   "cell_type": "markdown",
   "metadata": {},
   "source": [
    "---"
   ]
  },
  {
   "cell_type": "markdown",
   "metadata": {},
   "source": [
    "### ** >>> Exercise 3 (5 min): **  \n",
    "Try to fecth records belonging to the ```comp.graphics``` category, and query every 10th record. Only show the first 5 records."
   ]
  },
  {
   "cell_type": "code",
   "execution_count": 29,
   "metadata": {},
   "outputs": [
    {
     "data": {
      "text/html": [
       "<div>\n",
       "<style scoped>\n",
       "    .dataframe tbody tr th:only-of-type {\n",
       "        vertical-align: middle;\n",
       "    }\n",
       "\n",
       "    .dataframe tbody tr th {\n",
       "        vertical-align: top;\n",
       "    }\n",
       "\n",
       "    .dataframe thead th {\n",
       "        text-align: right;\n",
       "    }\n",
       "</style>\n",
       "<table border=\"1\" class=\"dataframe\">\n",
       "  <thead>\n",
       "    <tr style=\"text-align: right;\">\n",
       "      <th></th>\n",
       "      <th>text</th>\n",
       "      <th>category</th>\n",
       "      <th>category_name</th>\n",
       "    </tr>\n",
       "  </thead>\n",
       "  <tbody>\n",
       "    <tr>\n",
       "      <td>7</td>\n",
       "      <td>From: aldridge@netcom.com (Jacquelin Aldridge)...</td>\n",
       "      <td>2</td>\n",
       "      <td>sci.med</td>\n",
       "    </tr>\n",
       "    <tr>\n",
       "      <td>49</td>\n",
       "      <td>From: jimj@contractor.EBay.Sun.COM (Jim Jones)...</td>\n",
       "      <td>2</td>\n",
       "      <td>sci.med</td>\n",
       "    </tr>\n",
       "    <tr>\n",
       "      <td>82</td>\n",
       "      <td>From: jason@ab20.larc.nasa.gov (Jason Austin) ...</td>\n",
       "      <td>2</td>\n",
       "      <td>sci.med</td>\n",
       "    </tr>\n",
       "    <tr>\n",
       "      <td>118</td>\n",
       "      <td>From: rogers@calamari.hi.com (Andrew Rogers) S...</td>\n",
       "      <td>2</td>\n",
       "      <td>sci.med</td>\n",
       "    </tr>\n",
       "    <tr>\n",
       "      <td>142</td>\n",
       "      <td>From: lady@uhunix.uhcc.Hawaii.Edu (Lee Lady) S...</td>\n",
       "      <td>2</td>\n",
       "      <td>sci.med</td>\n",
       "    </tr>\n",
       "  </tbody>\n",
       "</table>\n",
       "</div>"
      ],
      "text/plain": [
       "                                                  text  category category_name\n",
       "7    From: aldridge@netcom.com (Jacquelin Aldridge)...         2       sci.med\n",
       "49   From: jimj@contractor.EBay.Sun.COM (Jim Jones)...         2       sci.med\n",
       "82   From: jason@ab20.larc.nasa.gov (Jason Austin) ...         2       sci.med\n",
       "118  From: rogers@calamari.hi.com (Andrew Rogers) S...         2       sci.med\n",
       "142  From: lady@uhunix.uhcc.Hawaii.Edu (Lee Lady) S...         2       sci.med"
      ]
     },
     "execution_count": 29,
     "metadata": {},
     "output_type": "execute_result"
    }
   ],
   "source": [
    "#X[X['category_name']=='sci.med'].iloc[::10][0:5]\n",
    "X.loc[lambda f: f.category_name == 'sci.med'].iloc[::10, :][0:5]"
   ]
  },
  {
   "cell_type": "markdown",
   "metadata": {},
   "source": [
    "---"
   ]
  },
  {
   "cell_type": "markdown",
   "metadata": {},
   "source": [
    "## 4. Data Mining using Pandas"
   ]
  },
  {
   "cell_type": "markdown",
   "metadata": {},
   "source": [
    "Let's do some serious work now. Let's learn to program some of the ideas and concepts learned so far in the data mining course. This is the only way we can be convince ourselves of the true power of Pandas dataframes. "
   ]
  },
  {
   "cell_type": "markdown",
   "metadata": {},
   "source": [
    "### 4.1 Missing Values"
   ]
  },
  {
   "cell_type": "markdown",
   "metadata": {},
   "source": [
    "First, let us consider that our dataset has some *missing values* and we want to remove those values. In its current state our dataset has no missing values, but for practice sake we will add some records with missing values and then write some code to deal with these objects that contain missing values. You will see for yourself how easy it is to deal with missing values once you have your data transformed into a Pandas dataframe.\n",
    "\n",
    "Before we jump into coding, let us do a quick review of what we have learned in the Data Mining course. Specifically, let's review the methods used to deal with missing values.\n",
    "\n",
    "The most common reasons for having missing values in datasets has to do with how the data was initially collected. A good example of this is when a patient comes into the ER room, the data is collected as quickly as possible and depending on the conditions of the patients, the personal data being collected is either incomplete or partially complete. In the former and latter cases, we are presented with a case of \"missing values\". Knowing that patients data is particularly critical and can be used by the health authorities to conduct some interesting analysis, we as the data miners are left with the tough task of deciding what to do with these missing and incomplete records. We need to deal with these records because they are definitely going to affect our analysis or learning algorithms. So what do we do? There are several ways to handle missing values, and some of the more effective ways are presented below (Note: You can reference the slides - Session 1 Handout for the additional information).\n",
    "\n",
    "- **Eliminate Data Objects** - Here we completely discard records once they contain some missing values. This is the easiest approach and the one we will be using in this notebook. The immediate drawback of going with this approach is that you lose some information, and in some cases too much of it. Now imagine that half of the records have at least one or more missing values. Here you are presented with the tough decision of quantity vs quality. In any event, this decision must be made carefully, hence the reason for emphasizing it here in this notebook. \n",
    "\n",
    "- **Estimate Missing Values** - Here we try to estimate the missing values based on some criteria. Although this approach may be proven to be effective, it is not always the case, especially when we are dealing with sensitive data, like **Gender** or **Names**. For fields like **Address**, there could be ways to obtain these missing addresses using some data aggregation technique or obtain the information directly from other databases or public data sources.\n",
    "\n",
    "- **Ignore the missing value during analysis** - Here we basically ignore the missing values and proceed with our analysis. Although this is the most naive way to handle missing values it may proof effective, especially when the missing values includes information that is not important to the analysis being conducted. But think about it for a while. Would you ignore missing values, especially when in this day and age it is difficult to obtain high quality datasets? Again, there are some tradeoffs, which we will talk about later in the notebook.\n",
    "\n",
    "- **Replace with all possible values** - As an efficient and responsible data miner, we sometimes just need to put in the hard hours of work and find ways to makes up for these missing values. This last option is a very wise option for cases where data is scarce (which is almost always) or when dealing with sensitive data. Imagine that our dataset has an **Age** field, which contains many missing values. Since **Age** is a continuous variable, it means that we can build a separate model for calculating the age for the incomplete records based on some rule-based appraoch or probabilistic approach.  "
   ]
  },
  {
   "cell_type": "markdown",
   "metadata": {},
   "source": [
    "As mentioned earlier, we are going to go with the first option but you may be asked to compute missing values, using a different approach, as an exercise. Let's get to it!\n",
    "\n",
    "First we want to add the dummy records with missing values since the dataset we have is perfectly composed and cleaned that it contains no missing values. First let us check for ourselves that indeed the dataset doesn't contain any missing values. We can do that easily by using the following built-in function provided by Pandas.  "
   ]
  },
  {
   "cell_type": "code",
   "execution_count": 30,
   "metadata": {},
   "outputs": [
    {
     "data": {
      "text/html": [
       "<div>\n",
       "<style scoped>\n",
       "    .dataframe tbody tr th:only-of-type {\n",
       "        vertical-align: middle;\n",
       "    }\n",
       "\n",
       "    .dataframe tbody tr th {\n",
       "        vertical-align: top;\n",
       "    }\n",
       "\n",
       "    .dataframe thead th {\n",
       "        text-align: right;\n",
       "    }\n",
       "</style>\n",
       "<table border=\"1\" class=\"dataframe\">\n",
       "  <thead>\n",
       "    <tr style=\"text-align: right;\">\n",
       "      <th></th>\n",
       "      <th>text</th>\n",
       "      <th>category</th>\n",
       "      <th>category_name</th>\n",
       "    </tr>\n",
       "  </thead>\n",
       "  <tbody>\n",
       "    <tr>\n",
       "      <td>0</td>\n",
       "      <td>False</td>\n",
       "      <td>False</td>\n",
       "      <td>False</td>\n",
       "    </tr>\n",
       "    <tr>\n",
       "      <td>1</td>\n",
       "      <td>False</td>\n",
       "      <td>False</td>\n",
       "      <td>False</td>\n",
       "    </tr>\n",
       "    <tr>\n",
       "      <td>2</td>\n",
       "      <td>False</td>\n",
       "      <td>False</td>\n",
       "      <td>False</td>\n",
       "    </tr>\n",
       "    <tr>\n",
       "      <td>3</td>\n",
       "      <td>False</td>\n",
       "      <td>False</td>\n",
       "      <td>False</td>\n",
       "    </tr>\n",
       "    <tr>\n",
       "      <td>4</td>\n",
       "      <td>False</td>\n",
       "      <td>False</td>\n",
       "      <td>False</td>\n",
       "    </tr>\n",
       "    <tr>\n",
       "      <td>...</td>\n",
       "      <td>...</td>\n",
       "      <td>...</td>\n",
       "      <td>...</td>\n",
       "    </tr>\n",
       "    <tr>\n",
       "      <td>2252</td>\n",
       "      <td>False</td>\n",
       "      <td>False</td>\n",
       "      <td>False</td>\n",
       "    </tr>\n",
       "    <tr>\n",
       "      <td>2253</td>\n",
       "      <td>False</td>\n",
       "      <td>False</td>\n",
       "      <td>False</td>\n",
       "    </tr>\n",
       "    <tr>\n",
       "      <td>2254</td>\n",
       "      <td>False</td>\n",
       "      <td>False</td>\n",
       "      <td>False</td>\n",
       "    </tr>\n",
       "    <tr>\n",
       "      <td>2255</td>\n",
       "      <td>False</td>\n",
       "      <td>False</td>\n",
       "      <td>False</td>\n",
       "    </tr>\n",
       "    <tr>\n",
       "      <td>2256</td>\n",
       "      <td>False</td>\n",
       "      <td>False</td>\n",
       "      <td>False</td>\n",
       "    </tr>\n",
       "  </tbody>\n",
       "</table>\n",
       "<p>2257 rows × 3 columns</p>\n",
       "</div>"
      ],
      "text/plain": [
       "       text  category  category_name\n",
       "0     False     False          False\n",
       "1     False     False          False\n",
       "2     False     False          False\n",
       "3     False     False          False\n",
       "4     False     False          False\n",
       "...     ...       ...            ...\n",
       "2252  False     False          False\n",
       "2253  False     False          False\n",
       "2254  False     False          False\n",
       "2255  False     False          False\n",
       "2256  False     False          False\n",
       "\n",
       "[2257 rows x 3 columns]"
      ]
     },
     "execution_count": 30,
     "metadata": {},
     "output_type": "execute_result"
    }
   ],
   "source": [
    "X.isnull()"
   ]
  },
  {
   "cell_type": "markdown",
   "metadata": {},
   "source": [
    "The `isnull` function looks through the entire dataset for null values and returns `True` wherever it finds any missing field or record. As you will see above, and as we anticipated, our dataset looks clean and all values are present, since `isnull` returns **False** for all fields and records. But let us start to get our hands dirty and build a nice little function to check each of the records, column by column, and return a nice little message telling us the amount of missing records found. This excerice will also encourage us to explore other capabilities of pandas dataframes. In most cases, the build-in functions are good enough, but as you saw above when the entire table was printed, it is impossible to tell if there are missing records just by looking at preview of records manually, especially in cases where the dataset is huge. We want a more reliable way to achieve this. Let's get to it!"
   ]
  },
  {
   "cell_type": "code",
   "execution_count": 31,
   "metadata": {},
   "outputs": [
    {
     "data": {
      "text/plain": [
       "text             (The amoung of missing records is: , 0)\n",
       "category         (The amoung of missing records is: , 0)\n",
       "category_name    (The amoung of missing records is: , 0)\n",
       "dtype: object"
      ]
     },
     "execution_count": 31,
     "metadata": {},
     "output_type": "execute_result"
    }
   ],
   "source": [
    "X.isnull().apply(lambda x: dmh.check_missing_values(x))"
   ]
  },
  {
   "cell_type": "markdown",
   "metadata": {},
   "source": [
    "Okay, a lot happened there in that one line of code, so let's break it down. First, with the `isnull` we tranformed our table into the **True/False** table you see above, where **True** in this case means that the data is missing and **False** means that the data is present. We then take the transformed table and apply a function to each row that essentially counts to see if there are missing values in each record and print out how much missing values we found. In other words the `check_missing_values` function looks through each field (attribute or column) in the dataset and counts how many missing values were found. \n",
    "\n",
    "There are many other clever ways to check for missing data, and that is what makes Pandas so beautiful to work with. You get the control you need as a data scientist or just a person working in data mining projects. Indeed, Pandas makes your life easy!"
   ]
  },
  {
   "cell_type": "markdown",
   "metadata": {},
   "source": [
    "---"
   ]
  },
  {
   "cell_type": "markdown",
   "metadata": {},
   "source": [
    "### >>> **Exercise 4 (5 min):** \n",
    "Let's try something different. Instead of calculating missing values by column let's try to calculate the missing values in every record instead of every column.  \n",
    "$Hint$ : `axis` parameter. Check the documentation for more information."
   ]
  },
  {
   "cell_type": "code",
   "execution_count": 32,
   "metadata": {},
   "outputs": [
    {
     "data": {
      "text/plain": [
       "0       (The amoung of missing records is: , 0)\n",
       "1       (The amoung of missing records is: , 0)\n",
       "2       (The amoung of missing records is: , 0)\n",
       "3       (The amoung of missing records is: , 0)\n",
       "4       (The amoung of missing records is: , 0)\n",
       "                         ...                   \n",
       "2252    (The amoung of missing records is: , 0)\n",
       "2253    (The amoung of missing records is: , 0)\n",
       "2254    (The amoung of missing records is: , 0)\n",
       "2255    (The amoung of missing records is: , 0)\n",
       "2256    (The amoung of missing records is: , 0)\n",
       "Length: 2257, dtype: object"
      ]
     },
     "execution_count": 32,
     "metadata": {},
     "output_type": "execute_result"
    }
   ],
   "source": [
    "X.isnull().apply(lambda x: dmh.check_missing_values(x), axis=1)"
   ]
  },
  {
   "cell_type": "markdown",
   "metadata": {},
   "source": [
    "---"
   ]
  },
  {
   "cell_type": "markdown",
   "metadata": {},
   "source": [
    "We have our function to check for missing records, now let us do something mischievous and insert some dummy data into the dataframe and test the reliability of our function. This dummy data is intended to corrupt the dataset. I mean this happens a lot today, especially when hackers want to hijack or corrupt a database.\n",
    "\n",
    "We will insert a `Series`, which is basically a \"one-dimensional labeled array capable of holding data of any type (integer, string, float, python objects, etc.). The axis labels are collectively called index.\", into our current dataframe."
   ]
  },
  {
   "cell_type": "code",
   "execution_count": 33,
   "metadata": {},
   "outputs": [],
   "source": [
    "dummy_series = pd.Series([\"dummy_record\", 1], index=[\"text\", \"category\"])"
   ]
  },
  {
   "cell_type": "code",
   "execution_count": 34,
   "metadata": {},
   "outputs": [
    {
     "data": {
      "text/plain": [
       "text        dummy_record\n",
       "category               1\n",
       "dtype: object"
      ]
     },
     "execution_count": 34,
     "metadata": {},
     "output_type": "execute_result"
    }
   ],
   "source": [
    "dummy_series"
   ]
  },
  {
   "cell_type": "code",
   "execution_count": 35,
   "metadata": {},
   "outputs": [],
   "source": [
    "result_with_series = X.append(dummy_series, ignore_index=True)"
   ]
  },
  {
   "cell_type": "code",
   "execution_count": 36,
   "metadata": {},
   "outputs": [
    {
     "data": {
      "text/plain": [
       "2258"
      ]
     },
     "execution_count": 36,
     "metadata": {},
     "output_type": "execute_result"
    }
   ],
   "source": [
    "# check if the records was commited into result\n",
    "len(result_with_series)"
   ]
  },
  {
   "cell_type": "markdown",
   "metadata": {},
   "source": [
    "Now we that we have added the record with some missing values. Let try our function and see if it can detect that there is a missing value on the resulting dataframe."
   ]
  },
  {
   "cell_type": "code",
   "execution_count": 37,
   "metadata": {},
   "outputs": [
    {
     "data": {
      "text/plain": [
       "text             (The amoung of missing records is: , 0)\n",
       "category         (The amoung of missing records is: , 0)\n",
       "category_name    (The amoung of missing records is: , 1)\n",
       "dtype: object"
      ]
     },
     "execution_count": 37,
     "metadata": {},
     "output_type": "execute_result"
    }
   ],
   "source": [
    "result_with_series.isnull().apply(lambda x: dmh.check_missing_values(x))"
   ]
  },
  {
   "cell_type": "markdown",
   "metadata": {},
   "source": [
    "Indeed there is a missing value in this new dataframe. Specifically, the missing value comes from the `category_name` attribute. As I mentioned before, there are many ways to conduct specific operations on the dataframes. In this case let us use a simple dictionary and try to insert it into our original dataframe `X`. Notice that above we are not changing the `X` dataframe as results are directly applied to the assignment variable provided. But in the event that we just want to keep things simple, we can just directly apply the changes to `X` and assign it to itself as we will do below. This modification will create a need to remove this dummy record later on, which means that we need to learn more about Pandas dataframes. This is getting intense! But just relax, everything will be fine!"
   ]
  },
  {
   "cell_type": "code",
   "execution_count": 38,
   "metadata": {},
   "outputs": [],
   "source": [
    "# dummy record as dictionary format\n",
    "dummy_dict = [{'text': 'dummy_record',\n",
    "               'category': 1\n",
    "              }]"
   ]
  },
  {
   "cell_type": "code",
   "execution_count": 39,
   "metadata": {},
   "outputs": [],
   "source": [
    "X = X.append(dummy_dict, ignore_index=True)"
   ]
  },
  {
   "cell_type": "code",
   "execution_count": 40,
   "metadata": {},
   "outputs": [
    {
     "data": {
      "text/plain": [
       "2258"
      ]
     },
     "execution_count": 40,
     "metadata": {},
     "output_type": "execute_result"
    }
   ],
   "source": [
    "len(X)"
   ]
  },
  {
   "cell_type": "code",
   "execution_count": 41,
   "metadata": {},
   "outputs": [
    {
     "data": {
      "text/plain": [
       "text             (The amoung of missing records is: , 0)\n",
       "category         (The amoung of missing records is: , 0)\n",
       "category_name    (The amoung of missing records is: , 1)\n",
       "dtype: object"
      ]
     },
     "execution_count": 41,
     "metadata": {},
     "output_type": "execute_result"
    }
   ],
   "source": [
    "X.isnull().apply(lambda x: dmh.check_missing_values(x))"
   ]
  },
  {
   "cell_type": "markdown",
   "metadata": {},
   "source": [
    "So now that we can see that our data has missing values, we want to remove the records with missing values. The code to drop the record with missing that we just added, is the following:"
   ]
  },
  {
   "cell_type": "code",
   "execution_count": 42,
   "metadata": {},
   "outputs": [],
   "source": [
    "X.dropna(inplace=True)"
   ]
  },
  {
   "cell_type": "markdown",
   "metadata": {},
   "source": [
    "... and now let us test to see if we gotten rid of the records with missing values. "
   ]
  },
  {
   "cell_type": "code",
   "execution_count": 43,
   "metadata": {},
   "outputs": [
    {
     "data": {
      "text/plain": [
       "text             (The amoung of missing records is: , 0)\n",
       "category         (The amoung of missing records is: , 0)\n",
       "category_name    (The amoung of missing records is: , 0)\n",
       "dtype: object"
      ]
     },
     "execution_count": 43,
     "metadata": {},
     "output_type": "execute_result"
    }
   ],
   "source": [
    "X.isnull().apply(lambda x: dmh.check_missing_values(x))"
   ]
  },
  {
   "cell_type": "code",
   "execution_count": 44,
   "metadata": {},
   "outputs": [
    {
     "data": {
      "text/plain": [
       "2257"
      ]
     },
     "execution_count": 44,
     "metadata": {},
     "output_type": "execute_result"
    }
   ],
   "source": [
    "len(X)"
   ]
  },
  {
   "cell_type": "markdown",
   "metadata": {},
   "source": [
    "And we are back with our original dataset, clean and tidy as we want it. That's enough on how to deal with missing values, let us now move unto something more fun. "
   ]
  },
  {
   "cell_type": "markdown",
   "metadata": {},
   "source": [
    "But just in case you want to learn more about how to deal with missing data, refer to the official [Pandas documentation](http://pandas.pydata.org/pandas-docs/stable/missing_data.html#missing-data)."
   ]
  },
  {
   "cell_type": "markdown",
   "metadata": {},
   "source": [
    "---"
   ]
  },
  {
   "cell_type": "markdown",
   "metadata": {},
   "source": [
    "### >>> **Exercise 5 (take home)** \n",
    "There is an old saying that goes, \"The devil is in the details.\" When we are working with extremely large data, it's difficult to check records one by one (as we have been doing so far). And also, we don't even know what kind of missing values we are facing. Thus, \"debugging\" skills get sharper as we spend more time solving bugs. Let's focus on a different method to check for missing values and the kinds of missing values you may encounter. It's not easy to check for missing values as you will find out in a minute.\n",
    "\n",
    "Please check the data and the process below, describe what you observe and why it happened.   \n",
    "$Hint$ :  why `.isnull()` didn't work?"
   ]
  },
  {
   "cell_type": "code",
   "execution_count": 45,
   "metadata": {},
   "outputs": [
    {
     "data": {
      "text/html": [
       "<div>\n",
       "<style scoped>\n",
       "    .dataframe tbody tr th:only-of-type {\n",
       "        vertical-align: middle;\n",
       "    }\n",
       "\n",
       "    .dataframe tbody tr th {\n",
       "        vertical-align: top;\n",
       "    }\n",
       "\n",
       "    .dataframe thead th {\n",
       "        text-align: right;\n",
       "    }\n",
       "</style>\n",
       "<table border=\"1\" class=\"dataframe\">\n",
       "  <thead>\n",
       "    <tr style=\"text-align: right;\">\n",
       "      <th></th>\n",
       "      <th>id</th>\n",
       "      <th>missing_example</th>\n",
       "    </tr>\n",
       "  </thead>\n",
       "  <tbody>\n",
       "    <tr>\n",
       "      <td>0</td>\n",
       "      <td>A</td>\n",
       "      <td>NaN</td>\n",
       "    </tr>\n",
       "    <tr>\n",
       "      <td>1</td>\n",
       "      <td>B</td>\n",
       "      <td>NaN</td>\n",
       "    </tr>\n",
       "    <tr>\n",
       "      <td>2</td>\n",
       "      <td>C</td>\n",
       "      <td>NaN</td>\n",
       "    </tr>\n",
       "    <tr>\n",
       "      <td>3</td>\n",
       "      <td>D</td>\n",
       "      <td>None</td>\n",
       "    </tr>\n",
       "    <tr>\n",
       "      <td>4</td>\n",
       "      <td>E</td>\n",
       "      <td>None</td>\n",
       "    </tr>\n",
       "    <tr>\n",
       "      <td>5</td>\n",
       "      <td>F</td>\n",
       "      <td></td>\n",
       "    </tr>\n",
       "  </tbody>\n",
       "</table>\n",
       "</div>"
      ],
      "text/plain": [
       "  id missing_example\n",
       "0  A             NaN\n",
       "1  B             NaN\n",
       "2  C             NaN\n",
       "3  D            None\n",
       "4  E            None\n",
       "5  F                "
      ]
     },
     "execution_count": 45,
     "metadata": {},
     "output_type": "execute_result"
    }
   ],
   "source": [
    "import numpy as np\n",
    "\n",
    "NA_dict = [{ 'id': 'A', 'missing_example': np.nan },\n",
    "           { 'id': 'B'                    },\n",
    "           { 'id': 'C', 'missing_example': 'NaN'  },\n",
    "           { 'id': 'D', 'missing_example': 'None' },\n",
    "           { 'id': 'E', 'missing_example':  None  },\n",
    "           { 'id': 'F', 'missing_example': ''     }]\n",
    "\n",
    "NA_df = pd.DataFrame(NA_dict, columns = ['id','missing_example'])\n",
    "NA_df"
   ]
  },
  {
   "cell_type": "code",
   "execution_count": 46,
   "metadata": {
    "scrolled": true
   },
   "outputs": [
    {
     "data": {
      "text/plain": [
       "0     True\n",
       "1     True\n",
       "2    False\n",
       "3    False\n",
       "4     True\n",
       "5    False\n",
       "Name: missing_example, dtype: bool"
      ]
     },
     "execution_count": 46,
     "metadata": {},
     "output_type": "execute_result"
    }
   ],
   "source": [
    "NA_df['missing_example'].isnull()"
   ]
  },
  {
   "cell_type": "code",
   "execution_count": 47,
   "metadata": {},
   "outputs": [],
   "source": [
    "# Answer here"
   ]
  },
  {
   "cell_type": "markdown",
   "metadata": {},
   "source": [
    "--There are couples different presentative way of the missing value in the matrix above. \n",
    "It seems that the is.Null() function can only work on the real missing value for complier.\n",
    "For the B,C and F cases which function didn't work, there are actually some value that can be read by computer, yet, we human by knowing the meaning of the data we will define them as null data. What is.Null() function will determine as null cells are filled with NaN and None generated by code like case A and E, and cells are really empty like case B.\n"
   ]
  },
  {
   "cell_type": "markdown",
   "metadata": {},
   "source": [
    "### 4.2 Dealing with Duplicate Data\n",
    "Dealing with duplicate data is just as painful as dealing with missing data. The worst case is that you have duplicate data that has missing values. But let us not get carried away. Let us stick with the basics. As we have learned in our Data Mining course, duplicate data can occur because of many reasons. The majority of the times it has to do with how we store data or how we collect and merge data. For instance, we may have collected and stored a tweet, and a retweet of that same tweet as two different records; this results in a case of data duplication; the only difference being that one is the original tweet and the other the retweeted one. Here you will learn that dealing with duplicate data is not as challenging as missing values. But this also all depends on what you consider as duplicate data, i.e., this all depends on your criteria for what is considered as a duplicate record and also what type of data you are dealing with. For textual data, it may not be so trivial as it is for numerical values or images. Anyhow, let us look at some code on how to deal with duplicate records in our `X` dataframe."
   ]
  },
  {
   "cell_type": "markdown",
   "metadata": {},
   "source": [
    "First, let us check how many duplicates we have in our current dataset. Here is the line of code that checks for duplicates; it is very similar to the `isnull` function that we used to check for missing values. "
   ]
  },
  {
   "cell_type": "code",
   "execution_count": 48,
   "metadata": {},
   "outputs": [
    {
     "data": {
      "text/plain": [
       "0       False\n",
       "1       False\n",
       "2       False\n",
       "3       False\n",
       "4       False\n",
       "        ...  \n",
       "2252    False\n",
       "2253    False\n",
       "2254    False\n",
       "2255    False\n",
       "2256    False\n",
       "Length: 2257, dtype: bool"
      ]
     },
     "execution_count": 48,
     "metadata": {},
     "output_type": "execute_result"
    }
   ],
   "source": [
    "X.duplicated()"
   ]
  },
  {
   "cell_type": "markdown",
   "metadata": {},
   "source": [
    "We can also check the sum of duplicate records by simply doing:"
   ]
  },
  {
   "cell_type": "code",
   "execution_count": 49,
   "metadata": {},
   "outputs": [
    {
     "data": {
      "text/plain": [
       "0"
      ]
     },
     "execution_count": 49,
     "metadata": {},
     "output_type": "execute_result"
    }
   ],
   "source": [
    "sum(X.duplicated())"
   ]
  },
  {
   "cell_type": "markdown",
   "metadata": {},
   "source": [
    "Based on that output, you may be asking why did the `duplicated` operation only returned one single column that indicates whether there is a duplicate record or not. So yes, all the `duplicated()` operation does is to check per records instead of per column. That is why the operation only returns one value instead of three values for each column. It appears that we don't have any duplicates since none of our records resulted in `True`. If we want to check for duplicates as we did above for some particular column, instead of all columns, we do something as shown below. As you may have noticed, in the case where we select some columns instead of checking by all columns, we are kind of lowering the criteria of what is considered as a duplicate record. So let us only check for duplicates by onyl checking the `text` attribute. "
   ]
  },
  {
   "cell_type": "code",
   "execution_count": 50,
   "metadata": {},
   "outputs": [
    {
     "data": {
      "text/plain": [
       "0"
      ]
     },
     "execution_count": 50,
     "metadata": {},
     "output_type": "execute_result"
    }
   ],
   "source": [
    "sum(X.duplicated('text'))"
   ]
  },
  {
   "cell_type": "markdown",
   "metadata": {},
   "source": [
    "Now let us create some duplicated dummy records and append it to the main dataframe `X`. Subsequenlty, let us try to get rid of the duplicates."
   ]
  },
  {
   "cell_type": "code",
   "execution_count": 51,
   "metadata": {},
   "outputs": [],
   "source": [
    "dummy_duplicate_dict = [{\n",
    "                             'text': 'dummy record',\n",
    "                             'category': 1, \n",
    "                             'category_name': \"dummy category\"\n",
    "                        },\n",
    "                        {\n",
    "                             'text': 'dummy record',\n",
    "                             'category': 1, \n",
    "                             'category_name': \"dummy category\"\n",
    "                        }]"
   ]
  },
  {
   "cell_type": "code",
   "execution_count": 52,
   "metadata": {},
   "outputs": [],
   "source": [
    "X = X.append(dummy_duplicate_dict, ignore_index=True)"
   ]
  },
  {
   "cell_type": "code",
   "execution_count": 53,
   "metadata": {},
   "outputs": [
    {
     "data": {
      "text/plain": [
       "2259"
      ]
     },
     "execution_count": 53,
     "metadata": {},
     "output_type": "execute_result"
    }
   ],
   "source": [
    "len(X)"
   ]
  },
  {
   "cell_type": "code",
   "execution_count": 54,
   "metadata": {},
   "outputs": [
    {
     "data": {
      "text/plain": [
       "1"
      ]
     },
     "execution_count": 54,
     "metadata": {},
     "output_type": "execute_result"
    }
   ],
   "source": [
    "sum(X.duplicated('text'))"
   ]
  },
  {
   "cell_type": "markdown",
   "metadata": {},
   "source": [
    "We have added the dummy duplicates to `X`. Now we are faced with the decision as to what to do with the duplicated records after we have found it. In our case, we want to get rid of all the duplicated records without preserving a copy. We can simply do that with the following line of code:"
   ]
  },
  {
   "cell_type": "code",
   "execution_count": 55,
   "metadata": {},
   "outputs": [],
   "source": [
    "X.drop_duplicates(keep=False, inplace=True) # inplace applies changes directly on our dataframe"
   ]
  },
  {
   "cell_type": "code",
   "execution_count": 56,
   "metadata": {},
   "outputs": [
    {
     "data": {
      "text/plain": [
       "2257"
      ]
     },
     "execution_count": 56,
     "metadata": {},
     "output_type": "execute_result"
    }
   ],
   "source": [
    "len(X)"
   ]
  },
  {
   "cell_type": "markdown",
   "metadata": {},
   "source": [
    "Check out the Pandas [documentation](http://pandas.pydata.org/pandas-docs/stable/indexing.html?highlight=duplicate#duplicate-data) for more information on dealing with duplicate data."
   ]
  },
  {
   "cell_type": "markdown",
   "metadata": {},
   "source": [
    "---"
   ]
  },
  {
   "cell_type": "markdown",
   "metadata": {},
   "source": [
    "## 5.  Data Preprocessing\n",
    "In the Data Mining course we learned about the many ways of performing data preprocessing. In reality, the list is quiet general as the specifics of what data preprocessing involves is too much to cover in one course. This is especially true when you are dealing with unstructured data, as we are dealing with in this particular notebook. But let us look at some examples for each data preprocessing technique that we learned in the class. We will cover each item one by one, and provide example code for each category. You will learn how to peform each of the operations, using Pandas, that cover the essentials to Preprocessing in Data Mining. We are not going to follow any strict order, but the items we will cover in the preprocessing section of this notebook are as follows:\n",
    "\n",
    "- Aggregation\n",
    "- Sampling\n",
    "- Dimensionality Reduction\n",
    "- Feature Subset Selection\n",
    "- Feature Creation\n",
    "- Discretization and Binarization\n",
    "- Attribute Transformation"
   ]
  },
  {
   "cell_type": "markdown",
   "metadata": {},
   "source": [
    "---"
   ]
  },
  {
   "cell_type": "markdown",
   "metadata": {},
   "source": [
    "### 5.1 Sampling\n",
    "The first concept that we are going to cover from the above list is sampling. Sampling refers to the technique used for selecting data. The functionalities that we use to  selected data through queries provided by Pandas are actually basic methods for sampling. The reasons for sampling are sometimes due to the size of data -- we want a smaller subset of the data that is still representatitive enough as compared to the original dataset. \n",
    "\n",
    "We don't have a problem of size in our current dataset since it is just a couple thousand records long. But if we pay attention to how much content is included in the `text` field of each of those records, you will realize that sampling may not be a bad idea after all. In fact, we have already done some sampling by just reducing the records we are using here in this notebook; remember that we are only using four categories from the all the 20 categories available. Let us get an idea on how to sample using pandas operations."
   ]
  },
  {
   "cell_type": "code",
   "execution_count": 57,
   "metadata": {},
   "outputs": [],
   "source": [
    "X_sample = X.sample(n=1000) #random state"
   ]
  },
  {
   "cell_type": "code",
   "execution_count": 58,
   "metadata": {},
   "outputs": [
    {
     "data": {
      "text/plain": [
       "1000"
      ]
     },
     "execution_count": 58,
     "metadata": {},
     "output_type": "execute_result"
    }
   ],
   "source": [
    "len(X_sample)"
   ]
  },
  {
   "cell_type": "code",
   "execution_count": 59,
   "metadata": {},
   "outputs": [
    {
     "data": {
      "text/html": [
       "<div>\n",
       "<style scoped>\n",
       "    .dataframe tbody tr th:only-of-type {\n",
       "        vertical-align: middle;\n",
       "    }\n",
       "\n",
       "    .dataframe tbody tr th {\n",
       "        vertical-align: top;\n",
       "    }\n",
       "\n",
       "    .dataframe thead th {\n",
       "        text-align: right;\n",
       "    }\n",
       "</style>\n",
       "<table border=\"1\" class=\"dataframe\">\n",
       "  <thead>\n",
       "    <tr style=\"text-align: right;\">\n",
       "      <th></th>\n",
       "      <th>text</th>\n",
       "      <th>category</th>\n",
       "      <th>category_name</th>\n",
       "    </tr>\n",
       "  </thead>\n",
       "  <tbody>\n",
       "    <tr>\n",
       "      <td>424</td>\n",
       "      <td>From: david@stat.com (David Dodell) Subject: H...</td>\n",
       "      <td>2</td>\n",
       "      <td>sci.med</td>\n",
       "    </tr>\n",
       "    <tr>\n",
       "      <td>178</td>\n",
       "      <td>From: keith@cco.caltech.edu (Keith Allan Schne...</td>\n",
       "      <td>0</td>\n",
       "      <td>alt.atheism</td>\n",
       "    </tr>\n",
       "    <tr>\n",
       "      <td>141</td>\n",
       "      <td>From: geb@cs.pitt.edu (Gordon Banks) Subject: ...</td>\n",
       "      <td>2</td>\n",
       "      <td>sci.med</td>\n",
       "    </tr>\n",
       "    <tr>\n",
       "      <td>1422</td>\n",
       "      <td>From: ad994@Freenet.carleton.ca (Jason Wiggle)...</td>\n",
       "      <td>1</td>\n",
       "      <td>comp.graphics</td>\n",
       "    </tr>\n",
       "  </tbody>\n",
       "</table>\n",
       "</div>"
      ],
      "text/plain": [
       "                                                   text  category  \\\n",
       "424   From: david@stat.com (David Dodell) Subject: H...         2   \n",
       "178   From: keith@cco.caltech.edu (Keith Allan Schne...         0   \n",
       "141   From: geb@cs.pitt.edu (Gordon Banks) Subject: ...         2   \n",
       "1422  From: ad994@Freenet.carleton.ca (Jason Wiggle)...         1   \n",
       "\n",
       "      category_name  \n",
       "424         sci.med  \n",
       "178     alt.atheism  \n",
       "141         sci.med  \n",
       "1422  comp.graphics  "
      ]
     },
     "execution_count": 59,
     "metadata": {},
     "output_type": "execute_result"
    }
   ],
   "source": [
    "X_sample[0:4]"
   ]
  },
  {
   "cell_type": "markdown",
   "metadata": {},
   "source": [
    "---"
   ]
  },
  {
   "cell_type": "markdown",
   "metadata": {},
   "source": [
    "### >>> Exercise 6 (take home):\n",
    "Notice any changes to the `X` dataframe? What are they? Report every change you noticed as compared to the previous state of `X`. Feel free to query and look more closely at the dataframe for these changes."
   ]
  },
  {
   "cell_type": "code",
   "execution_count": 60,
   "metadata": {},
   "outputs": [],
   "source": [
    "# Answer here(to be consider)"
   ]
  },
  {
   "cell_type": "markdown",
   "metadata": {},
   "source": [
    "---the number of data in the dataframe, the data is sort in a random order"
   ]
  },
  {
   "cell_type": "markdown",
   "metadata": {},
   "source": [
    "Let's do something cool here while we are working with sampling! Let us look at the distribution of categories in both the sample and original dataset. Let us visualize and analyze the disparity between the two datasets. To generate some visualizations, we are going to use `matplotlib` python library. With matplotlib, things are faster and compatability-wise it may just be the best visualization library for visualizing content extracted from dataframes and when using Jupyter notebooks. Let's take a loot at the magic of `matplotlib` below."
   ]
  },
  {
   "cell_type": "code",
   "execution_count": 61,
   "metadata": {},
   "outputs": [],
   "source": [
    "import matplotlib.pyplot as plt\n",
    "%matplotlib inline"
   ]
  },
  {
   "cell_type": "code",
   "execution_count": 62,
   "metadata": {},
   "outputs": [
    {
     "data": {
      "text/plain": [
       "['alt.atheism', 'soc.religion.christian', 'comp.graphics', 'sci.med']"
      ]
     },
     "execution_count": 62,
     "metadata": {},
     "output_type": "execute_result"
    }
   ],
   "source": [
    "categories"
   ]
  },
  {
   "cell_type": "code",
   "execution_count": 63,
   "metadata": {},
   "outputs": [
    {
     "name": "stdout",
     "output_type": "stream",
     "text": [
      "soc.religion.christian    599\n",
      "sci.med                   594\n",
      "comp.graphics             584\n",
      "alt.atheism               480\n",
      "Name: category_name, dtype: int64\n"
     ]
    },
    {
     "data": {
      "text/plain": [
       "<matplotlib.axes._subplots.AxesSubplot at 0x1288e5b10>"
      ]
     },
     "execution_count": 63,
     "metadata": {},
     "output_type": "execute_result"
    },
    {
     "data": {
      "image/png": "[encoded data removed]",
      "text/plain": [
       "<Figure size 576x216 with 1 Axes>"
      ]
     },
     "metadata": {
      "needs_background": "light"
     },
     "output_type": "display_data"
    }
   ],
   "source": [
    "print(X.category_name.value_counts())\n",
    "\n",
    "# plot barchart for X_sample\n",
    "X.category_name.value_counts().plot(kind = 'bar',\n",
    "                                    title = 'Category distribution',\n",
    "                                    ylim = [0, 650],        \n",
    "                                    rot = 0, fontsize = 11, figsize = (8,3))"
   ]
  },
  {
   "cell_type": "code",
   "execution_count": 64,
   "metadata": {},
   "outputs": [
    {
     "name": "stdout",
     "output_type": "stream",
     "text": [
      "soc.religion.christian    281\n",
      "sci.med                   267\n",
      "comp.graphics             256\n",
      "alt.atheism               196\n",
      "Name: category_name, dtype: int64\n"
     ]
    },
    {
     "data": {
      "text/plain": [
       "<matplotlib.axes._subplots.AxesSubplot at 0x1289b1ad0>"
      ]
     },
     "execution_count": 64,
     "metadata": {},
     "output_type": "execute_result"
    },
    {
     "data": {
      "image/png": "[encoded data removed]",
      "text/plain": [
       "<Figure size 576x216 with 1 Axes>"
      ]
     },
     "metadata": {
      "needs_background": "light"
     },
     "output_type": "display_data"
    }
   ],
   "source": [
    "print(X_sample.category_name.value_counts())\n",
    "\n",
    "# plot barchart for X_sample\n",
    "X_sample.category_name.value_counts().plot(kind = 'bar',\n",
    "                                           title = 'Category distribution',\n",
    "                                           ylim = [0, 300], \n",
    "                                           rot = 0, fontsize = 12, figsize = (8,3))"
   ]
  },
  {
   "cell_type": "markdown",
   "metadata": {},
   "source": [
    "You can use following command to see other available styles to prettify your charts.\n",
    "```python\n",
    "print(plt.style.available)```"
   ]
  },
  {
   "cell_type": "markdown",
   "metadata": {},
   "source": [
    "---"
   ]
  },
  {
   "cell_type": "markdown",
   "metadata": {},
   "source": [
    "### >>> **Exercise 7 (5 min):**\n",
    "Notice that for the `ylim` parameters we hardcoded the maximum value for y. Is it possible to automate this instead of hard-coding it? How would you go about doing that? (Hint: look at code above for clues)"
   ]
  },
  {
   "cell_type": "code",
   "execution_count": 65,
   "metadata": {},
   "outputs": [
    {
     "name": "stdout",
     "output_type": "stream",
     "text": [
      "soc.religion.christian    281\n",
      "sci.med                   267\n",
      "comp.graphics             256\n",
      "alt.atheism               196\n",
      "Name: category_name, dtype: int64\n"
     ]
    },
    {
     "data": {
      "text/plain": [
       "<matplotlib.axes._subplots.AxesSubplot at 0x12aa8b990>"
      ]
     },
     "execution_count": 65,
     "metadata": {},
     "output_type": "execute_result"
    },
    {
     "data": {
      "image/png": "[encoded data removed]",
      "text/plain": [
       "<Figure size 576x216 with 1 Axes>"
      ]
     },
     "metadata": {
      "needs_background": "light"
     },
     "output_type": "display_data"
    }
   ],
   "source": [
    "upper_bound = max(X_sample.category_name.value_counts()) + 10\n",
    "\n",
    "print(X_sample.category_name.value_counts())\n",
    "\n",
    "X_sample.category_name.value_counts().plot(kind = 'bar',\n",
    "                                           title = 'Category distribution',\n",
    "                                           ylim = [0, upper_bound], \n",
    "                                           rot = 0, fontsize = 12, figsize = (8,3))\n"
   ]
  },
  {
   "cell_type": "markdown",
   "metadata": {},
   "source": [
    "---"
   ]
  },
  {
   "cell_type": "markdown",
   "metadata": {},
   "source": [
    "### >>> **Exercise 8 (take home):** \n",
    "We can also do a side-by-side comparison of the distribution between the two datasets, but maybe you can try that as an excerise. Below we show you an snapshot of the type of chart we are looking for. "
   ]
  },
  {
   "cell_type": "markdown",
   "metadata": {},
   "source": [
    "![alt txt](https://i.imgur.com/9eO431H.png)"
   ]
  },
  {
   "cell_type": "code",
   "execution_count": 66,
   "metadata": {},
   "outputs": [
    {
     "data": {
      "image/png": "[encoded data removed]",
      "text/plain": [
       "<Figure size 432x288 with 1 Axes>"
      ]
     },
     "metadata": {
      "needs_background": "light"
     },
     "output_type": "display_data"
    }
   ],
   "source": [
    "# Answer here\n",
    "import numpy as np\n",
    "upper_bound = max(X.category_name.value_counts()) + 10\n",
    "\n",
    "ypos=np.arange(len(X.category_name.value_counts()))\n",
    "\n",
    "plt.bar(ypos-0.1,X.category_name.value_counts(),width=0.2, label='oringin', color='blue')\n",
    "plt.bar(ypos+0.1,X_sample.category_name.value_counts(),width=0.2, label='sample', color='orange')\n",
    "\n",
    "\n",
    "\n",
    "\n",
    "plt.title('Category distribution')\n",
    "plt.xticks(ypos,X.category_name.value_counts().index)\n",
    "#plt.xlabel('Year')\n",
    "#plt.ylabel('Sales')\n",
    "#plt.plot(ypos, Year) will remove the numbers along the y-axis\n",
    "#shows legend\n",
    "plt.legend()\n",
    "#show to show the graph\n",
    "plt.show()\n",
    "\n",
    "\n",
    "\n"
   ]
  },
  {
   "cell_type": "markdown",
   "metadata": {},
   "source": [
    " "
   ]
  },
  {
   "cell_type": "markdown",
   "metadata": {},
   "source": [
    "One thing that stood out from the both datasets, is that the distribution of the categories remain relatively the same, which is a good sign for us data scientist. There are many ways to conduct sampling on the dataset and still obtain a representative enough dataset. That is not the main focus in this notebook, but if you would like to know more about sampling and how the `sample` feature works, just reference the Pandas documentation and you will find interesting ways to conduct more advanced sampling."
   ]
  },
  {
   "cell_type": "markdown",
   "metadata": {},
   "source": [
    "---"
   ]
  },
  {
   "cell_type": "markdown",
   "metadata": {},
   "source": [
    "### 5.2 Feature Creation\n",
    "The other operation from the list above that we are going to practise on is the so-called feature creation. As the name suggests, in feature creation we are looking at creating new interesting and useful features from the original dataset; a feature which captures the most important information from the raw information we already have access to. In our `X` table, we would like to create some features from the `text` field, but we are still not sure what kind of features we want to create. We can think of an interesting problem we want to solve, or something we want to analyze from the data, or some questions we want to answer. This is one process to come up with features -- this process is usually called `feature engineering` in the data science community. \n",
    "\n",
    "We know what feature creation is so let us get real involved with our dataset and make it more interesting by adding some special features or attributes if you will. First, we are going to obtain the **unigrams** for each text. (Unigram is just a fancy word we use in Text Mining which stands for 'tokens' or 'individual words'.) Yes, we want to extract all the words found in each text and append it as a new feature to the pandas dataframe. The reason for extracting unigrams is not so clear yet, but we can start to think of obtaining some statistics about the articles we have: something like **word distribution** or **word frequency**.\n",
    "\n",
    "Before going into any further coding, we will also introduce a useful text mining library called [NLTK](http://www.nltk.org/). The NLTK library is a natural language processing tool used for text mining tasks, so might as well we start to familiarize ourselves with it from now (It may come in handy for the final project!). In partcular, we are going to use the NLTK library to conduct tokenization because we are interested in splitting a sentence into its individual components, which we refer to as words, emojis, emails, etc. So let us go for it! We can call the `nltk` library as follows:\n",
    "\n",
    "```python\n",
    "import nltk\n",
    "```"
   ]
  },
  {
   "cell_type": "code",
   "execution_count": 67,
   "metadata": {},
   "outputs": [],
   "source": [
    "import nltk"
   ]
  },
  {
   "cell_type": "code",
   "execution_count": 68,
   "metadata": {},
   "outputs": [],
   "source": [
    "# takes a like a minute or two to process\n",
    "X['unigrams'] = X['text'].apply(lambda x: dmh.tokenize_text(x))"
   ]
  },
  {
   "cell_type": "code",
   "execution_count": 69,
   "metadata": {},
   "outputs": [
    {
     "data": {
      "text/plain": [
       "0    [From, :, sd345, @, city.ac.uk, (, Michael, Co...\n",
       "1    [From, :, ani, @, ms.uky.edu, (, Aniruddha, B....\n",
       "2    [From, :, djohnson, @, cs.ucsd.edu, (, Darin, ...\n",
       "3    [From, :, s0612596, @, let.rug.nl, (, M.M, ., ...\n",
       "Name: unigrams, dtype: object"
      ]
     },
     "execution_count": 69,
     "metadata": {},
     "output_type": "execute_result"
    }
   ],
   "source": [
    "X[0:4][\"unigrams\"]"
   ]
  },
  {
   "cell_type": "markdown",
   "metadata": {},
   "source": [
    "If you take a closer look at the `X` table now, you will see the new columns `unigrams` that we have added. You will notice that it contains an array of tokens, which were extracted from the original `text` field. At first glance, you will notice that the tokenizer is not doing a great job, let us take a closer at a single record and see what was the exact result of the tokenization using the `nltk` library."
   ]
  },
  {
   "cell_type": "code",
   "execution_count": 70,
   "metadata": {},
   "outputs": [
    {
     "data": {
      "text/html": [
       "<div>\n",
       "<style scoped>\n",
       "    .dataframe tbody tr th:only-of-type {\n",
       "        vertical-align: middle;\n",
       "    }\n",
       "\n",
       "    .dataframe tbody tr th {\n",
       "        vertical-align: top;\n",
       "    }\n",
       "\n",
       "    .dataframe thead th {\n",
       "        text-align: right;\n",
       "    }\n",
       "</style>\n",
       "<table border=\"1\" class=\"dataframe\">\n",
       "  <thead>\n",
       "    <tr style=\"text-align: right;\">\n",
       "      <th></th>\n",
       "      <th>text</th>\n",
       "      <th>category</th>\n",
       "      <th>category_name</th>\n",
       "      <th>unigrams</th>\n",
       "    </tr>\n",
       "  </thead>\n",
       "  <tbody>\n",
       "    <tr>\n",
       "      <td>0</td>\n",
       "      <td>From: sd345@city.ac.uk (Michael Collier) Subje...</td>\n",
       "      <td>1</td>\n",
       "      <td>comp.graphics</td>\n",
       "      <td>[From, :, sd345, @, city.ac.uk, (, Michael, Co...</td>\n",
       "    </tr>\n",
       "    <tr>\n",
       "      <td>1</td>\n",
       "      <td>From: ani@ms.uky.edu (Aniruddha B. Deglurkar) ...</td>\n",
       "      <td>1</td>\n",
       "      <td>comp.graphics</td>\n",
       "      <td>[From, :, ani, @, ms.uky.edu, (, Aniruddha, B....</td>\n",
       "    </tr>\n",
       "    <tr>\n",
       "      <td>2</td>\n",
       "      <td>From: djohnson@cs.ucsd.edu (Darin Johnson) Sub...</td>\n",
       "      <td>3</td>\n",
       "      <td>soc.religion.christian</td>\n",
       "      <td>[From, :, djohnson, @, cs.ucsd.edu, (, Darin, ...</td>\n",
       "    </tr>\n",
       "    <tr>\n",
       "      <td>3</td>\n",
       "      <td>From: s0612596@let.rug.nl (M.M. Zwart) Subject...</td>\n",
       "      <td>3</td>\n",
       "      <td>soc.religion.christian</td>\n",
       "      <td>[From, :, s0612596, @, let.rug.nl, (, M.M, ., ...</td>\n",
       "    </tr>\n",
       "  </tbody>\n",
       "</table>\n",
       "</div>"
      ],
      "text/plain": [
       "                                                text  category  \\\n",
       "0  From: sd345@city.ac.uk (Michael Collier) Subje...         1   \n",
       "1  From: ani@ms.uky.edu (Aniruddha B. Deglurkar) ...         1   \n",
       "2  From: djohnson@cs.ucsd.edu (Darin Johnson) Sub...         3   \n",
       "3  From: s0612596@let.rug.nl (M.M. Zwart) Subject...         3   \n",
       "\n",
       "            category_name                                           unigrams  \n",
       "0           comp.graphics  [From, :, sd345, @, city.ac.uk, (, Michael, Co...  \n",
       "1           comp.graphics  [From, :, ani, @, ms.uky.edu, (, Aniruddha, B....  \n",
       "2  soc.religion.christian  [From, :, djohnson, @, cs.ucsd.edu, (, Darin, ...  \n",
       "3  soc.religion.christian  [From, :, s0612596, @, let.rug.nl, (, M.M, ., ...  "
      ]
     },
     "execution_count": 70,
     "metadata": {},
     "output_type": "execute_result"
    }
   ],
   "source": [
    "X[0:4]"
   ]
  },
  {
   "cell_type": "code",
   "execution_count": 71,
   "metadata": {
    "scrolled": false
   },
   "outputs": [
    {
     "data": {
      "text/plain": [
       "[['From',\n",
       "  ':',\n",
       "  'sd345',\n",
       "  '@',\n",
       "  'city.ac.uk',\n",
       "  '(',\n",
       "  'Michael',\n",
       "  'Collier',\n",
       "  ')',\n",
       "  'Subject',\n",
       "  ':',\n",
       "  'Converting',\n",
       "  'images',\n",
       "  'to',\n",
       "  'HP',\n",
       "  'LaserJet',\n",
       "  'III',\n",
       "  '?',\n",
       "  'Nntp-Posting-Host',\n",
       "  ':',\n",
       "  'hampton',\n",
       "  'Organization',\n",
       "  ':',\n",
       "  'The',\n",
       "  'City',\n",
       "  'University',\n",
       "  'Lines',\n",
       "  ':',\n",
       "  '14',\n",
       "  'Does',\n",
       "  'anyone',\n",
       "  'know',\n",
       "  'of',\n",
       "  'a',\n",
       "  'good',\n",
       "  'way',\n",
       "  '(',\n",
       "  'standard',\n",
       "  'PC',\n",
       "  'application/PD',\n",
       "  'utility',\n",
       "  ')',\n",
       "  'to',\n",
       "  'convert',\n",
       "  'tif/img/tga',\n",
       "  'files',\n",
       "  'into',\n",
       "  'LaserJet',\n",
       "  'III',\n",
       "  'format',\n",
       "  '.',\n",
       "  'We',\n",
       "  'would',\n",
       "  'also',\n",
       "  'like',\n",
       "  'to',\n",
       "  'do',\n",
       "  'the',\n",
       "  'same',\n",
       "  ',',\n",
       "  'converting',\n",
       "  'to',\n",
       "  'HPGL',\n",
       "  '(',\n",
       "  'HP',\n",
       "  'plotter',\n",
       "  ')',\n",
       "  'files',\n",
       "  '.',\n",
       "  'Please',\n",
       "  'email',\n",
       "  'any',\n",
       "  'response',\n",
       "  '.',\n",
       "  'Is',\n",
       "  'this',\n",
       "  'the',\n",
       "  'correct',\n",
       "  'group',\n",
       "  '?',\n",
       "  'Thanks',\n",
       "  'in',\n",
       "  'advance',\n",
       "  '.',\n",
       "  'Michael',\n",
       "  '.',\n",
       "  '--',\n",
       "  'Michael',\n",
       "  'Collier',\n",
       "  '(',\n",
       "  'Programmer',\n",
       "  ')',\n",
       "  'The',\n",
       "  'Computer',\n",
       "  'Unit',\n",
       "  ',',\n",
       "  'Email',\n",
       "  ':',\n",
       "  'M.P.Collier',\n",
       "  '@',\n",
       "  'uk.ac.city',\n",
       "  'The',\n",
       "  'City',\n",
       "  'University',\n",
       "  ',',\n",
       "  'Tel',\n",
       "  ':',\n",
       "  '071',\n",
       "  '477-8000',\n",
       "  'x3769',\n",
       "  'London',\n",
       "  ',',\n",
       "  'Fax',\n",
       "  ':',\n",
       "  '071',\n",
       "  '477-8565',\n",
       "  'EC1V',\n",
       "  '0HB',\n",
       "  '.']]"
      ]
     },
     "execution_count": 71,
     "metadata": {},
     "output_type": "execute_result"
    }
   ],
   "source": [
    "list(X[0:1]['unigrams'])"
   ]
  },
  {
   "cell_type": "markdown",
   "metadata": {},
   "source": [
    "The `nltk` library does a pretty decent job of tokenizing our text. There are many other tokenizers online, such as [spaCy](https://spacy.io/), and the built in libraries provided by [scikit-learn](http://scikit-learn.org/stable/modules/generated/sklearn.feature_extraction.text.CountVectorizer.html). We are making use of the NLTK library because it is open source and because it does a good job of segmentating text-based data. "
   ]
  },
  {
   "cell_type": "markdown",
   "metadata": {},
   "source": [
    "---"
   ]
  },
  {
   "cell_type": "markdown",
   "metadata": {},
   "source": [
    "### 5.3 Feature subset selection\n",
    "Okay, so we are making some headway here. Let us now make things a bit more interesting. We are going to do something different from what we have been doing thus far. We are going use a bit of everything that we have learned so far. Briefly speaking, we are going to move away from our main dataset (one form of feature subset selection), and we are going to generate a document-term matrix from the original dataset. In other words we are going to be creating something like this. "
   ]
  },
  {
   "cell_type": "markdown",
   "metadata": {},
   "source": [
    "![alt txt](https://docs.google.com/drawings/d/e/2PACX-1vS01RrtPHS3r1Lf8UjX4POgDol-lVF4JAbjXM3SAOU-dOe-MqUdaEMWwJEPk9TtiUvcoSqTeE--lNep/pub?w=748&h=366)"
   ]
  },
  {
   "cell_type": "markdown",
   "metadata": {},
   "source": [
    "Initially, it won't have the same shape as the table above, but we will get into that later. For now, let us use scikit learn built in functionalities to generate this document. You will see for yourself how easy it is to generate this table without much coding. "
   ]
  },
  {
   "cell_type": "code",
   "execution_count": 72,
   "metadata": {},
   "outputs": [],
   "source": [
    "from sklearn.feature_extraction.text import CountVectorizer\n",
    "\n",
    "count_vect = CountVectorizer()\n",
    "X_counts = count_vect.fit_transform(X.text)"
   ]
  },
  {
   "cell_type": "markdown",
   "metadata": {},
   "source": [
    "What we did with those two lines of code is that we transorfmed the articles into a **term-document matrix**. Those lines of code tokenize each article using a built-in, default tokenizer (often referred to as an `analzyer`) and then produces the word frequency vector for each document. We can create our own analyzers or even use the nltk analyzer that we previously built. To keep things tidy and minimal we are going to use the default analyzer provided by `CountVectorizer`. Let us look closely at this analyzer. "
   ]
  },
  {
   "cell_type": "code",
   "execution_count": 73,
   "metadata": {},
   "outputs": [
    {
     "data": {
      "text/plain": [
       "['hello', 'world']"
      ]
     },
     "execution_count": 73,
     "metadata": {},
     "output_type": "execute_result"
    }
   ],
   "source": [
    "analyze = count_vect.build_analyzer()\n",
    "analyze(\"Hello World!\")\n",
    "#\" \".join(list(X[4:5].text))"
   ]
  },
  {
   "cell_type": "markdown",
   "metadata": {},
   "source": [
    "---"
   ]
  },
  {
   "cell_type": "markdown",
   "metadata": {},
   "source": [
    "### **>>> Exercise 9 (5 min):**\n",
    "Let's analyze the first record of our X dataframe with the new analyzer we have just built. Go ahead try it!"
   ]
  },
  {
   "cell_type": "code",
   "execution_count": 74,
   "metadata": {},
   "outputs": [
    {
     "data": {
      "text/plain": [
       "['from',\n",
       " 'sd345',\n",
       " 'city',\n",
       " 'ac',\n",
       " 'uk',\n",
       " 'michael',\n",
       " 'collier',\n",
       " 'subject',\n",
       " 'converting',\n",
       " 'images',\n",
       " 'to',\n",
       " 'hp',\n",
       " 'laserjet',\n",
       " 'iii',\n",
       " 'nntp',\n",
       " 'posting',\n",
       " 'host',\n",
       " 'hampton',\n",
       " 'organization',\n",
       " 'the',\n",
       " 'city',\n",
       " 'university',\n",
       " 'lines',\n",
       " '14',\n",
       " 'does',\n",
       " 'anyone',\n",
       " 'know',\n",
       " 'of',\n",
       " 'good',\n",
       " 'way',\n",
       " 'standard',\n",
       " 'pc',\n",
       " 'application',\n",
       " 'pd',\n",
       " 'utility',\n",
       " 'to',\n",
       " 'convert',\n",
       " 'tif',\n",
       " 'img',\n",
       " 'tga',\n",
       " 'files',\n",
       " 'into',\n",
       " 'laserjet',\n",
       " 'iii',\n",
       " 'format',\n",
       " 'we',\n",
       " 'would',\n",
       " 'also',\n",
       " 'like',\n",
       " 'to',\n",
       " 'do',\n",
       " 'the',\n",
       " 'same',\n",
       " 'converting',\n",
       " 'to',\n",
       " 'hpgl',\n",
       " 'hp',\n",
       " 'plotter',\n",
       " 'files',\n",
       " 'please',\n",
       " 'email',\n",
       " 'any',\n",
       " 'response',\n",
       " 'is',\n",
       " 'this',\n",
       " 'the',\n",
       " 'correct',\n",
       " 'group',\n",
       " 'thanks',\n",
       " 'in',\n",
       " 'advance',\n",
       " 'michael',\n",
       " 'michael',\n",
       " 'collier',\n",
       " 'programmer',\n",
       " 'the',\n",
       " 'computer',\n",
       " 'unit',\n",
       " 'email',\n",
       " 'collier',\n",
       " 'uk',\n",
       " 'ac',\n",
       " 'city',\n",
       " 'the',\n",
       " 'city',\n",
       " 'university',\n",
       " 'tel',\n",
       " '071',\n",
       " '477',\n",
       " '8000',\n",
       " 'x3769',\n",
       " 'london',\n",
       " 'fax',\n",
       " '071',\n",
       " '477',\n",
       " '8565',\n",
       " 'ec1v',\n",
       " '0hb']"
      ]
     },
     "execution_count": 74,
     "metadata": {},
     "output_type": "execute_result"
    }
   ],
   "source": [
    "analyze(\" \".join(list(X[:1].text)))"
   ]
  },
  {
   "cell_type": "markdown",
   "metadata": {},
   "source": [
    "---"
   ]
  },
  {
   "cell_type": "markdown",
   "metadata": {},
   "source": [
    "Now let us look at the term-document matrix we built above."
   ]
  },
  {
   "cell_type": "code",
   "execution_count": 75,
   "metadata": {},
   "outputs": [
    {
     "data": {
      "text/plain": [
       "(2257, 35788)"
      ]
     },
     "execution_count": 75,
     "metadata": {},
     "output_type": "execute_result"
    }
   ],
   "source": [
    "# We can check the shape of this matrix by:\n",
    "X_counts.shape"
   ]
  },
  {
   "cell_type": "code",
   "execution_count": 76,
   "metadata": {},
   "outputs": [
    {
     "data": {
      "text/plain": [
       "['00',\n",
       " '000',\n",
       " '0000',\n",
       " '0000001200',\n",
       " '000005102000',\n",
       " '0001',\n",
       " '000100255pixel',\n",
       " '00014',\n",
       " '000406',\n",
       " '0007']"
      ]
     },
     "execution_count": 76,
     "metadata": {},
     "output_type": "execute_result"
    }
   ],
   "source": [
    "# We can obtain the feature names of the vectorizer, i.e., the terms\n",
    "# usually on the horizontal axis\n",
    "count_vect.get_feature_names()[0:10]"
   ]
  },
  {
   "cell_type": "markdown",
   "metadata": {},
   "source": [
    "![alt txt](https://i.imgur.com/57gA1sd.png)"
   ]
  },
  {
   "cell_type": "markdown",
   "metadata": {},
   "source": [
    "Above we can see the features found in the all the documents `X`, which are basically all the terms found in all the documents. As I said earlier, the transformation is not in the pretty format (table) we saw above -- the term-document matrix. We can do many things with the `count_vect` vectorizer and its transformation `X_counts`. You can find more information on other cool stuff you can do with the [CountVectorizer](http://scikit-learn.org/stable/modules/feature_extraction.html#text-feature-extraction). \n",
    "\n",
    "Now let us try to obtain something that is as close to the pretty table I provided above. Before jumping into the code for doing just that, it is important to mention that the reason for choosing the `fit_transofrm` for the `CountVectorizer` is that it efficiently learns the vocabulary dictionary and returns a term-document matrix.\n",
    "\n",
    "In the next bit of code, we want to extract the first five articles and transform them into document-term matrix, or in this case a 2-dimensional array. Here it goes. "
   ]
  },
  {
   "cell_type": "code",
   "execution_count": 77,
   "metadata": {},
   "outputs": [
    {
     "data": {
      "text/html": [
       "<div>\n",
       "<style scoped>\n",
       "    .dataframe tbody tr th:only-of-type {\n",
       "        vertical-align: middle;\n",
       "    }\n",
       "\n",
       "    .dataframe tbody tr th {\n",
       "        vertical-align: top;\n",
       "    }\n",
       "\n",
       "    .dataframe thead th {\n",
       "        text-align: right;\n",
       "    }\n",
       "</style>\n",
       "<table border=\"1\" class=\"dataframe\">\n",
       "  <thead>\n",
       "    <tr style=\"text-align: right;\">\n",
       "      <th></th>\n",
       "      <th>text</th>\n",
       "      <th>category</th>\n",
       "      <th>category_name</th>\n",
       "      <th>unigrams</th>\n",
       "    </tr>\n",
       "  </thead>\n",
       "  <tbody>\n",
       "    <tr>\n",
       "      <td>0</td>\n",
       "      <td>From: sd345@city.ac.uk (Michael Collier) Subje...</td>\n",
       "      <td>1</td>\n",
       "      <td>comp.graphics</td>\n",
       "      <td>[From, :, sd345, @, city.ac.uk, (, Michael, Co...</td>\n",
       "    </tr>\n",
       "    <tr>\n",
       "      <td>1</td>\n",
       "      <td>From: ani@ms.uky.edu (Aniruddha B. Deglurkar) ...</td>\n",
       "      <td>1</td>\n",
       "      <td>comp.graphics</td>\n",
       "      <td>[From, :, ani, @, ms.uky.edu, (, Aniruddha, B....</td>\n",
       "    </tr>\n",
       "    <tr>\n",
       "      <td>2</td>\n",
       "      <td>From: djohnson@cs.ucsd.edu (Darin Johnson) Sub...</td>\n",
       "      <td>3</td>\n",
       "      <td>soc.religion.christian</td>\n",
       "      <td>[From, :, djohnson, @, cs.ucsd.edu, (, Darin, ...</td>\n",
       "    </tr>\n",
       "    <tr>\n",
       "      <td>3</td>\n",
       "      <td>From: s0612596@let.rug.nl (M.M. Zwart) Subject...</td>\n",
       "      <td>3</td>\n",
       "      <td>soc.religion.christian</td>\n",
       "      <td>[From, :, s0612596, @, let.rug.nl, (, M.M, ., ...</td>\n",
       "    </tr>\n",
       "    <tr>\n",
       "      <td>4</td>\n",
       "      <td>From: stanly@grok11.columbiasc.ncr.com (stanly...</td>\n",
       "      <td>3</td>\n",
       "      <td>soc.religion.christian</td>\n",
       "      <td>[From, :, stanly, @, grok11.columbiasc.ncr.com...</td>\n",
       "    </tr>\n",
       "  </tbody>\n",
       "</table>\n",
       "</div>"
      ],
      "text/plain": [
       "                                                text  category  \\\n",
       "0  From: sd345@city.ac.uk (Michael Collier) Subje...         1   \n",
       "1  From: ani@ms.uky.edu (Aniruddha B. Deglurkar) ...         1   \n",
       "2  From: djohnson@cs.ucsd.edu (Darin Johnson) Sub...         3   \n",
       "3  From: s0612596@let.rug.nl (M.M. Zwart) Subject...         3   \n",
       "4  From: stanly@grok11.columbiasc.ncr.com (stanly...         3   \n",
       "\n",
       "            category_name                                           unigrams  \n",
       "0           comp.graphics  [From, :, sd345, @, city.ac.uk, (, Michael, Co...  \n",
       "1           comp.graphics  [From, :, ani, @, ms.uky.edu, (, Aniruddha, B....  \n",
       "2  soc.religion.christian  [From, :, djohnson, @, cs.ucsd.edu, (, Darin, ...  \n",
       "3  soc.religion.christian  [From, :, s0612596, @, let.rug.nl, (, M.M, ., ...  \n",
       "4  soc.religion.christian  [From, :, stanly, @, grok11.columbiasc.ncr.com...  "
      ]
     },
     "execution_count": 77,
     "metadata": {},
     "output_type": "execute_result"
    }
   ],
   "source": [
    "X[0:5]"
   ]
  },
  {
   "cell_type": "code",
   "execution_count": 78,
   "metadata": {},
   "outputs": [
    {
     "data": {
      "text/plain": [
       "array([[0, 0, 0, 0, 0, 0, 0, 0, 0, 0, 0, 0, 0, 0, 0, 0, 0, 0, 0, 0, 0, 0,\n",
       "        0, 0, 0, 0, 0, 0, 0, 0, 0, 0, 0, 0, 0, 0, 0, 0, 0, 0, 0, 0, 0, 0,\n",
       "        0, 0, 0, 0, 0, 0, 0, 0, 0, 0, 0, 0, 0, 0, 0, 0, 0, 0, 0, 0, 0, 0,\n",
       "        0, 0, 0, 0, 0, 0, 0, 0, 0, 0, 0, 0, 0, 0, 0, 0, 0, 0, 0, 0, 0, 0,\n",
       "        0, 0, 0, 0, 0, 0, 0, 0, 0, 0, 0, 0],\n",
       "       [0, 0, 0, 0, 0, 0, 0, 0, 0, 0, 0, 0, 0, 0, 0, 0, 0, 0, 0, 0, 0, 0,\n",
       "        0, 0, 0, 0, 0, 0, 0, 0, 0, 0, 0, 0, 0, 0, 0, 0, 0, 0, 0, 0, 0, 0,\n",
       "        0, 0, 0, 0, 0, 0, 0, 0, 0, 0, 0, 0, 0, 0, 0, 0, 0, 0, 0, 0, 0, 0,\n",
       "        0, 0, 0, 0, 0, 0, 0, 0, 0, 0, 0, 0, 0, 0, 0, 0, 0, 0, 0, 0, 0, 0,\n",
       "        0, 0, 0, 0, 0, 0, 0, 0, 0, 0, 0, 0],\n",
       "       [0, 0, 0, 0, 0, 0, 0, 0, 0, 0, 0, 0, 0, 0, 0, 0, 0, 0, 0, 0, 0, 0,\n",
       "        0, 0, 0, 0, 0, 0, 0, 0, 0, 0, 0, 0, 0, 0, 0, 0, 0, 0, 0, 0, 0, 0,\n",
       "        0, 0, 0, 0, 0, 0, 0, 0, 0, 0, 0, 0, 0, 0, 0, 0, 0, 0, 0, 0, 0, 0,\n",
       "        0, 0, 0, 0, 0, 0, 0, 0, 0, 0, 0, 0, 0, 0, 0, 0, 0, 0, 0, 0, 0, 0,\n",
       "        0, 0, 0, 0, 0, 0, 0, 0, 0, 0, 0, 0],\n",
       "       [0, 0, 0, 0, 0, 0, 0, 0, 0, 0, 0, 0, 0, 0, 0, 0, 0, 0, 0, 0, 0, 0,\n",
       "        0, 0, 0, 0, 0, 0, 0, 0, 0, 0, 0, 0, 0, 0, 0, 0, 0, 0, 0, 0, 0, 0,\n",
       "        0, 0, 0, 0, 0, 0, 0, 0, 0, 0, 0, 0, 0, 0, 0, 0, 0, 0, 0, 0, 0, 0,\n",
       "        0, 0, 0, 0, 0, 0, 0, 0, 0, 0, 0, 0, 0, 0, 0, 0, 0, 0, 0, 0, 0, 0,\n",
       "        0, 0, 0, 0, 0, 0, 0, 0, 0, 0, 0, 0],\n",
       "       [1, 0, 0, 0, 0, 0, 0, 0, 0, 0, 0, 0, 0, 0, 0, 0, 0, 0, 0, 0, 0, 0,\n",
       "        0, 0, 0, 0, 0, 0, 0, 0, 0, 0, 0, 0, 0, 0, 0, 1, 0, 0, 0, 0, 0, 0,\n",
       "        0, 0, 0, 0, 0, 0, 0, 0, 0, 0, 0, 0, 0, 0, 0, 0, 0, 0, 0, 0, 0, 0,\n",
       "        0, 0, 0, 0, 0, 0, 0, 0, 0, 0, 0, 0, 0, 0, 0, 0, 0, 0, 0, 0, 0, 0,\n",
       "        0, 0, 0, 0, 0, 0, 0, 0, 0, 0, 0, 0]])"
      ]
     },
     "execution_count": 78,
     "metadata": {},
     "output_type": "execute_result"
    }
   ],
   "source": [
    "# we convert from sparse array to normal array\n",
    "X_counts[0:5, 0:100].toarray()"
   ]
  },
  {
   "cell_type": "markdown",
   "metadata": {},
   "source": [
    "As you can see the result is just this huge sparse matrix, which is computationally intensive to generate and difficult to visualize. But we can see that the fifth record, specifically, contains a `1` in the beginning, which from our feature names we can deduce that this article contains exactly one `00` term."
   ]
  },
  {
   "cell_type": "markdown",
   "metadata": {},
   "source": [
    "---"
   ]
  },
  {
   "cell_type": "markdown",
   "metadata": {},
   "source": [
    "### **>>> Exercise 10 (take home):**\n",
    "We said that the `1` at the beginning of the fifth record represents the `00` term. Notice that there is another 1 in the same record. Can you provide code that can verify what word this 1 represents from the vocabulary. Try to do this as efficient as possible."
   ]
  },
  {
   "cell_type": "code",
   "execution_count": 79,
   "metadata": {
    "scrolled": true
   },
   "outputs": [
    {
     "data": {
      "text/plain": [
       "'01'"
      ]
     },
     "execution_count": 79,
     "metadata": {},
     "output_type": "execute_result"
    }
   ],
   "source": [
    "# Answer here\n",
    "\n",
    "arr=X_counts[0:5,0:100].toarray()\n",
    "a=np.argwhere(arr==1)\n",
    "n=a[1,1]\n",
    "\n",
    "count_vect.get_feature_names()[n]\n",
    "\n"
   ]
  },
  {
   "cell_type": "markdown",
   "metadata": {},
   "source": [
    "---"
   ]
  },
  {
   "cell_type": "markdown",
   "metadata": {},
   "source": [
    "We can also use the vectorizer to generate word frequency vector for new documents or articles. Let us try that below:"
   ]
  },
  {
   "cell_type": "code",
   "execution_count": 80,
   "metadata": {},
   "outputs": [
    {
     "data": {
      "text/plain": [
       "array([[0, 0, 0, ..., 0, 0, 0]])"
      ]
     },
     "execution_count": 80,
     "metadata": {},
     "output_type": "execute_result"
    }
   ],
   "source": [
    "count_vect.transform(['Something completely new.']).toarray()"
   ]
  },
  {
   "cell_type": "markdown",
   "metadata": {},
   "source": [
    "Now let us put a `00` in the document to see if it is detected as we expect. "
   ]
  },
  {
   "cell_type": "code",
   "execution_count": 81,
   "metadata": {},
   "outputs": [
    {
     "data": {
      "text/plain": [
       "array([[1, 0, 0, ..., 0, 0, 0]])"
      ]
     },
     "execution_count": 81,
     "metadata": {},
     "output_type": "execute_result"
    }
   ],
   "source": [
    "count_vect.transform(['00 Something completely new.']).toarray()"
   ]
  },
  {
   "cell_type": "markdown",
   "metadata": {},
   "source": [
    "Impressive, huh!"
   ]
  },
  {
   "cell_type": "markdown",
   "metadata": {},
   "source": [
    "To get you started in thinking about how to better analyze your data or transformation, let us look at this nice little heat map of our term-document matrix. It may come as a surpise to see the gems you can mine when you start to look at the data from a different perspective. Visualization are good for this reason."
   ]
  },
  {
   "cell_type": "code",
   "execution_count": 82,
   "metadata": {},
   "outputs": [],
   "source": [
    "# first twenty features only\n",
    "plot_x = [\"term_\"+str(i) for i in count_vect.get_feature_names()[0:20]]"
   ]
  },
  {
   "cell_type": "code",
   "execution_count": 83,
   "metadata": {},
   "outputs": [
    {
     "data": {
      "text/plain": [
       "['term_00',\n",
       " 'term_000',\n",
       " 'term_0000',\n",
       " 'term_0000001200',\n",
       " 'term_000005102000',\n",
       " 'term_0001',\n",
       " 'term_000100255pixel',\n",
       " 'term_00014',\n",
       " 'term_000406',\n",
       " 'term_0007',\n",
       " 'term_000usd',\n",
       " 'term_0010',\n",
       " 'term_001004',\n",
       " 'term_0010580b',\n",
       " 'term_001125',\n",
       " 'term_001200201pixel',\n",
       " 'term_0014',\n",
       " 'term_001642',\n",
       " 'term_00196',\n",
       " 'term_002']"
      ]
     },
     "execution_count": 83,
     "metadata": {},
     "output_type": "execute_result"
    }
   ],
   "source": [
    "plot_x"
   ]
  },
  {
   "cell_type": "code",
   "execution_count": 84,
   "metadata": {},
   "outputs": [],
   "source": [
    "# obtain document index\n",
    "plot_y = [\"doc_\"+ str(i) for i in list(X.index)[0:20]]"
   ]
  },
  {
   "cell_type": "code",
   "execution_count": 85,
   "metadata": {},
   "outputs": [
    {
     "name": "stdout",
     "output_type": "stream",
     "text": [
      "[[0 0 0 0 0 0 0 0 0 0 0 0 0 0 0 0 0 0 0 0]\n",
      " [0 0 0 0 0 0 0 0 0 0 0 0 0 0 0 0 0 0 0 0]\n",
      " [0 0 0 0 0 0 0 0 0 0 0 0 0 0 0 0 0 0 0 0]\n",
      " [0 0 0 0 0 0 0 0 0 0 0 0 0 0 0 0 0 0 0 0]\n",
      " [1 0 0 0 0 0 0 0 0 0 0 0 0 0 0 0 0 0 0 0]\n",
      " [1 0 0 0 0 0 0 0 0 0 0 0 0 0 0 0 0 0 0 0]\n",
      " [0 0 0 0 0 0 0 0 0 0 0 0 0 0 0 0 0 0 0 0]\n",
      " [0 0 0 0 0 0 0 0 0 0 0 0 0 0 0 0 0 0 0 0]\n",
      " [0 0 0 0 0 0 0 0 0 0 0 0 0 0 0 0 0 0 0 0]\n",
      " [0 0 0 0 0 0 0 0 0 0 0 0 0 0 0 0 0 0 0 0]\n",
      " [0 0 0 0 0 0 0 0 0 0 0 0 0 0 0 0 0 0 0 0]\n",
      " [0 0 0 0 0 0 0 0 0 0 0 0 0 0 0 0 0 0 0 0]\n",
      " [0 0 0 0 0 0 0 0 0 0 0 0 0 0 0 0 0 0 0 0]\n",
      " [0 0 0 0 0 0 0 0 0 0 0 0 0 0 0 0 0 0 0 0]\n",
      " [0 0 0 0 0 0 0 0 0 0 0 0 0 0 0 0 0 0 0 0]\n",
      " [0 0 0 0 0 0 0 0 0 0 0 0 0 0 0 0 0 0 0 0]\n",
      " [0 0 0 0 0 0 0 0 0 0 0 0 0 0 0 0 0 0 0 0]\n",
      " [0 0 0 0 0 0 0 0 0 0 0 0 0 0 0 0 0 0 0 0]\n",
      " [0 0 0 0 0 0 0 0 0 0 0 0 0 0 0 0 0 0 0 0]\n",
      " [0 0 0 0 0 0 0 0 0 0 0 0 0 0 0 0 0 0 0 0]]\n"
     ]
    }
   ],
   "source": [
    "plot_z = X_counts[0:20, 0:20].toarray()\n",
    "print(plot_z)"
   ]
  },
  {
   "cell_type": "markdown",
   "metadata": {},
   "source": [
    "For the heat map, we are going to use another visualization library called `seaborn`. It's built on top of matplotlib and closely integrated with pandas data structures. One of the biggest advantages of seaborn is that its default aesthetics are much more visually appealing than matplotlib. See comparison below."
   ]
  },
  {
   "cell_type": "markdown",
   "metadata": {},
   "source": [
    "![alt txt](https://i.imgur.com/1isxmIV.png)"
   ]
  },
  {
   "cell_type": "markdown",
   "metadata": {},
   "source": [
    "The other big advantage of seaborn is that seaborn has some built-in plots that matplotlib does not support. Most of these can eventually be replicated by hacking away at matplotlib, but they’re not built in and require much more effort to build.\n",
    "\n",
    "So without further ado, let us try it now!"
   ]
  },
  {
   "cell_type": "code",
   "execution_count": 86,
   "metadata": {},
   "outputs": [
    {
     "data": {
      "image/png": "[encoded data removed]",
      "text/plain": [
       "<Figure size 648x504 with 2 Axes>"
      ]
     },
     "metadata": {
      "needs_background": "light"
     },
     "output_type": "display_data"
    }
   ],
   "source": [
    "import seaborn as sns\n",
    "\n",
    "df_todraw = pd.DataFrame(plot_z, columns = plot_x, index = plot_y)\n",
    "plt.subplots(figsize=(9, 7))\n",
    "ax = sns.heatmap(df_todraw,\n",
    "                 cmap=\"PuRd\",\n",
    "                 vmin=0, vmax=1, annot=True)"
   ]
  },
  {
   "cell_type": "markdown",
   "metadata": {},
   "source": [
    "Check out more beautiful color palettes here: https://python-graph-gallery.com/197-available-color-palettes-with-matplotlib/"
   ]
  },
  {
   "cell_type": "markdown",
   "metadata": {},
   "source": [
    "---"
   ]
  },
  {
   "cell_type": "markdown",
   "metadata": {},
   "source": [
    "### **>>> Exercise 11 (take home):** \n",
    "From the chart above, we can see how sparse the term-document matrix is; i.e., there is only one terms with frequency of `1` in the subselection of the matrix. By the way, you may have noticed that we only selected 20 articles and 20 terms to plot the histrogram. As an excersise you can try to modify the code above to plot the entire term-document matrix or just a sample of it. How would you do this efficiently? Remember there is a lot of words in the vocab. Report below what methods you would use to get a nice and useful visualization"
   ]
  },
  {
   "cell_type": "code",
   "execution_count": 87,
   "metadata": {},
   "outputs": [
    {
     "name": "stdout",
     "output_type": "stream",
     "text": [
      "107463\n",
      "12806\n"
     ]
    }
   ],
   "source": [
    "# Answer here\n",
    "from collections import Counter\n",
    "import operator\n",
    "n=X_counts.shape\n",
    "arr1=X_counts.toarray()\n",
    "a=np.argwhere(arr1>1)\n",
    "\n",
    "\n",
    "terms=[]\n",
    "counts={}\n",
    "for doc, term in a:\n",
    "    terms.append(term)\n",
    "\n",
    "print(len(terms))\n",
    "\n",
    "def Remove(duplicate): \n",
    "    final_list = [] \n",
    "    for num in duplicate: \n",
    "        if num not in final_list: \n",
    "            final_list.append(num) \n",
    "    return final_list\n",
    "\n",
    "frequentterm=Remove(terms)\n",
    "print(len(frequentterm))\n",
    "\n"
   ]
  },
  {
   "cell_type": "code",
   "execution_count": 88,
   "metadata": {},
   "outputs": [
    {
     "name": "stdout",
     "output_type": "stream",
     "text": [
      "{177: 2, 2326: 2, 4017: 99, 8696: 12, 9031: 2, 9805: 2, 12833: 28, 14281: 52, 16916: 20, 17302: 3, 19780: 2, 21661: 57, 32142: 1967, 32493: 1814, 33256: 121, 33597: 202, 1858: 8, 5046: 1, 5195: 363, 5411: 22, 6298: 887, 6574: 10, 7766: 560, 8153: 7, 10471: 7, 12075: 9, 14601: 1055, 16254: 802, 16418: 84, 17556: 1604, 18016: 8, 18268: 120, 18474: 1541, 18551: 1331, 20480: 5, 21550: 3, 23610: 1802, 26093: 92, 29147: 2, 32270: 937, 32915: 1, 33773: 162, 336: 25, 4808: 169, 4938: 446, 4992: 1585, 5410: 829, 5698: 454, 6024: 50, 6333: 204, 6358: 221, 6412: 142, 7056: 3, 7231: 8, 9191: 12, 9338: 63, 9992: 143, 10667: 2, 11495: 36, 11723: 12, 11966: 1, 12014: 450, 12051: 194, 12626: 1263, 12703: 4, 13400: 61, 13491: 145, 14309: 90, 14887: 1024, 15545: 43, 16014: 182, 16194: 2, 16573: 10, 17268: 662, 18863: 3, 18893: 11, 19458: 253, 19951: 16, 20373: 60, 20517: 45, 20631: 3, 20862: 93, 21209: 158, 21322: 344, 22541: 462, 23250: 911, 23870: 646, 24020: 257, 24784: 349, 24827: 41, 24895: 64, 26097: 40, 29130: 34, 29578: 175, 29769: 10, 30068: 424, 30173: 386, 30180: 66, 31364: 44, 31978: 9, 32139: 1366, 32233: 521, 33216: 12, 34120: 108, 34660: 82, 34703: 548, 34775: 440, 34866: 140, 34923: 528, 34956: 45, 35057: 352, 35157: 722, 35255: 83, 35264: 7, 35312: 442, 35587: 73, 35638: 940, 35648: 359, 8017: 36, 8609: 86, 20048: 42, 23102: 24, 23733: 758, 25461: 2, 28256: 13, 28425: 1, 28498: 1, 35780: 1, 1102: 57, 2513: 5, 5340: 43, 5529: 303, 5549: 738, 5730: 22, 8863: 2, 9072: 606, 14109: 2, 18774: 129, 20198: 236, 20903: 60, 22725: 12, 24046: 160, 24395: 3, 28473: 34, 30638: 1, 32295: 132, 34810: 4, 34879: 217, 34954: 314, 4720: 459, 5512: 22, 5513: 16, 6437: 7, 6863: 23, 7965: 52, 8451: 17, 8559: 115, 8713: 58, 10510: 48, 10805: 8, 12026: 37, 12028: 13, 16913: 68, 18983: 8, 20167: 93, 21732: 73, 22765: 14, 24052: 239, 24451: 11, 24793: 5, 28735: 12, 32756: 3, 34151: 7, 34360: 7, 35358: 68, 242: 43, 3892: 8, 4195: 17, 5030: 5, 6057: 36, 9771: 22, 11041: 10, 12096: 314, 12902: 2, 14138: 7, 14363: 18, 15521: 356, 15576: 152, 16216: 358, 16302: 376, 16642: 267, 17687: 24, 18011: 3, 18869: 9, 19076: 242, 24050: 6, 24616: 46, 25337: 70, 27031: 369, 29171: 16, 30330: 12, 32253: 250, 34229: 162, 35006: 122, 35350: 338, 4165: 3, 4661: 4, 7480: 693, 8034: 48, 8777: 2, 10028: 15, 10602: 2, 10752: 68, 13091: 42, 13892: 17, 15322: 8, 15742: 1, 16036: 4, 16603: 108, 22861: 53, 23614: 44, 23667: 10, 23741: 479, 23757: 228, 25200: 1, 28783: 1, 30199: 29, 30493: 4, 31893: 2, 31894: 1, 32249: 58, 32409: 2, 32847: 34, 33410: 53, 33860: 75, 33889: 5, 34417: 7, 34727: 13, 34935: 264, 34973: 1, 6140: 83, 6507: 33, 6882: 5, 9045: 39, 9444: 2, 10324: 223, 15173: 78, 15591: 85, 15755: 5, 25234: 110, 27255: 4, 29222: 4, 30105: 2, 32202: 535, 33142: 13, 34881: 3, 35597: 3, 3958: 458, 4399: 19, 4852: 177, 5580: 14, 6557: 56, 7714: 27, 7718: 38, 9423: 6, 10797: 7, 11493: 114, 14163: 7, 14565: 33, 16908: 234, 16954: 1, 18080: 7, 18095: 1, 20133: 2, 21053: 1, 21389: 4, 22215: 270, 22774: 101, 23301: 120, 24296: 29, 24595: 34, 26910: 2, 27831: 1, 28573: 95, 30696: 8, 30808: 73, 31723: 17, 32164: 192, 32298: 32, 32417: 184, 32523: 26, 33808: 1, 33853: 13, 34463: 5, 34661: 8, 35249: 41, 4039: 37, 4974: 2, 5578: 27, 5768: 1, 6440: 14, 6597: 109, 7505: 532, 8544: 86, 8553: 110, 8557: 75, 11529: 7, 11727: 27, 12044: 5, 12103: 34, 12407: 2, 13055: 10, 13952: 83, 14060: 25, 14212: 54, 14666: 19, 16358: 33, 16662: 4, 16999: 76, 18648: 35, 19169: 3, 20353: 30, 20495: 40, 20886: 1, 20904: 2, 20978: 153, 22268: 1, 22270: 147, 22323: 5, 22613: 46, 22918: 77, 23123: 392, 23915: 48, 24188: 72, 26709: 103, 27305: 6, 27732: 8, 28615: 9, 28805: 4, 29121: 151, 30254: 32, 31854: 12, 32152: 260, 32570: 75, 33847: 161, 34755: 119, 34982: 352, 35216: 27, 4903: 1, 9027: 18, 9932: 22, 11805: 15, 13037: 18, 15083: 1, 19841: 53, 20073: 21, 20245: 4, 21093: 8, 22140: 2, 23161: 65, 23347: 2, 24460: 6, 24651: 19, 27836: 16, 30207: 1, 32221: 158, 33302: 38, 3933: 10, 4761: 16, 5430: 52, 6254: 15, 6413: 10, 6472: 28, 6561: 55, 6903: 15, 8498: 17, 8499: 6, 8512: 19, 10147: 27, 10976: 10, 10984: 26, 11236: 3, 12065: 39, 13351: 12, 13521: 74, 13526: 22, 13552: 8, 13970: 12, 14357: 89, 14566: 5, 14819: 50, 15405: 46, 15744: 9, 16131: 16, 16482: 115, 17219: 37, 20444: 5, 20463: 52, 20595: 4, 21332: 71, 22200: 42, 23727: 3, 23730: 7, 24811: 18, 25265: 25, 25438: 105, 25642: 42, 25879: 4, 28755: 164, 31180: 150, 31710: 71, 32160: 176, 32205: 39, 32995: 15, 34303: 53, 35298: 21, 16248: 4, 20768: 5, 20774: 3, 29455: 95, 32251: 123, 1381: 4, 1660: 20, 3340: 4, 4624: 5, 6725: 5, 8672: 8, 15783: 7, 19245: 18, 20068: 21, 28350: 2, 28619: 84, 28974: 26, 29947: 6, 32369: 8, 32571: 12, 33176: 9, 8864: 2, 14021: 42, 27078: 27, 34368: 13, 15319: 144, 17796: 10, 21476: 35, 23202: 19, 23999: 1, 25654: 12, 31394: 54, 31596: 20, 31737: 20, 32111: 1, 34048: 3, 35588: 19, 15511: 75, 16409: 52, 3972: 1, 5201: 71, 13717: 5, 4487: 39, 5455: 12, 8085: 4, 8538: 4, 16743: 19, 19347: 17, 20289: 9, 26062: 3, 26510: 2, 26517: 20, 29875: 4, 6773: 25, 10762: 1, 11988: 1, 11989: 1, 12150: 1, 18721: 8, 21033: 63, 23905: 37, 28515: 19, 34712: 15, 4004: 1, 5280: 1, 6426: 45, 6832: 14, 8914: 18, 12919: 10, 13242: 2, 13672: 46, 15200: 7, 15535: 17, 19464: 8, 20443: 13, 21339: 36, 22509: 105, 25380: 12, 27489: 7, 33964: 18, 35277: 2, 7005: 76, 18679: 20, 18833: 4, 19223: 4, 21215: 7, 27436: 12, 31077: 154, 35363: 29, 1586: 44, 16681: 2, 25663: 61, 29040: 18, 30394: 7, 30730: 3, 1341: 35, 1670: 1, 2149: 1, 2155: 11, 5465: 10, 6744: 34, 7740: 2, 8711: 4, 9060: 4, 22001: 1, 29963: 2, 33208: 10, 35066: 2, 584: 4, 1948: 3, 2148: 39, 7643: 117, 10729: 24, 12221: 13, 12316: 1, 14048: 23, 15077: 11, 22047: 23, 22776: 10, 25507: 23, 26417: 1, 28342: 11, 30616: 1, 31287: 2, 32607: 7, 32876: 8, 33961: 2, 34252: 21, 4486: 44, 14587: 2, 22860: 33, 24367: 3, 31954: 3, 1128: 1, 5504: 1, 6322: 1, 6636: 8, 10736: 86, 12717: 1, 13123: 8, 16211: 22, 16342: 14, 18450: 1, 20549: 17, 22403: 116, 23210: 24, 25677: 1, 28114: 11, 29285: 14, 30782: 6, 31865: 8, 34104: 5, 7732: 105, 7908: 8, 12655: 25, 22379: 51, 25266: 10, 27042: 10, 27752: 6, 30776: 65, 1564: 1, 2188: 1, 4139: 1, 5110: 72, 5304: 1, 7704: 1, 7781: 17, 8035: 15, 8431: 3, 10610: 8, 12922: 1, 15837: 70, 16470: 70, 20510: 4, 20609: 1, 21616: 9, 22842: 3, 22843: 2, 23563: 1, 27567: 7, 28799: 2, 32462: 6, 33136: 2, 34256: 1, 6649: 38, 12854: 1, 13973: 4, 16607: 33, 18933: 1, 19370: 22, 19444: 16, 20086: 16, 20116: 12, 20628: 10, 21266: 1, 24041: 4, 24833: 9, 25019: 6, 25058: 14, 25916: 2, 27049: 86, 28090: 4, 32131: 205, 6540: 43, 12182: 4, 12974: 3, 14323: 6, 15820: 1, 16507: 2, 16909: 11, 21610: 15, 23541: 14, 23972: 1, 6419: 1, 8177: 2, 16713: 1, 22750: 5, 26244: 11, 26757: 2, 26759: 5, 27890: 27, 32098: 34, 13249: 3, 13516: 30, 14000: 4, 18371: 18, 20332: 7, 20676: 11, 25118: 11, 30729: 1, 20537: 42, 5515: 9, 6430: 148, 6476: 4, 10037: 51, 13718: 1, 19218: 99, 26429: 4, 26794: 1, 27504: 68, 28089: 87, 28865: 13, 30327: 19, 4215: 45, 4788: 13, 5029: 10, 7207: 21, 10141: 6, 12495: 37, 15148: 8, 16938: 9, 17317: 2, 18689: 5, 19574: 3, 21176: 5, 22425: 1, 24108: 82, 28691: 18, 29591: 31, 30024: 1, 32179: 14, 32204: 1, 2583: 8, 4374: 1, 5807: 87, 6371: 71, 8071: 86, 8179: 9, 8457: 29, 9151: 5, 10666: 12, 11188: 5, 13811: 11, 13914: 6, 14814: 16, 15209: 33, 21032: 2, 21060: 20, 22129: 35, 23814: 28, 24089: 12, 24502: 19, 24504: 5, 25317: 1, 26022: 3, 26085: 48, 27105: 14, 27460: 1, 27980: 2, 28045: 20, 28757: 45, 29343: 25, 29350: 12, 29680: 9, 30089: 2, 30090: 19, 30599: 3, 32225: 3, 32645: 9, 32862: 5, 32864: 2, 33125: 105, 33627: 17, 34896: 11, 34938: 115, 35659: 12, 14579: 7, 25698: 16, 33772: 5, 34651: 5, 8168: 6, 16962: 1, 22180: 2, 22187: 1, 23236: 2, 28243: 1, 29399: 19, 29835: 1, 5278: 34, 7344: 38, 15770: 23, 18499: 42, 18633: 38, 19251: 21, 22966: 20, 28460: 20, 28643: 26, 4185: 19, 11263: 1, 14043: 2, 15169: 2, 20818: 6, 23662: 13, 24269: 7, 30673: 48, 7972: 9, 12802: 3, 18585: 97, 23643: 3, 25448: 27, 35593: 7, 4043: 17, 5852: 1, 10022: 12, 10443: 6, 14733: 46, 15115: 1, 16782: 9, 18098: 5, 21391: 34, 21804: 29, 22071: 13, 22885: 1, 23871: 2, 28010: 1, 28197: 36, 29134: 67, 3959: 33, 4079: 22, 4189: 21, 4529: 31, 5283: 2, 5287: 9, 5288: 9, 6232: 15, 7238: 4, 7800: 62, 9394: 15, 10039: 13, 10196: 3, 14068: 5, 16109: 6, 17719: 6, 18501: 33, 18563: 9, 19308: 15, 19316: 8, 20727: 2, 21751: 26, 22220: 3, 22503: 20, 22504: 20, 22701: 22, 23320: 10, 23618: 2, 24024: 49, 24536: 3, 26112: 21, 29232: 3, 32332: 68, 33295: 2, 4915: 10, 13779: 3, 21527: 4, 5004: 45, 8798: 10, 10776: 11, 14803: 5, 14804: 2, 15425: 4, 16747: 9, 29421: 7, 34005: 2, 698: 3, 755: 38, 1877: 27, 1944: 8, 2534: 1, 2983: 2, 3136: 4, 4855: 3, 5436: 1, 5721: 29, 8240: 19, 9057: 3, 9183: 21, 13352: 1, 14085: 19, 14727: 4, 15629: 5, 15699: 105, 15749: 5, 16042: 1, 16772: 15, 18203: 18, 20315: 4, 21303: 2, 22674: 25, 22944: 39, 22988: 4, 23023: 4, 23057: 4, 23349: 4, 26818: 7, 27816: 8, 30588: 24, 31870: 11, 32222: 4, 33533: 4, 33581: 5, 33940: 36, 4471: 84, 5203: 51, 9735: 1, 12530: 5, 13511: 70, 14210: 2, 18815: 43, 18819: 1, 18914: 4, 19789: 1, 26928: 4, 26930: 1, 31272: 35, 3897: 13, 5286: 9, 9278: 2, 10456: 9, 14676: 34, 17356: 48, 17366: 27, 17558: 1, 25942: 1, 26180: 43, 26537: 29, 32392: 18, 33858: 117, 243: 23, 2414: 11, 12443: 30, 15791: 3, 17819: 10, 18907: 64, 20825: 50, 34821: 28, 9634: 3, 18323: 6, 25811: 2, 31573: 2, 34020: 13, 20965: 26, 21167: 30, 32874: 7, 34665: 23, 35168: 79, 3221: 2, 3290: 5, 4148: 2, 4638: 7, 4644: 7, 4645: 3, 5707: 3, 5906: 36, 6051: 6, 6757: 16, 6939: 46, 7785: 14, 8159: 37, 8583: 9, 8664: 4, 9160: 2, 9639: 1, 9644: 1, 9672: 3, 9887: 5, 11490: 6, 11729: 44, 12472: 58, 12511: 13, 12607: 3, 12988: 39, 14997: 5, 15193: 2, 16312: 1, 16328: 29, 17795: 8, 17841: 28, 17855: 1, 17866: 1, 18078: 2, 18261: 1, 19772: 8, 19902: 7, 20573: 3, 21144: 10, 21386: 43, 22139: 1, 22181: 10, 22253: 1, 22316: 7, 22922: 118, 23583: 1, 26138: 4, 26149: 2, 26356: 11, 26556: 9, 27310: 19, 27455: 1, 29707: 3, 29864: 13, 30335: 10, 31036: 33, 34006: 5, 34891: 16, 35626: 3, 35634: 15, 16994: 1, 19238: 18, 33186: 2, 1094: 2, 5489: 29, 5837: 2, 6216: 1, 8290: 11, 9158: 25, 10120: 1, 10790: 21, 12404: 19, 13029: 14, 14250: 11, 14326: 4, 14847: 3, 15912: 5, 16572: 31, 16739: 1, 17508: 31, 17854: 71, 19150: 4, 19396: 6, 19552: 8, 19903: 1, 20363: 17, 23472: 23, 23746: 15, 24428: 1, 24481: 60, 24945: 31, 25010: 1, 25077: 2, 25078: 12, 25154: 14, 25156: 22, 25796: 1, 26133: 2, 26153: 5, 27684: 4, 29593: 7, 29635: 28, 29672: 5, 30266: 2, 30310: 1, 31400: 21, 33557: 3, 33626: 8, 33875: 57, 6431: 10, 10983: 5, 11520: 81, 13947: 9, 14135: 26, 14560: 23, 15219: 14, 17226: 12, 18510: 38, 22557: 13, 27088: 73, 27507: 18, 27510: 39, 27819: 12, 29721: 1, 31372: 8, 31373: 9, 34701: 7, 35219: 1, 6084: 10, 8805: 2, 12439: 8, 14789: 27, 16803: 4, 21283: 5, 23009: 9, 32430: 5, 32432: 9, 33214: 3, 34967: 2, 34968: 2, 2221: 21, 3490: 4, 18860: 6, 19342: 4, 23363: 40, 25039: 6, 28326: 1, 29086: 29, 29679: 6, 34214: 45, 739: 1, 2919: 1, 8905: 27, 19435: 15, 22621: 6, 23112: 5, 25412: 22, 6163: 2, 12324: 5, 15357: 1, 22563: 6, 23446: 5, 24404: 3, 3510: 1, 7828: 2, 10473: 6, 11315: 6, 12153: 13, 17180: 52, 23605: 7, 28279: 17, 34448: 6, 15627: 5, 20673: 4, 24612: 7, 27452: 22, 27841: 11, 30126: 4, 30426: 6, 34099: 9, 34446: 15, 2631: 2, 11499: 7, 14972: 10, 25355: 3, 28631: 14, 29039: 7, 33220: 1, 34037: 1, 34902: 2, 7416: 1, 10644: 14, 11972: 1, 15351: 20, 16258: 30, 17577: 39, 17602: 18, 19247: 1, 20979: 6, 20985: 4, 29362: 1, 30414: 15, 31399: 1, 32962: 9, 8916: 50, 15174: 2, 21006: 2, 22358: 2, 24317: 2, 25298: 1, 27749: 67, 29637: 5, 30225: 2, 32324: 2, 32565: 1, 34359: 5, 34972: 15, 6402: 7, 9847: 2, 13536: 3, 20361: 62, 22205: 45, 22684: 34, 7700: 2, 11042: 5, 12513: 13, 13908: 75, 21333: 18, 24545: 4, 27941: 3, 31284: 16, 32025: 15, 32426: 28, 34996: 2, 35243: 53, 20525: 3, 34741: 18, 4787: 11, 8371: 3, 22273: 24, 28274: 17, 29780: 4, 30525: 6, 31853: 10, 34801: 3, 35269: 30, 19871: 1, 26027: 10, 28776: 9, 31440: 7, 31648: 39, 35275: 95, 35724: 2, 5251: 11, 6623: 4, 8783: 15, 9093: 57, 12781: 3, 13439: 6, 20360: 17, 27417: 2, 27626: 3, 4047: 22, 4989: 9, 5049: 9, 8937: 2, 8945: 34, 11152: 7, 11305: 1, 12083: 2, 12334: 6, 13413: 3, 13733: 15, 15513: 16, 17008: 21, 18586: 26, 19085: 6, 19201: 2, 21152: 2, 21170: 5, 22784: 12, 23431: 8, 23889: 29, 26274: 2, 26459: 21, 27303: 1, 27840: 3, 30347: 14, 30614: 2, 31644: 71, 32997: 35, 33601: 19, 34760: 8, 35601: 35, 7147: 1, 19976: 6, 27462: 4, 28146: 1, 34114: 1, 1673: 12, 2500: 1, 4424: 3, 6511: 1, 6812: 1, 7048: 1, 7395: 10, 9255: 3, 10031: 1, 12056: 2, 13054: 2, 13426: 1, 13807: 1, 14534: 5, 16078: 1, 19766: 20, 21638: 3, 21639: 1, 21670: 8, 22929: 2, 22987: 1, 23503: 1, 24452: 1, 25354: 2, 28003: 1, 28082: 2, 28174: 1, 28380: 4, 28423: 1, 28438: 1, 29494: 1, 30452: 1, 30941: 7, 31020: 3, 33946: 6, 35421: 1, 12001: 1, 16780: 1, 22135: 18, 26036: 6, 26119: 1, 30233: 22, 33262: 1, 3938: 34, 6743: 8, 10139: 10, 10625: 25, 11497: 32, 12227: 7, 12445: 5, 14584: 12, 15135: 9, 15886: 7, 16322: 3, 16674: 7, 18557: 4, 19519: 17, 19541: 5, 20629: 1, 22508: 1, 23542: 14, 25644: 9, 26258: 8, 26259: 10, 27112: 17, 28760: 58, 31945: 42, 32989: 61, 33352: 1, 35313: 22, 35354: 27, 4271: 23, 12137: 21, 22366: 14, 30705: 16, 34758: 6, 34774: 2, 35516: 10, 5074: 2, 8037: 12, 9960: 2, 12661: 22, 13813: 4, 20462: 6, 24212: 11, 25123: 3, 26538: 5, 27039: 4, 29030: 3, 30103: 3, 30255: 17, 31004: 6, 31060: 12, 7890: 20, 8327: 8, 8822: 5, 19224: 1, 20054: 10, 20413: 16, 31021: 3, 34241: 1, 3898: 1, 5848: 21, 6165: 4, 7872: 2, 8326: 3, 8966: 1, 14581: 53, 14583: 21, 14968: 16, 15612: 50, 18670: 13, 19764: 8, 21356: 11, 22652: 35, 27664: 22, 28136: 19, 28389: 2, 33757: 1, 5670: 4, 15047: 9, 16645: 5, 20268: 5, 20568: 3, 30325: 22, 34836: 24, 35340: 4, 10787: 62, 17349: 2, 18435: 3, 25752: 2, 28861: 2, 32121: 2, 33033: 22, 6397: 20, 7435: 12, 13629: 1, 13630: 2, 17211: 4, 18543: 4, 27484: 4, 29215: 38, 8718: 13, 12527: 13, 17791: 3, 23422: 13, 23423: 13, 26742: 45, 29155: 18, 30313: 3, 32091: 16, 33453: 5, 30623: 26, 34230: 14, 16419: 5, 30774: 2, 5577: 1, 6340: 30, 14990: 1, 15745: 2, 17001: 3, 17022: 1, 19385: 7, 25037: 4, 28283: 11, 33909: 30, 34499: 1, 35603: 3, 7776: 5, 7874: 21, 31419: 5, 34289: 30, 6970: 9, 7941: 7, 12586: 25, 34710: 39, 29749: 47, 29760: 2, 34212: 11, 4579: 3, 4929: 1, 5887: 5, 9047: 1, 12176: 30, 14372: 6, 15024: 1, 15736: 1, 16154: 1, 20995: 1, 23290: 1, 24382: 15, 25409: 1, 25671: 13, 25722: 3, 26038: 4, 26040: 7, 29976: 5, 33950: 1, 35019: 4, 35027: 1, 35039: 1, 35492: 1, 15309: 14, 20342: 58, 22300: 15, 35295: 22, 10351: 18, 29996: 15, 33253: 38, 4742: 10, 4745: 9, 5138: 21, 8746: 4, 9043: 3, 9316: 2, 9537: 5, 13598: 5, 17431: 12, 18594: 5, 23429: 5, 23660: 14, 26634: 4, 28220: 4, 28903: 9, 29224: 16, 29787: 12, 29788: 5, 30054: 3, 30487: 4, 31647: 5, 31711: 18, 32653: 8, 32658: 4, 35583: 6, 35590: 3, 15715: 11, 17185: 8, 18852: 1, 18880: 68, 20377: 3, 22426: 1, 28087: 1, 31305: 10, 6323: 23, 6925: 24, 17201: 28, 31904: 33, 34272: 29, 18542: 32, 21179: 7, 24471: 1, 28997: 2, 29249: 6, 30441: 1, 32301: 6, 6850: 4, 15918: 12, 16611: 2, 19593: 14, 20000: 5, 21743: 16, 22017: 12, 24731: 5, 25113: 2, 25762: 13, 25765: 9, 30350: 22, 32257: 17, 34210: 11, 35035: 16, 4167: 4, 4810: 24, 5714: 46, 6405: 3, 7307: 1, 12830: 3, 19210: 23, 19926: 7, 20710: 7, 21972: 30, 22949: 29, 25657: 7, 29754: 82, 32537: 16, 32678: 3, 8064: 1, 19588: 5, 20635: 5, 20637: 3, 28897: 77, 30004: 3, 33260: 5, 103: 13, 5657: 5, 5742: 2, 5743: 2, 7084: 8, 9023: 7, 9841: 1, 11009: 4, 11571: 6, 12269: 2, 15289: 29, 15601: 31, 16133: 11, 19644: 12, 20041: 30, 22048: 7, 22061: 9, 23354: 4, 24641: 7, 26693: 8, 28562: 1, 31334: 6, 32701: 7, 34164: 7, 35124: 1, 5656: 14, 6212: 55, 7860: 10, 13677: 40, 13682: 27, 20849: 8, 20868: 18, 21334: 4, 23513: 7, 23736: 28, 25622: 13, 26948: 54, 27736: 10, 30676: 28, 31000: 23, 33801: 21, 33891: 17, 4261: 1, 4655: 1, 6121: 6, 12283: 17, 14174: 2, 28588: 4, 102: 1, 8105: 7, 15080: 3, 18199: 8, 19658: 6, 20149: 3, 21380: 16, 22434: 5, 25029: 3, 26075: 1, 26076: 1, 26077: 2, 26441: 1, 27019: 9, 27270: 1, 28043: 9, 28629: 1, 31915: 5, 32470: 3, 35284: 3, 4780: 20, 4847: 39, 5372: 4, 5583: 7, 8199: 33, 8775: 29, 9981: 13, 10455: 21, 10882: 2, 11517: 14, 13567: 60, 15551: 2, 15891: 2, 16140: 3, 17564: 1, 17674: 1, 17788: 5, 18359: 1, 19350: 2, 19354: 12, 20132: 2, 20242: 42, 20866: 34, 22208: 6, 22468: 12, 23478: 30, 23479: 5, 26564: 1, 27111: 18, 27250: 2, 28096: 9, 28430: 14, 28435: 22, 29283: 4, 29718: 7, 31438: 6, 33446: 42, 34998: 1, 14523: 3, 18254: 3, 27778: 4, 4464: 4, 4518: 6, 6427: 28, 10860: 10, 14866: 18, 14870: 11, 14871: 3, 14976: 7, 14980: 3, 19924: 44, 21212: 22, 31396: 8, 34948: 44, 35176: 4, 6376: 4, 7132: 24, 7277: 2, 7933: 1, 21479: 2, 21492: 2, 32449: 1, 5758: 11, 5793: 1, 7472: 7, 14249: 1, 14689: 3, 19227: 1, 19383: 13, 19954: 12, 23800: 6, 25706: 24, 25766: 1, 27459: 11, 34044: 7, 34148: 1, 34178: 1, 6737: 5, 9119: 12, 9427: 5, 10861: 8, 10977: 11, 12032: 18, 15406: 35, 15828: 1, 16491: 7, 17784: 8, 21178: 30, 21958: 12, 23460: 6, 25560: 17, 26552: 20, 28849: 6, 32172: 4, 32297: 31, 32840: 7, 6115: 2, 6187: 1, 7397: 2, 9307: 7, 14756: 5, 18316: 2, 18691: 2, 20237: 2, 1608: 6, 2599: 8, 4775: 6, 14885: 6, 15112: 1, 23684: 35, 30645: 2, 5208: 1, 33903: 2, 6446: 11, 7685: 2, 8474: 22, 16550: 8, 28246: 2, 4885: 7, 5783: 4, 6599: 18, 7925: 1, 9743: 3, 18936: 1, 20307: 30, 22680: 1, 30408: 6, 30632: 22, 1490: 12, 1632: 15, 3954: 3, 7299: 2, 7450: 3, 9128: 3, 13056: 6, 13839: 13, 14591: 3, 15006: 21, 16087: 35, 17945: 6, 18219: 18, 18779: 31, 19794: 2, 21883: 2, 24752: 9, 26986: 23, 30904: 1, 30974: 1, 31366: 11, 32580: 1, 32979: 8, 35213: 15, 35315: 2, 5237: 3, 7969: 4, 9807: 8, 18546: 2, 24175: 1, 33237: 32, 33868: 19, 4531: 2, 19732: 2, 24801: 1, 27065: 54, 34036: 16, 34039: 20, 1: 17, 124: 7, 173: 1, 431: 35, 509: 25, 587: 26, 677: 37, 784: 1, 1696: 1, 1885: 7, 2390: 15, 3061: 9, 3310: 19, 4192: 1, 4201: 4, 4203: 1, 4206: 7, 4264: 4, 4306: 1, 4318: 7, 4320: 1, 4376: 5, 4406: 1, 4492: 12, 4495: 4, 4566: 16, 4823: 16, 4827: 25, 4838: 1, 4884: 14, 5050: 18, 5084: 4, 5117: 45, 5131: 5, 5342: 9, 5645: 5, 5764: 8, 5984: 2, 6041: 1, 6381: 7, 6386: 1, 6509: 1, 6656: 5, 6689: 1, 6726: 10, 7019: 1, 7062: 78, 7438: 2, 7709: 1, 7711: 11, 7722: 3, 8039: 4, 8106: 1, 8107: 5, 8150: 10, 8197: 31, 8253: 2, 8278: 7, 8285: 26, 8823: 10, 8853: 3, 9180: 15, 9197: 4, 9437: 2, 9647: 1, 9671: 5, 9675: 8, 9884: 16, 10003: 4, 10488: 10, 10604: 3, 10838: 1, 11030: 1, 11147: 1, 11148: 1, 11159: 18, 11355: 5, 11357: 9, 11361: 3, 11362: 11, 11620: 4, 11731: 16, 11948: 14, 12046: 4, 12110: 2, 12141: 4, 12142: 5, 12197: 26, 12280: 2, 12284: 11, 12485: 8, 12487: 13, 12567: 3, 12658: 12, 12668: 6, 12683: 3, 12711: 35, 12995: 1, 13197: 2, 13369: 1, 13715: 23, 13721: 8, 13728: 1, 13729: 2, 13768: 2, 13998: 26, 14069: 1, 14265: 4, 14312: 3, 14313: 5, 14480: 4, 14682: 2, 14742: 11, 14784: 4, 14983: 2, 14987: 1, 15189: 1, 15206: 1, 15230: 7, 15232: 8, 15286: 8, 15450: 4, 15687: 1, 15849: 1, 16081: 1, 16515: 1, 16548: 1, 16557: 4, 16679: 3, 16875: 5, 16891: 1, 16947: 1, 17333: 3, 17434: 1, 17440: 1, 17539: 2, 17605: 19, 17644: 7, 17645: 6, 17676: 1, 17692: 5, 17792: 6, 17794: 1, 17797: 6, 17910: 1, 17922: 4, 18067: 24, 18069: 3, 18253: 2, 18259: 4, 18647: 1, 18942: 5, 19189: 2, 19473: 28, 19513: 1, 19659: 12, 19670: 11, 19787: 43, 19802: 8, 19900: 3, 19941: 5, 20039: 1, 20185: 12, 20470: 36, 20650: 1, 20678: 1, 20770: 56, 20860: 14, 20875: 2, 20997: 5, 21291: 1, 21659: 3, 21785: 6, 21825: 2, 22108: 1, 22179: 5, 22679: 1, 22687: 31, 22794: 8, 22873: 9, 22953: 6, 23002: 1, 23035: 1, 23052: 7, 23201: 1, 23367: 10, 23385: 1, 23443: 1, 23633: 12, 23789: 1, 24289: 15, 24385: 5, 24388: 1, 24593: 15, 24719: 1, 24795: 7, 24997: 2, 25004: 4, 25117: 12, 25280: 4, 25483: 7, 25743: 3, 25983: 8, 25996: 3, 26019: 4, 26051: 1, 26134: 4, 26151: 3, 26197: 11, 26326: 5, 26327: 4, 26348: 3, 26355: 21, 26359: 2, 26360: 8, 26361: 2, 26469: 11, 26719: 46, 26727: 2, 26917: 2, 27143: 9, 27149: 10, 27154: 2, 27789: 3, 27817: 9, 27828: 4, 27837: 7, 27876: 21, 27879: 2, 28552: 7, 28557: 7, 28780: 1, 28876: 13, 28904: 11, 29094: 3, 29304: 15, 29306: 13, 29316: 5, 29336: 24, 29397: 2, 29428: 8, 29629: 11, 29807: 10, 29821: 8, 29975: 10, 30082: 9, 30208: 7, 30295: 2, 30339: 2, 30504: 3, 30661: 7, 30672: 6, 30678: 13, 30750: 11, 30811: 2, 31034: 22, 31557: 1, 31931: 7, 32073: 28, 32077: 7, 32194: 1, 32314: 29, 32334: 4, 32506: 17, 32530: 1, 32758: 1, 32783: 3, 32842: 5, 32844: 2, 32875: 4, 33035: 3, 33058: 2, 33578: 8, 34001: 3, 34002: 2, 34330: 1, 34375: 5, 34470: 1, 34481: 11, 34488: 1, 34558: 2, 34699: 1, 34762: 4, 34826: 7, 35167: 18, 35263: 1, 35584: 27, 35642: 1, 15407: 8, 27193: 9, 30521: 1, 4421: 1, 5175: 1, 15835: 4, 18781: 28, 20708: 36, 29367: 59, 30156: 34, 35322: 34, 7457: 1, 16348: 6, 17432: 4, 28340: 2, 29539: 4, 5718: 57, 6451: 1, 8002: 3, 16494: 2, 17297: 10, 19014: 20, 23815: 17, 28994: 29, 9176: 2, 16509: 1, 17666: 12, 20011: 2, 23280: 9, 35301: 2, 3945: 1, 5432: 16, 11407: 4, 13496: 13, 14561: 6, 14953: 8, 25590: 26, 25664: 10, 25670: 11, 32996: 41, 34291: 7, 34861: 6, 216: 1, 1421: 20, 1986: 8, 2061: 6, 3260: 4, 9193: 7, 12613: 7, 21254: 6, 33120: 7, 33569: 7, 27410: 6, 3474: 24, 15371: 11, 15977: 4, 20431: 4, 25237: 16, 28722: 4, 30262: 4, 33304: 31, 10412: 7, 11140: 4, 17237: 5, 18177: 6, 28538: 3, 34885: 1, 3978: 1, 19571: 1, 21317: 1, 31775: 1, 1122: 2, 4315: 1, 4679: 3, 4901: 8, 5530: 16, 5587: 1, 6783: 4, 7910: 23, 8380: 17, 9297: 3, 11038: 2, 15332: 1, 15473: 4, 15478: 11, 17729: 3, 17742: 7, 18277: 3, 18945: 1, 21010: 2, 21769: 6, 22276: 17, 22898: 2, 22906: 1, 23258: 30, 23264: 45, 23704: 9, 23817: 3, 23873: 1, 24728: 3, 25012: 7, 25909: 7, 26113: 1, 26198: 2, 27144: 9, 27317: 5, 27477: 8, 27536: 2, 27676: 10, 27849: 8, 27967: 3, 28771: 1, 29135: 17, 29223: 1, 29597: 6, 31610: 18, 31725: 26, 32529: 3, 34166: 3, 34770: 7, 34927: 5, 35141: 7, 13915: 12, 15158: 3, 16304: 6, 21736: 9, 22890: 1, 22897: 1, 24910: 11, 35745: 12, 10634: 2, 22838: 1, 28297: 3, 28656: 6, 28657: 1, 35096: 36, 7509: 16, 8019: 12, 8591: 1, 13088: 2, 21092: 28, 23260: 2, 34361: 12, 12706: 6, 15743: 35, 16263: 14, 16497: 3, 16949: 1, 19681: 13, 19944: 15, 21615: 14, 25119: 3, 26657: 19, 28414: 1, 28983: 1, 30027: 1, 30690: 4, 33087: 19, 19850: 25, 26206: 1, 26412: 11, 26415: 10, 0: 18, 17503: 8, 18351: 7, 19016: 10, 19018: 3, 21162: 3, 23654: 33, 26347: 17, 26434: 8, 27733: 7, 27880: 17, 28099: 1, 28468: 16, 28900: 39, 30660: 15, 31080: 7, 32848: 4, 32973: 97, 33107: 1, 33241: 6, 33243: 6, 34025: 3, 35304: 8, 7318: 5, 14755: 13, 17355: 4, 20278: 6, 24267: 33, 28831: 3, 32135: 14, 34253: 2, 13247: 3, 14149: 1, 24222: 3, 24228: 3, 24233: 2, 24237: 2, 24422: 4, 26822: 8, 28105: 1, 28495: 1, 30164: 1, 32492: 1, 8340: 11, 17158: 1, 32505: 3, 34362: 13, 4558: 27, 10068: 26, 14199: 4, 19739: 4, 21295: 24, 24284: 7, 25739: 5, 6096: 1, 8717: 25, 11958: 1, 15606: 1, 16219: 3, 22230: 3, 27150: 7, 29828: 10, 30405: 1, 3208: 1, 4031: 1, 4032: 1, 12206: 5, 24633: 2, 26375: 4, 29867: 1, 12234: 2, 14101: 10, 14526: 18, 19021: 6, 22568: 3, 26599: 1, 27083: 6, 27332: 1, 32330: 2, 5185: 3, 5850: 17, 5851: 4, 7350: 2, 16299: 2, 21050: 3, 22728: 5, 23585: 2, 3984: 8, 5121: 11, 9481: 6, 13503: 35, 14302: 10, 16256: 12, 16335: 11, 18166: 25, 19990: 8, 27103: 52, 29204: 21, 29510: 1, 31434: 5, 35560: 1, 7833: 6, 9225: 3, 10812: 41, 14658: 4, 17533: 1, 17964: 13, 22470: 4, 24579: 1, 24963: 4, 27953: 2, 29583: 10, 29715: 28, 31591: 2, 4211: 20, 4824: 6, 9580: 22, 18060: 6, 18122: 6, 22764: 11, 23911: 6, 25504: 3, 25640: 7, 34486: 2, 6094: 1, 12446: 1, 15358: 3, 17865: 1, 20664: 1, 33139: 26, 4330: 4, 18015: 1, 24686: 1, 27671: 5, 30187: 104, 34889: 14, 2475: 5, 2831: 5, 4598: 7, 13848: 1, 33121: 1, 5212: 6, 15830: 1, 16666: 28, 16869: 4, 18434: 2, 19355: 1, 21279: 6, 22286: 4, 23940: 43, 24606: 2, 27511: 1, 27513: 1, 30040: 6, 30256: 8, 32894: 1, 4082: 11, 5383: 2, 6739: 5, 7167: 7, 7802: 8, 8316: 4, 8750: 1, 9098: 19, 9113: 9, 9279: 4, 9284: 1, 9447: 2, 9566: 2, 9567: 2, 9583: 2, 9622: 1, 9746: 4, 9997: 8, 10594: 1, 11016: 1, 11120: 1, 11272: 2, 11681: 4, 11772: 3, 11773: 2, 11944: 17, 12036: 8, 12052: 58, 12543: 1, 12817: 32, 13211: 1, 13622: 4, 13623: 4, 13981: 16, 14668: 3, 15019: 15, 15541: 8, 15727: 6, 16770: 29, 17325: 1, 17619: 3, 18167: 17, 18544: 10, 18553: 1, 19069: 4, 19947: 2, 19971: 5, 20792: 9, 22303: 1, 23451: 4, 23462: 3, 23891: 2, 23893: 2, 24379: 2, 24381: 4, 25240: 2, 25563: 2, 25714: 4, 26014: 9, 26294: 1, 27077: 2, 27350: 3, 27351: 3, 27440: 1, 28269: 8, 28277: 4, 28533: 2, 28577: 3, 28636: 1, 28850: 3, 28851: 2, 29624: 2, 29736: 37, 29813: 14, 30586: 5, 30902: 2, 31340: 2, 31811: 10, 32578: 10, 32694: 11, 32695: 9, 32700: 1, 34083: 17, 34094: 4, 34776: 12, 17517: 8, 24112: 2, 34370: 2, 33639: 5, 7446: 2, 8126: 3, 9184: 2, 10836: 16, 11544: 10, 13030: 5, 14049: 4, 19170: 4, 20661: 2, 21652: 3, 21856: 2, 22283: 3, 22810: 2, 22859: 2, 26771: 1, 30117: 45, 3851: 5, 3890: 5, 6926: 16, 13302: 5, 14228: 34, 28620: 5, 31046: 6, 33089: 9, 4235: 8, 17253: 1, 20253: 78, 2417: 7, 2432: 2, 5181: 4, 10637: 7, 13319: 1, 34474: 1, 25477: 4, 25646: 46, 34783: 3, 9915: 1, 13303: 1, 20459: 3, 22362: 2, 22841: 1, 24970: 2, 4675: 11, 8929: 16, 17330: 15, 20297: 12, 31819: 7, 33820: 8, 4690: 20, 8645: 9, 24315: 2, 24861: 3, 25283: 7, 30534: 2, 5266: 4, 5509: 3, 5653: 3, 5861: 1, 13119: 1, 14028: 3, 17400: 7, 21321: 5, 21943: 2, 25911: 14, 29050: 1, 30241: 13, 33973: 6, 34626: 10, 27958: 1, 30277: 14, 32260: 2, 9000: 5, 10933: 11, 14569: 2, 15673: 2, 20047: 2, 20613: 3, 26448: 4, 27543: 24, 28058: 8, 28059: 2, 28736: 19, 31726: 7, 20641: 1, 21947: 3, 23902: 3, 23963: 1, 26169: 47, 30886: 1, 4329: 2, 6672: 8, 8188: 9, 8611: 12, 14018: 28, 19266: 2, 19573: 1, 4636: 1, 5038: 1, 6348: 1, 6384: 10, 10750: 2, 11201: 1, 15305: 9, 15524: 3, 27756: 1, 28752: 1, 30508: 2, 32208: 2, 34074: 2, 4764: 7, 4880: 2, 5618: 7, 5715: 38, 9378: 12, 9517: 3, 9819: 5, 10046: 2, 10146: 19, 11850: 1, 12160: 15, 13514: 26, 13776: 1, 13957: 1, 14003: 2, 14610: 2, 15568: 7, 16148: 2, 17290: 3, 17603: 9, 19283: 6, 20861: 10, 20905: 1, 21508: 11, 22495: 1, 22496: 1, 22673: 11, 23623: 1, 24065: 3, 24634: 4, 25305: 2, 25596: 5, 26271: 1, 26570: 33, 26760: 5, 27089: 4, 27319: 4, 27566: 3, 30194: 3, 30874: 10, 34312: 15, 34987: 29, 6942: 2, 11546: 3, 11551: 3, 11885: 3, 11886: 2, 11888: 3, 12225: 13, 12483: 3, 13311: 8, 25621: 5, 27569: 4, 28791: 4, 29013: 2, 8972: 1, 10597: 5, 11778: 7, 26228: 1, 26945: 18, 27472: 2, 29312: 1, 31165: 8, 31326: 3, 32200: 5, 34501: 1, 6355: 4, 8250: 3, 14849: 8, 16183: 1, 22546: 2, 26480: 1, 30714: 1, 31528: 4, 7382: 2, 10500: 16, 11753: 8, 14277: 48, 14477: 3, 19277: 10, 21077: 14, 23788: 16, 26179: 16, 26831: 7, 27056: 26, 29667: 5, 33046: 4, 7058: 8, 8267: 3, 10627: 1, 13401: 1, 13885: 1, 33848: 11, 9655: 1, 10638: 6, 24370: 4, 27184: 10, 11957: 2, 21487: 3, 2303: 6, 4521: 15, 5314: 13, 5968: 2, 6159: 1, 7743: 7, 9268: 12, 9270: 8, 9674: 5, 9917: 6, 10760: 26, 10816: 2, 10874: 9, 11193: 7, 11325: 10, 12017: 1, 12357: 1, 12368: 1, 12967: 1, 13286: 13, 14369: 1, 17811: 5, 18240: 6, 18242: 1, 18480: 3, 18550: 2, 18909: 3, 18923: 1, 19298: 3, 19737: 32, 19993: 1, 20163: 3, 20270: 1, 20351: 6, 23307: 1, 24079: 12, 24852: 4, 27281: 2, 27697: 1, 29659: 10, 30045: 2, 31193: 2, 32181: 2, 32362: 21, 33072: 2, 33404: 2, 29148: 2, 5056: 20, 7391: 9, 7928: 5, 8398: 1, 9663: 18, 11541: 8, 11623: 15, 12024: 2, 14801: 1, 14951: 22, 15658: 1, 16561: 8, 20136: 30, 23485: 11, 26176: 3, 28344: 13, 28454: 7, 29724: 17, 31371: 7, 34215: 14, 35293: 4, 20290: 2, 4175: 1, 4254: 2, 6598: 1, 7008: 23, 9864: 7, 10720: 2, 11704: 4, 23288: 3, 23948: 2, 32075: 16, 32304: 7, 35352: 5, 7051: 5, 8214: 2, 8525: 2, 14626: 1, 14826: 6, 15637: 15, 22972: 16, 24840: 2, 25808: 2, 25809: 1, 29893: 3, 5261: 2, 9110: 11, 12590: 2, 19699: 3, 21018: 4, 23648: 2, 25760: 10, 25894: 2, 27846: 12, 29785: 12, 30894: 10, 32648: 1, 34876: 13, 35308: 1, 5033: 4, 5652: 21, 5970: 3, 7694: 2, 9240: 2, 11867: 5, 12354: 15, 16996: 4, 20913: 3, 21069: 5, 21584: 1, 24413: 11, 29722: 15, 32751: 2, 32752: 2, 6047: 1, 6314: 8, 16043: 11, 21841: 1, 25544: 7, 35139: 11, 35140: 6, 8070: 1, 9903: 2, 12587: 4, 14768: 11, 15414: 8, 15712: 5, 17647: 1, 30015: 1, 32402: 3, 34439: 1, 34803: 5, 4785: 1, 11447: 1, 29797: 1, 30785: 1, 4912: 2, 7661: 5, 17282: 7, 19172: 4, 19918: 15, 20674: 5, 21061: 2, 23134: 5, 25737: 17, 25742: 1, 26404: 16, 31966: 4, 35023: 3, 22465: 1, 34264: 2, 6221: 17, 8258: 3, 8715: 8, 13825: 6, 13975: 3, 14960: 5, 16152: 21, 16493: 4, 17006: 4, 17583: 2, 20452: 2, 22157: 3, 22158: 2, 22689: 3, 22855: 1, 22858: 3, 23826: 1, 23966: 11, 25617: 23, 25769: 5, 27366: 3, 28871: 5, 29251: 1, 31971: 1, 32192: 1, 33866: 12, 5205: 11, 5615: 7, 5870: 23, 6835: 5, 7082: 5, 11039: 2, 11122: 3, 11153: 7, 11826: 7, 12365: 5, 15231: 6, 15684: 2, 17581: 2, 18891: 5, 21027: 1, 21348: 5, 21561: 9, 21938: 3, 23461: 1, 23769: 1, 25121: 8, 26246: 2, 26349: 9, 26713: 2, 28364: 15, 31255: 1, 32845: 1, 35604: 30, 4701: 6, 7305: 7, 16244: 2, 29042: 2, 31846: 6, 4217: 3, 15323: 19, 16200: 1, 21182: 2, 22780: 5, 24015: 1, 5336: 3, 16168: 9, 26175: 7, 30462: 17, 32702: 2, 33230: 6, 3517: 2, 21726: 20, 23305: 9, 23306: 8, 33206: 23, 34174: 10, 12081: 6, 16093: 5, 7216: 1, 11454: 4, 13271: 1, 22385: 2, 24603: 4, 35217: 7, 6037: 2, 10233: 11, 11505: 28, 11691: 3, 13858: 5, 16995: 2, 17314: 7, 17826: 6, 17911: 1, 17912: 3, 20264: 3, 20287: 3, 23578: 7, 23680: 8, 27026: 5, 33077: 3, 33356: 17, 562: 1, 987: 1, 1096: 5, 1097: 5, 5248: 3, 5252: 1, 5271: 13, 5868: 2, 7375: 1, 7881: 1, 7931: 2, 8020: 1, 9508: 1, 9563: 1, 9565: 1, 9748: 5, 9814: 1, 10203: 1, 10801: 2, 11048: 1, 11268: 3, 12548: 2, 13137: 1, 13374: 1, 13652: 8, 13739: 1, 17329: 1, 17860: 1, 18135: 1, 18291: 2, 18373: 3, 18374: 1, 19044: 3, 19055: 6, 19861: 1, 20914: 1, 21646: 2, 21945: 3, 23621: 1, 23622: 1, 24751: 1, 25539: 1, 25540: 1, 25925: 4, 28737: 1, 28786: 1, 29101: 12, 29987: 1, 33580: 4, 33893: 1, 34780: 1, 5005: 4, 7035: 7, 7239: 4, 7837: 2, 8692: 2, 18415: 2, 29106: 8, 32264: 10, 34371: 3, 6778: 2, 7102: 12, 7103: 11, 10362: 2, 15926: 1, 20158: 15, 20182: 1, 20441: 13, 25325: 3, 26758: 17, 28529: 2, 28580: 6, 30489: 1, 31369: 3, 32617: 5, 33579: 7, 34546: 3, 7184: 1, 11425: 3, 12754: 2, 19390: 2, 22697: 4, 31882: 35, 13117: 5, 33741: 8, 35579: 6, 5775: 3, 7455: 2, 22328: 9, 8009: 1, 18904: 3, 6107: 3, 10710: 2, 11099: 5, 11245: 1, 23044: 4, 24762: 1, 28671: 1, 33086: 2, 13287: 2, 15868: 2, 3670: 1, 3990: 2, 6177: 2, 6269: 1, 9443: 1, 12529: 1, 12636: 2, 24081: 3, 24520: 9, 25082: 1, 25087: 1, 27830: 6, 27832: 1, 28236: 1, 30373: 7, 32103: 9, 34386: 11, 34387: 1, 34403: 4, 34748: 1, 6136: 13, 6288: 3, 8456: 2, 11179: 2, 18502: 1, 22609: 1, 23798: 3, 24189: 1, 966: 23, 13293: 1, 19506: 1, 19557: 1, 21955: 8, 23609: 1, 24829: 1, 25255: 1, 25995: 9, 29842: 1, 31510: 2, 4730: 3, 5327: 2, 9738: 2, 10431: 3, 14065: 2, 16404: 3, 17716: 8, 20529: 1, 21080: 4, 22031: 3, 27950: 20, 27951: 5, 9085: 1, 15254: 8, 24411: 2, 29313: 37, 29317: 5, 19647: 16, 25543: 4, 35660: 3, 4378: 2, 10699: 33, 11518: 13, 12608: 1, 17561: 1, 17630: 1, 17631: 2, 20977: 2, 25972: 19, 32138: 1, 32774: 2, 32775: 9, 32777: 6, 34898: 5, 35020: 2, 9725: 4, 15510: 1, 17269: 1, 25363: 4, 25534: 1, 28513: 1, 30124: 1, 1546: 15, 3996: 5, 13936: 5, 18737: 2, 18741: 2, 19359: 1, 21703: 6, 31429: 3, 34560: 1, 7482: 2, 26264: 8, 28190: 13, 31263: 6, 20241: 1, 23706: 1, 26269: 1, 32195: 4, 10337: 18, 10338: 2, 10701: 3, 21823: 1, 33967: 2, 5969: 2, 13523: 1, 32038: 15, 896: 23, 1731: 13, 5719: 11, 6148: 6, 6149: 1, 6153: 1, 6156: 1, 8158: 2, 9114: 1, 9597: 8, 9705: 15, 12281: 2, 13740: 6, 14549: 1, 14558: 7, 14690: 1, 15842: 24, 20201: 15, 21136: 4, 21965: 2, 21966: 1, 24535: 10, 27367: 9, 30438: 21, 31452: 7, 32916: 3, 32919: 6, 33044: 2, 1424: 1, 1471: 2, 2248: 2, 4619: 2, 7276: 1, 8537: 18, 8795: 8, 9291: 1, 15113: 15, 18894: 3, 20030: 5, 22056: 3, 22356: 10, 25515: 1, 28198: 3, 28624: 1, 28666: 3, 29190: 3, 35274: 4, 5948: 20, 15599: 12, 25553: 11, 27937: 3, 31947: 5, 33082: 3, 35073: 7, 14822: 11, 34035: 5, 4916: 7, 5933: 2, 10215: 7, 17132: 6, 19467: 24, 21396: 1, 26276: 1, 26618: 2, 27541: 2, 31011: 3, 32184: 3, 34153: 1, 8469: 4, 12253: 8, 16711: 5, 17058: 5, 20066: 4, 22991: 5, 22992: 4, 12707: 3, 18692: 6, 22235: 1, 23939: 6, 6904: 5, 32132: 7, 72: 5, 7071: 1, 8351: 2, 12629: 11, 16349: 9, 20988: 3, 32583: 5, 33213: 5, 35429: 1, 7324: 14, 8343: 2, 10770: 14, 13818: 3, 17153: 14, 28497: 14, 4003: 1, 11566: 1, 18504: 8, 25296: 2, 28028: 1, 32189: 27, 4187: 3, 4867: 1, 5285: 8, 6223: 9, 7716: 1, 8809: 1, 8810: 2, 9034: 1, 10100: 3, 11316: 3, 11687: 3, 13498: 10, 13787: 3, 13792: 5, 13793: 3, 14970: 3, 15228: 2, 15682: 11, 16699: 1, 16833: 22, 17540: 3, 17979: 10, 20906: 9, 22321: 13, 22437: 6, 22450: 1, 25712: 1, 27387: 3, 27586: 7, 29300: 10, 29302: 4, 29382: 5, 30490: 11, 33872: 8, 34664: 8, 35346: 12, 5119: 4, 7967: 11, 19424: 1, 25861: 8, 25862: 5, 31716: 17, 11806: 3, 15897: 4, 17453: 6, 23989: 4, 27217: 8, 28132: 8, 28947: 22, 30855: 4, 8573: 6, 13046: 23, 17025: 1, 19775: 3, 21046: 1, 26935: 1, 32677: 5, 34739: 1, 10353: 1, 29151: 1, 34012: 1, 9571: 12, 9742: 8, 17624: 1, 18453: 2, 18455: 1, 23997: 27, 26288: 2, 27486: 1, 28488: 7, 5570: 7, 16135: 2, 16196: 11, 21035: 7, 26329: 5, 27015: 5, 30579: 6, 31038: 18, 1353: 2, 1376: 2, 1533: 3, 2065: 2, 2392: 3, 2531: 2, 4275: 9, 5862: 16, 5873: 9, 6547: 7, 7877: 3, 20006: 7, 20286: 2, 21149: 8, 21855: 8, 25912: 2, 25913: 2, 29824: 2, 31822: 3, 34294: 2, 34406: 8, 34671: 2, 4765: 3, 16406: 3, 16900: 6, 1371: 3, 2258: 12, 4724: 7, 4911: 19, 8836: 3, 16798: 1, 18481: 17, 22118: 10, 22337: 8, 26363: 1, 26849: 7, 27454: 2, 28140: 17, 31810: 1, 33281: 17, 34365: 1, 4693: 6, 5002: 4, 8228: 3, 8644: 1, 11419: 4, 12264: 14, 20282: 1, 20983: 2, 21882: 6, 22236: 3, 23933: 5, 26115: 14, 6943: 12, 6945: 1, 18701: 1, 23617: 3, 30056: 2, 32546: 1, 34503: 1, 4426: 1, 8244: 1, 8640: 1, 14832: 16, 19451: 1, 23663: 1, 24304: 4, 29432: 8, 5216: 2, 13980: 5, 5732: 5, 10318: 3, 15944: 1, 19491: 1, 21871: 1, 24818: 10, 31552: 1, 33532: 2, 33846: 2, 34434: 1, 8271: 1, 20993: 9, 21278: 1, 34356: 1, 11812: 3, 13437: 4, 15763: 1, 7980: 2, 14950: 13, 26922: 3, 28217: 19, 11210: 2, 19779: 5, 19781: 2, 24722: 1, 32440: 1, 9694: 8, 12746: 1, 13133: 11, 13620: 3, 18121: 7, 22685: 1, 23677: 20, 24873: 16, 26114: 6, 26141: 17, 4005: 1, 5917: 5, 11642: 4, 15161: 7, 15261: 1, 18028: 1, 19362: 8, 19856: 7, 20224: 2, 25048: 1, 26034: 3, 26142: 3, 26884: 1, 26958: 1, 26961: 2, 27997: 3, 28346: 7, 28832: 5, 31456: 1, 32984: 8, 33450: 17, 34627: 1, 35182: 4, 1127: 1, 6195: 5, 6765: 1, 10241: 11, 10822: 2, 12237: 1, 15967: 3, 29064: 6, 29495: 2, 2731: 1, 2825: 8, 5444: 1, 11087: 1, 12298: 1, 23338: 3, 28664: 1, 8881: 1, 11676: 3, 17287: 3, 20328: 4, 20612: 15, 33050: 3, 33078: 10, 35398: 17, 2423: 2, 3426: 2, 7466: 3, 4805: 21, 11080: 1, 11276: 2, 11291: 5, 12223: 1, 13256: 5, 13383: 2, 13702: 9, 14166: 3, 15094: 3, 16195: 1, 16325: 8, 19930: 2, 20424: 3, 20547: 6, 20702: 5, 21052: 1, 23924: 2, 24454: 1, 25159: 4, 26315: 2, 26999: 1, 29333: 6, 29463: 1, 31061: 3, 5162: 2, 5163: 2, 8902: 2, 9348: 2, 12233: 1, 12580: 4, 16380: 1, 19220: 5, 22742: 3, 28051: 3, 33131: 7, 33362: 4, 4743: 3, 8184: 7, 9913: 7, 12185: 3, 19225: 5, 24216: 3, 24621: 8, 28512: 2, 31694: 2, 1709: 1, 1922: 2, 5643: 1, 20987: 1, 26039: 1, 29537: 2, 16610: 1, 19535: 1, 23772: 3, 16336: 26, 24901: 2, 24902: 5, 28966: 1, 5767: 5, 6993: 7, 7905: 7, 34031: 10, 4600: 3, 5435: 2, 7897: 2, 12169: 13, 12675: 2, 20566: 2, 27740: 2, 31275: 1, 31701: 2, 7139: 5, 9295: 2, 9428: 8, 14056: 1, 14330: 1, 15114: 1, 21554: 18, 31860: 1, 5988: 1, 17171: 1, 17887: 3, 27128: 3, 31839: 1, 32507: 5, 7564: 1, 16899: 10, 19207: 1, 21181: 16, 21951: 2, 21996: 2, 32242: 1, 6052: 5, 19429: 8, 21975: 6, 4466: 3, 7758: 4, 8313: 7, 13450: 1, 29195: 1, 4210: 4, 6610: 1, 8874: 2, 9801: 18, 15195: 5, 17195: 2, 18629: 2, 18685: 1, 23432: 16, 23456: 2, 24329: 5, 25136: 3, 31761: 1, 31960: 1, 32900: 2, 34631: 16, 1101: 10, 4552: 1, 4553: 1, 4554: 1, 7778: 1, 9046: 17, 11387: 2, 14563: 4, 14724: 1, 14737: 2, 14738: 1, 15392: 1, 16285: 1, 17310: 1, 20845: 2, 20951: 6, 22065: 4, 22069: 1, 22070: 1, 22595: 1, 23835: 2, 24692: 25, 24881: 3, 25044: 8, 26220: 4, 26281: 1, 26284: 7, 26885: 1, 27487: 1, 28005: 1, 28121: 2, 29100: 1, 30078: 3, 33577: 1, 33585: 1, 34511: 4, 34515: 4, 34516: 3, 5269: 4, 5788: 5, 8834: 2, 9420: 1, 9993: 2, 10265: 1, 11021: 7, 18447: 8, 25205: 4, 25574: 13, 26953: 13, 28433: 2, 30232: 6, 30608: 6, 32158: 9, 35085: 4, 8745: 5, 9371: 13, 19349: 8, 9375: 2, 15807: 1, 17733: 3, 26049: 5, 31890: 5, 32186: 7, 5784: 9, 23441: 10, 34149: 9, 4287: 1, 7494: 10, 10061: 5, 19626: 5, 4609: 1, 12099: 2, 16332: 5, 16760: 2, 20876: 2, 21650: 2, 23906: 3, 27378: 2, 35609: 5, 35663: 6, 1342: 10, 5655: 9, 8956: 1, 10721: 1, 11947: 4, 14352: 1, 20060: 7, 20440: 1, 4178: 1, 11235: 12, 31741: 10, 4281: 1, 5259: 7, 11536: 2, 11699: 2, 12193: 3, 13469: 1, 14453: 3, 14851: 3, 14904: 4, 14935: 5, 15666: 4, 17824: 6, 18260: 2, 18988: 3, 23532: 3, 26983: 8, 27245: 3, 27784: 2, 30410: 3, 33177: 3, 34135: 4, 13365: 7, 3983: 23, 7232: 1, 10221: 3, 10936: 5, 14906: 1, 17499: 1, 19460: 2, 20607: 1, 22622: 6, 23897: 7, 27464: 3, 30385: 3, 31524: 2, 32683: 1, 35179: 1, 7727: 8, 11403: 2, 16363: 6, 17862: 3, 17864: 2, 19382: 25, 25522: 3, 13248: 2, 15194: 2, 18238: 3, 20475: 7, 21172: 2, 25284: 1, 29747: 2, 30161: 7, 34124: 3, 5591: 15, 13745: 8, 5930: 10, 6570: 8, 9372: 6, 13553: 1, 15557: 1, 16619: 1, 17477: 2, 22506: 8, 24509: 1, 24900: 13, 28046: 7, 29781: 5, 11297: 6, 15380: 1, 16230: 1, 16316: 1, 19922: 1, 21713: 2, 27669: 6, 32484: 4, 3985: 12, 4844: 10, 5876: 7, 6170: 2, 7861: 10, 7920: 8, 8716: 8, 10058: 6, 13473: 7, 13474: 5, 16318: 5, 18218: 2, 32956: 7, 32994: 11, 33589: 26, 6754: 7, 6909: 7, 23117: 1, 24676: 6, 32561: 1, 4547: 1, 8292: 2, 9614: 4, 10999: 2, 11498: 11, 11779: 3, 12009: 7, 12092: 1, 13049: 2, 13533: 10, 14429: 1, 14722: 1, 17472: 2, 17579: 1, 17885: 7, 20842: 3, 21668: 4, 22666: 1, 22928: 2, 24796: 2, 26323: 2, 29725: 3, 31992: 4, 34376: 3, 4027: 4, 5789: 3, 6095: 1, 7895: 4, 7896: 2, 9774: 3, 11261: 9, 12660: 2, 12720: 1, 13375: 6, 14077: 2, 14473: 4, 15175: 1, 18165: 11, 19378: 7, 21011: 2, 21372: 19, 21917: 1, 23105: 2, 23106: 1, 25055: 2, 28895: 21, 31875: 1, 31975: 6, 32819: 1, 32820: 1, 33391: 1, 33861: 13, 4741: 6, 9303: 4, 19056: 2, 14636: 2, 26801: 6, 1921: 15, 10495: 2, 11428: 7, 13227: 1, 15294: 1, 23077: 3, 28479: 6, 32431: 1, 33915: 7, 33929: 1, 35451: 3, 10815: 2, 16175: 1, 16858: 3, 28048: 15, 4725: 3, 7073: 1, 17981: 1, 21473: 9, 21985: 1, 24243: 1, 25243: 5, 29670: 4, 29791: 1, 30259: 2, 34804: 1, 8342: 9, 11326: 2, 13041: 1, 18119: 1, 21592: 2, 26621: 1, 27488: 2, 27685: 2, 8277: 2, 8298: 1, 11374: 7, 13801: 3, 18195: 3, 22062: 2, 23358: 1, 25446: 2, 25586: 7, 25606: 1, 31546: 4, 33738: 16, 30464: 2, 842: 24, 6014: 4, 6315: 4, 7363: 1, 8913: 1, 18690: 1, 18820: 1, 22502: 1, 24879: 2, 4222: 2, 4670: 3, 4773: 1, 4899: 1, 11664: 2, 15492: 11, 19637: 2, 19639: 1, 20740: 8, 21778: 4, 22360: 4, 22903: 1, 23867: 2, 26343: 1, 31411: 7, 31593: 1, 33293: 4, 8010: 1, 8405: 2, 21950: 1, 26545: 1, 28151: 2, 5832: 2, 6293: 4, 8100: 2, 12268: 1, 14926: 23, 19607: 1, 24626: 1, 6786: 7, 7678: 3, 21192: 1, 32338: 3, 32395: 4, 4109: 2, 11430: 3, 23325: 3, 26632: 10, 26865: 2, 14838: 2, 6915: 11, 7784: 1, 19334: 7, 30865: 6, 13488: 10, 16022: 1, 30621: 9, 1528: 2, 2413: 4, 2616: 13, 4794: 1, 7156: 2, 9352: 3, 14304: 6, 15573: 1, 15782: 1, 16820: 1, 16880: 4, 17412: 1, 18772: 1, 21057: 1, 24608: 1, 26547: 1, 29231: 6, 30135: 2, 5792: 2, 14264: 1, 16829: 1, 25018: 5, 35194: 1, 11194: 5, 13023: 2, 20899: 2, 24909: 7, 26079: 10, 8303: 3, 12320: 3, 12322: 2, 20345: 2, 20349: 9, 20464: 7, 21112: 11, 21124: 5, 24455: 5, 24497: 5, 24542: 6, 24562: 1, 25852: 1, 26124: 1, 28259: 6, 32414: 6, 3998: 3, 7085: 1, 8851: 5, 15236: 3, 19709: 5, 25106: 1, 29055: 11, 35719: 1, 17541: 2, 29138: 4, 6031: 6, 18409: 3, 20380: 2, 28290: 7, 31841: 4, 35093: 11, 35479: 3, 4040: 10, 4817: 1, 5537: 1, 20880: 4, 27521: 3, 32310: 1, 33635: 1, 16825: 1, 20739: 1, 27002: 2, 4498: 1, 7844: 1, 8403: 3, 12301: 1, 15872: 6, 5878: 3, 12440: 6, 15182: 1, 12882: 3, 14504: 1, 17055: 4, 31829: 4, 13235: 6, 13403: 31, 15396: 6, 21518: 3, 24043: 9, 30737: 2, 31306: 3, 16800: 12, 34309: 8, 74: 1, 158: 2, 1619: 1, 1621: 1, 9347: 7, 10236: 2, 13905: 3, 589: 1, 3662: 2, 3948: 2, 4194: 16, 4401: 2, 4412: 1, 5429: 4, 5689: 3, 6214: 1, 6361: 3, 6517: 4, 7836: 1, 9788: 2, 10416: 1, 11618: 8, 12502: 3, 12634: 2, 13917: 8, 15938: 3, 16018: 2, 16048: 8, 23375: 2, 23831: 1, 23929: 1, 26195: 1, 26752: 1, 26763: 12, 26764: 6, 27679: 2, 29176: 2, 29898: 2, 29901: 2, 29902: 2, 34785: 2, 35740: 1, 6247: 3, 13840: 1, 14924: 4, 22553: 1, 28984: 1, 29563: 1, 4011: 3, 5258: 2, 6444: 4, 7770: 19, 14288: 1, 18370: 2, 23231: 7, 24033: 6, 24785: 3, 27229: 4, 29057: 8, 30440: 13, 30747: 9, 18747: 1, 18934: 5, 22549: 1, 31005: 1, 5041: 8, 13826: 5, 3805: 3, 4088: 2, 8727: 10, 10242: 1, 15653: 1, 16191: 2, 20737: 2, 26455: 17, 28345: 3, 3702: 1, 5869: 6, 8986: 1, 11399: 3, 12414: 2, 16456: 3, 21459: 10, 27735: 5, 28130: 4, 32166: 1, 11431: 4, 21819: 1, 22733: 2, 33097: 4, 34116: 2, 35732: 1, 8879: 4, 17379: 12, 18048: 1, 34655: 2, 2469: 3, 14024: 3, 18783: 3, 23240: 2, 23668: 2, 29560: 13, 34733: 5, 5679: 2, 7746: 13, 7762: 1, 7981: 1, 8013: 1, 8141: 4, 13309: 17, 13544: 2, 16816: 2, 17783: 3, 21213: 1, 26010: 7, 27334: 1, 28446: 18, 29103: 3, 35220: 4, 15253: 4, 2175: 12, 5017: 3, 6620: 13, 16451: 3, 17125: 2, 21329: 2, 27195: 1, 10149: 2, 11027: 5, 32882: 5, 13803: 1, 17044: 1, 17506: 3, 26996: 4, 28039: 3, 30922: 1, 32778: 1, 33037: 3, 9941: 1, 15245: 12, 17376: 19, 5412: 9, 6285: 7, 7753: 2, 22225: 2, 31280: 2, 9803: 7, 12554: 1, 12637: 7, 4057: 1, 4829: 4, 8686: 6, 21312: 5, 21314: 4, 28467: 1, 29044: 9, 31715: 5, 34287: 6, 20231: 5, 30725: 4, 2150: 2, 11127: 2, 16169: 2, 31026: 2, 31051: 2, 7819: 1, 11809: 9, 16987: 1, 18892: 1, 20734: 7, 22343: 8, 22510: 1, 23676: 6, 26730: 10, 27611: 1, 29806: 14, 31024: 2, 6089: 2, 18662: 6, 18956: 3, 19882: 1, 20474: 16, 32521: 2, 34096: 1, 35641: 17, 4704: 1, 5289: 12, 8690: 1, 8691: 6, 27779: 2, 3075: 2, 3133: 2, 5303: 3, 5464: 2, 8276: 2, 18862: 8, 24524: 1, 27053: 4, 31264: 3, 32096: 7, 33004: 2, 33019: 2, 33025: 2, 1801: 5, 4159: 1, 8352: 4, 10004: 3, 10151: 11, 10716: 10, 11167: 4, 11426: 2, 11728: 4, 18092: 3, 24918: 2, 31278: 2, 9066: 8, 31823: 3, 13784: 2, 23688: 2, 28834: 1, 29881: 3, 30577: 1, 2625: 5, 8641: 2, 10142: 1, 21643: 2, 21793: 2, 21794: 2, 25270: 8, 5115: 3, 22576: 1, 31742: 3, 33572: 8, 3475: 17, 8603: 1, 10114: 7, 34562: 2, 16616: 1, 23217: 4, 12218: 3, 15498: 1, 15881: 2, 28029: 3, 34090: 3, 35380: 1, 11610: 9, 12241: 3, 17777: 3, 30352: 1, 32279: 12, 35205: 1, 498: 1, 6935: 1, 12263: 14, 14479: 1, 17851: 3, 21173: 1, 22418: 4, 23775: 1, 24974: 2, 5584: 3, 5740: 2, 7787: 2, 9356: 1, 9396: 2, 11709: 4, 12874: 3, 17234: 1, 17562: 3, 18671: 2, 19860: 1, 22617: 2, 24955: 6, 25177: 6, 25797: 2, 26656: 3, 29125: 3, 30284: 3, 32156: 8, 32573: 10, 34338: 1, 20928: 14, 35107: 14, 6171: 1, 15621: 1, 21627: 1, 32779: 3, 35403: 4, 1207: 1, 10285: 10, 15090: 7, 33753: 2, 6292: 1, 26991: 1, 30625: 7, 32485: 10, 9937: 5, 13186: 3, 14036: 2, 17174: 2, 26312: 2, 26951: 5, 27135: 8, 27868: 3, 22910: 1, 30403: 2, 30929: 4, 31485: 4, 31785: 2, 2448: 5, 5797: 1, 18401: 2, 22255: 2, 34016: 1, 34556: 2, 34557: 1, 5355: 2, 21393: 4, 28021: 3, 13275: 1, 19163: 1, 19164: 1, 19192: 1, 33310: 1, 8265: 3, 32306: 7, 35229: 7, 9625: 4, 14061: 7, 14739: 3, 16119: 3, 8164: 6, 15528: 4, 5575: 4, 7284: 4, 26715: 3, 27057: 1, 28995: 10, 31342: 10, 34208: 1, 10499: 1, 23122: 7, 321: 1, 325: 3, 443: 1, 496: 3, 503: 4, 510: 3, 564: 1, 637: 2, 679: 1, 689: 1, 845: 1, 863: 1, 990: 4, 1093: 2, 1450: 3, 1473: 2, 1516: 1, 1656: 2, 1770: 3, 1806: 1, 1837: 1, 1878: 5, 1879: 1, 1891: 2, 1927: 1, 1997: 1, 2062: 2, 2086: 1, 2197: 1, 2198: 1, 2212: 4, 2214: 1, 2252: 1, 2360: 1, 2409: 3, 2564: 1, 2585: 4, 2621: 1, 2667: 7, 2694: 6, 2706: 1, 2801: 1, 2815: 3, 2954: 2, 2974: 1, 3012: 1, 3067: 3, 3071: 1, 3078: 1, 3083: 1, 3095: 3, 3191: 1, 3205: 3, 3222: 1, 3230: 1, 3249: 8, 3251: 3, 3272: 2, 3425: 1, 3437: 2, 4176: 1, 4262: 1, 4360: 1, 4379: 9, 4443: 1, 4496: 7, 4534: 2, 4556: 1, 4573: 2, 4584: 2, 4766: 7, 4795: 4, 4866: 2, 4888: 3, 4893: 12, 4957: 15, 5107: 8, 5223: 1, 5253: 2, 5376: 3, 5388: 3, 5399: 11, 5480: 5, 5500: 3, 5520: 13, 5555: 1, 5558: 5, 5642: 7, 5747: 3, 5905: 2, 5912: 3, 5915: 3, 5923: 1, 5927: 1, 5936: 2, 6125: 1, 6209: 6, 6459: 1, 6667: 2, 6668: 3, 6722: 1, 6841: 1, 6923: 8, 7076: 2, 7210: 1, 7378: 4, 7425: 1, 7451: 2, 7517: 7, 7658: 7, 7821: 3, 7930: 1, 7946: 1, 7991: 2, 8127: 1, 8192: 1, 8229: 1, 8275: 1, 8293: 2, 8306: 4, 8617: 1, 8749: 3, 8877: 2, 8889: 1, 8923: 1, 9070: 2, 9133: 12, 9135: 8, 9198: 4, 9233: 6, 9253: 1, 9275: 9, 9286: 2, 9304: 3, 9332: 3, 9466: 2, 9600: 2, 9731: 1, 9749: 3, 9755: 3, 9798: 9, 9925: 3, 10133: 3, 10206: 1, 10297: 1, 10332: 1, 10333: 5, 10369: 3, 10520: 1, 10700: 10, 10704: 2, 10705: 1, 10714: 2, 10960: 4, 10981: 3, 11079: 1, 11088: 6, 11114: 1, 11242: 5, 11257: 8, 11311: 10, 11359: 1, 11373: 4, 11413: 4, 11549: 1, 11697: 3, 11755: 2, 11901: 8, 11904: 8, 12039: 3, 12070: 4, 12125: 2, 12448: 3, 12451: 2, 12520: 5, 12609: 6, 12630: 6, 12641: 1, 12761: 4, 12767: 1, 13051: 14, 13052: 3, 13061: 4, 13158: 12, 13163: 3, 13229: 2, 13361: 4, 13481: 3, 13714: 3, 13758: 2, 13765: 6, 13794: 2, 13943: 7, 14112: 4, 14114: 10, 14297: 2, 14443: 1, 14464: 1, 14501: 1, 14651: 3, 14678: 10, 14710: 3, 14745: 1, 15023: 1, 15227: 2, 15274: 3, 15275: 3, 15282: 7, 15400: 2, 15542: 2, 15694: 4, 15696: 3, 15706: 2, 15717: 1, 15718: 1, 15769: 2, 15787: 3, 15811: 1, 15909: 3, 15961: 1, 15962: 1, 16035: 2, 16085: 2, 16102: 3, 16303: 11, 16597: 5, 16881: 13, 16903: 3, 16986: 3, 17190: 2, 17202: 1, 17252: 1, 17262: 1, 17265: 1, 17296: 1, 17361: 2, 17364: 1, 17365: 3, 17604: 7, 17638: 1, 17682: 2, 18045: 2, 18072: 3, 18112: 2, 18144: 8, 18170: 10, 18181: 1, 18214: 1, 18256: 3, 18298: 7, 18431: 3, 18437: 2, 18556: 2, 18579: 3, 19304: 1, 19319: 4, 19542: 1, 19584: 1, 19646: 1, 19664: 2, 19717: 7, 19727: 1, 19728: 1, 19768: 2, 19797: 15, 19809: 1, 19873: 2, 19984: 1, 20135: 5, 20148: 6, 20151: 3, 20221: 8, 20319: 4, 20420: 1, 20437: 3, 20466: 1, 20585: 4, 20668: 1, 20672: 1, 20714: 1, 20720: 1, 20725: 12, 20728: 6, 20795: 1, 20850: 2, 20907: 6, 20946: 7, 20954: 2, 20957: 1, 20966: 8, 20986: 7, 21204: 3, 21222: 3, 21311: 10, 21350: 4, 21496: 1, 21628: 2, 21704: 1, 21810: 1, 21872: 5, 21948: 2, 22050: 1, 22080: 2, 22087: 4, 22107: 7, 22109: 3, 22177: 1, 22188: 1, 22193: 1, 22272: 2, 22274: 1, 22279: 3, 22313: 4, 22329: 4, 22384: 1, 22428: 8, 22443: 1, 22717: 1, 22748: 2, 23142: 1, 23292: 6, 23318: 1, 23335: 1, 23536: 2, 23636: 1, 23657: 2, 23767: 2, 23804: 4, 23990: 4, 24293: 5, 24414: 1, 24420: 1, 24511: 1, 24522: 2, 24525: 3, 24532: 7, 24550: 3, 24567: 4, 24637: 1, 24647: 4, 24669: 1, 24675: 1, 24790: 20, 25245: 6, 25306: 3, 25307: 8, 25471: 1, 25510: 8, 25551: 1, 25569: 3, 25591: 1, 26002: 8, 26292: 2, 26388: 5, 26583: 1, 26667: 2, 26800: 1, 26896: 7, 26936: 4, 26937: 1, 27005: 1, 27058: 2, 27060: 3, 27220: 1, 27239: 2, 27561: 4, 27583: 3, 27615: 2, 27727: 6, 27800: 7, 27964: 9, 28011: 4, 28153: 1, 28181: 5, 28226: 2, 28235: 4, 28267: 6, 28278: 1, 28376: 3, 28442: 1, 28697: 4, 28784: 6, 28793: 1, 28794: 1, 28818: 3, 28828: 1, 28896: 1, 28899: 7, 28988: 1, 29009: 1, 29181: 2, 29221: 3, 29261: 9, 29263: 2, 29284: 7, 29320: 3, 29363: 7, 29519: 1, 29620: 1, 29701: 11, 29744: 2, 29764: 4, 29793: 1, 30108: 1, 30115: 1, 30278: 1, 30291: 1, 30301: 2, 30323: 2, 30357: 2, 30370: 1, 30371: 1, 30389: 9, 30537: 2, 30651: 1, 30840: 2, 30881: 4, 30940: 1, 31013: 3, 31106: 4, 31217: 11, 31218: 4, 31238: 5, 31253: 2, 31276: 1, 31303: 1, 31315: 1, 31316: 2, 31361: 2, 31403: 4, 31467: 3, 31481: 1, 31637: 4, 31762: 4, 31766: 1, 31772: 6, 31859: 1, 31876: 6, 31881: 4, 32063: 1, 32106: 3, 32110: 2, 32118: 1, 32533: 1, 32575: 3, 32680: 1, 32716: 1, 32753: 2, 32877: 4, 32952: 1, 33191: 4, 33197: 1, 33198: 1, 33309: 5, 33612: 3, 33779: 3, 33787: 1, 33873: 10, 33874: 3, 33900: 6, 33914: 5, 33927: 1, 34082: 2, 34171: 2, 34222: 1, 34225: 5, 34247: 1, 34257: 1, 34261: 13, 34308: 3, 34328: 1, 34377: 3, 34401: 2, 34410: 1, 34483: 1, 34531: 1, 34747: 2, 34751: 1, 34796: 3, 34825: 5, 35024: 3, 35025: 1, 35135: 4, 35154: 1, 35273: 3, 35407: 3, 35435: 2, 35449: 5, 35485: 1, 35490: 2, 6309: 7, 8526: 4, 9118: 5, 14263: 3, 14706: 3, 15831: 4, 19047: 1, 23168: 6, 29805: 5, 30331: 5, 32853: 4, 33864: 1, 34344: 1, 2310: 1, 11923: 1, 28758: 2, 29031: 1, 35195: 1, 4363: 2, 7729: 2, 15383: 2, 4132: 3, 24018: 2, 25890: 2, 901: 1, 8287: 6, 9954: 2, 18042: 5, 4998: 7, 6328: 4, 8441: 6, 11410: 4, 14029: 3, 25089: 8, 26609: 5, 28317: 5, 4184: 3, 12082: 5, 16678: 1, 18656: 2, 23834: 2, 25226: 2, 25322: 2, 26949: 2, 8850: 8, 9103: 3, 10807: 1, 13845: 1, 13852: 16, 19048: 3, 21498: 1, 26573: 2, 27339: 1, 30653: 1, 30901: 3, 1700: 13, 2012: 7, 2038: 8, 2079: 2, 2103: 3, 2133: 2, 2203: 9, 2240: 5, 2285: 3, 2320: 6, 2333: 4, 2350: 8, 2428: 6, 2470: 2, 2493: 3, 2521: 3, 2538: 4, 2547: 2, 2632: 2, 2648: 3, 17264: 5, 18525: 1, 24911: 1, 25207: 1, 25281: 1, 29420: 6, 29853: 1, 29951: 1, 32898: 10, 34630: 1, 34640: 1, 35538: 1, 10687: 4, 17026: 1, 18478: 1, 28313: 1, 8514: 3, 12931: 1, 16831: 1, 26588: 1, 15923: 6, 30269: 1, 31122: 5, 32163: 18, 5423: 10, 13343: 1, 18881: 1, 22618: 6, 21062: 17, 33499: 2, 6199: 3, 10511: 2, 28155: 3, 28829: 4, 29492: 2, 12659: 4, 19899: 6, 23726: 3, 24220: 6, 25476: 3, 25709: 4, 34347: 1, 4253: 6, 12601: 2, 13189: 3, 20505: 1, 21099: 1, 21153: 7, 23141: 2, 27598: 1, 31545: 1, 363: 2, 1099: 2, 1390: 3, 1442: 5, 1465: 1, 1680: 2, 1900: 2, 1930: 2, 2545: 1, 2584: 2, 2594: 2, 2851: 1, 3288: 1, 4202: 1, 4583: 3, 4642: 2, 5026: 3, 5085: 2, 5319: 9, 5673: 2, 7077: 1, 7866: 2, 7921: 6, 8161: 2, 8163: 1, 8319: 5, 8722: 1, 8782: 1, 8828: 2, 9301: 2, 9448: 7, 9568: 3, 9586: 11, 9609: 2, 9898: 3, 10207: 1, 11259: 1, 11342: 1, 11434: 6, 12259: 5, 12339: 1, 12669: 3, 12877: 3, 13039: 2, 13040: 1, 13457: 3, 13771: 2, 14122: 1, 17612: 2, 19715: 1, 20506: 4, 21435: 1, 21629: 1, 21654: 1, 21686: 1, 21688: 1, 21784: 1, 22213: 2, 22245: 2, 22375: 6, 22432: 1, 22723: 1, 23220: 4, 23222: 12, 24085: 1, 24215: 1, 24361: 1, 24501: 1, 24506: 1, 24771: 4, 24981: 5, 25020: 1, 25386: 1, 25503: 2, 25682: 5, 25892: 5, 25988: 5, 26052: 3, 27196: 1, 27677: 2, 28332: 4, 28579: 1, 28892: 2, 28976: 1, 29076: 2, 31433: 3, 31999: 2, 32513: 13, 32743: 4, 33045: 3, 33796: 2, 34202: 1, 34398: 2, 6700: 2, 8958: 2, 9395: 5, 12664: 1, 13534: 3, 13537: 1, 13690: 1, 14071: 3, 14316: 2, 14335: 6, 14680: 2, 18012: 1, 18014: 2, 18300: 1, 18301: 1, 18366: 2, 19237: 5, 22822: 9, 24436: 1, 25057: 8, 26994: 2, 27312: 9, 27380: 2, 29164: 2, 29262: 3, 29286: 3, 30457: 1, 30480: 1, 31224: 2, 32175: 2, 5736: 4, 5944: 1, 11408: 6, 20755: 1, 26985: 1, 35324: 1, 23713: 10, 3903: 1, 4108: 2, 5977: 1, 6317: 1, 9820: 2, 10323: 2, 13585: 1, 14417: 5, 16141: 6, 24729: 2, 28300: 12, 28302: 7, 28327: 11, 28368: 3, 30713: 1, 34924: 10, 8401: 1, 17398: 2, 23872: 4, 24040: 1, 31249: 1, 4143: 10, 4144: 2, 4149: 5, 4719: 1, 5141: 5, 5142: 9, 6144: 3, 6341: 4, 6688: 4, 6874: 4, 6875: 2, 7246: 2, 7721: 5, 7788: 1, 7864: 2, 8742: 3, 10145: 1, 10799: 1, 11427: 1, 11895: 2, 12723: 3, 13678: 2, 13912: 4, 14478: 1, 14993: 2, 14994: 2, 15339: 2, 15475: 3, 15847: 5, 15951: 3, 15975: 1, 17050: 8, 19677: 1, 19920: 10, 20909: 2, 21462: 2, 21463: 2, 22411: 2, 23179: 2, 23404: 4, 23552: 2, 23570: 7, 23912: 3, 24003: 3, 24013: 2, 24581: 2, 25655: 7, 25826: 1, 27248: 1, 27495: 3, 27545: 2, 27926: 1, 29128: 4, 29933: 2, 30858: 6, 30872: 3, 31032: 6, 31595: 1, 32682: 3, 33616: 14, 33619: 1, 34007: 2, 2119: 2, 2798: 1, 2800: 1, 2953: 3, 3060: 3, 3155: 2, 3389: 7, 3424: 2, 4103: 1, 4105: 1, 4297: 1, 4303: 3, 4382: 1, 4650: 2, 4894: 1, 4897: 1, 5390: 2, 5401: 1, 5402: 2, 5413: 8, 5453: 3, 5544: 1, 5702: 2, 5918: 1, 5932: 2, 6456: 6, 6536: 1, 6758: 6, 7026: 1, 7028: 1, 7797: 1, 7822: 1, 7823: 5, 7919: 6, 7951: 1, 8318: 2, 8373: 2, 8622: 1, 8638: 1, 8708: 1, 8858: 1, 8961: 1, 9052: 1, 9053: 11, 9055: 2, 9152: 6, 9188: 2, 9254: 5, 9306: 1, 9309: 1, 9310: 1, 9506: 1, 9582: 1, 9802: 4, 9858: 1, 10098: 1, 10238: 1, 10343: 1, 10566: 1, 10681: 1, 10902: 1, 10905: 1, 10945: 6, 10951: 2, 11002: 1, 11280: 2, 11873: 1, 11920: 3, 11967: 1, 12179: 1, 12226: 2, 12333: 1, 12424: 1, 12597: 7, 12672: 1, 13148: 3, 13366: 5, 13580: 4, 13583: 6, 13681: 4, 14213: 1, 14217: 2, 14384: 3, 14837: 1, 14959: 1, 14969: 2, 15007: 3, 15326: 2, 15352: 1, 15356: 1, 15623: 3, 15735: 2, 15892: 1, 16002: 1, 16105: 2, 16107: 1, 16309: 4, 16362: 1, 16539: 1, 16581: 4, 16680: 1, 16717: 2, 16828: 2, 16940: 1, 16958: 1, 16984: 2, 17228: 2, 17311: 1, 17316: 2, 17492: 3, 17493: 1, 17675: 3, 17684: 1, 17713: 1, 17801: 1, 18050: 4, 18055: 10, 18126: 6, 18190: 1, 18295: 1, 18686: 1, 18785: 1, 18957: 9, 18958: 1, 18962: 1, 18963: 2, 18967: 1, 18971: 1, 19086: 5, 19094: 1, 19197: 1, 19731: 1, 19886: 5, 20107: 1, 20308: 3, 20399: 4, 20507: 3, 20512: 1, 20513: 1, 20514: 1, 20515: 13, 20555: 1, 20597: 4, 21138: 3, 21734: 1, 21832: 1, 21875: 4, 22745: 1, 22934: 1, 23150: 2, 23476: 1, 23525: 1, 23535: 4, 23625: 2, 23629: 2, 23637: 4, 23687: 3, 23858: 1, 23977: 4, 23978: 1, 24026: 7, 24128: 1, 24131: 1, 24575: 1, 24672: 3, 25122: 2, 25141: 2, 25149: 4, 25153: 1, 25277: 1, 25393: 1, 25408: 1, 25555: 1, 25589: 3, 25846: 3, 25991: 1, 26132: 2, 26136: 15, 26532: 3, 26629: 2, 26668: 2, 26670: 1, 26671: 1, 26725: 4, 27050: 1, 27075: 3, 27201: 1, 27394: 7, 27479: 1, 27577: 1, 27645: 2, 27916: 3, 28066: 1, 28169: 4, 28212: 2, 28335: 1, 28400: 3, 28451: 9, 28625: 3, 28741: 1, 28778: 1, 28820: 2, 29124: 5, 29205: 1, 29243: 4, 29321: 2, 29436: 1, 29522: 1, 29681: 2, 29740: 3, 29831: 1, 29962: 5, 30009: 4, 30011: 2, 30334: 4, 30794: 1, 30878: 1, 30880: 7, 30885: 1, 30938: 1, 30981: 3, 31029: 1, 31105: 1, 31222: 2, 31776: 6, 31948: 7, 32119: 1, 32351: 2, 32690: 1, 32800: 1, 32814: 1, 33145: 4, 33512: 6, 33607: 2, 33782: 7, 33799: 1, 33938: 3, 33942: 1, 33985: 2, 34072: 1, 34156: 3, 34305: 11, 34306: 4, 34314: 1, 34383: 6, 35086: 1, 35114: 1, 35383: 3, 35389: 4, 35476: 2, 35651: 14, 35741: 4, 7133: 2, 9462: 2, 11756: 2, 12034: 3, 13737: 3, 13977: 2, 19897: 5, 30877: 2, 12317: 4, 20596: 3, 26374: 4, 30976: 3, 35688: 8, 5838: 1, 6881: 1, 22124: 1, 23908: 2, 25074: 1, 3873: 7, 6085: 7, 7297: 11, 15904: 10, 20122: 4, 5629: 2, 15514: 6, 4947: 3, 8676: 3, 10309: 1, 22671: 2, 1343: 4, 10274: 3, 13372: 4, 24462: 3, 27925: 12, 32704: 2, 2156: 3, 16267: 1, 23930: 5, 26073: 1, 28490: 1, 5750: 1, 15167: 1, 20028: 1, 25152: 2, 28536: 3, 32050: 3, 4225: 1, 18283: 2, 29517: 1, 8660: 5, 10802: 3, 11308: 2, 12526: 2, 15143: 1, 24618: 2, 27734: 2, 29334: 2, 29857: 1, 31852: 5, 33511: 2, 12757: 1, 14037: 3, 16521: 1, 18853: 1, 22459: 1, 29443: 2, 20378: 5, 24109: 5, 29473: 6, 2141: 1, 2422: 2, 3918: 2, 7915: 1, 10470: 1, 11356: 2, 11521: 1, 14816: 1, 15988: 2, 16683: 2, 16686: 2, 16688: 2, 18290: 1, 20096: 1, 20097: 1, 21272: 3, 21299: 1, 22182: 2, 34060: 1, 24313: 3, 31323: 2, 7456: 1, 18174: 1, 20657: 4, 22398: 1, 34773: 1, 34811: 1, 9129: 2, 9575: 2, 16422: 3, 16873: 1, 20472: 6, 23339: 10, 1036: 2, 4918: 3, 8522: 1, 16781: 2, 22999: 2, 33993: 4, 3122: 4, 5700: 6, 16547: 6, 20539: 2, 23845: 1, 8511: 3, 10414: 9, 12639: 3, 26770: 2, 30192: 18, 34111: 3, 4238: 2, 20593: 4, 23996: 2, 30215: 3, 33972: 2, 14020: 3, 25639: 2, 8081: 1, 14749: 3, 21320: 3, 6283: 9, 8787: 1, 15104: 1, 27940: 1, 6331: 7, 11205: 1, 12570: 3, 14612: 3, 20902: 1, 25285: 3, 27956: 1, 29504: 3, 29534: 1, 35282: 1, 7611: 1, 9781: 1, 10678: 1, 13674: 1, 15733: 2, 17836: 2, 19077: 6, 19474: 9, 20384: 1, 22572: 1, 26966: 1, 33401: 1, 33409: 1, 33770: 5, 35510: 2, 1587: 2, 1916: 4, 1945: 4, 8172: 4, 11547: 4, 12271: 5, 14753: 4, 15956: 9, 16071: 1, 19849: 4, 19894: 1, 21289: 9, 23011: 4, 23697: 1, 25319: 1, 26117: 7, 26636: 7, 28777: 1, 33732: 9, 34604: 1, 35705: 8, 15739: 1, 28804: 1, 17902: 1, 26351: 1, 35664: 1, 9970: 3, 10432: 13, 13050: 2, 13440: 5, 14431: 4, 15233: 3, 15247: 6, 16181: 4, 21467: 4, 25463: 1, 5151: 1, 4653: 2, 32860: 1, 5092: 4, 7182: 1, 7943: 4, 10089: 3, 11695: 1, 13134: 1, 15752: 8, 22651: 2, 24880: 1, 27944: 8, 28727: 1, 31033: 3, 32435: 9, 35143: 2, 2809: 2, 3111: 1, 7666: 1, 10588: 1, 12104: 1, 13177: 1, 19105: 1, 19516: 1, 27883: 1, 29282: 1, 35655: 1, 23067: 3, 10490: 2, 8189: 2, 14143: 4, 28534: 7, 28748: 1, 31962: 10, 32718: 1, 34666: 2, 5276: 1, 5536: 4, 5588: 4, 7812: 1, 9436: 2, 9652: 2, 10434: 1, 12524: 11, 14670: 4, 15618: 9, 19301: 1, 19484: 5, 20218: 3, 21607: 5, 21783: 1, 23401: 5, 25256: 2, 25558: 2, 25693: 2, 28685: 4, 29295: 4, 30102: 6, 31213: 7, 31519: 1, 31520: 1, 33957: 2, 19060: 1, 22478: 4, 2104: 2, 11440: 2, 21168: 2, 32070: 1, 33959: 4, 34506: 1, 7116: 1, 19236: 1, 27025: 1, 34696: 7, 15737: 4, 18806: 2, 8475: 2, 11416: 1, 14290: 5, 16208: 1, 30629: 1, 33778: 1, 6239: 3, 4576: 2, 8110: 2, 13290: 4, 13341: 3, 16866: 2, 20090: 2, 20972: 2, 30200: 2, 24943: 10, 6007: 1, 18360: 1, 23452: 2, 26028: 8, 26626: 3, 33535: 3, 11286: 2, 17938: 3, 31678: 3, 3970: 2, 7387: 1, 8479: 4, 17172: 5, 19628: 4, 24245: 3, 28161: 4, 34855: 3, 35116: 1, 1692: 2, 2207: 2, 2689: 2, 7194: 2, 10038: 3, 12979: 2, 13904: 4, 14161: 2, 14383: 11, 18132: 2, 18211: 2, 18663: 2, 18993: 2, 20974: 2, 21451: 5, 23480: 4, 23829: 3, 24254: 9, 24492: 2, 30781: 9, 32709: 5, 33052: 3, 8086: 2, 11584: 1, 17260: 1, 19610: 2, 21854: 3, 24213: 1, 26766: 1, 33305: 2, 6366: 1, 8737: 5, 24273: 4, 32461: 1, 25341: 2, 3608: 1, 7286: 7, 7290: 2, 14442: 1, 14944: 3, 20114: 2, 23046: 10, 23664: 4, 24295: 1, 25428: 1, 29779: 1, 30469: 3, 32365: 1, 30732: 5, 32262: 1, 2518: 3, 3107: 3, 25318: 5, 25321: 3, 26639: 1, 27796: 1, 28747: 4, 29056: 2, 29595: 5, 30245: 8, 33978: 2, 18725: 2, 24461: 2, 34245: 2, 34246: 2, 35374: 2, 14758: 3, 18569: 1, 26892: 6, 25112: 22, 27458: 2, 33764: 1, 5161: 2, 9327: 5, 14716: 6, 15447: 1, 15852: 4, 16408: 1, 18989: 2, 23737: 1, 28841: 1, 28894: 2, 33057: 3, 34768: 1, 34769: 1, 8220: 1, 8866: 1, 9205: 1, 25936: 4, 19963: 2, 28079: 2, 30221: 3, 19351: 1, 25253: 2, 35394: 3, 35395: 3, 8706: 1, 9321: 1, 10782: 1, 28088: 3, 1130: 2, 4116: 1, 6906: 1, 6907: 2, 11414: 4, 12172: 8, 15662: 6, 22707: 4, 24816: 7, 3661: 1, 3752: 1, 3794: 1, 5025: 2, 5070: 2, 6313: 1, 6824: 3, 9373: 1, 9408: 1, 15039: 3, 15361: 4, 16031: 2, 21859: 6, 23942: 5, 27528: 2, 32296: 6, 32467: 3, 35365: 1, 29083: 1, 34088: 2, 8090: 3, 8933: 1, 10580: 1, 12373: 1, 21782: 1, 23310: 1, 28416: 2, 15674: 1, 12745: 2, 14252: 6, 5830: 3, 14659: 1, 6347: 2, 8187: 1, 9985: 6, 15140: 1, 15265: 1, 18101: 1, 34578: 1, 21564: 3, 28306: 3, 30997: 4, 8241: 1, 27181: 5, 27663: 5, 7377: 6, 20647: 2, 26823: 1, 11037: 10, 25247: 4, 5200: 1, 5641: 3, 8566: 2, 10023: 6, 19568: 2, 32046: 2, 7402: 5, 16979: 8, 4226: 6, 4267: 3, 4350: 1, 4672: 2, 5274: 1, 5711: 1, 6387: 1, 9417: 3, 9616: 2, 9617: 1, 10171: 5, 10548: 2, 10615: 1, 11827: 1, 13209: 1, 13676: 3, 13738: 5, 14283: 1, 14624: 2, 14695: 1, 14740: 1, 15224: 6, 16593: 1, 16633: 1, 21811: 9, 23010: 3, 23012: 2, 23200: 18, 25441: 2, 25458: 1, 25759: 1, 26105: 3, 26107: 1, 26109: 1, 26116: 1, 28586: 1, 29697: 3, 30289: 1, 30741: 1, 32066: 2, 4946: 1, 7672: 3, 9438: 1, 9757: 3, 12884: 2, 13008: 6, 14345: 1, 14609: 6, 16305: 4, 16508: 1, 17145: 1, 19952: 1, 19975: 2, 20552: 5, 21737: 3, 22298: 1, 22635: 1, 23328: 1, 24102: 1, 24747: 1, 27280: 3, 27396: 2, 29337: 3, 30875: 3, 32197: 2, 32684: 1, 35496: 1, 6279: 8, 18516: 1, 22011: 2, 29652: 3, 4596: 1, 7134: 1, 11154: 1, 11718: 2, 13796: 3, 13972: 1, 21151: 1, 27185: 2, 28869: 2, 29346: 1, 29347: 2, 3477: 5, 7128: 7, 14500: 1, 16425: 3, 18285: 2, 20022: 4, 20405: 3, 21094: 2, 21135: 2, 22943: 7, 25694: 6, 30250: 7, 8739: 3, 12701: 4, 13425: 4, 24870: 3, 35517: 2, 678: 4, 962: 1, 2352: 1, 2442: 1, 2595: 1, 2833: 4, 3518: 1, 3525: 1, 3528: 1, 4162: 3, 4265: 2, 5538: 2, 5817: 1, 7247: 1, 7372: 1, 7993: 1, 10166: 2, 10926: 1, 11455: 1, 13482: 1, 13600: 2, 14142: 2, 14285: 3, 17350: 1, 18567: 2, 23417: 4, 23917: 5, 24491: 1, 24853: 1, 26230: 1, 26463: 1, 26464: 1, 27613: 1, 29592: 1, 29666: 1, 29928: 1, 31094: 2, 31095: 1, 31096: 3, 34296: 1, 10846: 1, 12497: 1, 14158: 3, 20990: 1, 33656: 3, 7983: 2, 29196: 2, 29665: 1, 31684: 1, 19805: 2, 24456: 2, 1876: 1, 5836: 3, 7104: 4, 12441: 2, 14748: 2, 16991: 1, 19330: 2, 19336: 5, 20519: 11, 27098: 1, 29891: 1, 30296: 2, 30297: 1, 30298: 1, 17133: 10, 17889: 3, 8699: 5, 4727: 1, 14719: 4, 16668: 5, 19256: 3, 20642: 1, 20643: 1, 28133: 3, 28971: 2, 34963: 1, 12588: 1, 31740: 3, 32116: 4, 13953: 3, 13955: 1, 19524: 3, 22258: 3, 35351: 13, 34577: 2, 5190: 1, 6475: 2, 10030: 3, 11249: 4, 21065: 5, 1120: 7, 4340: 5, 18655: 4, 23020: 1, 23345: 4, 29491: 1, 30041: 1, 25827: 1, 7452: 2, 19818: 2, 21316: 2, 22636: 1, 30899: 2, 21845: 1, 32157: 1, 25320: 4, 17112: 1, 21340: 5, 11952: 4, 17498: 4, 18654: 1, 24417: 1, 27524: 2, 31370: 1, 35185: 3, 3480: 3, 6271: 4, 7151: 3, 21116: 3, 22640: 4, 24748: 4, 35007: 3, 35399: 2, 1658: 1, 14772: 3, 16292: 2, 16756: 2, 19534: 2, 25088: 1, 25422: 1, 8791: 1, 12055: 2, 21460: 10, 29218: 4, 33103: 2, 5250: 5, 9907: 4, 13192: 2, 16368: 4, 24559: 2, 30677: 11, 34193: 2, 18699: 1, 4501: 1, 4862: 1, 5268: 1, 5585: 2, 6406: 2, 7444: 4, 8446: 1, 8466: 1, 8755: 1, 9413: 3, 11678: 7, 12935: 4, 13331: 4, 14734: 9, 15893: 1, 18765: 6, 25268: 3, 25817: 4, 28263: 1, 29568: 2, 30136: 3, 30854: 1, 30862: 5, 31643: 3, 32087: 3, 32541: 2, 35532: 3, 22365: 1, 25385: 6, 27152: 2, 31936: 2, 4953: 7, 6933: 1, 11168: 2, 14687: 4, 7519: 1, 10310: 1, 10311: 1, 20645: 1, 6631: 1, 6634: 2, 6635: 1, 12305: 5, 12306: 5, 17628: 1, 25866: 1, 28957: 4, 12480: 2, 23437: 3, 23952: 3, 25444: 1, 32807: 2, 34482: 2, 6061: 1, 19146: 3, 27730: 5, 31892: 2, 13856: 1, 13857: 3, 30683: 1, 34548: 1, 33852: 1, 16708: 1, 4970: 1, 8384: 1, 9484: 1, 14342: 1, 32072: 1, 34047: 1, 5946: 6, 9174: 3, 9514: 4, 10178: 2, 10283: 1, 10889: 1, 12507: 1, 18364: 2, 19801: 1, 24334: 5, 24493: 2, 28415: 1, 32360: 2, 4836: 1, 14007: 6, 14011: 3, 14015: 5, 14454: 2, 21545: 8, 26135: 2, 28678: 16, 31031: 5, 32805: 2, 33768: 13, 34690: 3, 5785: 1, 15016: 4, 31671: 4, 34805: 4, 5469: 1, 11090: 1, 11091: 2, 14681: 5, 16202: 1, 17724: 1, 17725: 1, 17726: 1, 18427: 2, 19472: 2, 21117: 2, 22288: 1, 22324: 1, 22467: 1, 23589: 5, 29084: 1, 32433: 3, 18598: 2, 21702: 3, 30450: 3, 1610: 2, 17200: 1, 17764: 4, 26442: 10, 28406: 4, 10959: 1, 17640: 3, 28669: 3, 6105: 2, 11992: 1, 26089: 1, 4369: 5, 7409: 2, 13816: 1, 14469: 1, 20009: 2, 20730: 1, 20840: 2, 20841: 1, 21352: 3, 21919: 2, 23927: 2, 26025: 1, 26913: 4, 29599: 6, 29618: 2, 31381: 2, 33827: 2, 18649: 2, 21301: 5, 6190: 2, 8421: 1, 12535: 2, 13230: 2, 18695: 1, 18870: 4, 27291: 4, 4133: 2, 5478: 4, 5479: 4, 29066: 2, 29669: 5, 30619: 6, 30908: 1, 8779: 2, 16327: 10, 16333: 9, 28721: 18, 15237: 7, 16799: 7, 17283: 1, 25740: 1, 5434: 1, 18597: 1, 22381: 4, 29279: 1, 25095: 7, 28682: 7, 32224: 7, 4299: 2, 28541: 2, 30150: 5, 34218: 2, 712: 1, 12330: 1, 16454: 1, 30757: 2, 26267: 9, 32082: 1, 35173: 4, 3950: 2, 4153: 1, 4154: 1, 5815: 3, 8178: 2, 11612: 3, 16066: 1, 16213: 2, 16367: 7, 19300: 1, 19767: 2, 21042: 3, 21177: 2, 25002: 1, 26787: 5, 31310: 2, 33285: 3, 34999: 8, 897: 1, 9967: 1, 11116: 2, 11567: 2, 14845: 1, 18100: 3, 20803: 1, 22577: 1, 22580: 1, 22581: 1, 23208: 1, 23234: 1, 23342: 1, 23343: 1, 24223: 1, 24224: 1, 24230: 1, 25133: 3, 25440: 1, 25466: 1, 25469: 1, 26042: 1, 28401: 1, 28402: 1, 30261: 1, 30540: 1, 30680: 1, 31007: 1, 31070: 1, 32229: 1, 32230: 1, 32273: 1, 35488: 1, 35633: 1, 35765: 1, 23207: 2, 14721: 2, 15998: 2, 16025: 2, 34842: 2, 7154: 1, 18413: 2, 18422: 1, 18423: 1, 28507: 1, 33259: 2, 9099: 1, 21224: 1, 31035: 8, 5482: 1, 29696: 1, 34977: 4, 5540: 2, 5541: 2, 10509: 4, 12752: 9, 12978: 3, 14779: 3, 21838: 1, 23710: 2, 24028: 2, 30671: 2, 31299: 3, 33641: 3, 13288: 4, 21174: 1, 30845: 1, 35087: 1, 2622: 1, 3430: 1, 21265: 1, 33922: 3, 4020: 2, 8599: 7, 23420: 8, 27125: 6, 13754: 3, 17849: 2, 18312: 1, 21528: 3, 23511: 7, 30380: 1, 3900: 2, 4757: 3, 23242: 3, 3875: 1, 6273: 1, 7200: 2, 8079: 1, 8646: 3, 15376: 1, 15657: 2, 17655: 2, 19666: 2, 25716: 2, 28254: 2, 29925: 1, 35382: 2, 25941: 2, 9554: 2, 26511: 1, 8485: 1, 8486: 1, 10772: 4, 17232: 3, 26313: 2, 28276: 6, 30431: 1, 33210: 6, 11980: 1, 8754: 1, 8789: 2, 16974: 2, 19876: 1, 7283: 3, 19977: 1, 28384: 1, 28862: 1, 29458: 1, 7248: 1, 10194: 13, 16755: 8, 14856: 1, 11590: 2, 19006: 3, 23036: 1, 26192: 1, 26304: 3, 12644: 1, 22931: 1, 26842: 1, 6325: 3, 8299: 1, 4976: 1, 6257: 1, 12918: 2, 16847: 1, 28526: 2, 9416: 4, 9882: 2, 13026: 1, 16400: 10, 22159: 3, 35078: 1, 18088: 2, 23981: 1, 26854: 1, 31729: 1, 25034: 4, 33265: 1, 9850: 3, 12194: 1, 12945: 1, 12999: 3, 13018: 1, 22923: 1, 23685: 1, 30550: 1, 30993: 1, 4204: 3, 13245: 1, 17423: 5, 17905: 5, 23516: 2, 25672: 2, 25674: 3, 6330: 1, 6567: 1, 8614: 1, 30568: 1, 35694: 1, 491: 1, 7516: 2, 35678: 1, 2708: 1, 23312: 2, 30842: 2, 35321: 2, 16715: 1, 12605: 3, 19885: 1, 20758: 1, 25598: 6, 28262: 1, 29329: 2, 30050: 1, 31480: 1, 20843: 3, 5922: 1, 6489: 1, 12957: 1, 15797: 1, 24556: 4, 26788: 1, 27757: 1, 31789: 1, 13362: 2, 16215: 2, 33303: 1, 10158: 3, 10406: 4, 17507: 2, 29058: 6, 29061: 5, 19795: 1, 20312: 2, 22479: 7, 26278: 2, 29810: 1, 32644: 2, 20782: 1, 22399: 2, 22497: 3, 14842: 9, 21413: 5, 22768: 2, 29501: 1, 10623: 2, 20359: 5, 1077: 1, 4993: 1, 6207: 1, 6523: 1, 19034: 3, 21432: 1, 21862: 1, 22261: 1, 27155: 2, 30253: 2, 31123: 6, 31518: 1, 31799: 9, 33108: 2, 4045: 1, 5334: 2, 9816: 2, 12266: 2, 13637: 4, 13640: 3, 13641: 1, 13949: 1, 17220: 2, 18134: 2, 19075: 4, 20801: 1, 20891: 1, 21809: 1, 24914: 1, 25641: 1, 25962: 1, 26082: 2, 28138: 3, 32620: 7, 20357: 6, 7670: 5, 14701: 5, 23458: 4, 34572: 5, 14639: 1, 16961: 1, 23703: 1, 30155: 1, 9541: 3, 24919: 1, 33147: 5, 7892: 3, 20235: 1, 26140: 1, 26575: 1, 30411: 2, 4832: 1, 10386: 3, 11213: 2, 21193: 2, 24338: 6, 27599: 2, 32512: 1, 32567: 10, 10210: 4, 13919: 1, 14240: 5, 21953: 1, 24551: 8, 26247: 2, 33018: 1, 32252: 1, 22891: 1, 24565: 4, 22254: 4, 22574: 4, 31952: 7, 34068: 3, 35718: 4, 10334: 2, 16732: 2, 2391: 2, 8764: 1, 9863: 1, 14097: 1, 22724: 1, 26045: 1, 26533: 2, 29011: 1, 32594: 1, 19468: 1, 4269: 1, 6141: 2, 7871: 5, 11026: 2, 19929: 4, 28687: 2, 18984: 2, 6741: 5, 17970: 1, 15359: 5, 15360: 3, 15463: 4, 32637: 1, 18840: 1, 32007: 3, 16457: 4, 20389: 4, 9900: 5, 10186: 3, 28926: 4, 4811: 1, 13138: 3, 14952: 1, 14957: 2, 15436: 2, 27689: 2, 30978: 2, 35728: 1, 6916: 10, 22074: 4, 24403: 2, 31462: 1, 32932: 1, 15773: 5, 19862: 3, 6354: 3, 9112: 10, 27045: 4, 29970: 2, 33888: 5, 34495: 2, 1361: 2, 1495: 2, 9039: 2, 13320: 2, 19215: 2, 19486: 2, 28375: 2, 33531: 9, 8670: 1, 16464: 1, 16465: 1, 16466: 1, 21298: 1, 29759: 1, 5954: 1, 6151: 2, 6169: 1, 9414: 1, 10129: 1, 10676: 1, 10725: 5, 13068: 1, 13405: 1, 14160: 2, 14348: 5, 17345: 1, 18615: 4, 20355: 7, 22306: 1, 24062: 2, 24913: 1, 25771: 2, 29287: 2, 29762: 1, 31724: 4, 32060: 1, 32265: 2, 35000: 2, 35228: 1, 8738: 2, 12349: 2, 13850: 2, 14377: 4, 16669: 4, 30383: 2, 9821: 5, 32861: 1, 2330: 2, 4544: 1, 4635: 2, 6992: 1, 7668: 2, 9892: 4, 12416: 3, 14267: 1, 15350: 2, 19080: 4, 21130: 4, 22678: 6, 22816: 1, 23894: 1, 24017: 2, 24941: 4, 25186: 1, 27580: 2, 27793: 1, 29296: 2, 29297: 1, 30917: 1, 30987: 1, 33349: 2, 33373: 1, 35629: 1, 35630: 1, 35653: 1, 197: 2, 221: 1, 1132: 5, 1611: 1, 3115: 2, 9025: 2, 14567: 1, 7003: 2, 10006: 5, 13278: 4, 22625: 2, 22974: 2, 30807: 2, 34650: 6, 10607: 1, 15344: 1, 21005: 4, 7280: 5, 13344: 2, 15533: 1, 6995: 1, 7520: 4, 13396: 4, 7264: 3, 23743: 4, 9377: 2, 34765: 2, 5069: 1, 12114: 2, 32794: 3, 32798: 2, 35444: 1, 10392: 1, 26581: 1, 32438: 1, 7030: 1, 8171: 2, 20232: 1, 33040: 1, 37: 7, 244: 3, 268: 4, 1652: 1, 1721: 1, 1917: 1, 1972: 1, 2211: 1, 2291: 1, 2358: 1, 2404: 1, 2639: 1, 2684: 1, 2778: 1, 2980: 1, 3411: 1, 3856: 2, 4050: 1, 4098: 1, 4100: 1, 4239: 1, 4255: 8, 4497: 2, 5498: 1, 6046: 1, 6244: 2, 6275: 1, 7131: 1, 7490: 1, 7649: 2, 7683: 1, 7935: 1, 8374: 2, 8519: 1, 8520: 1, 8811: 3, 9084: 1, 9102: 4, 9232: 1, 9927: 4, 10480: 3, 10706: 2, 11309: 2, 12148: 1, 12208: 1, 12210: 1, 12428: 4, 12809: 4, 13270: 1, 13279: 3, 13386: 2, 13762: 1, 14448: 2, 15645: 2, 16030: 1, 16091: 2, 16824: 1, 17029: 1, 17039: 3, 17844: 1, 18378: 1, 18533: 9, 18636: 1, 18727: 2, 19285: 5, 19286: 2, 19290: 1, 19292: 1, 19295: 1, 19296: 1, 19379: 2, 19575: 1, 19785: 1, 20896: 2, 20922: 1, 21712: 1, 21715: 3, 21747: 2, 22222: 3, 22391: 3, 23239: 1, 23557: 2, 23586: 1, 24200: 5, 24712: 1, 25423: 1, 26001: 1, 26005: 1, 26767: 1, 26980: 1, 27759: 1, 28486: 1, 28593: 4, 29178: 2, 29526: 2, 29750: 2, 30134: 1, 30482: 1, 31056: 3, 31207: 3, 31426: 1, 31549: 1, 32029: 1, 32353: 2, 32410: 2, 32646: 1, 32960: 1, 33111: 1, 33785: 5, 34056: 1, 34155: 2, 34223: 3, 34633: 4, 34746: 2, 35211: 1, 35344: 2, 4937: 1, 8118: 2, 22269: 2, 28782: 2, 5360: 3, 6937: 4, 7347: 2, 8635: 1, 16164: 1, 18017: 1, 18221: 4, 19514: 6, 21194: 2, 23882: 1, 25287: 2, 27237: 2, 28334: 3, 29422: 1, 30129: 1, 30130: 1, 4520: 1, 14999: 1, 23174: 1, 28856: 1, 29549: 1, 33405: 1, 6434: 5, 1119: 2, 1273: 1, 2568: 1, 4490: 2, 23890: 7, 24350: 1, 27874: 1, 29299: 1, 30251: 1, 5441: 1, 15050: 1, 21262: 1, 29010: 1, 752: 1, 2755: 3, 2760: 6, 3048: 1, 16505: 3, 21709: 2, 22296: 9, 22404: 3, 30519: 2, 31375: 6, 18790: 2, 4173: 3, 12362: 5, 23224: 1, 33599: 3, 34653: 3, 17332: 7, 21502: 4, 14172: 1, 29344: 1, 32465: 1, 3063: 1, 5613: 3, 7143: 5, 8952: 1, 14793: 1, 19815: 3, 31478: 10, 34235: 2, 1088: 1, 15225: 2, 18183: 3, 34742: 2, 6846: 1, 8044: 1, 16905: 1, 35303: 2, 9721: 1, 17816: 1, 21158: 3, 24380: 1, 31986: 1, 687: 1, 3431: 1, 10246: 1, 6577: 1, 7364: 3, 8049: 6, 10519: 1, 11607: 4, 35186: 1, 2378: 1, 3307: 1, 7339: 1, 7888: 4, 10691: 1, 12708: 3, 13325: 3, 18475: 2, 27406: 1, 28239: 1, 28503: 2, 29366: 1, 30514: 1, 13861: 2, 28432: 3, 33157: 2, 9379: 3, 13568: 8, 13726: 6, 14215: 2, 14439: 3, 15223: 2, 16241: 2, 18704: 2, 21367: 2, 24983: 1, 28453: 1, 18767: 1, 19718: 1, 6011: 1, 6013: 6, 6731: 2, 7187: 1, 10875: 2, 14054: 3, 15678: 1, 16441: 1, 21150: 1, 31430: 1, 32867: 6, 3896: 1, 10598: 2, 11627: 2, 11968: 3, 13965: 3, 19341: 1, 2620: 2, 5196: 6, 19609: 1, 34334: 1, 5586: 1, 25516: 1, 4042: 2, 4291: 1, 4869: 1, 5239: 1, 5454: 1, 5561: 1, 5576: 1, 5712: 1, 5773: 1, 8322: 2, 9641: 1, 11240: 10, 11874: 3, 11875: 1, 13404: 2, 13406: 5, 15221: 2, 17127: 1, 17516: 1, 17720: 1, 18428: 1, 20933: 1, 20934: 3, 20935: 2, 22045: 1, 22128: 1, 22708: 1, 22826: 2, 23148: 1, 23428: 1, 23745: 2, 23937: 1, 24800: 4, 25377: 1, 26018: 2, 26254: 7, 27365: 3, 27457: 1, 28458: 1, 28519: 1, 29246: 1, 29728: 1, 30193: 5, 30216: 3, 31117: 1, 31118: 1, 31964: 2, 32315: 1, 32917: 1, 33538: 1, 33567: 3, 34304: 3, 35647: 1, 27802: 2, 31907: 1, 21185: 1, 8470: 3, 15166: 3, 16052: 3, 21705: 3, 30584: 3, 6887: 1, 17036: 4, 29272: 1, 29274: 6, 29912: 5, 30580: 1, 33781: 1, 1575: 1, 4627: 5, 4633: 5, 4671: 1, 5995: 1, 6079: 1, 6114: 1, 6161: 1, 6270: 1, 6324: 1, 6463: 2, 7126: 1, 7127: 1, 7197: 4, 7334: 1, 7389: 3, 7811: 3, 7903: 1, 7929: 1, 8152: 5, 8437: 2, 9002: 2, 9320: 1, 9895: 1, 10367: 2, 11100: 1, 11266: 1, 11979: 1, 12591: 1, 12789: 1, 14035: 1, 14782: 4, 14795: 1, 14827: 3, 15439: 2, 15493: 1, 15584: 1, 15940: 1, 16041: 2, 16273: 2, 16460: 1, 18660: 1, 18754: 1, 18761: 3, 18911: 2, 18977: 7, 19042: 1, 19167: 1, 19173: 2, 19183: 1, 19269: 1, 19525: 1, 20076: 2, 20108: 1, 20275: 1, 21214: 1, 21353: 1, 21540: 1, 21735: 1, 21848: 4, 21974: 1, 21987: 1, 22252: 3, 22423: 4, 23080: 1, 24540: 1, 25163: 2, 25592: 1, 26974: 1, 27558: 1, 28211: 1, 28244: 4, 28311: 1, 29419: 1, 29435: 6, 30791: 1, 31447: 2, 31488: 1, 31651: 1, 32019: 1, 32281: 1, 32286: 1, 32868: 1, 33195: 1, 33203: 1, 33209: 3, 33249: 3, 33298: 1, 33315: 1, 33360: 2, 33839: 1, 34512: 1, 34550: 1, 35034: 1, 35065: 4, 35323: 4, 35426: 1, 35558: 2, 35569: 1, 35575: 1, 9175: 1, 21787: 2, 30083: 1, 5207: 3, 7067: 1, 21529: 9, 32088: 7, 6460: 1, 16347: 2, 11506: 2, 11539: 2, 12220: 1, 13060: 1, 14137: 6, 14936: 2, 30407: 2, 10197: 2, 28459: 2, 29233: 1, 34460: 1, 9790: 2, 34216: 2, 5011: 2, 4568: 1, 5083: 1, 12648: 1, 17060: 3, 18596: 2, 19366: 2, 19937: 2, 6539: 1, 8424: 2, 31302: 2, 139: 4, 203: 1, 1550: 1, 1615: 1, 1737: 1, 2051: 1, 2190: 2, 2345: 1, 2862: 1, 3024: 1, 3417: 1, 3451: 1, 4119: 1, 4120: 1, 4243: 2, 4266: 1, 4581: 1, 4843: 1, 4958: 2, 5224: 1, 5680: 2, 5685: 1, 5687: 1, 5886: 2, 5966: 1, 5978: 1, 6512: 4, 6544: 2, 6695: 1, 6917: 1, 7226: 1, 7310: 1, 7361: 1, 7380: 1, 7715: 1, 7747: 1, 7749: 1, 7856: 4, 8074: 1, 8080: 1, 8354: 1, 9054: 1, 9331: 2, 9342: 4, 9758: 1, 9825: 1, 9848: 1, 9888: 3, 10020: 1, 10249: 1, 10463: 2, 10657: 1, 10677: 1, 10692: 1, 10909: 1, 11020: 1, 11145: 1, 11439: 1, 11573: 1, 11583: 1, 11750: 1, 11868: 1, 12262: 3, 12311: 1, 12312: 1, 12509: 6, 12595: 6, 12804: 2, 13059: 1, 13066: 1, 13145: 1, 13226: 1, 13240: 1, 13273: 1, 13342: 1, 13791: 1, 13814: 1, 14220: 1, 14221: 1, 14295: 2, 14298: 1, 14378: 1, 14446: 1, 14476: 1, 15001: 1, 15008: 2, 15145: 1, 15328: 1, 15432: 1, 15435: 1, 15509: 1, 15632: 3, 15634: 1, 15648: 3, 15661: 1, 15697: 1, 16635: 1, 16652: 1, 16653: 1, 17368: 1, 17388: 1, 17510: 1, 17546: 1, 17576: 1, 18085: 1, 18105: 1, 18108: 1, 18131: 2, 18145: 2, 18216: 2, 18400: 1, 18414: 2, 18653: 1, 18673: 1, 19263: 2, 19667: 1, 19730: 1, 19758: 2, 19960: 3, 20052: 1, 20053: 3, 20439: 1, 20476: 2, 20551: 1, 20618: 1, 20753: 1, 20833: 6, 20947: 1, 21103: 1, 21199: 1, 21351: 1, 21354: 1, 21382: 2, 21515: 2, 21581: 1, 21690: 1, 21858: 1, 22085: 1, 22086: 1, 22238: 1, 22240: 2, 22307: 3, 22616: 1, 22712: 2, 23064: 1, 23128: 1, 23316: 1, 23371: 1, 23514: 1, 23801: 3, 23807: 2, 23865: 1, 24136: 1, 24308: 1, 24330: 1, 24368: 1, 24554: 1, 24819: 3, 24832: 1, 25080: 1, 25246: 1, 25359: 1, 25361: 2, 25362: 1, 25365: 1, 25517: 1, 25736: 1, 26041: 1, 26399: 1, 26452: 1, 26502: 1, 26664: 1, 26809: 5, 27061: 5, 27286: 3, 27294: 1, 27461: 3, 27565: 6, 28055: 1, 28253: 1, 28396: 1, 28910: 1, 28989: 1, 28990: 1, 29160: 3, 29216: 2, 30162: 5, 30316: 2, 30691: 1, 30756: 1, 31057: 1, 31104: 3, 31149: 1, 31296: 1, 31308: 6, 31346: 1, 31359: 1, 31673: 6, 31796: 3, 31827: 1, 31833: 2, 32041: 1, 32317: 1, 33283: 1, 33291: 1, 33536: 1, 33723: 1, 33802: 1, 33856: 3, 33969: 1, 33989: 1, 34260: 1, 35095: 1, 35270: 2, 35433: 1, 35457: 1, 35483: 1, 35507: 1, 35520: 1, 35522: 1, 35537: 2, 35540: 1, 35743: 1, 35760: 1, 35761: 1, 6559: 1, 9837: 3, 12521: 10, 12797: 1, 30048: 2, 11820: 5, 18979: 1, 29855: 2, 24613: 2, 27928: 1, 29470: 2, 5338: 1, 9552: 1, 13391: 1, 16536: 1, 20738: 1, 25017: 1, 30434: 1, 19714: 1, 30748: 3, 5796: 1, 24677: 2, 28225: 2, 13328: 2, 16234: 1, 18622: 2, 20248: 1, 20250: 1, 25700: 2, 31777: 1, 33931: 1, 12314: 2, 21110: 1, 24016: 8, 29257: 2, 31783: 1, 34075: 2, 13609: 1, 14978: 1, 18093: 1, 20166: 1, 22402: 3, 27071: 1, 28740: 4, 29157: 1, 29930: 1, 31190: 2, 32259: 3, 33080: 4, 35146: 7, 4913: 1, 9315: 2, 9587: 3, 10558: 7, 11269: 2, 14360: 2, 16136: 4, 18329: 1, 20206: 1, 23481: 1, 24693: 1, 27467: 1, 32482: 1, 8334: 2, 11155: 2, 13881: 1, 14248: 5, 16963: 1, 22590: 1, 31018: 2, 35685: 2, 12792: 1, 21495: 1, 22820: 1, 34629: 1, 1146: 1, 6436: 7, 6438: 1, 6823: 1, 7265: 3, 7760: 1, 7975: 3, 9100: 1, 10191: 1, 10312: 2, 10733: 1, 11083: 3, 11289: 2, 11304: 4, 13508: 2, 14642: 4, 14715: 2, 16190: 2, 16238: 2, 16338: 6, 16360: 3, 16746: 1, 17671: 1, 17919: 2, 18479: 6, 18908: 1, 21727: 1, 23071: 1, 24412: 1, 26390: 3, 26512: 4, 27348: 1, 27633: 2, 28091: 2, 28742: 1, 29298: 3, 31135: 1, 31897: 4, 32227: 2, 32241: 1, 34993: 8, 35016: 2, 35330: 2, 19565: 1, 18062: 1, 24145: 1, 8596: 1, 18920: 1, 31887: 1, 31888: 1, 34411: 1, 5451: 2, 15136: 1, 16784: 3, 22968: 1, 23294: 4, 24400: 1, 30479: 1, 32447: 1, 32928: 3, 11508: 1, 17031: 2, 18829: 1, 26474: 1, 26828: 1, 28542: 1, 29802: 2, 8677: 1, 19422: 2, 21756: 3, 24721: 3, 5458: 1, 5671: 3, 6200: 2, 9982: 1, 11963: 3, 15512: 2, 19009: 1, 25599: 2, 25607: 2, 28923: 1, 28924: 1, 31235: 3, 4118: 2, 8226: 3, 14237: 2, 5898: 1, 27156: 1, 33952: 1, 9353: 3, 263: 1, 521: 1, 5998: 2, 7688: 1, 7987: 1, 8819: 1, 13175: 1, 13627: 1, 14167: 2, 14677: 2, 15482: 1, 15669: 1, 15672: 1, 17108: 1, 18103: 1, 20810: 1, 20887: 3, 21640: 4, 24197: 1, 24198: 1, 24202: 1, 24589: 1, 25193: 3, 26595: 1, 30682: 1, 31355: 1, 31357: 5, 32731: 1, 33836: 1, 33837: 1, 33840: 1, 10346: 2, 18742: 1, 21586: 7, 23945: 2, 6377: 1, 10726: 1, 28057: 1, 7349: 1, 7351: 2, 18186: 2, 35197: 2, 35414: 1, 20077: 2, 26253: 5, 8200: 7, 8382: 1, 11169: 4, 13218: 1, 19461: 1, 29567: 1, 29980: 2, 35714: 1, 2383: 3, 9717: 3, 13716: 5, 22115: 3, 23368: 3, 30548: 2, 31189: 2, 17214: 3, 9931: 1, 18141: 2, 21347: 1, 22793: 1, 35624: 1, 18697: 6, 31946: 4, 1631: 3, 5058: 1, 10568: 1, 13924: 1, 13968: 1, 31910: 1, 1626: 3, 3234: 1, 5093: 2, 6541: 1, 8829: 1, 19033: 3, 19530: 3, 21843: 1, 23864: 2, 25557: 1, 25725: 1, 25934: 1, 26672: 1, 26673: 1, 26674: 1, 26940: 1, 28171: 1, 34610: 2, 13393: 1, 19065: 2, 30449: 1, 34571: 2, 6637: 1, 7726: 1, 10523: 5, 10529: 1, 13385: 1, 14053: 7, 14232: 1, 17035: 1, 19299: 2, 20681: 2, 21576: 1, 28607: 5, 7467: 1, 22837: 1, 22844: 1, 34431: 1, 34569: 1, 16998: 3, 20343: 1, 22979: 3, 35053: 1, 19113: 1, 19633: 1, 25024: 2, 29192: 2, 20636: 2, 4617: 2, 7099: 2, 7791: 2, 8183: 3, 14896: 3, 19061: 4, 29154: 5, 14076: 3, 14858: 4, 32870: 1, 18927: 1, 27247: 2, 33968: 5, 34492: 1, 11350: 2, 34598: 4, 34984: 1, 17545: 3, 28688: 1, 30058: 1, 272: 1, 1124: 1, 1387: 1, 16982: 2, 20582: 1, 24266: 1, 25303: 1, 30893: 2, 31360: 1, 25830: 3, 29989: 1, 8766: 1, 16026: 1, 17934: 3, 21796: 2, 22489: 1, 22779: 3, 13727: 3, 14198: 1, 32228: 1, 33372: 1, 7878: 1, 12091: 2, 12380: 3, 14572: 3, 33979: 4, 7228: 1, 15389: 1, 19510: 1, 19580: 1, 31746: 1, 3910: 1, 5034: 1, 6120: 1, 6733: 1, 6734: 1, 24541: 1, 5777: 1, 6142: 1, 19196: 1, 19480: 3, 24778: 1, 24779: 1, 25021: 1, 27952: 1, 29687: 1, 29690: 4, 32560: 4, 17164: 3, 28271: 2, 4950: 2, 15278: 1, 16276: 5, 21438: 4, 21442: 2, 34680: 6, 15630: 1, 30647: 1, 6237: 1, 6300: 3, 8899: 2, 13181: 4, 13294: 1, 15734: 2, 19156: 2, 22714: 4, 22731: 6, 22743: 5, 23674: 8, 24636: 2, 30219: 1, 17074: 1, 9615: 1, 12183: 1, 14616: 3, 16060: 4, 20656: 2, 26331: 1, 34847: 2, 35031: 1, 15487: 5, 18777: 2, 19309: 5, 22093: 6, 1380: 1, 3110: 1, 4948: 1, 5501: 1, 8844: 4, 9775: 1, 15127: 1, 19403: 1, 20401: 2, 22439: 1, 26171: 1, 27375: 1, 30399: 1, 33094: 4, 34293: 1, 34540: 4, 34541: 1, 6666: 2, 19413: 1, 22658: 2, 8488: 1, 14073: 1, 14400: 1, 21614: 1, 26633: 1, 33817: 2, 16407: 2, 12069: 1, 32712: 2, 10513: 2, 23116: 2, 28645: 2, 29708: 2, 4613: 1, 9148: 5, 9785: 1, 17449: 2, 19959: 2, 20460: 1, 26219: 4, 26897: 1, 28159: 1, 31652: 2, 7940: 1, 18802: 9, 19356: 2, 7325: 4, 8066: 4, 18051: 2, 19549: 1, 23095: 2, 27134: 2, 29584: 1, 30351: 4, 31267: 1, 17526: 3, 32697: 6, 2830: 3, 2951: 3, 8083: 3, 32624: 3, 32866: 3, 10328: 4, 10745: 4, 29307: 2, 18487: 1, 27791: 2, 30909: 2, 34374: 1, 21813: 2, 1846: 1, 5804: 1, 7366: 2, 9106: 1, 9971: 2, 17340: 2, 22246: 1, 22871: 1, 27834: 3, 29202: 1, 7163: 3, 7365: 2, 12246: 3, 12429: 1, 16496: 2, 34393: 1, 34823: 1, 35102: 2, 24372: 1, 26265: 3, 28293: 3, 29122: 4, 147: 1, 18482: 1, 23030: 1, 23391: 3, 28077: 1, 2286: 3, 2838: 2, 4574: 1, 5052: 4, 5294: 1, 6246: 1, 6360: 1, 7173: 1, 8370: 1, 9465: 1, 9468: 1, 12109: 1, 12423: 1, 13280: 2, 13653: 1, 13851: 1, 14387: 2, 16874: 1, 16957: 1, 17114: 1, 18247: 1, 19294: 1, 20722: 3, 21044: 4, 21555: 6, 23755: 6, 25675: 2, 25929: 7, 25987: 1, 26721: 2, 28049: 1, 28388: 3, 28925: 2, 29328: 1, 29425: 2, 30906: 2, 30957: 1, 30962: 1, 31256: 3, 31294: 1, 32424: 1, 32425: 1, 33009: 1, 33143: 1, 33459: 1, 33849: 1, 34677: 2, 34682: 2, 34719: 2, 34722: 2, 35721: 1, 8193: 3, 10525: 2, 11510: 2, 25: 1, 326: 1, 1745: 1, 2606: 1, 2645: 1, 4164: 1, 4994: 3, 5846: 1, 8208: 1, 8906: 1, 9042: 1, 15087: 1, 15151: 2, 22526: 3, 34964: 1, 18159: 2, 20882: 4, 25424: 1, 25425: 1, 6479: 1, 12008: 2, 12645: 2, 21781: 1, 22892: 1, 7689: 2, 20639: 1, 30079: 2, 16378: 1, 26103: 4, 27617: 2, 24566: 1, 33800: 1, 10097: 1, 15067: 2, 32593: 2, 33055: 1, 25070: 2, 29552: 2, 5728: 1, 8038: 1, 15600: 4, 26210: 1, 26691: 1, 33172: 1, 15280: 2, 17069: 2, 17072: 1, 24740: 2, 29705: 2, 34732: 3, 35193: 3, 12124: 1, 19213: 3, 22880: 1, 12563: 7, 14580: 2, 32371: 2, 33769: 2, 4717: 1, 7233: 2, 9618: 1, 11945: 1, 14107: 2, 21556: 1, 21861: 2, 22277: 1, 27354: 1, 27596: 1, 28637: 1, 29292: 2, 35215: 1, 6585: 4, 17181: 4, 8270: 1, 15776: 1, 15930: 4, 18319: 3, 18506: 1, 20126: 1, 23008: 1, 23056: 1, 23060: 1, 24352: 1, 34301: 2, 394: 1, 2167: 1, 3082: 4, 4460: 1, 7629: 1, 7634: 1, 8894: 2, 16082: 4, 19735: 4, 20570: 1, 24976: 2, 32495: 1, 8996: 8, 21506: 9, 26424: 2, 26425: 2, 27232: 1, 32586: 8, 33079: 1, 35070: 1, 35256: 1, 21028: 1, 23711: 1, 25327: 1, 7195: 1, 13292: 1, 17263: 1, 23237: 1, 23778: 1, 8943: 1, 11997: 1, 11998: 1, 12325: 1, 12326: 1, 13632: 3, 14272: 3, 18857: 1, 22234: 1, 30459: 3, 33876: 1, 3884: 1, 5752: 1, 7333: 1, 7335: 1, 8802: 1, 9916: 1, 15177: 1, 19282: 1, 25511: 1, 26522: 1, 34125: 1, 34890: 1, 16492: 1, 17521: 1, 18756: 1, 19318: 1, 22419: 1, 33104: 4, 34310: 1, 35245: 2, 18850: 1, 6520: 2, 16432: 1, 17161: 2, 26186: 1, 27322: 1, 33871: 2, 12476: 6, 15098: 1, 20942: 1, 27421: 1, 12061: 3, 19704: 1, 20971: 1, 13259: 1, 13935: 2, 23265: 1, 25009: 2, 28712: 1, 31167: 2, 31814: 1, 4905: 1, 8985: 1, 8993: 1, 13011: 1, 32986: 1, 7869: 1, 12442: 2, 14422: 4, 23085: 2, 26645: 2, 28408: 4, 34418: 1, 8190: 7, 10290: 1, 10291: 1, 12117: 1, 16887: 2, 21583: 2, 7261: 7, 22020: 1, 23131: 1, 25435: 1, 30312: 7, 2244: 1, 2872: 1, 10377: 2, 14278: 1, 20611: 1, 23135: 1, 24305: 1, 28792: 3, 15335: 1, 24303: 4, 7814: 3, 34978: 2, 25880: 2, 15417: 1, 18950: 3, 21337: 2, 22103: 2, 22894: 1, 7796: 1, 21483: 1, 29341: 1, 31177: 1, 34662: 3, 8504: 3, 14941: 1, 22905: 1, 29545: 1, 4646: 3, 14656: 2, 3980: 1, 6787: 1, 22334: 1, 7172: 2, 7906: 1, 10669: 4, 12146: 2, 16813: 4, 18390: 1, 20853: 1, 27055: 2, 7927: 2, 17944: 4, 5654: 1, 15391: 2, 27052: 2, 28014: 2, 28474: 3, 12033: 1, 6727: 1, 15758: 1, 7142: 2, 7986: 1, 8024: 1, 14099: 2, 20633: 4, 8051: 1, 12038: 2, 26830: 1, 29478: 1, 30423: 1, 33376: 3, 11375: 2, 13085: 1, 13472: 1, 14286: 3, 19204: 1, 22119: 6, 26334: 1, 29777: 1, 29778: 1, 5021: 3, 8065: 1, 7961: 2, 34840: 2, 34841: 2, 23132: 4, 5527: 1, 8531: 1, 14449: 3, 26612: 1, 26613: 1, 30364: 3, 4754: 1, 4882: 3, 6462: 1, 6592: 1, 6793: 3, 6978: 3, 6983: 1, 6984: 3, 6986: 2, 7343: 4, 7428: 1, 7985: 3, 8700: 4, 8701: 3, 9551: 1, 9611: 2, 11173: 1, 15308: 1, 15990: 1, 17030: 3, 17065: 3, 17739: 1, 18331: 1, 18418: 3, 18419: 3, 18452: 2, 19612: 2, 21766: 1, 21767: 4, 21942: 1, 22206: 2, 22322: 1, 22471: 1, 25473: 3, 25795: 1, 26724: 2, 26792: 1, 27391: 2, 27465: 2, 28465: 2, 29131: 1, 29403: 2, 30876: 1, 30932: 1, 31182: 1, 31195: 2, 31196: 1, 31199: 7, 31424: 1, 31781: 2, 32376: 3, 32555: 1, 33637: 1, 34185: 3, 34567: 2, 35397: 3, 26000: 3, 1614: 1, 1880: 1, 2721: 1, 2728: 1, 5924: 1, 9171: 2, 19938: 1, 21452: 1, 28177: 1, 28355: 1, 34283: 2, 1121: 6, 9957: 2, 17691: 2, 21887: 1, 22094: 1, 26931: 1, 29887: 1, 4585: 1, 5925: 1, 13700: 1, 13867: 1, 13871: 1, 14030: 1, 18372: 1, 18417: 1, 19081: 1, 32282: 1, 34789: 1, 11702: 2, 4347: 1, 4519: 3, 4561: 1, 5617: 2, 6035: 1, 6393: 1, 6568: 2, 7755: 2, 7938: 2, 8337: 1, 8338: 1, 9189: 1, 9247: 1, 9397: 1, 9697: 1, 10818: 4, 11313: 1, 11659: 1, 12059: 1, 12982: 2, 13660: 1, 13741: 3, 14736: 4, 16179: 6, 16663: 1, 16886: 1, 17373: 1, 17425: 1, 18142: 1, 19082: 2, 22686: 3, 24978: 1, 25914: 4, 26225: 2, 26346: 1, 26539: 1, 27692: 1, 28824: 1, 28825: 1, 28877: 2, 31982: 1, 32154: 5, 33493: 1, 33621: 5, 33776: 1, 34081: 1, 34092: 1, 34718: 1, 34724: 2, 34790: 3, 34959: 1, 18759: 1, 33307: 2, 8907: 1, 32568: 1, 31869: 1, 21443: 2, 22018: 1, 34014: 3, 27768: 1, 28164: 1, 28484: 2, 30838: 2, 33951: 3, 15273: 1, 21808: 1, 34444: 1, 6242: 1, 13284: 1, 18763: 1, 22226: 5, 23097: 2, 32068: 1, 17652: 2, 9390: 5, 10347: 3, 11653: 1, 17410: 2, 17598: 1, 17890: 2, 23215: 1, 33248: 1, 13132: 4, 35511: 1, 13804: 1, 18924: 1, 19773: 2, 24242: 3, 31624: 1, 29172: 2, 18716: 2, 29814: 3, 4863: 1, 9839: 1, 6944: 5, 8067: 5, 10156: 4, 10195: 1, 16201: 2, 3767: 1, 14381: 1, 23016: 2, 29000: 3, 29001: 1, 23261: 3, 8870: 2, 26357: 1, 27855: 2, 30174: 5, 22653: 1, 19665: 1, 4147: 4, 21257: 4, 24055: 6, 27882: 4, 32341: 4, 33222: 4, 6929: 2, 12265: 1, 19916: 2, 29771: 2, 32274: 2, 33534: 1, 6261: 1, 12415: 2, 21216: 2, 34119: 2, 34335: 2, 6248: 3, 7434: 1, 21400: 1, 21547: 1, 134: 2, 7693: 1, 9033: 2, 16294: 2, 12343: 3, 12494: 5, 20523: 1, 28117: 3, 29914: 7, 32445: 2, 33286: 2, 9154: 1, 11335: 3, 28734: 1, 30575: 1, 21385: 1, 22464: 3, 4807: 1, 5756: 1, 6710: 2, 8824: 1, 9260: 1, 9265: 1, 11119: 1, 11321: 1, 13560: 2, 14234: 2, 22294: 3, 22485: 5, 25684: 1, 25730: 1, 27178: 1, 27424: 1, 17327: 2, 29657: 3, 33470: 3, 12162: 1, 20765: 2, 20822: 1, 23039: 1, 27271: 1, 33880: 1, 3725: 1, 4111: 1, 4114: 2, 6879: 2, 9144: 5, 9570: 2, 16182: 1, 17651: 5, 17965: 2, 21802: 2, 22265: 1, 22266: 1, 24095: 1, 26144: 1, 28584: 1, 33483: 1, 34353: 1, 34354: 2, 35377: 2, 9261: 1, 12068: 1, 22788: 1, 26795: 2, 27686: 2, 17339: 2, 32598: 1, 33246: 1, 34145: 1, 8633: 1, 10643: 1, 16126: 1, 16927: 1, 19591: 1, 26218: 2, 32999: 2, 6582: 4, 17205: 1, 23928: 4, 29489: 3, 23225: 1, 17021: 2, 4416: 1, 10748: 1, 19888: 1, 20300: 3, 33182: 1, 33183: 1, 15778: 1, 33236: 1, 27999: 1, 31655: 1, 3944: 4, 10198: 4, 16006: 2, 1159: 1, 7640: 1, 7641: 1, 9258: 1, 13720: 5, 14503: 2, 23297: 2, 31422: 4, 32600: 3, 14340: 1, 14440: 1, 24534: 7, 28578: 1, 26659: 1, 8925: 2, 30273: 2, 19039: 3, 29588: 1, 34646: 4, 24101: 1, 9914: 2, 9935: 3, 20016: 3, 26074: 4, 28165: 4, 3052: 3, 4166: 1, 8144: 6, 9161: 1, 11981: 1, 15053: 2, 15110: 1, 18536: 3, 22942: 1, 23515: 2, 26221: 2, 34624: 1, 6998: 1, 20785: 1, 22016: 1, 3678: 1, 32292: 1, 7304: 1, 28768: 1, 33771: 1, 19190: 2, 21758: 2, 5974: 2, 9880: 1, 9881: 3, 12692: 3, 4091: 1, 5858: 1, 5863: 1, 11531: 1, 11710: 1, 17673: 1, 25734: 3, 28907: 1, 6768: 3, 2031: 1, 3476: 8, 6696: 3, 7165: 1, 11683: 1, 14113: 1, 19029: 1, 23421: 1, 24257: 1, 25329: 1, 28301: 1, 7144: 1, 7322: 1, 33829: 1, 5265: 1, 9879: 2, 12696: 2, 13551: 3, 13712: 1, 14437: 1, 15937: 3, 17046: 2, 25472: 2, 29045: 3, 12188: 2, 13397: 3, 19249: 1, 21313: 2, 21983: 2, 10560: 1, 20791: 2, 33184: 1, 34437: 1, 4837: 1, 9007: 1, 12144: 1, 15369: 2, 16449: 1, 19578: 2, 22598: 1, 15243: 2, 24333: 1, 15379: 1, 16911: 1, 12782: 2, 16353: 2, 15408: 4, 17769: 1, 21307: 1, 25774: 1, 29535: 1, 6524: 1, 12522: 2, 19409: 1, 31670: 1, 22338: 2, 32427: 1, 33159: 1, 16293: 2, 17023: 1, 18804: 2, 18886: 1, 22956: 2, 4431: 2, 11975: 1, 14051: 1, 25299: 1, 30986: 1, 31903: 1, 4366: 1, 5828: 1, 10253: 1, 16757: 1, 16758: 1, 18651: 2, 22840: 4, 5928: 1, 20581: 1, 21446: 1, 28591: 3, 4052: 2, 9716: 4, 29550: 1, 33240: 5, 27016: 1, 29883: 1, 35406: 1, 35419: 1, 35547: 1, 35549: 1, 35682: 1, 35684: 1, 8236: 1, 12893: 1, 21247: 1, 31736: 1, 7697: 1, 9926: 1, 18071: 1, 19982: 1, 23171: 1, 24814: 1, 30688: 1, 32688: 2, 7177: 2, 14133: 1, 23388: 1, 27825: 2, 33509: 1, 17381: 1, 17382: 3, 18573: 1, 29497: 3, 14190: 4, 14634: 1, 15427: 4, 18495: 3, 25431: 1, 28273: 1, 4092: 1, 26605: 2, 26589: 2, 1206: 1, 14247: 5, 4229: 1, 31849: 3, 33068: 4, 35036: 1, 5006: 1, 6124: 2, 7225: 2, 10674: 2, 16459: 2, 20724: 2, 35608: 1, 96: 1, 276: 1, 6839: 1, 32551: 1, 7736: 4, 8363: 1, 9172: 1, 10825: 1, 11409: 1, 12022: 7, 13205: 1, 20446: 2, 31949: 2, 4945: 3, 5916: 1, 6092: 1, 7998: 1, 8631: 2, 9243: 1, 9246: 1, 11532: 2, 13111: 1, 13659: 1, 14986: 1, 16665: 1, 17115: 1, 17502: 3, 17859: 1, 18466: 1, 18590: 1, 18600: 1, 19901: 2, 20049: 1, 23001: 1, 23094: 1, 23268: 6, 23269: 1, 24009: 1, 24169: 2, 25053: 2, 26848: 2, 26934: 1, 27035: 3, 27899: 1, 29789: 1, 31594: 1, 31955: 1, 32303: 4, 32654: 1, 34165: 1, 2070: 1, 2852: 1, 7106: 1, 7141: 1, 8116: 1, 9435: 1, 10224: 1, 12200: 2, 13156: 1, 13162: 1, 13371: 2, 21461: 2, 23797: 1, 24786: 1, 31856: 1, 31858: 1, 35656: 2, 10600: 1, 21978: 1, 28007: 1, 16512: 1, 8263: 3, 25933: 2, 3478: 4, 12512: 1, 14032: 1, 18702: 1, 19326: 3, 22548: 1, 33481: 1, 35191: 1, 15269: 2, 7326: 1, 15486: 1, 17275: 1, 28559: 1, 20263: 1, 26482: 1, 32662: 1, 14284: 2, 18426: 2, 12615: 1, 13317: 1, 18938: 1, 27588: 4, 29792: 2, 32130: 1, 5553: 1, 9980: 1, 10630: 1, 25922: 1, 26125: 1, 29908: 1, 23475: 2, 33013: 1, 8399: 1, 5353: 1, 6697: 1, 12635: 3, 15683: 1, 28304: 1, 15301: 2, 4967: 2, 31420: 1, 4268: 2, 5589: 2, 22908: 2, 30109: 1, 6023: 3, 13642: 1, 15995: 1, 11404: 1, 14380: 1, 26779: 2, 34672: 1, 4504: 1, 5273: 1, 5605: 1, 5746: 4, 6321: 1, 6938: 1, 9130: 1, 9194: 1, 10953: 1, 11253: 2, 12402: 1, 13142: 1, 13524: 1, 18169: 1, 19919: 2, 20061: 1, 23635: 1, 25794: 1, 26301: 1, 26320: 3, 12419: 2, 26684: 1, 28489: 1, 14405: 1, 5000: 1, 17430: 1, 18343: 1, 24720: 2, 29818: 1, 10478: 2, 35331: 2, 35339: 2, 4044: 3, 14484: 2, 18719: 2, 6297: 1, 7193: 3, 12388: 1, 32947: 1, 34565: 1, 34570: 1, 14177: 2, 8099: 2, 8562: 1, 8590: 1, 20950: 2, 33294: 3, 35120: 1, 8413: 6, 18694: 3, 35090: 4, 4714: 2, 13380: 1, 15134: 5, 16786: 2, 28719: 4, 29023: 4, 35299: 1, 12481: 2, 14519: 2, 17959: 4, 1205: 1, 6131: 2, 14262: 1, 4669: 1, 4873: 1, 5658: 1, 14655: 1, 15342: 1, 15594: 1, 18760: 2, 19445: 1, 19720: 1, 21016: 1, 22244: 2, 28012: 1, 29650: 1, 35455: 1, 4890: 2, 6799: 1, 33129: 1, 30762: 1, 33188: 1, 181: 1, 2607: 1, 6260: 1, 7050: 1, 8102: 3, 16917: 1, 17272: 1, 34200: 1, 34669: 1, 2653: 3, 16044: 3, 21047: 1, 21310: 1, 28421: 1, 9872: 1, 13359: 1, 19100: 1, 27634: 2, 4465: 4, 16277: 3, 21944: 2, 28131: 3, 7145: 1, 32403: 1, 22532: 1, 28689: 1, 31735: 1, 26648: 1, 7047: 1, 24646: 2, 33937: 1, 21579: 1, 18241: 3, 29149: 3, 30274: 3, 4260: 2, 5772: 3, 7353: 1, 11108: 1, 11634: 5, 13475: 2, 22781: 1, 25937: 1, 25957: 2, 26394: 1, 27702: 2, 30137: 1, 33497: 1, 27381: 1, 29572: 2, 29706: 4, 29836: 1, 35756: 1, 38: 1, 32254: 2, 6989: 1, 12899: 3, 8757: 2, 8987: 1, 13456: 2, 28469: 1, 29874: 1, 34678: 1, 10741: 2, 22573: 1, 29490: 3, 34859: 3, 7053: 1, 9432: 1, 23560: 5, 27803: 1, 29273: 1, 3919: 2, 4237: 3, 4834: 1, 5462: 1, 5662: 1, 5791: 1, 5855: 1, 6191: 1, 6301: 1, 6450: 1, 6549: 2, 7113: 1, 7215: 1, 7260: 1, 7274: 1, 7485: 1, 7816: 1, 8165: 1, 8400: 1, 9606: 1, 9680: 2, 10174: 1, 10924: 1, 11864: 2, 11906: 2, 11928: 2, 12195: 2, 13505: 1, 14300: 1, 14373: 1, 14776: 1, 15101: 1, 15441: 1, 15764: 1, 16019: 1, 16197: 1, 16284: 1, 16458: 1, 16602: 1, 16625: 1, 16971: 1, 18895: 1, 19209: 1, 20682: 3, 20881: 1, 20991: 1, 21020: 2, 21056: 1, 21378: 1, 21453: 1, 22537: 1, 22739: 1, 22777: 1, 22930: 1, 23140: 1, 23227: 1, 23238: 1, 23319: 1, 23707: 2, 24054: 3, 26737: 1, 27478: 1, 27771: 1, 27954: 1, 28222: 1, 28478: 1, 28592: 3, 28726: 1, 28728: 1, 29342: 1, 30183: 1, 30258: 1, 30709: 1, 30864: 1, 31493: 1, 31734: 1, 33114: 1, 34647: 1, 34737: 1, 34759: 1, 34771: 1, 34892: 1, 35054: 1, 35088: 1, 35127: 1, 35202: 1, 35242: 1, 35635: 1, 15312: 5, 19171: 1, 28419: 2, 30735: 2, 33284: 3, 22131: 1, 8684: 2, 15334: 2, 29115: 2, 32726: 1, 12525: 1, 20375: 1, 8656: 1, 4540: 2, 5003: 2, 7146: 3, 13074: 2, 15548: 3, 15806: 2, 21656: 2, 22229: 3, 27070: 2, 3881: 1, 12310: 1, 20812: 1, 34849: 1, 12500: 1, 20784: 1, 31900: 1, 7152: 1, 10504: 1, 10505: 1, 23580: 1, 29960: 1, 29961: 1, 31027: 1, 34033: 1, 12778: 1, 12890: 1, 30365: 1, 32550: 1, 10585: 2, 22589: 1, 398: 1, 1271: 1, 11012: 1, 12216: 2, 22101: 1, 26886: 1, 29256: 1, 5232: 1, 15913: 1, 29796: 2, 8967: 1, 10096: 1, 22785: 1, 6385: 1, 12279: 1, 31471: 1, 31634: 2, 33505: 1, 13323: 3, 25406: 1, 25407: 1, 931: 1, 948: 1, 3034: 1, 5012: 6, 17100: 1, 19185: 1, 28690: 1, 14903: 1, 19846: 1, 29580: 3, 2074: 1, 3102: 1, 8710: 1, 9649: 1, 10124: 1, 10461: 2, 13423: 1, 14524: 1, 22554: 1, 30726: 1, 31566: 1, 32027: 1, 10483: 2, 20172: 1, 23017: 1, 26683: 1, 33784: 1, 2756: 1, 19582: 1, 22021: 1, 23096: 1, 12484: 2, 18935: 2, 16428: 1, 23993: 2, 4599: 1, 28413: 1, 31793: 1, 8231: 1, 8931: 1, 21865: 1, 33016: 1, 18929: 8, 19567: 1, 29854: 1, 21562: 1, 9613: 1, 12090: 1, 14877: 1, 30087: 2, 32588: 5, 35776: 1, 18791: 1, 5425: 2, 16801: 4, 26126: 2, 27231: 2, 9381: 3, 22628: 3, 28218: 4, 33907: 1, 21741: 3, 23418: 2, 33267: 3, 8861: 1, 9687: 1, 10492: 1, 13080: 1, 24048: 2, 28914: 1, 16737: 2, 28041: 1, 33204: 4, 35632: 2, 5158: 1, 9874: 1, 17324: 2, 33194: 1, 11227: 2, 26707: 2, 24408: 1, 24476: 1, 28163: 1, 4129: 1, 9777: 1, 11715: 1, 12254: 1, 14495: 1, 17903: 1, 23304: 1, 25454: 2, 25497: 1, 31614: 1, 33465: 1, 34085: 1, 502: 1, 3081: 1, 5516: 1, 6611: 1, 7042: 1, 7388: 3, 10375: 1, 11783: 1, 11918: 3, 12941: 1, 12942: 1, 13879: 1, 13932: 3, 14280: 2, 15191: 1, 15815: 1, 16558: 1, 17271: 2, 17389: 2, 17997: 1, 18810: 1, 20692: 1, 22005: 1, 22082: 1, 24687: 1, 24977: 1, 26231: 1, 26233: 1, 26628: 2, 26741: 1, 29511: 1, 29927: 2, 31220: 4, 31498: 1, 31669: 1, 31696: 1, 31778: 2, 32030: 1, 32974: 2, 33170: 1, 33733: 1, 34113: 1, 35531: 2, 35539: 1, 11264: 1, 21198: 5, 1216: 1, 6563: 2, 15152: 2, 20684: 1, 9666: 2, 15429: 2, 2080: 1, 15589: 2, 18246: 1, 19457: 1, 6682: 1, 26901: 1, 34382: 1, 3515: 1, 16047: 1, 19810: 1, 32950: 1, 4887: 2, 10372: 1, 17182: 2, 33234: 2, 4070: 1, 5166: 1, 6016: 1, 6017: 1, 7767: 1, 7769: 1, 7855: 1, 8423: 1, 10073: 1, 11530: 1, 11651: 1, 11771: 2, 12120: 1, 13208: 1, 13706: 3, 13999: 1, 15579: 1, 16764: 1, 19008: 2, 19011: 1, 19456: 1, 21415: 4, 22326: 1, 23626: 3, 24987: 1, 25181: 1, 25291: 1, 26286: 1, 26780: 1, 28147: 3, 29016: 1, 30314: 1, 30693: 1, 31599: 1, 32363: 1, 32596: 2, 34644: 1, 34679: 1, 35017: 1, 11724: 1, 2784: 1, 6529: 1, 8490: 1, 8529: 1, 11422: 1, 12564: 1, 14123: 1, 19836: 1, 20111: 1, 20118: 1, 22741: 2, 25523: 1, 8778: 1, 13107: 1, 34136: 2, 10755: 2, 30026: 2, 15128: 3, 15879: 1, 20920: 1, 23018: 1, 26054: 2, 26887: 1, 4700: 2, 5562: 8, 7018: 1, 10792: 2, 16415: 1, 16762: 1, 22090: 2, 26992: 1, 27582: 1, 33566: 1, 34534: 2, 11065: 2, 32487: 4, 1834: 1, 7109: 1, 11533: 1, 32045: 1, 1100: 4, 3396: 1, 16744: 2, 18872: 2, 18873: 1, 20422: 2, 28482: 2, 28750: 1, 35386: 1, 27751: 1, 31085: 3, 8845: 4, 13234: 1, 14890: 3, 24594: 1, 35362: 1, 9038: 1, 13221: 1, 10742: 1, 12831: 1, 28113: 1, 8443: 4, 25715: 3, 8094: 2, 10502: 1, 11457: 1, 13614: 2, 32557: 2, 11852: 1, 4420: 1, 8427: 2, 15397: 2, 21264: 1, 30581: 1, 14067: 2, 21988: 1, 10527: 2, 14947: 1, 4538: 2, 11971: 2, 12719: 3, 23686: 1, 25521: 2, 33918: 1, 34051: 2, 34400: 2, 34427: 2, 34592: 2, 34744: 2, 19830: 4, 8687: 1, 8909: 1, 12949: 2, 13428: 1, 14445: 1, 19657: 2, 20209: 2, 20398: 1, 20406: 1, 23878: 1, 27159: 1, 30418: 1, 33594: 1, 35594: 1, 18175: 2, 18642: 1, 30088: 1, 32043: 2, 34715: 1, 10118: 1, 20293: 1, 21745: 1, 28574: 1, 31850: 1, 31914: 1, 1125: 3, 7043: 1, 18356: 1, 18357: 1, 27448: 1, 30849: 1, 10553: 1, 33970: 3, 35666: 1, 23449: 4, 26814: 4, 33288: 4, 15451: 2, 21551: 1, 23576: 1, 27000: 2, 5001: 4, 5416: 3, 29159: 3, 2368: 2, 5395: 1, 5955: 2, 18358: 1, 22445: 1, 23790: 1, 30675: 4, 24285: 4, 24286: 3, 19496: 1, 27327: 2, 29384: 1, 31733: 1, 12710: 1, 28016: 1, 28204: 1, 30914: 2, 12152: 1, 16416: 1, 7196: 3, 19889: 2, 22292: 1, 15809: 1, 11781: 1, 13025: 1, 12925: 2, 34595: 1, 16637: 1, 20528: 4, 20686: 2, 32336: 2, 16842: 2, 18890: 2, 22608: 1, 33562: 1, 8693: 1, 14402: 1, 15295: 1, 28201: 1, 29915: 1, 3979: 1, 11234: 1, 11238: 1, 15310: 1, 21281: 2, 21587: 3, 30467: 1, 32715: 1, 23430: 3, 29941: 1, 3173: 2, 4796: 1, 4797: 1, 8563: 1, 9335: 1, 10438: 1, 11548: 1, 11803: 1, 11887: 1, 21141: 1, 21349: 1, 21630: 1, 22310: 1, 26108: 2, 27213: 1, 27904: 2, 28628: 1, 10759: 1, 24199: 1, 8315: 2, 8325: 3, 19548: 1, 20494: 1, 5483: 2, 15270: 4, 20502: 3, 22705: 4, 18617: 1, 19925: 1, 24991: 1, 8506: 1, 12170: 4, 12576: 4, 16301: 1, 19891: 1, 29104: 3, 644: 1, 2895: 1, 3364: 1, 11258: 1, 17236: 2, 26256: 2, 31113: 1, 32771: 2, 27010: 2, 6613: 1, 13438: 1, 13937: 4, 30545: 2, 6701: 1, 19712: 1, 22659: 1, 23317: 1, 27850: 5, 35650: 4, 12444: 1, 31243: 1, 10002: 2, 4668: 1, 9236: 1, 14152: 2, 30322: 2, 8321: 1, 11881: 2, 12031: 1, 34268: 3, 21079: 1, 22396: 1, 32516: 1, 34461: 1, 8386: 1, 19133: 1, 29768: 1, 33247: 2, 20089: 1, 21441: 1, 22735: 1, 23111: 1, 28640: 1, 32822: 1, 8239: 1, 13561: 2, 26095: 1, 27292: 1, 12073: 3, 32396: 1, 6198: 6, 6857: 1, 12677: 2, 15141: 2, 23455: 2, 32405: 1, 34916: 1, 35668: 1, 1337: 1, 2030: 2, 3484: 1, 5290: 1, 5477: 1, 6113: 1, 10049: 1, 12504: 1, 19859: 1, 20192: 1, 21118: 1, 21119: 1, 21120: 1, 22487: 2, 22769: 1, 22933: 2, 23551: 1, 24299: 2, 28203: 1, 30432: 2, 31919: 2, 32000: 3, 32340: 1, 34392: 1, 34471: 1, 35345: 2, 5231: 1, 6208: 1, 7944: 1, 8788: 1, 10819: 1, 10915: 1, 11348: 1, 11349: 1, 11833: 1, 12546: 1, 12550: 1, 13615: 1, 13616: 1, 13863: 1, 13956: 1, 18753: 2, 19010: 4, 19027: 1, 19707: 1, 20715: 1, 22466: 1, 22807: 1, 26353: 1, 26392: 2, 26756: 3, 27173: 2, 27311: 1, 30157: 2, 30201: 2, 30202: 1, 32502: 1, 34095: 1, 16228: 3, 16586: 2, 33921: 2, 10361: 1, 12577: 1, 8840: 1, 10739: 2, 23812: 1, 29486: 1, 15116: 2, 21543: 2, 22882: 1, 22900: 1, 24968: 2, 9545: 2, 4055: 1, 4218: 1, 9264: 1, 13797: 1, 17936: 1, 31836: 1, 16051: 3, 6766: 2, 10106: 2, 13996: 3, 17323: 2, 30884: 5, 33844: 1, 10428: 1, 16740: 1, 26829: 1, 29380: 1, 2754: 3, 6605: 2, 10649: 1, 15277: 2, 18625: 1, 29060: 1, 34860: 1, 4604: 1, 5910: 2, 8472: 2, 12293: 1, 13395: 1, 35494: 1, 32612: 1, 12499: 2, 15100: 3, 18878: 1, 25331: 1, 25910: 1, 2427: 1, 2723: 1, 14992: 1, 19320: 1, 21242: 1, 29923: 1, 34809: 1, 35592: 2, 17538: 1, 26287: 1, 32542: 1, 6579: 2, 10260: 1, 26908: 1, 10550: 1, 31565: 1, 2158: 1, 15336: 2, 33548: 2, 1178: 1, 8642: 1, 20614: 1, 23439: 2, 33017: 2, 33207: 1, 20098: 1, 8222: 1, 12539: 1, 14063: 1, 22149: 3, 27574: 1, 58: 1, 449: 1, 7356: 3, 15394: 2, 22030: 1, 23026: 3, 23027: 2, 8062: 1, 19124: 1, 21076: 1, 31551: 1, 34191: 2, 8604: 1, 8901: 1, 10345: 1, 18969: 3, 20228: 1, 23348: 1, 26768: 1, 31708: 1, 1087: 1, 1091: 1, 2664: 1, 2941: 2, 3942: 1, 4051: 1, 4086: 1, 4432: 1, 4494: 2, 4621: 3, 4856: 1, 4923: 1, 4956: 1, 5020: 1, 5096: 1, 5626: 1, 5640: 1, 5771: 1, 5800: 1, 5892: 2, 6401: 3, 6457: 1, 6458: 1, 6617: 1, 6777: 1, 7206: 1, 7354: 1, 8005: 1, 8015: 1, 8109: 1, 8157: 1, 8668: 1, 8827: 1, 9202: 3, 9245: 1, 9380: 1, 9461: 3, 9581: 1, 9588: 1, 9598: 1, 9664: 1, 10064: 1, 10126: 1, 10314: 1, 10852: 3, 10912: 1, 11363: 1, 11435: 1, 11991: 1, 12113: 2, 12454: 1, 12610: 2, 12678: 1, 12868: 1, 12869: 1, 12914: 1, 12921: 1, 13006: 1, 13034: 1, 13159: 1, 13203: 2, 13387: 1, 13411: 1, 13662: 1, 13979: 1, 14192: 1, 14507: 1, 14840: 1, 15081: 1, 15089: 1, 15313: 1, 15506: 1, 15571: 2, 15972: 1, 15979: 1, 15985: 1, 16574: 2, 16584: 1, 16647: 1, 16901: 1, 17083: 1, 17215: 2, 17231: 2, 17494: 1, 17496: 2, 17646: 1, 17690: 1, 17693: 1, 17805: 1, 17839: 1, 17928: 1, 18007: 1, 18248: 1, 18280: 1, 18341: 1, 18599: 1, 18843: 1, 19123: 2, 19254: 1, 19769: 2, 20106: 1, 20367: 1, 20644: 2, 20916: 1, 21015: 1, 21624: 1, 21692: 1, 22028: 2, 22141: 1, 22754: 3, 22813: 1, 23183: 1, 23275: 1, 23529: 1, 23554: 1, 23566: 3, 23567: 1, 23587: 1, 23691: 1, 23751: 2, 24110: 2, 24178: 1, 24514: 1, 24538: 1, 24585: 1, 24817: 2, 25125: 1, 25290: 2, 25625: 1, 25831: 1, 25835: 1, 25860: 1, 25884: 1, 25975: 1, 25979: 2, 25980: 1, 26104: 1, 26229: 2, 26318: 1, 26462: 4, 26798: 1, 26947: 3, 27323: 1, 27368: 2, 27379: 1, 27389: 1, 27675: 1, 27705: 1, 27706: 1, 27737: 1, 27833: 1, 27863: 1, 27864: 1, 27877: 1, 27915: 1, 27917: 1, 28032: 1, 28061: 1, 28261: 1, 28397: 2, 29071: 3, 29075: 1, 29162: 2, 29185: 1, 29303: 1, 29352: 1, 29811: 1, 30094: 1, 30412: 1, 30429: 1, 30513: 1, 30595: 1, 30708: 1, 30812: 1, 31111: 2, 31126: 2, 31184: 2, 31261: 2, 31631: 1, 31654: 1, 31780: 1, 32033: 1, 32685: 1, 32747: 1, 32787: 1, 32801: 1, 32931: 1, 33034: 1, 33476: 1, 33851: 2, 34067: 1, 34073: 1, 34142: 1, 34351: 1, 34421: 1, 34591: 1, 34976: 1, 35643: 1, 17037: 1, 19208: 1, 26624: 1, 337: 2, 1545: 1, 2799: 1, 2808: 1, 3966: 3, 4346: 1, 4545: 1, 4769: 1, 4818: 2, 4982: 1, 5325: 2, 5599: 2, 5667: 1, 5802: 1, 5938: 1, 6010: 2, 6289: 1, 6455: 1, 6809: 1, 7300: 1, 7978: 1, 8922: 1, 9064: 1, 10275: 1, 10279: 1, 10757: 1, 11052: 1, 11056: 1, 11101: 1, 11223: 1, 11254: 1, 11450: 1, 11503: 2, 11524: 1, 11581: 1, 11869: 1, 11937: 1, 12474: 1, 12739: 1, 12855: 1, 13024: 2, 13308: 1, 13492: 2, 13527: 1, 13631: 1, 13670: 2, 14081: 3, 14540: 1, 14698: 1, 14860: 1, 14942: 1, 14943: 1, 15068: 1, 15108: 1, 15816: 1, 16510: 2, 16871: 1, 16897: 1, 17009: 3, 17403: 1, 17420: 1, 18136: 2, 18348: 1, 18729: 1, 18854: 1, 19003: 1, 19019: 2, 19907: 1, 20281: 1, 20370: 1, 21439: 1, 21837: 1, 21939: 1, 21963: 1, 22308: 1, 22311: 1, 22703: 1, 23048: 1, 23246: 1, 23768: 3, 24337: 1, 24396: 2, 24553: 2, 24792: 3, 24836: 1, 24990: 3, 25162: 1, 25164: 1, 25239: 2, 25688: 1, 25748: 1, 25819: 4, 25891: 1, 26703: 1, 26790: 1, 27131: 1, 27223: 1, 27318: 3, 27889: 1, 27942: 2, 28193: 1, 28333: 2, 28445: 1, 28986: 1, 29471: 1, 29487: 1, 29632: 1, 30008: 1, 30471: 1, 31043: 1, 31298: 1, 31558: 1, 31718: 2, 31721: 1, 32245: 1, 32269: 2, 32763: 1, 32839: 1, 32886: 2, 32899: 2, 33932: 2, 33935: 1, 34286: 1, 34343: 2, 34794: 1, 34828: 1, 34829: 1, 34939: 2, 35014: 1, 35218: 1, 35286: 2, 35348: 1, 35349: 1, 35580: 1, 35611: 1, 35710: 1, 35739: 1, 14911: 1, 7923: 1, 8025: 1, 10356: 1, 15103: 1, 33002: 1, 6714: 1, 6716: 1, 4016: 1, 4037: 1, 4920: 1, 5172: 1, 5263: 1, 5264: 1, 5424: 2, 5427: 1, 5428: 1, 5433: 1, 5619: 1, 6618: 1, 7436: 3, 8030: 1, 8407: 6, 9293: 1, 9391: 1, 9424: 1, 9533: 1, 9633: 1, 10294: 1, 10316: 1, 10931: 1, 10982: 1, 13047: 1, 13262: 1, 13513: 1, 13775: 3, 13971: 1, 14361: 4, 14470: 1, 15215: 1, 16229: 1, 16268: 1, 16562: 1, 16723: 1, 16791: 1, 17285: 1, 17497: 1, 17566: 1, 17800: 2, 18003: 2, 18022: 1, 19958: 1, 19967: 1, 20400: 1, 21023: 1, 21956: 2, 23825: 1, 25098: 2, 25229: 1, 25486: 1, 25577: 1, 26289: 1, 26296: 1, 26711: 2, 26804: 1, 27108: 1, 27187: 1, 27411: 1, 29062: 1, 29093: 3, 29267: 1, 29429: 1, 29506: 1, 30931: 1, 31037: 1, 31516: 1, 32308: 1, 34026: 1, 35110: 1, 35235: 1, 16205: 1, 16207: 1, 21750: 1, 19: 1, 1368: 1, 1591: 1, 26661: 1, 30125: 1, 31431: 1, 31798: 1, 33902: 2, 6798: 2, 16864: 2, 25840: 1, 35155: 2, 22607: 1, 6021: 1, 17173: 1, 5486: 3, 8130: 2, 32404: 2, 1435: 1, 1633: 2, 1868: 1, 1920: 1, 3469: 1, 4062: 1, 4361: 1, 5343: 1, 7189: 1, 11478: 1, 12005: 1, 12006: 1, 16151: 1, 20749: 1, 23337: 1, 24611: 4, 28492: 1, 29241: 1, 31568: 1, 31569: 3, 34405: 1, 35240: 1, 9285: 1, 23544: 2, 27008: 2, 19452: 1, 23681: 1, 28178: 1, 28385: 1, 27018: 1, 31536: 1, 15969: 3, 23597: 1, 28365: 1, 33910: 2, 3911: 1, 6642: 1, 7865: 1, 8393: 1, 8508: 1, 15048: 1, 19875: 1, 9412: 2, 24211: 2, 26299: 2, 29986: 2, 30866: 2, 32556: 2, 10042: 1, 30338: 1, 22060: 2, 29488: 2, 19866: 2, 6746: 1, 26449: 1, 18631: 1, 9813: 1, 10405: 1, 24787: 1, 30038: 1, 19015: 1, 21522: 1, 28094: 1, 33520: 1, 14798: 1, 28047: 1, 30237: 1, 6245: 1, 6864: 1, 4673: 1, 7763: 1, 12583: 1, 13827: 1, 20776: 2, 22596: 1, 22856: 1, 25487: 1, 27526: 1, 32036: 1, 3509: 2, 11024: 2, 29786: 2, 21090: 1, 12080: 1, 35045: 2, 4656: 1, 9404: 1, 21282: 1, 10217: 2, 25209: 1, 29244: 1, 29847: 2, 29848: 1, 29849: 1, 9387: 1, 28866: 2, 28867: 2, 17401: 1, 7191: 1, 9040: 1, 18978: 1, 27416: 1, 7202: 2, 11058: 1, 14908: 1, 34013: 1, 18395: 2, 3647: 1, 35306: 3, 7033: 1, 12198: 1, 16127: 1, 25542: 1, 26382: 1, 28999: 2, 26131: 1, 8101: 1, 10506: 1, 16990: 1, 17086: 1, 24601: 1, 2843: 1, 8135: 1, 9490: 1, 10485: 1, 11360: 1, 13763: 1, 16895: 1, 17555: 1, 18688: 1, 22830: 1, 23373: 1, 35441: 1, 4697: 2, 5027: 1, 32558: 1, 26993: 1, 34979: 1, 7415: 1, 7507: 1, 16733: 2, 31453: 1, 33014: 1, 19691: 1, 22710: 1, 16518: 1, 3148: 1, 14293: 1, 22092: 1, 29409: 1, 3244: 1, 19368: 1, 26203: 2, 28381: 1, 5240: 1, 11767: 1, 11788: 1, 13933: 1, 14014: 1, 17501: 1, 18223: 3, 22564: 1, 22566: 1, 24835: 1, 25338: 1, 25735: 1, 26466: 1, 27624: 1, 27627: 1, 27909: 1, 29132: 1, 30362: 1, 33755: 1, 5942: 1, 15649: 2, 35585: 1, 9843: 1, 14922: 1, 32934: 1, 4896: 1, 8629: 2, 12917: 1, 26744: 1, 30002: 4, 30006: 3, 4665: 1, 8084: 3, 10057: 2, 9026: 1, 23568: 1, 18630: 1, 29573: 2, 14923: 2, 20456: 1, 32969: 1, 30945: 1, 13016: 2, 14606: 1, 17254: 1, 19895: 1, 22834: 1, 23895: 1, 28149: 2, 2975: 1, 10534: 2, 31658: 1, 31659: 1, 32922: 1, 10919: 1, 24578: 2, 28386: 1, 2762: 1, 11964: 2, 33187: 2, 20763: 1, 28356: 1, 17698: 1, 26011: 1, 30896: 1, 4474: 3, 15537: 1, 17404: 1, 18992: 1, 28759: 1, 29601: 1, 31933: 1, 8980: 2, 9711: 1, 21572: 2, 1987: 2, 7255: 2, 30100: 2, 33930: 2, 24548: 1, 30664: 1, 23474: 2, 23517: 2, 11995: 2, 19041: 2, 26518: 2, 23581: 1, 23582: 1, 35081: 2, 5546: 1, 12642: 1, 19187: 1, 19485: 1, 29099: 1, 33215: 1, 8296: 3, 9475: 2, 18681: 3, 15933: 1, 14452: 1, 23961: 1, 30783: 1, 10080: 1, 22378: 1, 18128: 2, 18645: 1, 10385: 1, 21002: 2, 7461: 2, 25026: 1, 4603: 2, 18619: 2, 19394: 1, 19432: 1, 21464: 1, 343: 1, 554: 1, 599: 2, 1456: 2, 1600: 1, 2766: 1, 7504: 1, 15070: 1, 17428: 2, 19893: 1, 23805: 1, 26204: 1, 28681: 1, 22008: 1, 8060: 1, 1308: 1, 30570: 1, 30655: 1, 24939: 1, 35207: 1, 12128: 1, 15340: 1, 15412: 1, 19311: 1, 19391: 1, 8533: 1, 10335: 1, 10365: 1, 10730: 1, 28940: 1, 29448: 1, 29776: 1, 5082: 1, 10307: 1, 4960: 1, 23482: 1, 31082: 1, 24311: 1, 2168: 2, 2580: 1, 4779: 1, 4783: 1, 6588: 1, 7783: 1, 8625: 1, 9626: 1, 11872: 1, 12211: 1, 13174: 1, 13654: 1, 15072: 1, 15691: 1, 15693: 1, 16514: 1, 17089: 1, 19684: 1, 20811: 1, 21208: 1, 21269: 1, 21814: 1, 24045: 1, 24201: 1, 24860: 1, 25848: 2, 26384: 1, 26406: 1, 26494: 1, 26495: 1, 26817: 1, 27542: 2, 30591: 1, 30701: 3, 31676: 1, 33109: 1, 33313: 1, 33644: 1, 6003: 1, 16628: 1, 18549: 1, 30668: 1, 9996: 1, 10665: 1, 29275: 1, 29383: 1, 19793: 1, 19887: 1, 21270: 1, 23971: 1, 32647: 1, 13894: 3, 18339: 1, 19566: 1, 23216: 3, 23932: 1, 23935: 1, 32829: 3, 30001: 4, 11976: 1, 20207: 1, 30098: 1, 34792: 2, 35699: 1, 891: 1, 4344: 1, 4734: 1, 5904: 1, 6182: 1, 7469: 1, 8036: 1, 9559: 5, 10148: 1, 11106: 1, 11131: 1, 11465: 1, 12759: 1, 13241: 2, 13458: 2, 14118: 2, 14279: 1, 14359: 1, 14432: 1, 14692: 1, 15526: 1, 16186: 1, 17535: 1, 17620: 1, 18287: 2, 18552: 1, 18722: 1, 18932: 1, 19673: 1, 19812: 1, 19851: 1, 23892: 1, 23936: 1, 25345: 1, 25926: 1, 26354: 1, 26676: 1, 26950: 1, 27395: 1, 28510: 1, 29089: 1, 29977: 1, 32161: 1, 32850: 1, 32927: 1, 33154: 1, 33636: 1, 34593: 1, 34725: 1, 35302: 1, 35461: 1, 297: 1, 1630: 1, 2309: 1, 7371: 1, 7534: 1, 7647: 1, 10184: 1, 11406: 1, 12295: 1, 21731: 1, 25194: 1, 29386: 1, 26923: 1, 10896: 1, 12002: 1, 12560: 1, 16980: 1, 17217: 1, 27866: 1, 28718: 1, 31873: 1, 9919: 1, 12337: 1, 12531: 1, 19178: 1, 19221: 1, 23075: 1, 32480: 1, 8792: 1, 14699: 1, 18024: 1, 18027: 1, 18030: 1, 20317: 1, 23489: 1, 25433: 1, 25772: 1, 25858: 1, 26308: 1, 34521: 1, 9946: 1, 28848: 1, 30574: 1, 6781: 1, 8606: 1, 21419: 1, 27215: 1, 27591: 1, 27593: 1, 30593: 1, 33822: 1, 34656: 2, 2744: 1, 4782: 1, 12393: 1, 17753: 1, 26802: 1, 34065: 1, 20524: 1, 1715: 1, 12138: 1, 15033: 1, 16356: 1, 21239: 2, 27123: 1, 3795: 1, 30308: 2, 20283: 2, 1246: 1, 7848: 1, 10562: 1, 14117: 1, 15880: 1, 21635: 1, 30498: 1, 35690: 1, 34279: 1, 34937: 1, 4343: 1, 21918: 1, 24140: 1, 11397: 1, 11398: 1, 26446: 1, 27029: 1, 10001: 1, 32757: 1, 26789: 1, 3907: 1, 10122: 1, 16795: 1, 16797: 1, 17225: 1, 17471: 1, 18125: 1, 19796: 1, 24445: 1, 24929: 1, 26127: 1, 14141: 2, 20994: 1, 21623: 2, 1161: 1, 20522: 1, 4839: 2, 6167: 2, 7179: 2, 7263: 2, 7682: 2, 8480: 5, 8919: 2, 12351: 2, 12378: 2, 14546: 2, 16622: 2, 20157: 2, 21986: 2, 25676: 3, 30898: 2, 31752: 2, 32830: 2, 33647: 2, 18847: 1, 21973: 1, 7754: 1, 10110: 2, 21780: 1, 125: 1, 6197: 1, 8948: 1, 9186: 1, 26867: 1, 27011: 1, 34535: 1, 6527: 1, 33227: 1, 14918: 1, 21319: 1, 8091: 1, 16160: 1, 16233: 3, 22584: 1, 28958: 2, 5374: 1, 16540: 1, 16542: 1, 20251: 1, 33438: 1, 9524: 1, 13512: 1, 16341: 1, 7741: 2, 17956: 2, 21221: 2, 24123: 1, 12625: 1, 16580: 1, 5704: 1, 12680: 1, 12681: 1, 13477: 1, 2177: 1, 17803: 1, 24839: 1, 6337: 1, 9298: 2, 10686: 2, 26120: 1, 27439: 1, 27532: 1, 31131: 1, 31351: 1, 32171: 1, 32719: 1, 35177: 1, 7034: 2, 3962: 1, 4999: 1, 6335: 1, 16385: 1, 16386: 1, 18467: 1, 18473: 1, 28319: 1, 32770: 1, 32880: 1, 3493: 1, 8238: 1, 15299: 1, 28881: 1, 5900: 2, 14825: 1, 17348: 2, 32527: 2, 4278: 1, 26762: 1, 4606: 1, 9669: 1, 5183: 1, 8120: 1, 16429: 3, 19689: 1, 22394: 1, 1629: 1, 5947: 2, 9181: 1, 20240: 1, 21054: 1, 22388: 1, 24390: 1, 28370: 1, 30771: 1, 10055: 2, 20871: 1, 27267: 1, 8951: 1, 25904: 1, 8880: 1, 9510: 1, 14327: 1, 18208: 1, 20392: 2, 20427: 2, 26398: 1, 29884: 1, 33374: 1, 30223: 1, 19168: 1, 19184: 1, 28050: 1, 33212: 1, 26695: 2, 34: 1, 36: 2, 749: 1, 1914: 1, 1919: 1, 2300: 1, 2302: 1, 3483: 1, 3497: 1, 3876: 1, 4212: 3, 4274: 1, 4626: 1, 5295: 1, 5317: 1, 5506: 1, 5550: 1, 5780: 1, 5885: 2, 6217: 1, 6699: 1, 7171: 1, 7317: 1, 7348: 1, 7447: 1, 8977: 1, 9445: 1, 9629: 1, 9710: 1, 12131: 1, 15146: 1, 16888: 1, 17649: 1, 17732: 1, 18494: 1, 18509: 1, 19531: 1, 19594: 1, 19751: 1, 19804: 1, 20260: 1, 20314: 1, 21048: 1, 21105: 2, 21197: 1, 21573: 1, 21669: 1, 22233: 1, 22876: 1, 22878: 1, 23104: 1, 23198: 1, 24170: 2, 24590: 1, 24871: 1, 25171: 1, 26081: 1, 26868: 1, 26984: 1, 27151: 1, 27157: 1, 27402: 1, 28601: 1, 29063: 1, 29087: 1, 29311: 2, 29447: 1, 31008: 1, 31623: 1, 32948: 1, 33090: 1, 33091: 1, 34648: 1, 34813: 3, 9117: 2, 10054: 1, 10840: 1, 15910: 2, 16364: 2, 16397: 1, 17606: 1, 20915: 1, 24496: 1, 26805: 1, 27335: 1, 30391: 1, 32761: 1, 4607: 2, 16307: 1, 18918: 2, 23656: 2, 17515: 1, 23387: 1, 35392: 1, 6586: 1, 10611: 1, 16807: 1, 30557: 1, 31991: 2, 5990: 1, 10599: 1, 11511: 1, 19676: 1, 21255: 1, 21256: 1, 30025: 1, 34131: 1, 34132: 1, 34137: 1, 4702: 1, 31847: 1, 12101: 1, 286: 1, 6712: 3, 7243: 1, 10555: 1, 24627: 1, 27713: 1, 33006: 1, 35715: 1, 5548: 1, 11879: 1, 18224: 2, 18365: 1, 29993: 1, 32985: 2, 7064: 2, 12084: 1, 12911: 2, 13160: 2, 13409: 1, 27826: 1, 29351: 1, 26460: 1, 6166: 1, 33051: 1, 14276: 1, 16885: 1, 27693: 1, 28663: 1, 3858: 1, 3917: 1, 15472: 1, 21839: 1, 25035: 1, 2680: 1, 8098: 1, 8548: 2, 27034: 1, 30328: 2, 13588: 1, 4407: 1, 11853: 1, 18344: 1, 18345: 1, 25744: 1, 26277: 1, 27308: 1, 30382: 1, 33695: 1, 6752: 1, 31705: 1, 4791: 2, 6424: 1, 23000: 1, 34714: 1, 12064: 1, 15416: 1, 25792: 1, 28477: 1, 9319: 1, 20352: 1, 21081: 1, 21450: 1, 33161: 1, 18775: 3, 22242: 1, 26297: 2, 28208: 1, 19505: 1, 24104: 1, 24962: 1, 32949: 1, 9067: 4, 32579: 3, 35068: 3, 396: 1, 4259: 1, 4342: 1, 4539: 1, 4634: 1, 5066: 1, 5332: 1, 5690: 1, 5805: 1, 6873: 1, 8210: 1, 8435: 1, 8616: 1, 8630: 1, 9003: 1, 9190: 1, 9200: 1, 9478: 1, 9661: 1, 9679: 1, 9778: 1, 10026: 1, 10415: 1, 10901: 1, 11420: 1, 11459: 1, 11460: 1, 12422: 1, 12880: 1, 13201: 1, 13338: 1, 14582: 1, 15795: 1, 15987: 1, 16069: 1, 16070: 1, 16437: 1, 16537: 1, 16879: 1, 16924: 1, 17054: 1, 17648: 1, 17689: 1, 17931: 1, 18036: 2, 18194: 1, 18352: 2, 18518: 1, 18659: 1, 19778: 1, 20200: 1, 20266: 3, 21139: 1, 21403: 1, 21408: 1, 21571: 1, 22348: 1, 22447: 1, 22681: 1, 22917: 1, 22998: 1, 23033: 1, 23298: 2, 23434: 1, 23579: 1, 23764: 1, 24270: 1, 24580: 2, 24582: 1, 24614: 1, 25292: 1, 25652: 1, 25785: 1, 25870: 1, 27572: 1, 28343: 1, 28481: 1, 28762: 1, 29829: 1, 29972: 1, 30003: 1, 30005: 1, 30061: 1, 30361: 1, 30873: 1, 30924: 1, 31353: 1, 31475: 1, 31476: 1, 31779: 1, 31815: 1, 32499: 1, 32672: 2, 33407: 1, 33824: 1, 34133: 1, 34864: 1, 35250: 1, 30892: 1, 32970: 1, 14315: 1, 18313: 2, 29704: 3, 12618: 1, 19214: 1, 33614: 1, 8682: 1, 17258: 1, 20082: 1, 30104: 2, 19509: 1, 30185: 1, 3245: 1, 12585: 1, 34607: 1, 1845: 1, 11911: 1, 12700: 1, 18883: 1, 24246: 1, 24247: 1, 24248: 1, 24249: 1, 24250: 1, 21465: 1, 6147: 1, 4430: 1, 5803: 1, 7939: 2, 8160: 1, 13190: 1, 26389: 1, 27268: 1, 30264: 1, 4356: 2, 9961: 2, 15422: 2, 23809: 1, 26943: 2, 28289: 2, 10948: 2, 22263: 2, 32649: 1, 34352: 1, 6138: 1, 28167: 1, 28596: 1, 13621: 1, 13044: 1, 19241: 1, 12963: 1, 21049: 1, 19693: 1, 3512: 1, 6683: 1, 14744: 1, 18940: 1, 22698: 1, 25970: 1, 3982: 1, 20677: 1, 11614: 2, 13349: 1, 20558: 1, 25825: 1, 2644: 3, 3511: 1, 14467: 1, 19281: 1, 22939: 1, 22941: 1, 32488: 1, 8774: 1, 13418: 1, 29398: 1, 32963: 1, 14729: 1, 17045: 1, 6723: 1, 48: 1, 10746: 1, 23813: 1, 24485: 1, 8998: 1, 23438: 1, 30643: 1, 30099: 1, 2241: 1, 3069: 1, 3200: 1, 3206: 1, 3887: 1, 5130: 1, 5275: 1, 5647: 1, 5716: 1, 5806: 1, 8747: 1, 10689: 1, 11198: 1, 11265: 1, 11470: 1, 12123: 1, 14594: 1, 14836: 1, 16156: 1, 16242: 1, 16323: 1, 17000: 1, 17179: 1, 17424: 1, 17610: 1, 18200: 1, 19502: 1, 19983: 1, 21994: 1, 23296: 1, 25659: 1, 26214: 1, 26467: 1, 27973: 1, 31539: 1, 31983: 1, 33346: 1, 33402: 2, 34766: 1, 9806: 1, 9871: 1, 19625: 1, 31650: 1, 32113: 1, 34419: 1, 15375: 2, 25820: 1, 30560: 2, 13300: 2, 22633: 1, 35239: 1, 6555: 1, 18897: 1, 10589: 1, 8242: 1, 8761: 1, 16204: 2, 2701: 1, 2707: 1, 7214: 1, 12270: 1, 24500: 1, 24944: 2, 30017: 1, 31412: 1, 34623: 1, 22980: 1, 22981: 1, 22990: 1, 23344: 1, 23346: 1, 26420: 1, 29183: 1, 34637: 1, 35636: 2, 15220: 2, 30286: 1, 32372: 1, 34098: 1, 9792: 2, 17238: 1, 27986: 1, 30244: 2, 32528: 1, 10383: 1, 24096: 1, 26070: 1, 31198: 1, 29694: 1, 7876: 1, 11252: 2, 14661: 1, 20543: 1, 21904: 1, 6326: 1, 16099: 1, 16279: 1, 31767: 1, 34932: 1, 19988: 1, 16544: 1, 24256: 1, 24261: 1, 24645: 1, 34950: 1, 35619: 1, 35631: 1, 13643: 1, 25902: 1, 29186: 1, 16389: 1, 22386: 1, 6804: 1, 9596: 1, 9868: 1, 13812: 1, 14647: 1, 14649: 1, 14650: 1, 16767: 1, 23005: 2, 26551: 1, 28872: 2, 24219: 1, 26055: 1, 17722: 1, 34706: 1, 7129: 2, 15479: 1, 27036: 1, 35646: 1, 22186: 1, 16865: 2, 15354: 1, 18805: 1, 19074: 1, 35181: 1, 14169: 1, 21098: 1, 33342: 1, 3128: 1, 4772: 1, 19098: 1, 21746: 2, 6277: 2, 6485: 2, 9936: 2, 31935: 2, 4182: 1, 6274: 1, 19206: 1, 23773: 1, 25531: 1, 28670: 1, 33167: 1, 14574: 1, 14899: 1, 17858: 1, 20179: 1, 11726: 1, 27878: 1, 22734: 1, 5186: 1, 5808: 1, 6090: 1, 6306: 1, 7462: 1, 8820: 1, 9206: 2, 10574: 1, 10827: 1, 13378: 1, 15037: 1, 15118: 1, 16372: 1, 16929: 1, 16931: 1, 16983: 1, 18476: 1, 18773: 1, 19489: 1, 19494: 1, 19551: 1, 19733: 1, 20705: 1, 21379: 1, 21908: 1, 22241: 1, 24184: 1, 25562: 1, 26487: 1, 28213: 1, 28258: 1, 29430: 2, 29523: 1, 29554: 1, 31397: 1, 31556: 1, 31791: 1, 33523: 2, 34112: 1, 34603: 1, 3482: 2, 3494: 2, 9899: 2, 14828: 2, 32503: 2, 32670: 2, 22373: 2, 4695: 1, 7713: 1, 13151: 1, 33075: 1, 9730: 4, 30752: 1, 8867: 1, 12589: 1, 31800: 1, 32540: 1, 22262: 3, 29417: 1, 30637: 1, 30433: 1, 5866: 1, 11010: 2, 11330: 1, 30818: 1, 31044: 1, 33081: 2, 8028: 1, 9654: 1, 16163: 1, 13394: 1, 29014: 1, 35055: 1, 35320: 1, 6087: 1, 16736: 1, 21229: 1, 28015: 1, 30790: 1, 33899: 1, 33901: 1, 9859: 1, 18698: 1, 19211: 1, 32061: 1, 6225: 1, 18564: 2, 21591: 1, 4902: 1, 12136: 1, 29945: 1, 23038: 1, 25114: 1, 16000: 1, 16001: 1, 21163: 1, 9532: 2, 14577: 1, 17490: 1, 19744: 1, 19745: 1, 24070: 2, 24072: 1, 28789: 1, 32808: 1, 32976: 1, 35091: 1, 25775: 1, 8856: 2, 9832: 1, 10152: 1, 17375: 1, 19615: 1, 34500: 1, 30260: 1, 31560: 1, 34767: 1, 31504: 1, 31835: 1, 11015: 1, 18565: 1, 19544: 1, 19611: 1, 29294: 1, 30669: 1, 8663: 1, 8665: 1, 17007: 1, 19725: 1, 27330: 1, 28210: 1, 34797: 1, 1112: 1, 1524: 1, 2138: 1, 5801: 1, 9928: 1, 15561: 1, 22646: 1, 28069: 1, 22100: 1, 9589: 1, 10768: 1, 23115: 1, 34865: 1, 30539: 1, 6164: 1, 10144: 1, 11987: 1, 15022: 2, 17957: 1, 19388: 1, 22013: 2, 22189: 1, 23091: 1, 24185: 1, 25678: 1, 28042: 1, 31281: 1, 33671: 1, 33672: 1, 34965: 1, 7419: 1, 14403: 1, 18809: 1, 18968: 1, 19252: 1, 22604: 1, 25478: 2, 9369: 1, 15443: 1, 22896: 1, 6770: 1, 15516: 1, 20010: 1, 29338: 1, 31001: 2, 4448: 1, 28603: 1, 28693: 1, 34213: 1, 13471: 1, 13480: 1, 18485: 1, 34802: 1, 17504: 1, 12689: 1, 26344: 1, 5481: 1, 9108: 1, 10682: 1, 15040: 1, 18889: 1, 23007: 2, 7367: 1, 13742: 1, 25101: 1, 25633: 1, 16918: 1, 4021: 1, 26890: 1, 28572: 1, 18703: 1, 2096: 1, 3930: 1, 6528: 1, 16413: 1, 32686: 1, 8705: 1, 28436: 2, 32309: 1, 9561: 3, 10172: 3, 10620: 2, 12862: 2, 15850: 1, 21954: 1, 31273: 1, 8612: 2, 24668: 2, 29663: 1, 507: 1, 4813: 1, 8551: 2, 8574: 1, 9930: 2, 31579: 1, 34237: 1, 10: 1, 310: 1, 347: 1, 357: 1, 372: 1, 432: 1, 433: 1, 522: 1, 529: 1, 544: 1, 560: 1, 577: 1, 588: 1, 606: 1, 659: 1, 667: 1, 705: 1, 738: 1, 743: 1, 808: 1, 851: 1, 882: 1, 1041: 1, 1098: 1, 1430: 1, 1432: 1, 1523: 1, 1580: 1, 1646: 1, 1984: 1, 2049: 1, 2058: 2, 2126: 1, 2154: 1, 2160: 1, 2204: 1, 2237: 1, 2283: 1, 2374: 1, 2714: 1, 2768: 1, 2856: 1, 3109: 1, 3127: 1, 4001: 1, 4049: 1, 4150: 1, 4562: 1, 4723: 1, 5057: 1, 5095: 2, 5122: 1, 5400: 2, 5911: 1, 6065: 1, 6262: 1, 6284: 1, 6521: 1, 6595: 1, 6607: 1, 6751: 1, 6930: 1, 6963: 1, 7088: 2, 7242: 1, 7262: 1, 7483: 1, 7720: 1, 7979: 1, 8615: 1, 8876: 1, 9699: 1, 9804: 1, 10081: 1, 10094: 1, 10101: 1, 10341: 1, 10468: 1, 10647: 1, 10737: 1, 10771: 1, 10922: 1, 11022: 1, 11111: 1, 11621: 1, 11970: 1, 12178: 1, 12328: 1, 12533: 1, 12557: 1, 12575: 1, 12611: 1, 12691: 1, 13346: 1, 13368: 1, 13422: 1, 13635: 1, 13895: 1, 13898: 1, 14038: 1, 14093: 1, 14129: 1, 14165: 1, 14388: 1, 14515: 1, 14754: 1, 14771: 1, 14797: 1, 14824: 1, 14929: 1, 14931: 1, 14991: 1, 15144: 1, 15267: 1, 15279: 1, 15281: 1, 15283: 1, 15411: 1, 15442: 1, 15567: 1, 15626: 1, 15703: 1, 15792: 1, 16390: 1, 16462: 1, 16973: 1, 17189: 1, 17206: 1, 17213: 1, 17685: 1, 17686: 1, 17768: 1, 17842: 1, 17996: 1, 18070: 1, 18115: 1, 18172: 1, 18399: 1, 18404: 1, 18432: 1, 18497: 1, 18524: 1, 18566: 1, 18666: 1, 18720: 1, 18832: 1, 18948: 1, 19040: 1, 19109: 1, 19144: 1, 19162: 1, 19297: 1, 19495: 1, 19522: 1, 19533: 1, 19619: 1, 19632: 1, 19695: 1, 19857: 1, 20141: 1, 20145: 1, 20152: 1, 20191: 1, 20195: 1, 20234: 1, 20305: 1, 20306: 1, 20320: 3, 20419: 1, 20831: 1, 20939: 1, 21031: 1, 21037: 1, 21290: 1, 21427: 1, 21653: 1, 21729: 1, 21873: 1, 22032: 1, 22055: 1, 22058: 1, 22390: 1, 22463: 1, 22720: 1, 22729: 1, 22866: 1, 22867: 1, 22912: 1, 22950: 2, 22982: 1, 23079: 1, 23383: 1, 24235: 1, 24307: 1, 24418: 1, 24459: 1, 24482: 1, 24549: 1, 24671: 1, 24680: 1, 24682: 1, 24684: 1, 24834: 1, 25065: 1, 25148: 1, 25211: 1, 25224: 2, 25242: 1, 25286: 1, 25328: 1, 25512: 1, 25628: 1, 25666: 1, 25992: 1, 25993: 1, 26102: 1, 26376: 1, 26395: 1, 26407: 1, 26579: 1, 26627: 1, 26799: 1, 26803: 1, 26860: 1, 26976: 1, 26988: 1, 27001: 1, 27003: 1, 27004: 1, 27383: 1, 27578: 1, 27585: 1, 27589: 1, 27612: 1, 27681: 1, 28168: 1, 28314: 1, 28362: 1, 28403: 1, 28616: 1, 28627: 1, 28686: 1, 28879: 1, 29037: 1, 29207: 2, 29355: 3, 29369: 1, 30151: 1, 30206: 1, 30281: 1, 30359: 1, 30397: 1, 30417: 1, 30458: 2, 30559: 1, 30775: 1, 30778: 1, 30944: 1, 31109: 1, 31229: 1, 31499: 1, 31844: 1, 31874: 1, 32095: 1, 32359: 1, 32497: 1, 32517: 1, 32673: 1, 32674: 1, 32835: 1, 33020: 1, 33021: 1, 33473: 1, 33780: 1, 33898: 1, 34109: 1, 34157: 1, 34172: 1, 34227: 1, 34428: 1, 34438: 1, 34462: 1, 34507: 1, 34536: 1, 34817: 1, 34869: 1, 35133: 1, 35285: 1, 35410: 1, 35418: 1, 35432: 1, 35437: 1, 35501: 1, 35542: 1, 35543: 1, 23603: 2, 25138: 1, 33026: 1, 3880: 1, 5387: 1, 5809: 1, 12829: 1, 17266: 1, 11368: 1, 20606: 1, 12209: 1, 12384: 1, 14017: 1, 10359: 1, 19933: 1, 26844: 1, 28170: 1, 30303: 1, 33306: 1, 35454: 1, 5526: 1, 12000: 1, 23327: 1, 26409: 1, 27498: 1, 31990: 2, 28422: 2, 12540: 1, 10583: 1, 23126: 1, 24765: 1, 9145: 1, 18106: 1, 18137: 1, 22853: 1, 32828: 1, 9968: 1, 15272: 1, 2396: 1, 2967: 1, 11166: 1, 18896: 1, 24152: 1, 19043: 2, 21560: 2, 33266: 2, 20948: 1, 24005: 1, 28766: 1, 14319: 1, 30733: 1, 2387: 1, 7588: 1, 26266: 1, 13959: 1, 4188: 1, 4688: 1, 9207: 1, 9208: 1, 9209: 1, 9210: 1, 9211: 1, 9212: 1, 9213: 1, 9214: 1, 9215: 1, 9217: 1, 9218: 1, 9219: 1, 9220: 1, 9221: 1, 9222: 1, 9223: 1, 9224: 1, 14600: 1, 15025: 1, 17360: 1, 17371: 1, 17980: 1, 19752: 1, 19753: 1, 19757: 1, 20817: 1, 23784: 1, 23785: 1, 23941: 1, 29830: 1, 33707: 1, 34469: 1, 34761: 1, 17741: 1, 6004: 1, 15119: 1, 19231: 1, 19255: 1, 21449: 1, 28175: 1, 30612: 1, 28352: 1, 8704: 1, 16836: 1, 25545: 1, 26488: 1, 31441: 1, 34674: 1, 32958: 1, 24946: 1, 4859: 1, 32313: 1, 7357: 1, 31050: 1, 11717: 1, 27780: 1, 6856: 1, 18644: 1, 16468: 1, 20026: 1, 20109: 1, 26261: 1, 26262: 1, 33244: 1, 4163: 1, 8379: 1, 26738: 1, 8831: 1, 26047: 1, 70: 1, 5843: 1, 16921: 1, 4435: 1, 26181: 2, 9426: 1, 2191: 1, 3176: 1, 3267: 1, 4247: 1, 10305: 1, 3929: 1, 9402: 1, 10659: 1, 26882: 1, 27068: 2, 28928: 2, 29449: 1, 8838: 1, 9153: 1, 11133: 1, 11949: 1, 20477: 1, 20704: 1, 27912: 1, 4676: 1, 17059: 1, 24874: 1, 24264: 1, 2311: 1, 3435: 1, 5543: 1, 10181: 1, 17372: 1, 17703: 1, 19605: 1, 21248: 1, 21287: 1, 22542: 1, 26696: 1, 1949: 1, 14460: 1, 21126: 1, 19978: 1, 23546: 1, 35287: 1, 34788: 1, 14631: 1, 31138: 1, 7953: 1, 12948: 1, 21036: 1, 2672: 3, 2674: 3, 3158: 3, 6543: 3, 11146: 1, 19881: 1, 20021: 1, 22345: 1, 33301: 1, 21059: 1, 6175: 1, 19500: 1, 14934: 1, 13136: 1, 15619: 1, 23341: 1, 26939: 1, 29144: 1, 8329: 1, 8653: 1, 20071: 1, 32342: 1, 10493: 1, 12536: 1, 12537: 1, 5128: 1, 19602: 1, 7799: 1, 24132: 1, 27218: 1, 6676: 1, 1283: 1, 5129: 1, 22932: 1, 31744: 1, 23223: 1, 4657: 1, 6390: 1, 9830: 1, 11115: 1, 20503: 1, 26185: 1, 17906: 1, 8607: 1, 25297: 1, 7405: 2, 19828: 1, 32080: 1, 2262: 1, 2498: 1, 2745: 1, 3101: 1, 3543: 1, 3720: 1, 3776: 1, 3816: 1, 3820: 1, 3835: 1, 4341: 1, 6067: 1, 6145: 1, 7259: 1, 7306: 1, 7663: 1, 8367: 1, 8436: 1, 8946: 1, 10518: 1, 10641: 1, 10652: 2, 10937: 1, 11023: 1, 12887: 1, 13165: 1, 14153: 1, 14790: 1, 15093: 1, 15311: 1, 15348: 1, 16206: 1, 16476: 1, 17165: 1, 19279: 1, 19992: 1, 20504: 1, 20894: 1, 21485: 1, 23158: 1, 23965: 1, 26222: 1, 28074: 1, 28909: 1, 29330: 1, 30770: 1, 32278: 1, 32595: 1, 34204: 1, 34345: 1, 34498: 1, 35763: 1, 25495: 1, 35693: 1, 4969: 1, 19023: 2, 28437: 1, 14351: 2, 16120: 2, 24301: 2, 26238: 1, 28456: 1, 29281: 1, 9051: 1, 9062: 1, 12319: 1, 8314: 1, 27700: 1, 22125: 1, 23447: 2, 2548: 1, 7608: 1, 32832: 1, 13744: 1, 26641: 1, 26687: 1, 24957: 1, 33966: 1, 35101: 1, 4009: 1, 5717: 1, 20165: 1, 9889: 1, 15291: 1, 24035: 1, 30792: 1, 5326: 1, 10576: 1, 4751: 1, 5193: 1, 9323: 1, 9324: 1, 12308: 1, 12437: 1, 18311: 1, 23523: 1, 23524: 1, 23571: 1, 27643: 2, 30657: 1, 6072: 1, 7934: 1, 15437: 1, 13649: 1, 31817: 1, 9127: 1, 13805: 1, 25944: 1, 26516: 1, 31245: 2, 32602: 1, 32603: 1, 7898: 1, 15413: 1, 24210: 1, 31470: 1, 10731: 1, 10732: 1, 35625: 1, 13038: 1, 20257: 1, 29654: 1, 34815: 1, 35051: 1, 11587: 1, 17452: 1, 17877: 1, 29710: 1, 12592: 1, 26451: 1, 21806: 1, 28199: 1, 6805: 1, 23712: 1, 32348: 1, 5637: 1, 6100: 1, 9599: 1, 11113: 1, 22970: 1, 27810: 1, 30853: 1, 32601: 1, 33132: 1, 15728: 1, 15827: 2, 28195: 1, 30718: 2, 2013: 1, 2969: 1, 2970: 1, 5354: 1, 8422: 1, 8669: 1, 12383: 1, 24268: 1, 24277: 1, 24743: 1, 24772: 1, 18226: 1, 20976: 1, 34175: 1, 19826: 1, 20387: 1, 21426: 1, 22887: 1, 32464: 1, 33296: 1, 9817: 1, 27490: 1, 12111: 1, 17391: 1, 19579: 1, 22530: 1, 30033: 1, 34642: 1, 1133: 1, 13027: 1, 13830: 1, 13831: 1, 18304: 1, 18305: 1, 18306: 1, 25851: 1, 32323: 1, 7477: 1, 12215: 1, 10986: 1, 33911: 1, 9909: 1, 9910: 1, 27357: 1, 1363: 1, 2832: 1, 4328: 2, 5173: 1, 5377: 1, 6116: 1, 10616: 1, 12514: 1, 12881: 1, 13665: 1, 15861: 1, 16366: 1, 19005: 1, 22455: 1, 23286: 1, 23791: 1, 26751: 1, 29536: 1, 30329: 1, 31592: 1, 31731: 1, 20874: 1, 21064: 1, 28922: 1, 23862: 1, 18534: 1, 4134: 1, 9005: 1, 9869: 1, 18239: 1, 31538: 1, 32943: 1, 8932: 2, 10618: 1, 19624: 1, 32199: 1, 4384: 1, 5228: 1, 5404: 1, 22199: 1, 24967: 1, 10571: 1, 12327: 1, 16188: 1, 10154: 1, 11616: 1, 20687: 1, 22289: 1, 25813: 1, 27655: 1, 11185: 1, 18995: 1, 12356: 1, 20103: 1, 4853: 1, 11432: 1, 24724: 1, 33698: 1, 8143: 1, 25023: 1, 25099: 1, 8096: 2, 10378: 2, 30777: 1, 34509: 1, 28145: 1, 19678: 1, 28662: 1, 7060: 1, 28142: 2, 28143: 2, 13214: 1, 24837: 1, 13348: 1, 17218: 1, 9688: 1, 8884: 1, 12089: 1, 16811: 1, 34182: 1, 34617: 1, 18299: 1, 13345: 1, 16701: 1, 17040: 1, 24869: 1, 23518: 1, 3479: 1, 14830: 1, 15499: 1, 15503: 1, 18677: 1, 19101: 1, 29092: 1, 31963: 1, 35092: 1, 10300: 1, 282: 1, 2982: 1, 6506: 1, 22319: 1, 34292: 1, 17106: 1, 30527: 1, 19135: 1, 19538: 2, 19784: 1, 15154: 1, 19096: 1, 32086: 1, 33279: 1, 21828: 1, 14468: 1, 5474: 1, 11955: 1, 18789: 1, 32708: 1, 35551: 1, 18592: 1, 24177: 1, 24179: 2, 25187: 2, 25990: 1, 35012: 1, 35156: 1, 18392: 2, 33341: 1, 8095: 1, 15914: 1, 17969: 1, 19267: 1, 19621: 1, 19936: 1, 20017: 1, 35402: 1, 5065: 1, 20824: 1, 21662: 1, 26623: 1, 3190: 1, 8283: 1, 28152: 1, 29878: 1, 32127: 1, 35477: 1, 5794: 1, 6583: 1, 8245: 1, 8904: 1, 17418: 1, 18539: 1, 21484: 1, 31743: 1, 11525: 1, 22763: 1, 31727: 1, 12773: 1, 15202: 1, 15203: 1, 18780: 1, 24576: 1, 27804: 1, 32675: 1, 6158: 1, 10540: 1, 10668: 1, 20127: 1, 20779: 1, 32897: 1, 18709: 1, 35775: 1, 28992: 1, 30128: 1, 8207: 1, 8550: 1, 10552: 1, 26255: 1, 32754: 1, 4295: 1, 8216: 1, 10429: 1, 13667: 1, 15459: 1, 33530: 1, 15643: 1, 26610: 1, 27219: 1, 8484: 1, 30954: 2, 28679: 1, 30239: 1, 10978: 1, 28889: 1, 11059: 1, 12694: 1, 13336: 1, 23065: 1, 23792: 1, 30400: 1, 31749: 1, 33434: 1, 188: 2, 5612: 1, 17759: 1, 29774: 1, 26919: 1, 30138: 1, 16912: 1, 19131: 1, 19132: 1, 23779: 1, 25667: 1, 25728: 1, 5989: 1, 6658: 1, 9431: 1, 10458: 1, 29643: 1, 2734: 1, 3210: 1, 5735: 1, 10894: 1, 12599: 1, 15036: 1, 24019: 1, 25198: 1, 35060: 1, 20326: 1, 24182: 1, 23469: 1, 5337: 1, 33135: 1, 33439: 1, 16970: 1, 14450: 1, 15456: 1, 15821: 1, 23953: 1, 2401: 1, 2642: 1, 24866: 1, 18270: 1, 22811: 1, 15997: 1, 16253: 1, 22849: 1, 32959: 1, 7660: 1, 16942: 1, 21857: 1, 9747: 1, 16017: 1, 19430: 1, 16374: 1, 5217: 1, 7771: 1, 19820: 1, 25998: 1, 29885: 1, 35746: 1, 14200: 1, 33289: 1, 1095: 1, 11162: 1, 11974: 1, 23506: 1, 22007: 1, 11319: 1, 11347: 1, 13501: 1, 17880: 1, 25453: 1, 34278: 1, 6102: 1, 23426: 1, 29623: 1, 6573: 1, 16271: 1, 9998: 1, 32606: 1, 35319: 1, 4909: 1, 31774: 1, 6719: 1, 8572: 1, 1967: 1, 2226: 1, 2424: 1, 6556: 1, 7273: 1, 14864: 1, 15780: 1, 15907: 1, 18745: 1, 18755: 1, 19193: 1, 21416: 1, 23032: 1, 23257: 1, 24354: 1, 27166: 1, 27167: 1, 28838: 1, 29892: 1, 30670: 1, 30870: 1, 31226: 1, 32017: 1, 32795: 1, 32856: 1, 32921: 1, 33558: 1, 34420: 1, 5064: 1, 6750: 1, 8450: 1, 9083: 1, 9965: 1, 14324: 1, 18558: 1, 31530: 2, 4089: 1, 4300: 1, 4392: 1, 4931: 1, 6039: 1, 6469: 1, 7907: 1, 8256: 1, 11371: 1, 12729: 1, 14487: 1, 15222: 1, 15808: 1, 16384: 1, 16759: 1, 17820: 1, 17822: 1, 18591: 1, 19662: 1, 19913: 1, 21038: 1, 21364: 1, 23782: 1, 24283: 1, 26237: 1, 27407: 1, 27471: 1, 27648: 1, 27873: 1, 28842: 1, 29459: 1, 29581: 1, 30226: 1, 31616: 1, 31988: 1, 31989: 1, 32002: 1, 32004: 1, 32247: 1, 32385: 1, 32444: 1, 33067: 1, 33217: 1, 33277: 1, 34436: 1}\n",
      "107463\n"
     ]
    }
   ],
   "source": [
    "for n in frequentterm:\n",
    "    counts[n]=terms.count(n)\n",
    "\n",
    "termsum=sum(counts.values())\n",
    "print(counts)\n",
    "print(termsum)"
   ]
  },
  {
   "cell_type": "code",
   "execution_count": 89,
   "metadata": {},
   "outputs": [
    {
     "name": "stdout",
     "output_type": "stream",
     "text": [
      "[32142, 32493, 23610, 17556, 4992, 18474, 32139, 18551, 12626, 14601, 14887, 35638, 32270, 23250, 6298, 5410, 16254, 23733, 5549, 35157]\n"
     ]
    }
   ],
   "source": [
    "def sort_by_value(d): \n",
    "    items=d.items() \n",
    "    backitems=[[v[1],v[0]] for v in items] \n",
    "    backitems.sort(reverse=True) \n",
    "    return [ backitems[i][1] for i in range(0,len(backitems))] \n",
    "countsort=sort_by_value(counts)\n",
    "\n",
    "print(countsort[0:20])"
   ]
  },
  {
   "cell_type": "code",
   "execution_count": 90,
   "metadata": {
    "scrolled": true
   },
   "outputs": [
    {
     "name": "stdout",
     "output_type": "stream",
     "text": [
      "['term_the', 'term_to', 'term_of', 'term_in', 'term_and', 'term_is', 'term_that', 'term_it', 'term_edu', 'term_for', 'term_from', 'term_you', 'term_this', 'term_not', 'term_be', 'term_are', 'term_have', 'term_on', 'term_as', 'term_with']\n"
     ]
    }
   ],
   "source": [
    "featurename=[]\n",
    "for n in countsort[0:20]:\n",
    "    featurename.append(count_vect.get_feature_names()[n])\n",
    "    \n",
    "plot_x1 = [\"term_\"+str(i) for i in featurename]\n",
    "print(plot_x1)"
   ]
  },
  {
   "cell_type": "code",
   "execution_count": 91,
   "metadata": {},
   "outputs": [
    {
     "name": "stdout",
     "output_type": "stream",
     "text": [
      "107463\n",
      "['doc_1062', 'doc_2076', 'doc_400', 'doc_330', 'doc_667', 'doc_1456', 'doc_2186', 'doc_2091', 'doc_716', 'doc_662', 'doc_875', 'doc_472', 'doc_286', 'doc_2114', 'doc_1787', 'doc_1104', 'doc_1401', 'doc_1596', 'doc_568', 'doc_1001']\n"
     ]
    }
   ],
   "source": [
    "import random\n",
    "docs=[]\n",
    "for doc, term in a:\n",
    "    docs.append(doc)\n",
    "print(len(docs))\n",
    "\n",
    "sampledoc=random.sample(docs,20)\n",
    "\n",
    "plot_y1 = [\"doc_\"+ str(i) for i in sampledoc]\n",
    "print(plot_y1)"
   ]
  },
  {
   "cell_type": "code",
   "execution_count": 92,
   "metadata": {
    "scrolled": true
   },
   "outputs": [
    {
     "name": "stdout",
     "output_type": "stream",
     "text": [
      "[[  4   6   2   2   4   8   9   3   2   5   1   6   3   1   2   2   4   1\n",
      "    0   1]\n",
      " [ 15  14  18   9   8  18  10   6   2   5   2   0   5   6   7   1   2   3\n",
      "    7   0]\n",
      " [249 135 165 109 207 114  39  76  45 157  63  52  25  16  35  42  24  76\n",
      "   37  44]\n",
      " [  6   8   5   7   2   3   2   1   2   3   3   6   2   1   2   0   2   2\n",
      "    0   4]\n",
      " [  3   3   3   1   1   2   0   2   3   0   1   0   0   0   0   1   1   1\n",
      "    0   1]\n",
      " [ 92  25  48  36  22  15  24  12   4   4   9   2   9  10   5   8   3   0\n",
      "   10   6]\n",
      " [  4   5   3   0   2   2   2   1   4   4   1   0   1   2   0   0   0   2\n",
      "    2   1]\n",
      " [  2   1   2   3   4   2   1   1   8   3   2   0   1   1   1   0   1   0\n",
      "    0   1]\n",
      " [140  73  42  38  71  33   6  31  25  27  11  55  13  10  13  23  15  19\n",
      "    8  18]\n",
      " [  3   2   5   2   4   2   1   0   1   2   2   0   2   1   2   2   0   1\n",
      "    0   1]\n",
      " [ 17  22  16   8  11   2   8   7   0   6   2   4   7   5   3   0   6   0\n",
      "    4   6]\n",
      " [  5   1   3   0   1   3   2   2   0   0   1   0   1   0   0   1   0   0\n",
      "    0   1]\n",
      " [ 11   4   7   4   4   1   5   3   1   0   1   0   2   2   0   0   1   1\n",
      "    2   0]\n",
      " [  7   3   0   2   3   3   3   2   0   1   1   0   0   0   0   0   2   2\n",
      "    0   1]\n",
      " [ 44  14  28  18  12  14  20   8   2   7   4   3   0   4   1   6   3   6\n",
      "    2   7]\n",
      " [  3   4   3   1   2   1   0   5   1   0   1   4   0   0   2   0   3   3\n",
      "    0   1]\n",
      " [217  80 204 146 151  28  29   5   0  92  28   0  27  11  18  34   9  13\n",
      "   17  43]\n",
      " [265 112 162  98  73 141 115  71   0  30  30  28  35  50  48  30  35  31\n",
      "   39  18]\n",
      " [ 16  10   9  12   6  18   7   2   3   2   2   3   5   7   1   9   3   0\n",
      "    1   0]\n",
      " [ 22  14   8  12   4   2   8   7   3   1   3   7   0   7   1   1   4   0\n",
      "    2   4]]\n"
     ]
    }
   ],
   "source": [
    "plot_z1t=[]\n",
    "for n in sampledoc:\n",
    "    for m in countsort[0:20]:\n",
    "        plot_z1t.append(X_counts[n,m])\n",
    "\n",
    "plot_z1=np.array(plot_z1t).reshape(20,20)\n",
    "print(plot_z1)"
   ]
  },
  {
   "cell_type": "code",
   "execution_count": 100,
   "metadata": {},
   "outputs": [
    {
     "data": {
      "image/png": "[encoded data removed]",
      "text/plain": [
       "<Figure size 648x504 with 2 Axes>"
      ]
     },
     "metadata": {
      "needs_background": "light"
     },
     "output_type": "display_data"
    }
   ],
   "source": [
    "import seaborn as sns\n",
    "\n",
    "df_todraw = pd.DataFrame(plot_z1, columns = plot_x1, index = plot_y1)\n",
    "plt.subplots(figsize=(9,7))\n",
    "ax = sns.heatmap(df_todraw,\n",
    "                 cmap=\"PuRd\",\n",
    "                 vmin=0, vmax=maxz+10,annot=True, fmt=\"d\")"
   ]
  },
  {
   "cell_type": "code",
   "execution_count": null,
   "metadata": {},
   "outputs": [],
   "source": [
    "#feature name:use the most frequently appear ones\n",
    "#document:random choose"
   ]
  },
  {
   "cell_type": "markdown",
   "metadata": {},
   "source": [
    "---"
   ]
  },
  {
   "cell_type": "markdown",
   "metadata": {},
   "source": [
    "The great thing about what we have done so far is that we now open doors to new problems. Let us be optimistic. Even though we have the problem of sparsity and a very high dimensional data, we are now closer to uncovering wonders from the data. You see, the price you pay for the hard work is worth it because now you are gaining a lot of knowledge from what was just a list of what appeared to be irrelevant articles. Just the fact that you can blow up the data and find out interesting characteristics about the dataset in just a couple lines of code, is something that truly inspires me to practise Data Science. That's the motivation right there!"
   ]
  },
  {
   "cell_type": "markdown",
   "metadata": {},
   "source": [
    "---"
   ]
  },
  {
   "cell_type": "markdown",
   "metadata": {},
   "source": [
    "### 5.4 Dimensionality Reduction\n",
    "Since we have just touched on the concept of sparsity most naturally the problem of \"curse of dimentionality\" comes up. I am not going to get into the full details of what dimensionality reduction is and what it is good for just the fact that is an excellent technique for visualizing data efficiently (please refer to notes for more information). All I can say is that we are going to deal with the issue of sparsity with a few lines of code. And we are going to try to visualize our data more efficiently with the results.\n",
    "\n",
    "We are going to make use of Principal Component Analysis to efficeintly reduce the dimensions of our data, with the main goal of \"finding a projection that captures the largest amount of variation in the data.\" This concept is important as it is very useful for visualizing and observing the characteristics of our dataset. "
   ]
  },
  {
   "cell_type": "markdown",
   "metadata": {},
   "source": [
    "[PCA Algorithm](http://scikit-learn.org/stable/modules/generated/sklearn.decomposition.PCA.html)\n",
    "\n",
    "**Input:** Raw term-vector matrix\n",
    "\n",
    "**Output:** Projections "
   ]
  },
  {
   "cell_type": "code",
   "execution_count": 101,
   "metadata": {},
   "outputs": [],
   "source": [
    "from sklearn.decomposition import PCA"
   ]
  },
  {
   "cell_type": "code",
   "execution_count": 102,
   "metadata": {},
   "outputs": [],
   "source": [
    "X_reduced = PCA(n_components = 2).fit_transform(X_counts.toarray())"
   ]
  },
  {
   "cell_type": "code",
   "execution_count": 103,
   "metadata": {
    "scrolled": true
   },
   "outputs": [
    {
     "data": {
      "text/plain": [
       "(2257, 2)"
      ]
     },
     "execution_count": 103,
     "metadata": {},
     "output_type": "execute_result"
    }
   ],
   "source": [
    "X_reduced.shape"
   ]
  },
  {
   "cell_type": "code",
   "execution_count": 104,
   "metadata": {},
   "outputs": [
    {
     "data": {
      "text/plain": [
       "['alt.atheism', 'soc.religion.christian', 'comp.graphics', 'sci.med']"
      ]
     },
     "execution_count": 104,
     "metadata": {},
     "output_type": "execute_result"
    }
   ],
   "source": [
    "categories"
   ]
  },
  {
   "cell_type": "code",
   "execution_count": 105,
   "metadata": {},
   "outputs": [
    {
     "data": {
      "image/png": "[encoded data removed]",
      "text/plain": [
       "<Figure size 1800x720 with 1 Axes>"
      ]
     },
     "metadata": {
      "needs_background": "light"
     },
     "output_type": "display_data"
    }
   ],
   "source": [
    "col = ['coral', 'blue', 'black', 'm']\n",
    "\n",
    "# plot\n",
    "fig = plt.figure(figsize = (25,10))\n",
    "ax = fig.subplots()\n",
    "\n",
    "for c, category in zip(col, categories):\n",
    "    xs = X_reduced[X['category_name'] == category].T[0]\n",
    "    ys = X_reduced[X['category_name'] == category].T[1]\n",
    "  \n",
    "    ax.scatter(xs, ys, c = c, marker='o')\n",
    "\n",
    "ax.grid(color='gray', linestyle=':', linewidth=2, alpha=0.2)\n",
    "ax.set_xlabel('\\nX Label')\n",
    "ax.set_ylabel('\\nY Label')\n",
    "\n",
    "plt.show()"
   ]
  },
  {
   "cell_type": "markdown",
   "metadata": {},
   "source": [
    "From the 2D visualization above, we can see a slight \"hint of separation in the data\"; i.e., they might have some special grouping by category, but it is not immediately clear. The PCA was applied to the raw frequencies and this is considered a very naive approach as some words are not really unique to a document. Only categorizing by word frequency is considered a \"bag of words\" approach. Later on in the course you will learn about different approaches on how to create better features from the term-vector matrix, such as term-frequency inverse document frequency so-called TF-IDF."
   ]
  },
  {
   "cell_type": "markdown",
   "metadata": {},
   "source": [
    "---"
   ]
  },
  {
   "cell_type": "markdown",
   "metadata": {},
   "source": [
    "### >>> Exercise 12 (take home):\n",
    "Please try to reduce the dimension to 3, and plot the result use 3-D plot. Use at least 3 different angle (camera position) to check your result and describe what you found.\n",
    "\n",
    "$Hint$: you can refer to Axes3D in the documentation."
   ]
  },
  {
   "cell_type": "code",
   "execution_count": 106,
   "metadata": {},
   "outputs": [
    {
     "name": "stdout",
     "output_type": "stream",
     "text": [
      "(2257, 3)\n",
      "[[-17.01172954   0.45016637  -1.31226076]\n",
      " [ -6.80574586  -1.15880601  -0.40488278]\n",
      " [ 15.79461065   3.62233103  12.70799056]\n",
      " ...\n",
      " [ 19.97508176  -2.8549581    1.04076602]\n",
      " [163.88523745  29.52467705  -8.70178816]\n",
      " [-16.58569528   0.61748552  -1.88007227]]\n",
      "['alt.atheism', 'soc.religion.christian', 'comp.graphics', 'sci.med']\n"
     ]
    }
   ],
   "source": [
    "# Answer here\n",
    "X_reduced1 = PCA(n_components = 3).fit_transform(X_counts.toarray())\n",
    "print(X_reduced1.shape)\n",
    "print(X_reduced1)\n",
    "print(categories)"
   ]
  },
  {
   "cell_type": "code",
   "execution_count": 107,
   "metadata": {},
   "outputs": [
    {
     "data": {
      "image/png": "[encoded data removed]",
      "text/plain": [
       "<Figure size 432x288 with 1 Axes>"
      ]
     },
     "metadata": {
      "needs_background": "light"
     },
     "output_type": "display_data"
    }
   ],
   "source": [
    "import numpy as np\n",
    "for c, category in zip(col, categories):\n",
    "    xs = X_reduced1[X['category_name'] == category].T[0]\n",
    "    ys = X_reduced1[X['category_name'] == category].T[1]\n",
    "    zs = X_reduced1[X['category_name'] == category].T[2]\n",
    "\n",
    "\n",
    "from mpl_toolkits.mplot3d import Axes3D\n",
    "import matplotlib.pyplot as plt\n",
    "\n",
    "fig = plt.figure()\n",
    "ax = Axes3D(fig)\n",
    "\n",
    "ax.scatter(xs, ys, zs)\n",
    "ax.view_init(0,0)\n",
    "plt.show()\n"
   ]
  },
  {
   "cell_type": "code",
   "execution_count": 108,
   "metadata": {},
   "outputs": [
    {
     "data": {
      "image/png": "[encoded data removed]",
      "text/plain": [
       "<Figure size 432x288 with 1 Axes>"
      ]
     },
     "metadata": {
      "needs_background": "light"
     },
     "output_type": "display_data"
    }
   ],
   "source": [
    "fig = plt.figure()\n",
    "ax = Axes3D(fig)\n",
    "\n",
    "ax.scatter(xs, ys, zs)\n",
    "ax.view_init(0, 90)\n",
    "plt.show()"
   ]
  },
  {
   "cell_type": "markdown",
   "metadata": {},
   "source": [
    "---"
   ]
  },
  {
   "cell_type": "markdown",
   "metadata": {},
   "source": [
    "### 5.5 Atrribute Transformation / Aggregation\n",
    "We can do other things with the term-vector matrix besides applying dimensionalaity reduction technique to deal with sparsity problem. Here we are going to generate a simple distribution of the words found in all the entire set of articles. Intuitively, this may not make any sense, but in data science sometimes we take some things for granted, and we just have to explore the data first before making any premature conclusions. On the topic of attribute transformation, we will take the word distribution and put the distribution in a scale that makes it easy to analyze patterns in the distrubution of words. Let us get into it!"
   ]
  },
  {
   "cell_type": "markdown",
   "metadata": {},
   "source": [
    "First, we need to compute these frequencies for each term in all documents. Visually speaking, we are seeking to add values of the 2D matrix, vertically; i.e., sum of each column. You can also refer to this process as aggregation, which we won't explore further in this notebook because of the type of data we are dealing with. But I believe you get the idea of what that includes.  "
   ]
  },
  {
   "cell_type": "markdown",
   "metadata": {},
   "source": [
    "![alt txt](https://docs.google.com/drawings/d/e/2PACX-1vTMfs0zWsbeAl-wrpvyCcZqeEUf7ggoGkDubrxX5XtwC5iysHFukD6c-dtyybuHnYigiRWRlRk2S7gp/pub?w=750&h=412)"
   ]
  },
  {
   "cell_type": "code",
   "execution_count": 109,
   "metadata": {},
   "outputs": [],
   "source": [
    "# note this takes time to compute. You may want to reduce the amount of terms you want to compute frequencies for\n",
    "term_frequencies = []\n",
    "for j in range(0,X_counts.shape[1]):\n",
    "    term_frequencies.append(sum(X_counts[:,j].toarray()))"
   ]
  },
  {
   "cell_type": "code",
   "execution_count": 110,
   "metadata": {},
   "outputs": [],
   "source": [
    "term_frequencies = np.asarray(X_counts.sum(axis=0))[0]"
   ]
  },
  {
   "cell_type": "code",
   "execution_count": 111,
   "metadata": {},
   "outputs": [
    {
     "data": {
      "text/plain": [
       "134"
      ]
     },
     "execution_count": 111,
     "metadata": {},
     "output_type": "execute_result"
    }
   ],
   "source": [
    "term_frequencies[0]"
   ]
  },
  {
   "cell_type": "code",
   "execution_count": 112,
   "metadata": {},
   "outputs": [
    {
     "data": {
      "image/png": "[encoded data removed]",
      "text/plain": [
       "<Figure size 7200x720 with 1 Axes>"
      ]
     },
     "metadata": {
      "needs_background": "light"
     },
     "output_type": "display_data"
    }
   ],
   "source": [
    "plt.subplots(figsize=(100, 10))\n",
    "g = sns.barplot(x=count_vect.get_feature_names()[:300], \n",
    "            y=term_frequencies[:300])\n",
    "g.set_xticklabels(count_vect.get_feature_names()[:300], rotation = 90);"
   ]
  },
  {
   "cell_type": "markdown",
   "metadata": {},
   "source": [
    "---"
   ]
  },
  {
   "cell_type": "markdown",
   "metadata": {},
   "source": [
    "### >>> **Exercise 13 (take home):**\n",
    "If you want a nicer interactive visualization here, I would encourage you try to install and use plotly to achieve this."
   ]
  },
  {
   "cell_type": "code",
   "execution_count": 194,
   "metadata": {
    "scrolled": false
   },
   "outputs": [
    {
     "data": {
      "application/vnd.plotly.v1+json": {
       "config": {
        "plotlyServerURL": "https://plot.ly"
       },
       "data": [
        {
         "alignmentgroup": "True",
         "hoverlabel": {
          "namelength": 0
         },
         "hovertemplate": "feature=%{x}<br>frequ=%{marker.color}",
         "legendgroup": "",
         "marker": {
          "color": [
           134,
           92,
           1,
           2,
           1,
           3,
           1,
           1,
           1,
           1,
           2,
           1,
           1,
           3,
           1,
           1,
           1,
           2,
           1,
           3,
           1,
           2,
           1,
           1,
           1,
           2,
           1,
           1,
           1,
           1,
           1,
           1,
           1,
           1,
           5,
           1,
           13,
           95,
           4,
           1,
           1,
           1,
           1,
           1,
           2,
           1,
           1,
           1,
           2,
           1,
           1,
           1,
           1,
           2,
           1,
           1,
           1,
           4,
           2,
           1,
           1,
           1,
           1,
           1,
           2,
           1,
           1,
           1,
           1,
           1,
           2,
           1,
           59,
           1,
           4,
           2,
           1,
           1,
           1,
           1,
           2,
           3,
           1,
           2,
           1,
           1,
           1,
           1,
           3,
           1,
           1,
           1,
           3,
           1,
           1,
           3,
           2,
           1,
           2,
           2,
           1,
           1,
           3,
           100,
           1,
           1,
           1,
           1,
           1,
           1,
           2,
           1,
           2,
           1,
           2,
           1,
           2,
           5,
           24,
           1,
           1,
           1,
           1,
           2,
           47,
           4,
           1,
           1,
           1,
           1,
           1,
           3,
           1,
           1,
           4,
           2,
           2,
           1,
           1,
           62,
           2,
           2,
           1,
           1,
           1,
           2,
           1,
           5,
           1,
           1,
           1,
           1,
           1,
           1,
           1,
           1,
           1,
           1,
           18,
           3,
           1,
           1,
           3,
           2,
           1,
           1,
           3,
           2,
           1,
           1,
           1,
           1,
           1,
           27,
           1,
           1,
           1,
           7,
           1,
           1,
           2,
           2,
           1,
           1,
           1,
           1,
           1,
           1,
           40,
           1,
           2,
           1,
           1,
           5,
           1,
           1,
           1,
           5,
           1,
           1,
           1,
           1,
           1,
           34,
           1,
           2,
           1,
           1,
           1,
           1,
           2,
           2,
           2,
           1,
           1,
           1,
           2,
           2,
           1,
           1,
           1,
           4,
           2,
           1,
           1,
           1,
           1,
           1,
           1,
           1,
           1,
           1,
           1,
           1,
           2,
           1,
           3,
           1,
           1,
           1,
           1,
           1,
           378,
           105,
           20,
           2,
           2,
           2,
           1,
           1,
           1,
           1,
           1,
           2,
           1,
           1,
           1,
           1,
           1,
           1,
           1,
           1,
           1,
           2,
           2,
           1,
           1,
           1,
           19,
           1,
           3,
           4,
           8,
           2,
           1,
           2,
           2,
           1,
           1,
           7,
           3,
           1,
           5,
           1,
           1,
           1,
           7,
           1,
           1,
           2,
           1,
           1,
           2,
           1,
           1,
           4,
           1,
           3,
           1,
           1,
           5,
           1,
           1,
           1,
           1,
           5,
           1,
           1,
           1,
           1,
           6,
           1,
           1,
           1,
           1,
           2,
           1,
           2,
           1,
           1,
           1,
           3,
           1,
           1,
           1,
           11,
           2,
           1,
           1,
           1,
           1,
           1,
           1,
           1,
           5,
           1,
           215,
           16,
           4,
           2,
           1,
           6,
           6,
           3,
           1,
           1,
           1,
           5,
           1,
           1,
           1,
           1,
           3,
           1,
           1,
           1,
           5,
           8,
           2,
           1,
           1,
           2,
           1,
           10,
           4,
           1,
           1,
           3,
           1,
           1,
           1,
           1,
           5,
           1,
           1,
           1,
           3,
           2,
           2,
           2,
           1,
           1,
           3,
           1,
           1,
           1,
           1,
           1,
           1,
           2,
           1,
           1,
           1,
           4,
           5,
           7,
           5,
           3,
           7,
           4,
           1,
           1,
           1,
           1,
           1,
           1,
           2,
           1,
           2,
           1,
           3,
           1,
           1,
           1,
           3,
           1,
           2,
           2,
           1,
           1,
           1,
           1,
           3,
           1,
           1,
           1,
           4,
           1,
           1,
           2,
           1,
           236,
           9,
           9,
           1,
           1,
           1,
           1,
           1,
           1,
           4,
           2,
           2,
           5,
           1,
           2,
           2,
           1,
           1,
           2,
           2,
           1,
           5,
           1,
           1,
           1,
           2,
           1,
           5,
           1,
           1,
           8,
           1,
           1,
           2,
           1,
           1,
           2,
           1,
           1,
           1,
           1,
           2,
           3,
           1,
           3,
           1,
           1,
           1,
           1,
           2,
           2,
           1,
           1,
           1,
           3,
           1,
           1,
           2,
           1,
           1,
           15,
           1,
           2,
           1,
           1,
           82,
           3,
           2,
           2
          ],
          "coloraxis": "coloraxis"
         },
         "name": "",
         "offsetgroup": "",
         "orientation": "v",
         "showlegend": false,
         "textposition": "auto",
         "type": "bar",
         "x": [
          "term_00",
          "term_000",
          "term_0000",
          "term_0000001200",
          "term_000005102000",
          "term_0001",
          "term_000100255pixel",
          "term_00014",
          "term_000406",
          "term_0007",
          "term_000usd",
          "term_0010",
          "term_001004",
          "term_0010580b",
          "term_001125",
          "term_001200201pixel",
          "term_0014",
          "term_001642",
          "term_00196",
          "term_002",
          "term_0028",
          "term_003258u19250",
          "term_0033",
          "term_0038",
          "term_0039",
          "term_004021809",
          "term_004158",
          "term_004627",
          "term_0049",
          "term_00500",
          "term_005148",
          "term_00630",
          "term_008561",
          "term_0094",
          "term_00am",
          "term_00index",
          "term_00pm",
          "term_01",
          "term_0100",
          "term_010116",
          "term_010702",
          "term_011255",
          "term_011308pxf3",
          "term_011605",
          "term_011720",
          "term_012019",
          "term_012536",
          "term_012946",
          "term_013",
          "term_013034",
          "term_0131",
          "term_013423tan102",
          "term_013657",
          "term_0138",
          "term_013846",
          "term_0150",
          "term_015518",
          "term_01580",
          "term_015931",
          "term_01720",
          "term_01752",
          "term_0179",
          "term_01821",
          "term_01830",
          "term_0184",
          "term_01852",
          "term_01854",
          "term_01890",
          "term_0195",
          "term_0199",
          "term_01a",
          "term_01wb",
          "term_02",
          "term_020",
          "term_0200",
          "term_020504",
          "term_020637",
          "term_020646",
          "term_020701tan102",
          "term_020751",
          "term_02115",
          "term_02118",
          "term_02139",
          "term_02142",
          "term_02154",
          "term_02160",
          "term_021635",
          "term_021708",
          "term_02173",
          "term_0223",
          "term_02254",
          "term_022621tan102",
          "term_023044",
          "term_0235",
          "term_0237",
          "term_024103",
          "term_024150",
          "term_024626",
          "term_025240",
          "term_025924",
          "term_0278",
          "term_02908",
          "term_0293",
          "term_03",
          "term_030105",
          "term_0303",
          "term_030334",
          "term_03051",
          "term_0306",
          "term_030734",
          "term_031423",
          "term_0318",
          "term_032251",
          "term_0330",
          "term_033446",
          "term_033843",
          "term_034226",
          "term_0349",
          "term_0358",
          "term_0362",
          "term_0372",
          "term_03756",
          "term_0380",
          "term_0391",
          "term_04",
          "term_040",
          "term_040286",
          "term_04046",
          "term_040493161915",
          "term_040819",
          "term_0410",
          "term_041343",
          "term_0418",
          "term_042100",
          "term_0423",
          "term_043654",
          "term_044140",
          "term_044946",
          "term_04g",
          "term_05",
          "term_0500",
          "term_050046mvs104",
          "term_0502",
          "term_050524",
          "term_050750",
          "term_0510",
          "term_051039",
          "term_0511",
          "term_051201",
          "term_051246",
          "term_0513",
          "term_053250",
          "term_05401",
          "term_05402",
          "term_05446",
          "term_054600",
          "term_055958",
          "term_0578",
          "term_06",
          "term_0600",
          "term_0600lines",
          "term_060493161931",
          "term_0608",
          "term_061",
          "term_062328",
          "term_062908mvs104",
          "term_06320",
          "term_063425",
          "term_0649",
          "term_06510",
          "term_065230",
          "term_0656",
          "term_068",
          "term_07",
          "term_0700",
          "term_0704",
          "term_0706",
          "term_071",
          "term_07102",
          "term_071613j5j",
          "term_071823",
          "term_0721",
          "term_0729",
          "term_07410",
          "term_0752",
          "term_07653",
          "term_077",
          "term_07748",
          "term_08",
          "term_0804",
          "term_08057",
          "term_080719",
          "term_081",
          "term_081052",
          "term_081303",
          "term_083731",
          "term_084",
          "term_084042",
          "term_084258",
          "term_085526",
          "term_08690",
          "term_08786",
          "term_08934",
          "term_09",
          "term_0900",
          "term_090030",
          "term_0901",
          "term_0903",
          "term_090306",
          "term_0908",
          "term_091139",
          "term_091258",
          "term_091844",
          "term_092051",
          "term_0922",
          "term_0926",
          "term_0930",
          "term_093300",
          "term_093904",
          "term_0943",
          "term_095148",
          "term_095220",
          "term_0987",
          "term_0_",
          "term_0______________________________________________________________________0",
          "term_0a",
          "term_0b",
          "term_0b10",
          "term_0b15",
          "term_0e9",
          "term_0hb",
          "term_0l7",
          "term_0s",
          "term_0u1",
          "term_0x",
          "term_0x00",
          "term_0x100",
          "term_0x1f",
          "term_0x3d4",
          "term_0x8",
          "term_0xc010",
          "term_0xc018",
          "term_10",
          "term_100",
          "term_1000",
          "term_10000",
          "term_100000",
          "term_100015",
          "term_100039",
          "term_100042",
          "term_1000mg",
          "term_1001",
          "term_10012",
          "term_10016",
          "term_10021",
          "term_1003",
          "term_10032",
          "term_10036",
          "term_10038",
          "term_1005",
          "term_10056",
          "term_1007",
          "term_100c",
          "term_100grams",
          "term_100k",
          "term_100lez",
          "term_100megs",
          "term_100mg",
          "term_101",
          "term_1010",
          "term_10101",
          "term_101010",
          "term_1013",
          "term_1015",
          "term_101747",
          "term_10179",
          "term_10193",
          "term_10196",
          "term_101h",
          "term_102",
          "term_102007",
          "term_1023",
          "term_1024",
          "term_1024x1024",
          "term_1024x512",
          "term_1024x728",
          "term_1024x768",
          "term_1024x768x24",
          "term_1024x768x65000",
          "term_1024x786x24",
          "term_10250",
          "term_1027",
          "term_1028",
          "term_102810",
          "term_1029",
          "term_103",
          "term_1030",
          "term_103237",
          "term_10368",
          "term_1039",
          "term_104",
          "term_1040",
          "term_104107",
          "term_10461",
          "term_1049",
          "term_105",
          "term_105094",
          "term_10553",
          "term_105805",
          "term_10598",
          "term_106",
          "term_1060",
          "term_1065",
          "term_1066",
          "term_10665",
          "term_10669",
          "term_10679",
          "term_107",
          "term_1070",
          "term_10780",
          "term_10789",
          "term_108",
          "term_1080",
          "term_10818",
          "term_10893",
          "term_109",
          "term_1095",
          "term_10983",
          "term_10984",
          "term_10fps",
          "term_10h",
          "term_10k",
          "term_10mg",
          "term_10mhz",
          "term_10th",
          "term_10yo",
          "term_11",
          "term_110",
          "term_1100",
          "term_11004",
          "term_110mbytes",
          "term_111",
          "term_1111",
          "term_1113",
          "term_111651",
          "term_111713",
          "term_111834",
          "term_112",
          "term_1121",
          "term_112127",
          "term_1122",
          "term_112203jer4",
          "term_11230",
          "term_112329",
          "term_1124",
          "term_112430",
          "term_11292",
          "term_113",
          "term_113223",
          "term_113255",
          "term_113528",
          "term_11361",
          "term_1137",
          "term_114",
          "term_114127",
          "term_114133",
          "term_114140",
          "term_114158",
          "term_1143",
          "term_114428",
          "term_114440",
          "term_1145040",
          "term_115",
          "term_115072",
          "term_115256",
          "term_115287",
          "term_115288",
          "term_115290",
          "term_115300",
          "term_115437",
          "term_115468",
          "term_115561",
          "term_115565",
          "term_115571",
          "term_115621",
          "term_115670",
          "term_115686",
          "term_115687",
          "term_115694",
          "term_115707",
          "term_115716",
          "term_115846",
          "term_115847",
          "term_115a",
          "term_116305",
          "term_11632",
          "term_1165",
          "term_11670",
          "term_117",
          "term_1170",
          "term_11705",
          "term_11710",
          "term_11716",
          "term_11721",
          "term_11743",
          "term_11766",
          "term_1177",
          "term_11776",
          "term_11782",
          "term_117th",
          "term_118",
          "term_11810",
          "term_11812",
          "term_11820",
          "term_11825",
          "term_11826",
          "term_11830",
          "term_11836",
          "term_11838",
          "term_11841",
          "term_11847",
          "term_11857",
          "term_119",
          "term_11903",
          "term_1191",
          "term_11915",
          "term_1192d",
          "term_1198",
          "term_11dec89",
          "term_11th",
          "term_11x17",
          "term_12",
          "term_120",
          "term_1200",
          "term_1200x900",
          "term_1201",
          "term_1203",
          "term_120352",
          "term_120493020107",
          "term_1207",
          "term_12091",
          "term_12092",
          "term_120kvolt",
          "term_121",
          "term_1210",
          "term_121019",
          "term_121134",
          "term_12132",
          "term_12144",
          "term_12153",
          "term_12187",
          "term_121925",
          "term_122",
          "term_122037",
          "term_1221",
          "term_12222",
          "term_122329",
          "term_12252",
          "term_122647",
          "term_122738",
          "term_12295",
          "term_123",
          "term_1231",
          "term_123213",
          "term_123315",
          "term_123832",
          "term_123858",
          "term_124",
          "term_1240002",
          "term_124112",
          "term_124216",
          "term_124221",
          "term_1244",
          "term_1246",
          "term_124753",
          "term_125",
          "term_1251",
          "term_125109",
          "term_125145",
          "term_125147",
          "term_125245",
          "term_12533",
          "term_125545",
          "term_125750",
          "term_125920",
          "term_126",
          "term_12602",
          "term_1263",
          "term_1266",
          "term_126645",
          "term_1268",
          "term_127",
          "term_12700",
          "term_1271",
          "term_1273",
          "term_1275",
          "term_128",
          "term_1280",
          "term_1281",
          "term_12872"
         ],
         "xaxis": "x",
         "y": [
          134,
          92,
          1,
          2,
          1,
          3,
          1,
          1,
          1,
          1,
          2,
          1,
          1,
          3,
          1,
          1,
          1,
          2,
          1,
          3,
          1,
          2,
          1,
          1,
          1,
          2,
          1,
          1,
          1,
          1,
          1,
          1,
          1,
          1,
          5,
          1,
          13,
          95,
          4,
          1,
          1,
          1,
          1,
          1,
          2,
          1,
          1,
          1,
          2,
          1,
          1,
          1,
          1,
          2,
          1,
          1,
          1,
          4,
          2,
          1,
          1,
          1,
          1,
          1,
          2,
          1,
          1,
          1,
          1,
          1,
          2,
          1,
          59,
          1,
          4,
          2,
          1,
          1,
          1,
          1,
          2,
          3,
          1,
          2,
          1,
          1,
          1,
          1,
          3,
          1,
          1,
          1,
          3,
          1,
          1,
          3,
          2,
          1,
          2,
          2,
          1,
          1,
          3,
          100,
          1,
          1,
          1,
          1,
          1,
          1,
          2,
          1,
          2,
          1,
          2,
          1,
          2,
          5,
          24,
          1,
          1,
          1,
          1,
          2,
          47,
          4,
          1,
          1,
          1,
          1,
          1,
          3,
          1,
          1,
          4,
          2,
          2,
          1,
          1,
          62,
          2,
          2,
          1,
          1,
          1,
          2,
          1,
          5,
          1,
          1,
          1,
          1,
          1,
          1,
          1,
          1,
          1,
          1,
          18,
          3,
          1,
          1,
          3,
          2,
          1,
          1,
          3,
          2,
          1,
          1,
          1,
          1,
          1,
          27,
          1,
          1,
          1,
          7,
          1,
          1,
          2,
          2,
          1,
          1,
          1,
          1,
          1,
          1,
          40,
          1,
          2,
          1,
          1,
          5,
          1,
          1,
          1,
          5,
          1,
          1,
          1,
          1,
          1,
          34,
          1,
          2,
          1,
          1,
          1,
          1,
          2,
          2,
          2,
          1,
          1,
          1,
          2,
          2,
          1,
          1,
          1,
          4,
          2,
          1,
          1,
          1,
          1,
          1,
          1,
          1,
          1,
          1,
          1,
          1,
          2,
          1,
          3,
          1,
          1,
          1,
          1,
          1,
          378,
          105,
          20,
          2,
          2,
          2,
          1,
          1,
          1,
          1,
          1,
          2,
          1,
          1,
          1,
          1,
          1,
          1,
          1,
          1,
          1,
          2,
          2,
          1,
          1,
          1,
          19,
          1,
          3,
          4,
          8,
          2,
          1,
          2,
          2,
          1,
          1,
          7,
          3,
          1,
          5,
          1,
          1,
          1,
          7,
          1,
          1,
          2,
          1,
          1,
          2,
          1,
          1,
          4,
          1,
          3,
          1,
          1,
          5,
          1,
          1,
          1,
          1,
          5,
          1,
          1,
          1,
          1,
          6,
          1,
          1,
          1,
          1,
          2,
          1,
          2,
          1,
          1,
          1,
          3,
          1,
          1,
          1,
          11,
          2,
          1,
          1,
          1,
          1,
          1,
          1,
          1,
          5,
          1,
          215,
          16,
          4,
          2,
          1,
          6,
          6,
          3,
          1,
          1,
          1,
          5,
          1,
          1,
          1,
          1,
          3,
          1,
          1,
          1,
          5,
          8,
          2,
          1,
          1,
          2,
          1,
          10,
          4,
          1,
          1,
          3,
          1,
          1,
          1,
          1,
          5,
          1,
          1,
          1,
          3,
          2,
          2,
          2,
          1,
          1,
          3,
          1,
          1,
          1,
          1,
          1,
          1,
          2,
          1,
          1,
          1,
          4,
          5,
          7,
          5,
          3,
          7,
          4,
          1,
          1,
          1,
          1,
          1,
          1,
          2,
          1,
          2,
          1,
          3,
          1,
          1,
          1,
          3,
          1,
          2,
          2,
          1,
          1,
          1,
          1,
          3,
          1,
          1,
          1,
          4,
          1,
          1,
          2,
          1,
          236,
          9,
          9,
          1,
          1,
          1,
          1,
          1,
          1,
          4,
          2,
          2,
          5,
          1,
          2,
          2,
          1,
          1,
          2,
          2,
          1,
          5,
          1,
          1,
          1,
          2,
          1,
          5,
          1,
          1,
          8,
          1,
          1,
          2,
          1,
          1,
          2,
          1,
          1,
          1,
          1,
          2,
          3,
          1,
          3,
          1,
          1,
          1,
          1,
          2,
          2,
          1,
          1,
          1,
          3,
          1,
          1,
          2,
          1,
          1,
          15,
          1,
          2,
          1,
          1,
          82,
          3,
          2,
          2
         ],
         "yaxis": "y"
        }
       ],
       "layout": {
        "barmode": "relative",
        "coloraxis": {
         "colorbar": {
          "title": {
           "text": "frequ"
          }
         },
         "colorscale": [
          [
           0,
           "#0d0887"
          ],
          [
           0.1111111111111111,
           "#46039f"
          ],
          [
           0.2222222222222222,
           "#7201a8"
          ],
          [
           0.3333333333333333,
           "#9c179e"
          ],
          [
           0.4444444444444444,
           "#bd3786"
          ],
          [
           0.5555555555555556,
           "#d8576b"
          ],
          [
           0.6666666666666666,
           "#ed7953"
          ],
          [
           0.7777777777777778,
           "#fb9f3a"
          ],
          [
           0.8888888888888888,
           "#fdca26"
          ],
          [
           1,
           "#f0f921"
          ]
         ]
        },
        "height": 600,
        "legend": {
         "tracegroupgap": 0
        },
        "margin": {
         "t": 60
        },
        "template": {
         "data": {
          "bar": [
           {
            "error_x": {
             "color": "#2a3f5f"
            },
            "error_y": {
             "color": "#2a3f5f"
            },
            "marker": {
             "line": {
              "color": "#E5ECF6",
              "width": 0.5
             }
            },
            "type": "bar"
           }
          ],
          "barpolar": [
           {
            "marker": {
             "line": {
              "color": "#E5ECF6",
              "width": 0.5
             }
            },
            "type": "barpolar"
           }
          ],
          "carpet": [
           {
            "aaxis": {
             "endlinecolor": "#2a3f5f",
             "gridcolor": "white",
             "linecolor": "white",
             "minorgridcolor": "white",
             "startlinecolor": "#2a3f5f"
            },
            "baxis": {
             "endlinecolor": "#2a3f5f",
             "gridcolor": "white",
             "linecolor": "white",
             "minorgridcolor": "white",
             "startlinecolor": "#2a3f5f"
            },
            "type": "carpet"
           }
          ],
          "choropleth": [
           {
            "colorbar": {
             "outlinewidth": 0,
             "ticks": ""
            },
            "type": "choropleth"
           }
          ],
          "contour": [
           {
            "colorbar": {
             "outlinewidth": 0,
             "ticks": ""
            },
            "colorscale": [
             [
              0,
              "#0d0887"
             ],
             [
              0.1111111111111111,
              "#46039f"
             ],
             [
              0.2222222222222222,
              "#7201a8"
             ],
             [
              0.3333333333333333,
              "#9c179e"
             ],
             [
              0.4444444444444444,
              "#bd3786"
             ],
             [
              0.5555555555555556,
              "#d8576b"
             ],
             [
              0.6666666666666666,
              "#ed7953"
             ],
             [
              0.7777777777777778,
              "#fb9f3a"
             ],
             [
              0.8888888888888888,
              "#fdca26"
             ],
             [
              1,
              "#f0f921"
             ]
            ],
            "type": "contour"
           }
          ],
          "contourcarpet": [
           {
            "colorbar": {
             "outlinewidth": 0,
             "ticks": ""
            },
            "type": "contourcarpet"
           }
          ],
          "heatmap": [
           {
            "colorbar": {
             "outlinewidth": 0,
             "ticks": ""
            },
            "colorscale": [
             [
              0,
              "#0d0887"
             ],
             [
              0.1111111111111111,
              "#46039f"
             ],
             [
              0.2222222222222222,
              "#7201a8"
             ],
             [
              0.3333333333333333,
              "#9c179e"
             ],
             [
              0.4444444444444444,
              "#bd3786"
             ],
             [
              0.5555555555555556,
              "#d8576b"
             ],
             [
              0.6666666666666666,
              "#ed7953"
             ],
             [
              0.7777777777777778,
              "#fb9f3a"
             ],
             [
              0.8888888888888888,
              "#fdca26"
             ],
             [
              1,
              "#f0f921"
             ]
            ],
            "type": "heatmap"
           }
          ],
          "heatmapgl": [
           {
            "colorbar": {
             "outlinewidth": 0,
             "ticks": ""
            },
            "colorscale": [
             [
              0,
              "#0d0887"
             ],
             [
              0.1111111111111111,
              "#46039f"
             ],
             [
              0.2222222222222222,
              "#7201a8"
             ],
             [
              0.3333333333333333,
              "#9c179e"
             ],
             [
              0.4444444444444444,
              "#bd3786"
             ],
             [
              0.5555555555555556,
              "#d8576b"
             ],
             [
              0.6666666666666666,
              "#ed7953"
             ],
             [
              0.7777777777777778,
              "#fb9f3a"
             ],
             [
              0.8888888888888888,
              "#fdca26"
             ],
             [
              1,
              "#f0f921"
             ]
            ],
            "type": "heatmapgl"
           }
          ],
          "histogram": [
           {
            "marker": {
             "colorbar": {
              "outlinewidth": 0,
              "ticks": ""
             }
            },
            "type": "histogram"
           }
          ],
          "histogram2d": [
           {
            "colorbar": {
             "outlinewidth": 0,
             "ticks": ""
            },
            "colorscale": [
             [
              0,
              "#0d0887"
             ],
             [
              0.1111111111111111,
              "#46039f"
             ],
             [
              0.2222222222222222,
              "#7201a8"
             ],
             [
              0.3333333333333333,
              "#9c179e"
             ],
             [
              0.4444444444444444,
              "#bd3786"
             ],
             [
              0.5555555555555556,
              "#d8576b"
             ],
             [
              0.6666666666666666,
              "#ed7953"
             ],
             [
              0.7777777777777778,
              "#fb9f3a"
             ],
             [
              0.8888888888888888,
              "#fdca26"
             ],
             [
              1,
              "#f0f921"
             ]
            ],
            "type": "histogram2d"
           }
          ],
          "histogram2dcontour": [
           {
            "colorbar": {
             "outlinewidth": 0,
             "ticks": ""
            },
            "colorscale": [
             [
              0,
              "#0d0887"
             ],
             [
              0.1111111111111111,
              "#46039f"
             ],
             [
              0.2222222222222222,
              "#7201a8"
             ],
             [
              0.3333333333333333,
              "#9c179e"
             ],
             [
              0.4444444444444444,
              "#bd3786"
             ],
             [
              0.5555555555555556,
              "#d8576b"
             ],
             [
              0.6666666666666666,
              "#ed7953"
             ],
             [
              0.7777777777777778,
              "#fb9f3a"
             ],
             [
              0.8888888888888888,
              "#fdca26"
             ],
             [
              1,
              "#f0f921"
             ]
            ],
            "type": "histogram2dcontour"
           }
          ],
          "mesh3d": [
           {
            "colorbar": {
             "outlinewidth": 0,
             "ticks": ""
            },
            "type": "mesh3d"
           }
          ],
          "parcoords": [
           {
            "line": {
             "colorbar": {
              "outlinewidth": 0,
              "ticks": ""
             }
            },
            "type": "parcoords"
           }
          ],
          "scatter": [
           {
            "marker": {
             "colorbar": {
              "outlinewidth": 0,
              "ticks": ""
             }
            },
            "type": "scatter"
           }
          ],
          "scatter3d": [
           {
            "line": {
             "colorbar": {
              "outlinewidth": 0,
              "ticks": ""
             }
            },
            "marker": {
             "colorbar": {
              "outlinewidth": 0,
              "ticks": ""
             }
            },
            "type": "scatter3d"
           }
          ],
          "scattercarpet": [
           {
            "marker": {
             "colorbar": {
              "outlinewidth": 0,
              "ticks": ""
             }
            },
            "type": "scattercarpet"
           }
          ],
          "scattergeo": [
           {
            "marker": {
             "colorbar": {
              "outlinewidth": 0,
              "ticks": ""
             }
            },
            "type": "scattergeo"
           }
          ],
          "scattergl": [
           {
            "marker": {
             "colorbar": {
              "outlinewidth": 0,
              "ticks": ""
             }
            },
            "type": "scattergl"
           }
          ],
          "scattermapbox": [
           {
            "marker": {
             "colorbar": {
              "outlinewidth": 0,
              "ticks": ""
             }
            },
            "type": "scattermapbox"
           }
          ],
          "scatterpolar": [
           {
            "marker": {
             "colorbar": {
              "outlinewidth": 0,
              "ticks": ""
             }
            },
            "type": "scatterpolar"
           }
          ],
          "scatterpolargl": [
           {
            "marker": {
             "colorbar": {
              "outlinewidth": 0,
              "ticks": ""
             }
            },
            "type": "scatterpolargl"
           }
          ],
          "scatterternary": [
           {
            "marker": {
             "colorbar": {
              "outlinewidth": 0,
              "ticks": ""
             }
            },
            "type": "scatterternary"
           }
          ],
          "surface": [
           {
            "colorbar": {
             "outlinewidth": 0,
             "ticks": ""
            },
            "colorscale": [
             [
              0,
              "#0d0887"
             ],
             [
              0.1111111111111111,
              "#46039f"
             ],
             [
              0.2222222222222222,
              "#7201a8"
             ],
             [
              0.3333333333333333,
              "#9c179e"
             ],
             [
              0.4444444444444444,
              "#bd3786"
             ],
             [
              0.5555555555555556,
              "#d8576b"
             ],
             [
              0.6666666666666666,
              "#ed7953"
             ],
             [
              0.7777777777777778,
              "#fb9f3a"
             ],
             [
              0.8888888888888888,
              "#fdca26"
             ],
             [
              1,
              "#f0f921"
             ]
            ],
            "type": "surface"
           }
          ],
          "table": [
           {
            "cells": {
             "fill": {
              "color": "#EBF0F8"
             },
             "line": {
              "color": "white"
             }
            },
            "header": {
             "fill": {
              "color": "#C8D4E3"
             },
             "line": {
              "color": "white"
             }
            },
            "type": "table"
           }
          ]
         },
         "layout": {
          "annotationdefaults": {
           "arrowcolor": "#2a3f5f",
           "arrowhead": 0,
           "arrowwidth": 1
          },
          "colorscale": {
           "diverging": [
            [
             0,
             "#8e0152"
            ],
            [
             0.1,
             "#c51b7d"
            ],
            [
             0.2,
             "#de77ae"
            ],
            [
             0.3,
             "#f1b6da"
            ],
            [
             0.4,
             "#fde0ef"
            ],
            [
             0.5,
             "#f7f7f7"
            ],
            [
             0.6,
             "#e6f5d0"
            ],
            [
             0.7,
             "#b8e186"
            ],
            [
             0.8,
             "#7fbc41"
            ],
            [
             0.9,
             "#4d9221"
            ],
            [
             1,
             "#276419"
            ]
           ],
           "sequential": [
            [
             0,
             "#0d0887"
            ],
            [
             0.1111111111111111,
             "#46039f"
            ],
            [
             0.2222222222222222,
             "#7201a8"
            ],
            [
             0.3333333333333333,
             "#9c179e"
            ],
            [
             0.4444444444444444,
             "#bd3786"
            ],
            [
             0.5555555555555556,
             "#d8576b"
            ],
            [
             0.6666666666666666,
             "#ed7953"
            ],
            [
             0.7777777777777778,
             "#fb9f3a"
            ],
            [
             0.8888888888888888,
             "#fdca26"
            ],
            [
             1,
             "#f0f921"
            ]
           ],
           "sequentialminus": [
            [
             0,
             "#0d0887"
            ],
            [
             0.1111111111111111,
             "#46039f"
            ],
            [
             0.2222222222222222,
             "#7201a8"
            ],
            [
             0.3333333333333333,
             "#9c179e"
            ],
            [
             0.4444444444444444,
             "#bd3786"
            ],
            [
             0.5555555555555556,
             "#d8576b"
            ],
            [
             0.6666666666666666,
             "#ed7953"
            ],
            [
             0.7777777777777778,
             "#fb9f3a"
            ],
            [
             0.8888888888888888,
             "#fdca26"
            ],
            [
             1,
             "#f0f921"
            ]
           ]
          },
          "colorway": [
           "#636efa",
           "#EF553B",
           "#00cc96",
           "#ab63fa",
           "#FFA15A",
           "#19d3f3",
           "#FF6692",
           "#B6E880",
           "#FF97FF",
           "#FECB52"
          ],
          "font": {
           "color": "#2a3f5f"
          },
          "geo": {
           "bgcolor": "white",
           "lakecolor": "white",
           "landcolor": "#E5ECF6",
           "showlakes": true,
           "showland": true,
           "subunitcolor": "white"
          },
          "hoverlabel": {
           "align": "left"
          },
          "hovermode": "closest",
          "mapbox": {
           "style": "light"
          },
          "paper_bgcolor": "white",
          "plot_bgcolor": "#E5ECF6",
          "polar": {
           "angularaxis": {
            "gridcolor": "white",
            "linecolor": "white",
            "ticks": ""
           },
           "bgcolor": "#E5ECF6",
           "radialaxis": {
            "gridcolor": "white",
            "linecolor": "white",
            "ticks": ""
           }
          },
          "scene": {
           "xaxis": {
            "backgroundcolor": "#E5ECF6",
            "gridcolor": "white",
            "gridwidth": 2,
            "linecolor": "white",
            "showbackground": true,
            "ticks": "",
            "zerolinecolor": "white"
           },
           "yaxis": {
            "backgroundcolor": "#E5ECF6",
            "gridcolor": "white",
            "gridwidth": 2,
            "linecolor": "white",
            "showbackground": true,
            "ticks": "",
            "zerolinecolor": "white"
           },
           "zaxis": {
            "backgroundcolor": "#E5ECF6",
            "gridcolor": "white",
            "gridwidth": 2,
            "linecolor": "white",
            "showbackground": true,
            "ticks": "",
            "zerolinecolor": "white"
           }
          },
          "shapedefaults": {
           "line": {
            "color": "#2a3f5f"
           }
          },
          "ternary": {
           "aaxis": {
            "gridcolor": "white",
            "linecolor": "white",
            "ticks": ""
           },
           "baxis": {
            "gridcolor": "white",
            "linecolor": "white",
            "ticks": ""
           },
           "bgcolor": "#E5ECF6",
           "caxis": {
            "gridcolor": "white",
            "linecolor": "white",
            "ticks": ""
           }
          },
          "title": {
           "x": 0.05
          },
          "xaxis": {
           "automargin": true,
           "gridcolor": "white",
           "linecolor": "white",
           "ticks": "",
           "zerolinecolor": "white",
           "zerolinewidth": 2
          },
          "yaxis": {
           "automargin": true,
           "gridcolor": "white",
           "linecolor": "white",
           "ticks": "",
           "zerolinecolor": "white",
           "zerolinewidth": 2
          }
         }
        },
        "xaxis": {
         "anchor": "y",
         "domain": [
          0,
          0.98
         ],
         "title": {
          "text": "feature"
         }
        },
        "yaxis": {
         "anchor": "x",
         "domain": [
          0,
          1
         ],
         "title": {
          "text": "frequ"
         }
        }
       }
      },
      "text/html": [
       "<div>\n",
       "        \n",
       "        \n",
       "            <div id=\"846cb592-dcac-4681-b486-53c6bb58c6af\" class=\"plotly-graph-div\" style=\"height:600px; width:100%;\"></div>\n",
       "            <script type=\"text/javascript\">\n",
       "                require([\"plotly\"], function(Plotly) {\n",
       "                    window.PLOTLYENV=window.PLOTLYENV || {};\n",
       "                    \n",
       "                if (document.getElementById(\"846cb592-dcac-4681-b486-53c6bb58c6af\")) {\n",
       "                    Plotly.newPlot(\n",
       "                        '846cb592-dcac-4681-b486-53c6bb58c6af',\n",
       "                        [{\"alignmentgroup\": \"True\", \"hoverlabel\": {\"namelength\": 0}, \"hovertemplate\": \"feature=%{x}<br>frequ=%{marker.color}\", \"legendgroup\": \"\", \"marker\": {\"color\": [134, 92, 1, 2, 1, 3, 1, 1, 1, 1, 2, 1, 1, 3, 1, 1, 1, 2, 1, 3, 1, 2, 1, 1, 1, 2, 1, 1, 1, 1, 1, 1, 1, 1, 5, 1, 13, 95, 4, 1, 1, 1, 1, 1, 2, 1, 1, 1, 2, 1, 1, 1, 1, 2, 1, 1, 1, 4, 2, 1, 1, 1, 1, 1, 2, 1, 1, 1, 1, 1, 2, 1, 59, 1, 4, 2, 1, 1, 1, 1, 2, 3, 1, 2, 1, 1, 1, 1, 3, 1, 1, 1, 3, 1, 1, 3, 2, 1, 2, 2, 1, 1, 3, 100, 1, 1, 1, 1, 1, 1, 2, 1, 2, 1, 2, 1, 2, 5, 24, 1, 1, 1, 1, 2, 47, 4, 1, 1, 1, 1, 1, 3, 1, 1, 4, 2, 2, 1, 1, 62, 2, 2, 1, 1, 1, 2, 1, 5, 1, 1, 1, 1, 1, 1, 1, 1, 1, 1, 18, 3, 1, 1, 3, 2, 1, 1, 3, 2, 1, 1, 1, 1, 1, 27, 1, 1, 1, 7, 1, 1, 2, 2, 1, 1, 1, 1, 1, 1, 40, 1, 2, 1, 1, 5, 1, 1, 1, 5, 1, 1, 1, 1, 1, 34, 1, 2, 1, 1, 1, 1, 2, 2, 2, 1, 1, 1, 2, 2, 1, 1, 1, 4, 2, 1, 1, 1, 1, 1, 1, 1, 1, 1, 1, 1, 2, 1, 3, 1, 1, 1, 1, 1, 378, 105, 20, 2, 2, 2, 1, 1, 1, 1, 1, 2, 1, 1, 1, 1, 1, 1, 1, 1, 1, 2, 2, 1, 1, 1, 19, 1, 3, 4, 8, 2, 1, 2, 2, 1, 1, 7, 3, 1, 5, 1, 1, 1, 7, 1, 1, 2, 1, 1, 2, 1, 1, 4, 1, 3, 1, 1, 5, 1, 1, 1, 1, 5, 1, 1, 1, 1, 6, 1, 1, 1, 1, 2, 1, 2, 1, 1, 1, 3, 1, 1, 1, 11, 2, 1, 1, 1, 1, 1, 1, 1, 5, 1, 215, 16, 4, 2, 1, 6, 6, 3, 1, 1, 1, 5, 1, 1, 1, 1, 3, 1, 1, 1, 5, 8, 2, 1, 1, 2, 1, 10, 4, 1, 1, 3, 1, 1, 1, 1, 5, 1, 1, 1, 3, 2, 2, 2, 1, 1, 3, 1, 1, 1, 1, 1, 1, 2, 1, 1, 1, 4, 5, 7, 5, 3, 7, 4, 1, 1, 1, 1, 1, 1, 2, 1, 2, 1, 3, 1, 1, 1, 3, 1, 2, 2, 1, 1, 1, 1, 3, 1, 1, 1, 4, 1, 1, 2, 1, 236, 9, 9, 1, 1, 1, 1, 1, 1, 4, 2, 2, 5, 1, 2, 2, 1, 1, 2, 2, 1, 5, 1, 1, 1, 2, 1, 5, 1, 1, 8, 1, 1, 2, 1, 1, 2, 1, 1, 1, 1, 2, 3, 1, 3, 1, 1, 1, 1, 2, 2, 1, 1, 1, 3, 1, 1, 2, 1, 1, 15, 1, 2, 1, 1, 82, 3, 2, 2], \"coloraxis\": \"coloraxis\"}, \"name\": \"\", \"offsetgroup\": \"\", \"orientation\": \"v\", \"showlegend\": false, \"textposition\": \"auto\", \"type\": \"bar\", \"x\": [\"term_00\", \"term_000\", \"term_0000\", \"term_0000001200\", \"term_000005102000\", \"term_0001\", \"term_000100255pixel\", \"term_00014\", \"term_000406\", \"term_0007\", \"term_000usd\", \"term_0010\", \"term_001004\", \"term_0010580b\", \"term_001125\", \"term_001200201pixel\", \"term_0014\", \"term_001642\", \"term_00196\", \"term_002\", \"term_0028\", \"term_003258u19250\", \"term_0033\", \"term_0038\", \"term_0039\", \"term_004021809\", \"term_004158\", \"term_004627\", \"term_0049\", \"term_00500\", \"term_005148\", \"term_00630\", \"term_008561\", \"term_0094\", \"term_00am\", \"term_00index\", \"term_00pm\", \"term_01\", \"term_0100\", \"term_010116\", \"term_010702\", \"term_011255\", \"term_011308pxf3\", \"term_011605\", \"term_011720\", \"term_012019\", \"term_012536\", \"term_012946\", \"term_013\", \"term_013034\", \"term_0131\", \"term_013423tan102\", \"term_013657\", \"term_0138\", \"term_013846\", \"term_0150\", \"term_015518\", \"term_01580\", \"term_015931\", \"term_01720\", \"term_01752\", \"term_0179\", \"term_01821\", \"term_01830\", \"term_0184\", \"term_01852\", \"term_01854\", \"term_01890\", \"term_0195\", \"term_0199\", \"term_01a\", \"term_01wb\", \"term_02\", \"term_020\", \"term_0200\", \"term_020504\", \"term_020637\", \"term_020646\", \"term_020701tan102\", \"term_020751\", \"term_02115\", \"term_02118\", \"term_02139\", \"term_02142\", \"term_02154\", \"term_02160\", \"term_021635\", \"term_021708\", \"term_02173\", \"term_0223\", \"term_02254\", \"term_022621tan102\", \"term_023044\", \"term_0235\", \"term_0237\", \"term_024103\", \"term_024150\", \"term_024626\", \"term_025240\", \"term_025924\", \"term_0278\", \"term_02908\", \"term_0293\", \"term_03\", \"term_030105\", \"term_0303\", \"term_030334\", \"term_03051\", \"term_0306\", \"term_030734\", \"term_031423\", \"term_0318\", \"term_032251\", \"term_0330\", \"term_033446\", \"term_033843\", \"term_034226\", \"term_0349\", \"term_0358\", \"term_0362\", \"term_0372\", \"term_03756\", \"term_0380\", \"term_0391\", \"term_04\", \"term_040\", \"term_040286\", \"term_04046\", \"term_040493161915\", \"term_040819\", \"term_0410\", \"term_041343\", \"term_0418\", \"term_042100\", \"term_0423\", \"term_043654\", \"term_044140\", \"term_044946\", \"term_04g\", \"term_05\", \"term_0500\", \"term_050046mvs104\", \"term_0502\", \"term_050524\", \"term_050750\", \"term_0510\", \"term_051039\", \"term_0511\", \"term_051201\", \"term_051246\", \"term_0513\", \"term_053250\", \"term_05401\", \"term_05402\", \"term_05446\", \"term_054600\", \"term_055958\", \"term_0578\", \"term_06\", \"term_0600\", \"term_0600lines\", \"term_060493161931\", \"term_0608\", \"term_061\", \"term_062328\", \"term_062908mvs104\", \"term_06320\", \"term_063425\", \"term_0649\", \"term_06510\", \"term_065230\", \"term_0656\", \"term_068\", \"term_07\", \"term_0700\", \"term_0704\", \"term_0706\", \"term_071\", \"term_07102\", \"term_071613j5j\", \"term_071823\", \"term_0721\", \"term_0729\", \"term_07410\", \"term_0752\", \"term_07653\", \"term_077\", \"term_07748\", \"term_08\", \"term_0804\", \"term_08057\", \"term_080719\", \"term_081\", \"term_081052\", \"term_081303\", \"term_083731\", \"term_084\", \"term_084042\", \"term_084258\", \"term_085526\", \"term_08690\", \"term_08786\", \"term_08934\", \"term_09\", \"term_0900\", \"term_090030\", \"term_0901\", \"term_0903\", \"term_090306\", \"term_0908\", \"term_091139\", \"term_091258\", \"term_091844\", \"term_092051\", \"term_0922\", \"term_0926\", \"term_0930\", \"term_093300\", \"term_093904\", \"term_0943\", \"term_095148\", \"term_095220\", \"term_0987\", \"term_0_\", \"term_0______________________________________________________________________0\", \"term_0a\", \"term_0b\", \"term_0b10\", \"term_0b15\", \"term_0e9\", \"term_0hb\", \"term_0l7\", \"term_0s\", \"term_0u1\", \"term_0x\", \"term_0x00\", \"term_0x100\", \"term_0x1f\", \"term_0x3d4\", \"term_0x8\", \"term_0xc010\", \"term_0xc018\", \"term_10\", \"term_100\", \"term_1000\", \"term_10000\", \"term_100000\", \"term_100015\", \"term_100039\", \"term_100042\", \"term_1000mg\", \"term_1001\", \"term_10012\", \"term_10016\", \"term_10021\", \"term_1003\", \"term_10032\", \"term_10036\", \"term_10038\", \"term_1005\", \"term_10056\", \"term_1007\", \"term_100c\", \"term_100grams\", \"term_100k\", \"term_100lez\", \"term_100megs\", \"term_100mg\", \"term_101\", \"term_1010\", \"term_10101\", \"term_101010\", \"term_1013\", \"term_1015\", \"term_101747\", \"term_10179\", \"term_10193\", \"term_10196\", \"term_101h\", \"term_102\", \"term_102007\", \"term_1023\", \"term_1024\", \"term_1024x1024\", \"term_1024x512\", \"term_1024x728\", \"term_1024x768\", \"term_1024x768x24\", \"term_1024x768x65000\", \"term_1024x786x24\", \"term_10250\", \"term_1027\", \"term_1028\", \"term_102810\", \"term_1029\", \"term_103\", \"term_1030\", \"term_103237\", \"term_10368\", \"term_1039\", \"term_104\", \"term_1040\", \"term_104107\", \"term_10461\", \"term_1049\", \"term_105\", \"term_105094\", \"term_10553\", \"term_105805\", \"term_10598\", \"term_106\", \"term_1060\", \"term_1065\", \"term_1066\", \"term_10665\", \"term_10669\", \"term_10679\", \"term_107\", \"term_1070\", \"term_10780\", \"term_10789\", \"term_108\", \"term_1080\", \"term_10818\", \"term_10893\", \"term_109\", \"term_1095\", \"term_10983\", \"term_10984\", \"term_10fps\", \"term_10h\", \"term_10k\", \"term_10mg\", \"term_10mhz\", \"term_10th\", \"term_10yo\", \"term_11\", \"term_110\", \"term_1100\", \"term_11004\", \"term_110mbytes\", \"term_111\", \"term_1111\", \"term_1113\", \"term_111651\", \"term_111713\", \"term_111834\", \"term_112\", \"term_1121\", \"term_112127\", \"term_1122\", \"term_112203jer4\", \"term_11230\", \"term_112329\", \"term_1124\", \"term_112430\", \"term_11292\", \"term_113\", \"term_113223\", \"term_113255\", \"term_113528\", \"term_11361\", \"term_1137\", \"term_114\", \"term_114127\", \"term_114133\", \"term_114140\", \"term_114158\", \"term_1143\", \"term_114428\", \"term_114440\", \"term_1145040\", \"term_115\", \"term_115072\", \"term_115256\", \"term_115287\", \"term_115288\", \"term_115290\", \"term_115300\", \"term_115437\", \"term_115468\", \"term_115561\", \"term_115565\", \"term_115571\", \"term_115621\", \"term_115670\", \"term_115686\", \"term_115687\", \"term_115694\", \"term_115707\", \"term_115716\", \"term_115846\", \"term_115847\", \"term_115a\", \"term_116305\", \"term_11632\", \"term_1165\", \"term_11670\", \"term_117\", \"term_1170\", \"term_11705\", \"term_11710\", \"term_11716\", \"term_11721\", \"term_11743\", \"term_11766\", \"term_1177\", \"term_11776\", \"term_11782\", \"term_117th\", \"term_118\", \"term_11810\", \"term_11812\", \"term_11820\", \"term_11825\", \"term_11826\", \"term_11830\", \"term_11836\", \"term_11838\", \"term_11841\", \"term_11847\", \"term_11857\", \"term_119\", \"term_11903\", \"term_1191\", \"term_11915\", \"term_1192d\", \"term_1198\", \"term_11dec89\", \"term_11th\", \"term_11x17\", \"term_12\", \"term_120\", \"term_1200\", \"term_1200x900\", \"term_1201\", \"term_1203\", \"term_120352\", \"term_120493020107\", \"term_1207\", \"term_12091\", \"term_12092\", \"term_120kvolt\", \"term_121\", \"term_1210\", \"term_121019\", \"term_121134\", \"term_12132\", \"term_12144\", \"term_12153\", \"term_12187\", \"term_121925\", \"term_122\", \"term_122037\", \"term_1221\", \"term_12222\", \"term_122329\", \"term_12252\", \"term_122647\", \"term_122738\", \"term_12295\", \"term_123\", \"term_1231\", \"term_123213\", \"term_123315\", \"term_123832\", \"term_123858\", \"term_124\", \"term_1240002\", \"term_124112\", \"term_124216\", \"term_124221\", \"term_1244\", \"term_1246\", \"term_124753\", \"term_125\", \"term_1251\", \"term_125109\", \"term_125145\", \"term_125147\", \"term_125245\", \"term_12533\", \"term_125545\", \"term_125750\", \"term_125920\", \"term_126\", \"term_12602\", \"term_1263\", \"term_1266\", \"term_126645\", \"term_1268\", \"term_127\", \"term_12700\", \"term_1271\", \"term_1273\", \"term_1275\", \"term_128\", \"term_1280\", \"term_1281\", \"term_12872\"], \"xaxis\": \"x\", \"y\": [134, 92, 1, 2, 1, 3, 1, 1, 1, 1, 2, 1, 1, 3, 1, 1, 1, 2, 1, 3, 1, 2, 1, 1, 1, 2, 1, 1, 1, 1, 1, 1, 1, 1, 5, 1, 13, 95, 4, 1, 1, 1, 1, 1, 2, 1, 1, 1, 2, 1, 1, 1, 1, 2, 1, 1, 1, 4, 2, 1, 1, 1, 1, 1, 2, 1, 1, 1, 1, 1, 2, 1, 59, 1, 4, 2, 1, 1, 1, 1, 2, 3, 1, 2, 1, 1, 1, 1, 3, 1, 1, 1, 3, 1, 1, 3, 2, 1, 2, 2, 1, 1, 3, 100, 1, 1, 1, 1, 1, 1, 2, 1, 2, 1, 2, 1, 2, 5, 24, 1, 1, 1, 1, 2, 47, 4, 1, 1, 1, 1, 1, 3, 1, 1, 4, 2, 2, 1, 1, 62, 2, 2, 1, 1, 1, 2, 1, 5, 1, 1, 1, 1, 1, 1, 1, 1, 1, 1, 18, 3, 1, 1, 3, 2, 1, 1, 3, 2, 1, 1, 1, 1, 1, 27, 1, 1, 1, 7, 1, 1, 2, 2, 1, 1, 1, 1, 1, 1, 40, 1, 2, 1, 1, 5, 1, 1, 1, 5, 1, 1, 1, 1, 1, 34, 1, 2, 1, 1, 1, 1, 2, 2, 2, 1, 1, 1, 2, 2, 1, 1, 1, 4, 2, 1, 1, 1, 1, 1, 1, 1, 1, 1, 1, 1, 2, 1, 3, 1, 1, 1, 1, 1, 378, 105, 20, 2, 2, 2, 1, 1, 1, 1, 1, 2, 1, 1, 1, 1, 1, 1, 1, 1, 1, 2, 2, 1, 1, 1, 19, 1, 3, 4, 8, 2, 1, 2, 2, 1, 1, 7, 3, 1, 5, 1, 1, 1, 7, 1, 1, 2, 1, 1, 2, 1, 1, 4, 1, 3, 1, 1, 5, 1, 1, 1, 1, 5, 1, 1, 1, 1, 6, 1, 1, 1, 1, 2, 1, 2, 1, 1, 1, 3, 1, 1, 1, 11, 2, 1, 1, 1, 1, 1, 1, 1, 5, 1, 215, 16, 4, 2, 1, 6, 6, 3, 1, 1, 1, 5, 1, 1, 1, 1, 3, 1, 1, 1, 5, 8, 2, 1, 1, 2, 1, 10, 4, 1, 1, 3, 1, 1, 1, 1, 5, 1, 1, 1, 3, 2, 2, 2, 1, 1, 3, 1, 1, 1, 1, 1, 1, 2, 1, 1, 1, 4, 5, 7, 5, 3, 7, 4, 1, 1, 1, 1, 1, 1, 2, 1, 2, 1, 3, 1, 1, 1, 3, 1, 2, 2, 1, 1, 1, 1, 3, 1, 1, 1, 4, 1, 1, 2, 1, 236, 9, 9, 1, 1, 1, 1, 1, 1, 4, 2, 2, 5, 1, 2, 2, 1, 1, 2, 2, 1, 5, 1, 1, 1, 2, 1, 5, 1, 1, 8, 1, 1, 2, 1, 1, 2, 1, 1, 1, 1, 2, 3, 1, 3, 1, 1, 1, 1, 2, 2, 1, 1, 1, 3, 1, 1, 2, 1, 1, 15, 1, 2, 1, 1, 82, 3, 2, 2], \"yaxis\": \"y\"}],\n",
       "                        {\"barmode\": \"relative\", \"coloraxis\": {\"colorbar\": {\"title\": {\"text\": \"frequ\"}}, \"colorscale\": [[0.0, \"#0d0887\"], [0.1111111111111111, \"#46039f\"], [0.2222222222222222, \"#7201a8\"], [0.3333333333333333, \"#9c179e\"], [0.4444444444444444, \"#bd3786\"], [0.5555555555555556, \"#d8576b\"], [0.6666666666666666, \"#ed7953\"], [0.7777777777777778, \"#fb9f3a\"], [0.8888888888888888, \"#fdca26\"], [1.0, \"#f0f921\"]]}, \"height\": 600, \"legend\": {\"tracegroupgap\": 0}, \"margin\": {\"t\": 60}, \"template\": {\"data\": {\"bar\": [{\"error_x\": {\"color\": \"#2a3f5f\"}, \"error_y\": {\"color\": \"#2a3f5f\"}, \"marker\": {\"line\": {\"color\": \"#E5ECF6\", \"width\": 0.5}}, \"type\": \"bar\"}], \"barpolar\": [{\"marker\": {\"line\": {\"color\": \"#E5ECF6\", \"width\": 0.5}}, \"type\": \"barpolar\"}], \"carpet\": [{\"aaxis\": {\"endlinecolor\": \"#2a3f5f\", \"gridcolor\": \"white\", \"linecolor\": \"white\", \"minorgridcolor\": \"white\", \"startlinecolor\": \"#2a3f5f\"}, \"baxis\": {\"endlinecolor\": \"#2a3f5f\", \"gridcolor\": \"white\", \"linecolor\": \"white\", \"minorgridcolor\": \"white\", \"startlinecolor\": \"#2a3f5f\"}, \"type\": \"carpet\"}], \"choropleth\": [{\"colorbar\": {\"outlinewidth\": 0, \"ticks\": \"\"}, \"type\": \"choropleth\"}], \"contour\": [{\"colorbar\": {\"outlinewidth\": 0, \"ticks\": \"\"}, \"colorscale\": [[0.0, \"#0d0887\"], [0.1111111111111111, \"#46039f\"], [0.2222222222222222, \"#7201a8\"], [0.3333333333333333, \"#9c179e\"], [0.4444444444444444, \"#bd3786\"], [0.5555555555555556, \"#d8576b\"], [0.6666666666666666, \"#ed7953\"], [0.7777777777777778, \"#fb9f3a\"], [0.8888888888888888, \"#fdca26\"], [1.0, \"#f0f921\"]], \"type\": \"contour\"}], \"contourcarpet\": [{\"colorbar\": {\"outlinewidth\": 0, \"ticks\": \"\"}, \"type\": \"contourcarpet\"}], \"heatmap\": [{\"colorbar\": {\"outlinewidth\": 0, \"ticks\": \"\"}, \"colorscale\": [[0.0, \"#0d0887\"], [0.1111111111111111, \"#46039f\"], [0.2222222222222222, \"#7201a8\"], [0.3333333333333333, \"#9c179e\"], [0.4444444444444444, \"#bd3786\"], [0.5555555555555556, \"#d8576b\"], [0.6666666666666666, \"#ed7953\"], [0.7777777777777778, \"#fb9f3a\"], [0.8888888888888888, \"#fdca26\"], [1.0, \"#f0f921\"]], \"type\": \"heatmap\"}], \"heatmapgl\": [{\"colorbar\": {\"outlinewidth\": 0, \"ticks\": \"\"}, \"colorscale\": [[0.0, \"#0d0887\"], [0.1111111111111111, \"#46039f\"], [0.2222222222222222, \"#7201a8\"], [0.3333333333333333, \"#9c179e\"], [0.4444444444444444, \"#bd3786\"], [0.5555555555555556, \"#d8576b\"], [0.6666666666666666, \"#ed7953\"], [0.7777777777777778, \"#fb9f3a\"], [0.8888888888888888, \"#fdca26\"], [1.0, \"#f0f921\"]], \"type\": \"heatmapgl\"}], \"histogram\": [{\"marker\": {\"colorbar\": {\"outlinewidth\": 0, \"ticks\": \"\"}}, \"type\": \"histogram\"}], \"histogram2d\": [{\"colorbar\": {\"outlinewidth\": 0, \"ticks\": \"\"}, \"colorscale\": [[0.0, \"#0d0887\"], [0.1111111111111111, \"#46039f\"], [0.2222222222222222, \"#7201a8\"], [0.3333333333333333, \"#9c179e\"], [0.4444444444444444, \"#bd3786\"], [0.5555555555555556, \"#d8576b\"], [0.6666666666666666, \"#ed7953\"], [0.7777777777777778, \"#fb9f3a\"], [0.8888888888888888, \"#fdca26\"], [1.0, \"#f0f921\"]], \"type\": \"histogram2d\"}], \"histogram2dcontour\": [{\"colorbar\": {\"outlinewidth\": 0, \"ticks\": \"\"}, \"colorscale\": [[0.0, \"#0d0887\"], [0.1111111111111111, \"#46039f\"], [0.2222222222222222, \"#7201a8\"], [0.3333333333333333, \"#9c179e\"], [0.4444444444444444, \"#bd3786\"], [0.5555555555555556, \"#d8576b\"], [0.6666666666666666, \"#ed7953\"], [0.7777777777777778, \"#fb9f3a\"], [0.8888888888888888, \"#fdca26\"], [1.0, \"#f0f921\"]], \"type\": \"histogram2dcontour\"}], \"mesh3d\": [{\"colorbar\": {\"outlinewidth\": 0, \"ticks\": \"\"}, \"type\": \"mesh3d\"}], \"parcoords\": [{\"line\": {\"colorbar\": {\"outlinewidth\": 0, \"ticks\": \"\"}}, \"type\": \"parcoords\"}], \"scatter\": [{\"marker\": {\"colorbar\": {\"outlinewidth\": 0, \"ticks\": \"\"}}, \"type\": \"scatter\"}], \"scatter3d\": [{\"line\": {\"colorbar\": {\"outlinewidth\": 0, \"ticks\": \"\"}}, \"marker\": {\"colorbar\": {\"outlinewidth\": 0, \"ticks\": \"\"}}, \"type\": \"scatter3d\"}], \"scattercarpet\": [{\"marker\": {\"colorbar\": {\"outlinewidth\": 0, \"ticks\": \"\"}}, \"type\": \"scattercarpet\"}], \"scattergeo\": [{\"marker\": {\"colorbar\": {\"outlinewidth\": 0, \"ticks\": \"\"}}, \"type\": \"scattergeo\"}], \"scattergl\": [{\"marker\": {\"colorbar\": {\"outlinewidth\": 0, \"ticks\": \"\"}}, \"type\": \"scattergl\"}], \"scattermapbox\": [{\"marker\": {\"colorbar\": {\"outlinewidth\": 0, \"ticks\": \"\"}}, \"type\": \"scattermapbox\"}], \"scatterpolar\": [{\"marker\": {\"colorbar\": {\"outlinewidth\": 0, \"ticks\": \"\"}}, \"type\": \"scatterpolar\"}], \"scatterpolargl\": [{\"marker\": {\"colorbar\": {\"outlinewidth\": 0, \"ticks\": \"\"}}, \"type\": \"scatterpolargl\"}], \"scatterternary\": [{\"marker\": {\"colorbar\": {\"outlinewidth\": 0, \"ticks\": \"\"}}, \"type\": \"scatterternary\"}], \"surface\": [{\"colorbar\": {\"outlinewidth\": 0, \"ticks\": \"\"}, \"colorscale\": [[0.0, \"#0d0887\"], [0.1111111111111111, \"#46039f\"], [0.2222222222222222, \"#7201a8\"], [0.3333333333333333, \"#9c179e\"], [0.4444444444444444, \"#bd3786\"], [0.5555555555555556, \"#d8576b\"], [0.6666666666666666, \"#ed7953\"], [0.7777777777777778, \"#fb9f3a\"], [0.8888888888888888, \"#fdca26\"], [1.0, \"#f0f921\"]], \"type\": \"surface\"}], \"table\": [{\"cells\": {\"fill\": {\"color\": \"#EBF0F8\"}, \"line\": {\"color\": \"white\"}}, \"header\": {\"fill\": {\"color\": \"#C8D4E3\"}, \"line\": {\"color\": \"white\"}}, \"type\": \"table\"}]}, \"layout\": {\"annotationdefaults\": {\"arrowcolor\": \"#2a3f5f\", \"arrowhead\": 0, \"arrowwidth\": 1}, \"colorscale\": {\"diverging\": [[0, \"#8e0152\"], [0.1, \"#c51b7d\"], [0.2, \"#de77ae\"], [0.3, \"#f1b6da\"], [0.4, \"#fde0ef\"], [0.5, \"#f7f7f7\"], [0.6, \"#e6f5d0\"], [0.7, \"#b8e186\"], [0.8, \"#7fbc41\"], [0.9, \"#4d9221\"], [1, \"#276419\"]], \"sequential\": [[0.0, \"#0d0887\"], [0.1111111111111111, \"#46039f\"], [0.2222222222222222, \"#7201a8\"], [0.3333333333333333, \"#9c179e\"], [0.4444444444444444, \"#bd3786\"], [0.5555555555555556, \"#d8576b\"], [0.6666666666666666, \"#ed7953\"], [0.7777777777777778, \"#fb9f3a\"], [0.8888888888888888, \"#fdca26\"], [1.0, \"#f0f921\"]], \"sequentialminus\": [[0.0, \"#0d0887\"], [0.1111111111111111, \"#46039f\"], [0.2222222222222222, \"#7201a8\"], [0.3333333333333333, \"#9c179e\"], [0.4444444444444444, \"#bd3786\"], [0.5555555555555556, \"#d8576b\"], [0.6666666666666666, \"#ed7953\"], [0.7777777777777778, \"#fb9f3a\"], [0.8888888888888888, \"#fdca26\"], [1.0, \"#f0f921\"]]}, \"colorway\": [\"#636efa\", \"#EF553B\", \"#00cc96\", \"#ab63fa\", \"#FFA15A\", \"#19d3f3\", \"#FF6692\", \"#B6E880\", \"#FF97FF\", \"#FECB52\"], \"font\": {\"color\": \"#2a3f5f\"}, \"geo\": {\"bgcolor\": \"white\", \"lakecolor\": \"white\", \"landcolor\": \"#E5ECF6\", \"showlakes\": true, \"showland\": true, \"subunitcolor\": \"white\"}, \"hoverlabel\": {\"align\": \"left\"}, \"hovermode\": \"closest\", \"mapbox\": {\"style\": \"light\"}, \"paper_bgcolor\": \"white\", \"plot_bgcolor\": \"#E5ECF6\", \"polar\": {\"angularaxis\": {\"gridcolor\": \"white\", \"linecolor\": \"white\", \"ticks\": \"\"}, \"bgcolor\": \"#E5ECF6\", \"radialaxis\": {\"gridcolor\": \"white\", \"linecolor\": \"white\", \"ticks\": \"\"}}, \"scene\": {\"xaxis\": {\"backgroundcolor\": \"#E5ECF6\", \"gridcolor\": \"white\", \"gridwidth\": 2, \"linecolor\": \"white\", \"showbackground\": true, \"ticks\": \"\", \"zerolinecolor\": \"white\"}, \"yaxis\": {\"backgroundcolor\": \"#E5ECF6\", \"gridcolor\": \"white\", \"gridwidth\": 2, \"linecolor\": \"white\", \"showbackground\": true, \"ticks\": \"\", \"zerolinecolor\": \"white\"}, \"zaxis\": {\"backgroundcolor\": \"#E5ECF6\", \"gridcolor\": \"white\", \"gridwidth\": 2, \"linecolor\": \"white\", \"showbackground\": true, \"ticks\": \"\", \"zerolinecolor\": \"white\"}}, \"shapedefaults\": {\"line\": {\"color\": \"#2a3f5f\"}}, \"ternary\": {\"aaxis\": {\"gridcolor\": \"white\", \"linecolor\": \"white\", \"ticks\": \"\"}, \"baxis\": {\"gridcolor\": \"white\", \"linecolor\": \"white\", \"ticks\": \"\"}, \"bgcolor\": \"#E5ECF6\", \"caxis\": {\"gridcolor\": \"white\", \"linecolor\": \"white\", \"ticks\": \"\"}}, \"title\": {\"x\": 0.05}, \"xaxis\": {\"automargin\": true, \"gridcolor\": \"white\", \"linecolor\": \"white\", \"ticks\": \"\", \"zerolinecolor\": \"white\", \"zerolinewidth\": 2}, \"yaxis\": {\"automargin\": true, \"gridcolor\": \"white\", \"linecolor\": \"white\", \"ticks\": \"\", \"zerolinecolor\": \"white\", \"zerolinewidth\": 2}}}, \"xaxis\": {\"anchor\": \"y\", \"domain\": [0.0, 0.98], \"title\": {\"text\": \"feature\"}}, \"yaxis\": {\"anchor\": \"x\", \"domain\": [0.0, 1.0], \"title\": {\"text\": \"frequ\"}}},\n",
       "                        {\"responsive\": true}\n",
       "                    ).then(function(){\n",
       "                            \n",
       "var gd = document.getElementById('846cb592-dcac-4681-b486-53c6bb58c6af');\n",
       "var x = new MutationObserver(function (mutations, observer) {{\n",
       "        var display = window.getComputedStyle(gd).display;\n",
       "        if (!display || display === 'none') {{\n",
       "            console.log([gd, 'removed!']);\n",
       "            Plotly.purge(gd);\n",
       "            observer.disconnect();\n",
       "        }}\n",
       "}});\n",
       "\n",
       "// Listen for the removal of the full notebook cells\n",
       "var notebookContainer = gd.closest('#notebook-container');\n",
       "if (notebookContainer) {{\n",
       "    x.observe(notebookContainer, {childList: true});\n",
       "}}\n",
       "\n",
       "// Listen for the clearing of the current output cell\n",
       "var outputEl = gd.closest('.output');\n",
       "if (outputEl) {{\n",
       "    x.observe(outputEl, {childList: true});\n",
       "}}\n",
       "\n",
       "                        })\n",
       "                };\n",
       "                });\n",
       "            </script>\n",
       "        </div>"
      ]
     },
     "metadata": {},
     "output_type": "display_data"
    }
   ],
   "source": [
    "# Answer here\n",
    "import plotly as py\n",
    "import plotly.express as px\n",
    "import plotly.graph_objects as go\n",
    "\n",
    "x=[]\n",
    "for n in range(0,500):\n",
    "    x.append('term_'+count_vect.get_feature_names()[n])\n",
    "\n",
    "bardata = pd.DataFrame(x,columns=[\"feature\"])\n",
    "bardata[\"frequ\"]=term_frequencies[:500]\n",
    "\n",
    "\n",
    "fig = px.bar(bardata, x='feature', y='frequ', color='frequ')\n",
    "fig.show()\n",
    "\n",
    "\n"
   ]
  },
  {
   "cell_type": "markdown",
   "metadata": {},
   "source": [
    "---"
   ]
  },
  {
   "cell_type": "markdown",
   "metadata": {},
   "source": [
    "### >>> **Exercise 14 (take home):** \n",
    "The chart above contains all the vocabulary, and it's computationally intensive to both compute and visualize. Can you efficiently reduce the number of terms you want to visualize as an exercise. \n"
   ]
  },
  {
   "cell_type": "code",
   "execution_count": 195,
   "metadata": {},
   "outputs": [
    {
     "name": "stdout",
     "output_type": "stream",
     "text": [
      "       feature  frequ\n",
      "0      term_00    134\n",
      "1     term_000     92\n",
      "37     term_01     95\n",
      "72     term_02     59\n",
      "103    term_03    100\n",
      "118  term_0358     24\n",
      "124    term_04     47\n",
      "139    term_05     62\n",
      "173    term_07     27\n",
      "188    term_08     40\n",
      "203    term_09     34\n",
      "242    term_10    378\n",
      "243   term_100    105\n",
      "244  term_1000     20\n",
      "336    term_11    215\n",
      "431    term_12    236\n",
      "496   term_128     82\n",
      "               feature  frequ\n",
      "0              term_00    134\n",
      "1             term_000     92\n",
      "2            term_0000      1\n",
      "3      term_0000001200      2\n",
      "4    term_000005102000      1\n",
      "..                 ...    ...\n",
      "495          term_1275      1\n",
      "496           term_128     82\n",
      "497          term_1280      3\n",
      "498          term_1281      2\n",
      "499         term_12872      2\n",
      "\n",
      "[500 rows x 2 columns]\n"
     ]
    }
   ],
   "source": [
    "# Answer here\n",
    "bardata_reduces=bardata[bardata.frequ >= 20]\n",
    "print(bardata_reduces)\n",
    "print(bardata)"
   ]
  },
  {
   "cell_type": "code",
   "execution_count": 196,
   "metadata": {
    "scrolled": true
   },
   "outputs": [
    {
     "data": {
      "application/vnd.plotly.v1+json": {
       "config": {
        "plotlyServerURL": "https://plot.ly"
       },
       "data": [
        {
         "alignmentgroup": "True",
         "hoverlabel": {
          "namelength": 0
         },
         "hovertemplate": "feature=%{x}<br>frequ=%{marker.color}",
         "legendgroup": "",
         "marker": {
          "color": [
           134,
           92,
           95,
           59,
           100,
           24,
           47,
           62,
           27,
           40,
           34,
           378,
           105,
           20,
           215,
           236,
           82
          ],
          "coloraxis": "coloraxis"
         },
         "name": "",
         "offsetgroup": "",
         "orientation": "v",
         "showlegend": false,
         "textposition": "auto",
         "type": "bar",
         "x": [
          "term_00",
          "term_000",
          "term_01",
          "term_02",
          "term_03",
          "term_0358",
          "term_04",
          "term_05",
          "term_07",
          "term_08",
          "term_09",
          "term_10",
          "term_100",
          "term_1000",
          "term_11",
          "term_12",
          "term_128"
         ],
         "xaxis": "x",
         "y": [
          134,
          92,
          95,
          59,
          100,
          24,
          47,
          62,
          27,
          40,
          34,
          378,
          105,
          20,
          215,
          236,
          82
         ],
         "yaxis": "y"
        }
       ],
       "layout": {
        "barmode": "relative",
        "coloraxis": {
         "colorbar": {
          "title": {
           "text": "frequ"
          }
         },
         "colorscale": [
          [
           0,
           "#0d0887"
          ],
          [
           0.1111111111111111,
           "#46039f"
          ],
          [
           0.2222222222222222,
           "#7201a8"
          ],
          [
           0.3333333333333333,
           "#9c179e"
          ],
          [
           0.4444444444444444,
           "#bd3786"
          ],
          [
           0.5555555555555556,
           "#d8576b"
          ],
          [
           0.6666666666666666,
           "#ed7953"
          ],
          [
           0.7777777777777778,
           "#fb9f3a"
          ],
          [
           0.8888888888888888,
           "#fdca26"
          ],
          [
           1,
           "#f0f921"
          ]
         ]
        },
        "height": 600,
        "legend": {
         "tracegroupgap": 0
        },
        "margin": {
         "t": 60
        },
        "template": {
         "data": {
          "bar": [
           {
            "error_x": {
             "color": "#2a3f5f"
            },
            "error_y": {
             "color": "#2a3f5f"
            },
            "marker": {
             "line": {
              "color": "#E5ECF6",
              "width": 0.5
             }
            },
            "type": "bar"
           }
          ],
          "barpolar": [
           {
            "marker": {
             "line": {
              "color": "#E5ECF6",
              "width": 0.5
             }
            },
            "type": "barpolar"
           }
          ],
          "carpet": [
           {
            "aaxis": {
             "endlinecolor": "#2a3f5f",
             "gridcolor": "white",
             "linecolor": "white",
             "minorgridcolor": "white",
             "startlinecolor": "#2a3f5f"
            },
            "baxis": {
             "endlinecolor": "#2a3f5f",
             "gridcolor": "white",
             "linecolor": "white",
             "minorgridcolor": "white",
             "startlinecolor": "#2a3f5f"
            },
            "type": "carpet"
           }
          ],
          "choropleth": [
           {
            "colorbar": {
             "outlinewidth": 0,
             "ticks": ""
            },
            "type": "choropleth"
           }
          ],
          "contour": [
           {
            "colorbar": {
             "outlinewidth": 0,
             "ticks": ""
            },
            "colorscale": [
             [
              0,
              "#0d0887"
             ],
             [
              0.1111111111111111,
              "#46039f"
             ],
             [
              0.2222222222222222,
              "#7201a8"
             ],
             [
              0.3333333333333333,
              "#9c179e"
             ],
             [
              0.4444444444444444,
              "#bd3786"
             ],
             [
              0.5555555555555556,
              "#d8576b"
             ],
             [
              0.6666666666666666,
              "#ed7953"
             ],
             [
              0.7777777777777778,
              "#fb9f3a"
             ],
             [
              0.8888888888888888,
              "#fdca26"
             ],
             [
              1,
              "#f0f921"
             ]
            ],
            "type": "contour"
           }
          ],
          "contourcarpet": [
           {
            "colorbar": {
             "outlinewidth": 0,
             "ticks": ""
            },
            "type": "contourcarpet"
           }
          ],
          "heatmap": [
           {
            "colorbar": {
             "outlinewidth": 0,
             "ticks": ""
            },
            "colorscale": [
             [
              0,
              "#0d0887"
             ],
             [
              0.1111111111111111,
              "#46039f"
             ],
             [
              0.2222222222222222,
              "#7201a8"
             ],
             [
              0.3333333333333333,
              "#9c179e"
             ],
             [
              0.4444444444444444,
              "#bd3786"
             ],
             [
              0.5555555555555556,
              "#d8576b"
             ],
             [
              0.6666666666666666,
              "#ed7953"
             ],
             [
              0.7777777777777778,
              "#fb9f3a"
             ],
             [
              0.8888888888888888,
              "#fdca26"
             ],
             [
              1,
              "#f0f921"
             ]
            ],
            "type": "heatmap"
           }
          ],
          "heatmapgl": [
           {
            "colorbar": {
             "outlinewidth": 0,
             "ticks": ""
            },
            "colorscale": [
             [
              0,
              "#0d0887"
             ],
             [
              0.1111111111111111,
              "#46039f"
             ],
             [
              0.2222222222222222,
              "#7201a8"
             ],
             [
              0.3333333333333333,
              "#9c179e"
             ],
             [
              0.4444444444444444,
              "#bd3786"
             ],
             [
              0.5555555555555556,
              "#d8576b"
             ],
             [
              0.6666666666666666,
              "#ed7953"
             ],
             [
              0.7777777777777778,
              "#fb9f3a"
             ],
             [
              0.8888888888888888,
              "#fdca26"
             ],
             [
              1,
              "#f0f921"
             ]
            ],
            "type": "heatmapgl"
           }
          ],
          "histogram": [
           {
            "marker": {
             "colorbar": {
              "outlinewidth": 0,
              "ticks": ""
             }
            },
            "type": "histogram"
           }
          ],
          "histogram2d": [
           {
            "colorbar": {
             "outlinewidth": 0,
             "ticks": ""
            },
            "colorscale": [
             [
              0,
              "#0d0887"
             ],
             [
              0.1111111111111111,
              "#46039f"
             ],
             [
              0.2222222222222222,
              "#7201a8"
             ],
             [
              0.3333333333333333,
              "#9c179e"
             ],
             [
              0.4444444444444444,
              "#bd3786"
             ],
             [
              0.5555555555555556,
              "#d8576b"
             ],
             [
              0.6666666666666666,
              "#ed7953"
             ],
             [
              0.7777777777777778,
              "#fb9f3a"
             ],
             [
              0.8888888888888888,
              "#fdca26"
             ],
             [
              1,
              "#f0f921"
             ]
            ],
            "type": "histogram2d"
           }
          ],
          "histogram2dcontour": [
           {
            "colorbar": {
             "outlinewidth": 0,
             "ticks": ""
            },
            "colorscale": [
             [
              0,
              "#0d0887"
             ],
             [
              0.1111111111111111,
              "#46039f"
             ],
             [
              0.2222222222222222,
              "#7201a8"
             ],
             [
              0.3333333333333333,
              "#9c179e"
             ],
             [
              0.4444444444444444,
              "#bd3786"
             ],
             [
              0.5555555555555556,
              "#d8576b"
             ],
             [
              0.6666666666666666,
              "#ed7953"
             ],
             [
              0.7777777777777778,
              "#fb9f3a"
             ],
             [
              0.8888888888888888,
              "#fdca26"
             ],
             [
              1,
              "#f0f921"
             ]
            ],
            "type": "histogram2dcontour"
           }
          ],
          "mesh3d": [
           {
            "colorbar": {
             "outlinewidth": 0,
             "ticks": ""
            },
            "type": "mesh3d"
           }
          ],
          "parcoords": [
           {
            "line": {
             "colorbar": {
              "outlinewidth": 0,
              "ticks": ""
             }
            },
            "type": "parcoords"
           }
          ],
          "scatter": [
           {
            "marker": {
             "colorbar": {
              "outlinewidth": 0,
              "ticks": ""
             }
            },
            "type": "scatter"
           }
          ],
          "scatter3d": [
           {
            "line": {
             "colorbar": {
              "outlinewidth": 0,
              "ticks": ""
             }
            },
            "marker": {
             "colorbar": {
              "outlinewidth": 0,
              "ticks": ""
             }
            },
            "type": "scatter3d"
           }
          ],
          "scattercarpet": [
           {
            "marker": {
             "colorbar": {
              "outlinewidth": 0,
              "ticks": ""
             }
            },
            "type": "scattercarpet"
           }
          ],
          "scattergeo": [
           {
            "marker": {
             "colorbar": {
              "outlinewidth": 0,
              "ticks": ""
             }
            },
            "type": "scattergeo"
           }
          ],
          "scattergl": [
           {
            "marker": {
             "colorbar": {
              "outlinewidth": 0,
              "ticks": ""
             }
            },
            "type": "scattergl"
           }
          ],
          "scattermapbox": [
           {
            "marker": {
             "colorbar": {
              "outlinewidth": 0,
              "ticks": ""
             }
            },
            "type": "scattermapbox"
           }
          ],
          "scatterpolar": [
           {
            "marker": {
             "colorbar": {
              "outlinewidth": 0,
              "ticks": ""
             }
            },
            "type": "scatterpolar"
           }
          ],
          "scatterpolargl": [
           {
            "marker": {
             "colorbar": {
              "outlinewidth": 0,
              "ticks": ""
             }
            },
            "type": "scatterpolargl"
           }
          ],
          "scatterternary": [
           {
            "marker": {
             "colorbar": {
              "outlinewidth": 0,
              "ticks": ""
             }
            },
            "type": "scatterternary"
           }
          ],
          "surface": [
           {
            "colorbar": {
             "outlinewidth": 0,
             "ticks": ""
            },
            "colorscale": [
             [
              0,
              "#0d0887"
             ],
             [
              0.1111111111111111,
              "#46039f"
             ],
             [
              0.2222222222222222,
              "#7201a8"
             ],
             [
              0.3333333333333333,
              "#9c179e"
             ],
             [
              0.4444444444444444,
              "#bd3786"
             ],
             [
              0.5555555555555556,
              "#d8576b"
             ],
             [
              0.6666666666666666,
              "#ed7953"
             ],
             [
              0.7777777777777778,
              "#fb9f3a"
             ],
             [
              0.8888888888888888,
              "#fdca26"
             ],
             [
              1,
              "#f0f921"
             ]
            ],
            "type": "surface"
           }
          ],
          "table": [
           {
            "cells": {
             "fill": {
              "color": "#EBF0F8"
             },
             "line": {
              "color": "white"
             }
            },
            "header": {
             "fill": {
              "color": "#C8D4E3"
             },
             "line": {
              "color": "white"
             }
            },
            "type": "table"
           }
          ]
         },
         "layout": {
          "annotationdefaults": {
           "arrowcolor": "#2a3f5f",
           "arrowhead": 0,
           "arrowwidth": 1
          },
          "colorscale": {
           "diverging": [
            [
             0,
             "#8e0152"
            ],
            [
             0.1,
             "#c51b7d"
            ],
            [
             0.2,
             "#de77ae"
            ],
            [
             0.3,
             "#f1b6da"
            ],
            [
             0.4,
             "#fde0ef"
            ],
            [
             0.5,
             "#f7f7f7"
            ],
            [
             0.6,
             "#e6f5d0"
            ],
            [
             0.7,
             "#b8e186"
            ],
            [
             0.8,
             "#7fbc41"
            ],
            [
             0.9,
             "#4d9221"
            ],
            [
             1,
             "#276419"
            ]
           ],
           "sequential": [
            [
             0,
             "#0d0887"
            ],
            [
             0.1111111111111111,
             "#46039f"
            ],
            [
             0.2222222222222222,
             "#7201a8"
            ],
            [
             0.3333333333333333,
             "#9c179e"
            ],
            [
             0.4444444444444444,
             "#bd3786"
            ],
            [
             0.5555555555555556,
             "#d8576b"
            ],
            [
             0.6666666666666666,
             "#ed7953"
            ],
            [
             0.7777777777777778,
             "#fb9f3a"
            ],
            [
             0.8888888888888888,
             "#fdca26"
            ],
            [
             1,
             "#f0f921"
            ]
           ],
           "sequentialminus": [
            [
             0,
             "#0d0887"
            ],
            [
             0.1111111111111111,
             "#46039f"
            ],
            [
             0.2222222222222222,
             "#7201a8"
            ],
            [
             0.3333333333333333,
             "#9c179e"
            ],
            [
             0.4444444444444444,
             "#bd3786"
            ],
            [
             0.5555555555555556,
             "#d8576b"
            ],
            [
             0.6666666666666666,
             "#ed7953"
            ],
            [
             0.7777777777777778,
             "#fb9f3a"
            ],
            [
             0.8888888888888888,
             "#fdca26"
            ],
            [
             1,
             "#f0f921"
            ]
           ]
          },
          "colorway": [
           "#636efa",
           "#EF553B",
           "#00cc96",
           "#ab63fa",
           "#FFA15A",
           "#19d3f3",
           "#FF6692",
           "#B6E880",
           "#FF97FF",
           "#FECB52"
          ],
          "font": {
           "color": "#2a3f5f"
          },
          "geo": {
           "bgcolor": "white",
           "lakecolor": "white",
           "landcolor": "#E5ECF6",
           "showlakes": true,
           "showland": true,
           "subunitcolor": "white"
          },
          "hoverlabel": {
           "align": "left"
          },
          "hovermode": "closest",
          "mapbox": {
           "style": "light"
          },
          "paper_bgcolor": "white",
          "plot_bgcolor": "#E5ECF6",
          "polar": {
           "angularaxis": {
            "gridcolor": "white",
            "linecolor": "white",
            "ticks": ""
           },
           "bgcolor": "#E5ECF6",
           "radialaxis": {
            "gridcolor": "white",
            "linecolor": "white",
            "ticks": ""
           }
          },
          "scene": {
           "xaxis": {
            "backgroundcolor": "#E5ECF6",
            "gridcolor": "white",
            "gridwidth": 2,
            "linecolor": "white",
            "showbackground": true,
            "ticks": "",
            "zerolinecolor": "white"
           },
           "yaxis": {
            "backgroundcolor": "#E5ECF6",
            "gridcolor": "white",
            "gridwidth": 2,
            "linecolor": "white",
            "showbackground": true,
            "ticks": "",
            "zerolinecolor": "white"
           },
           "zaxis": {
            "backgroundcolor": "#E5ECF6",
            "gridcolor": "white",
            "gridwidth": 2,
            "linecolor": "white",
            "showbackground": true,
            "ticks": "",
            "zerolinecolor": "white"
           }
          },
          "shapedefaults": {
           "line": {
            "color": "#2a3f5f"
           }
          },
          "ternary": {
           "aaxis": {
            "gridcolor": "white",
            "linecolor": "white",
            "ticks": ""
           },
           "baxis": {
            "gridcolor": "white",
            "linecolor": "white",
            "ticks": ""
           },
           "bgcolor": "#E5ECF6",
           "caxis": {
            "gridcolor": "white",
            "linecolor": "white",
            "ticks": ""
           }
          },
          "title": {
           "x": 0.05
          },
          "xaxis": {
           "automargin": true,
           "gridcolor": "white",
           "linecolor": "white",
           "ticks": "",
           "zerolinecolor": "white",
           "zerolinewidth": 2
          },
          "yaxis": {
           "automargin": true,
           "gridcolor": "white",
           "linecolor": "white",
           "ticks": "",
           "zerolinecolor": "white",
           "zerolinewidth": 2
          }
         }
        },
        "xaxis": {
         "anchor": "y",
         "domain": [
          0,
          0.98
         ],
         "title": {
          "text": "feature"
         }
        },
        "yaxis": {
         "anchor": "x",
         "domain": [
          0,
          1
         ],
         "title": {
          "text": "frequ"
         }
        }
       }
      },
      "text/html": [
       "<div>\n",
       "        \n",
       "        \n",
       "            <div id=\"81485d97-6870-4f03-8288-4f8771fd60a3\" class=\"plotly-graph-div\" style=\"height:600px; width:100%;\"></div>\n",
       "            <script type=\"text/javascript\">\n",
       "                require([\"plotly\"], function(Plotly) {\n",
       "                    window.PLOTLYENV=window.PLOTLYENV || {};\n",
       "                    \n",
       "                if (document.getElementById(\"81485d97-6870-4f03-8288-4f8771fd60a3\")) {\n",
       "                    Plotly.newPlot(\n",
       "                        '81485d97-6870-4f03-8288-4f8771fd60a3',\n",
       "                        [{\"alignmentgroup\": \"True\", \"hoverlabel\": {\"namelength\": 0}, \"hovertemplate\": \"feature=%{x}<br>frequ=%{marker.color}\", \"legendgroup\": \"\", \"marker\": {\"color\": [134, 92, 95, 59, 100, 24, 47, 62, 27, 40, 34, 378, 105, 20, 215, 236, 82], \"coloraxis\": \"coloraxis\"}, \"name\": \"\", \"offsetgroup\": \"\", \"orientation\": \"v\", \"showlegend\": false, \"textposition\": \"auto\", \"type\": \"bar\", \"x\": [\"term_00\", \"term_000\", \"term_01\", \"term_02\", \"term_03\", \"term_0358\", \"term_04\", \"term_05\", \"term_07\", \"term_08\", \"term_09\", \"term_10\", \"term_100\", \"term_1000\", \"term_11\", \"term_12\", \"term_128\"], \"xaxis\": \"x\", \"y\": [134, 92, 95, 59, 100, 24, 47, 62, 27, 40, 34, 378, 105, 20, 215, 236, 82], \"yaxis\": \"y\"}],\n",
       "                        {\"barmode\": \"relative\", \"coloraxis\": {\"colorbar\": {\"title\": {\"text\": \"frequ\"}}, \"colorscale\": [[0.0, \"#0d0887\"], [0.1111111111111111, \"#46039f\"], [0.2222222222222222, \"#7201a8\"], [0.3333333333333333, \"#9c179e\"], [0.4444444444444444, \"#bd3786\"], [0.5555555555555556, \"#d8576b\"], [0.6666666666666666, \"#ed7953\"], [0.7777777777777778, \"#fb9f3a\"], [0.8888888888888888, \"#fdca26\"], [1.0, \"#f0f921\"]]}, \"height\": 600, \"legend\": {\"tracegroupgap\": 0}, \"margin\": {\"t\": 60}, \"template\": {\"data\": {\"bar\": [{\"error_x\": {\"color\": \"#2a3f5f\"}, \"error_y\": {\"color\": \"#2a3f5f\"}, \"marker\": {\"line\": {\"color\": \"#E5ECF6\", \"width\": 0.5}}, \"type\": \"bar\"}], \"barpolar\": [{\"marker\": {\"line\": {\"color\": \"#E5ECF6\", \"width\": 0.5}}, \"type\": \"barpolar\"}], \"carpet\": [{\"aaxis\": {\"endlinecolor\": \"#2a3f5f\", \"gridcolor\": \"white\", \"linecolor\": \"white\", \"minorgridcolor\": \"white\", \"startlinecolor\": \"#2a3f5f\"}, \"baxis\": {\"endlinecolor\": \"#2a3f5f\", \"gridcolor\": \"white\", \"linecolor\": \"white\", \"minorgridcolor\": \"white\", \"startlinecolor\": \"#2a3f5f\"}, \"type\": \"carpet\"}], \"choropleth\": [{\"colorbar\": {\"outlinewidth\": 0, \"ticks\": \"\"}, \"type\": \"choropleth\"}], \"contour\": [{\"colorbar\": {\"outlinewidth\": 0, \"ticks\": \"\"}, \"colorscale\": [[0.0, \"#0d0887\"], [0.1111111111111111, \"#46039f\"], [0.2222222222222222, \"#7201a8\"], [0.3333333333333333, \"#9c179e\"], [0.4444444444444444, \"#bd3786\"], [0.5555555555555556, \"#d8576b\"], [0.6666666666666666, \"#ed7953\"], [0.7777777777777778, \"#fb9f3a\"], [0.8888888888888888, \"#fdca26\"], [1.0, \"#f0f921\"]], \"type\": \"contour\"}], \"contourcarpet\": [{\"colorbar\": {\"outlinewidth\": 0, \"ticks\": \"\"}, \"type\": \"contourcarpet\"}], \"heatmap\": [{\"colorbar\": {\"outlinewidth\": 0, \"ticks\": \"\"}, \"colorscale\": [[0.0, \"#0d0887\"], [0.1111111111111111, \"#46039f\"], [0.2222222222222222, \"#7201a8\"], [0.3333333333333333, \"#9c179e\"], [0.4444444444444444, \"#bd3786\"], [0.5555555555555556, \"#d8576b\"], [0.6666666666666666, \"#ed7953\"], [0.7777777777777778, \"#fb9f3a\"], [0.8888888888888888, \"#fdca26\"], [1.0, \"#f0f921\"]], \"type\": \"heatmap\"}], \"heatmapgl\": [{\"colorbar\": {\"outlinewidth\": 0, \"ticks\": \"\"}, \"colorscale\": [[0.0, \"#0d0887\"], [0.1111111111111111, \"#46039f\"], [0.2222222222222222, \"#7201a8\"], [0.3333333333333333, \"#9c179e\"], [0.4444444444444444, \"#bd3786\"], [0.5555555555555556, \"#d8576b\"], [0.6666666666666666, \"#ed7953\"], [0.7777777777777778, \"#fb9f3a\"], [0.8888888888888888, \"#fdca26\"], [1.0, \"#f0f921\"]], \"type\": \"heatmapgl\"}], \"histogram\": [{\"marker\": {\"colorbar\": {\"outlinewidth\": 0, \"ticks\": \"\"}}, \"type\": \"histogram\"}], \"histogram2d\": [{\"colorbar\": {\"outlinewidth\": 0, \"ticks\": \"\"}, \"colorscale\": [[0.0, \"#0d0887\"], [0.1111111111111111, \"#46039f\"], [0.2222222222222222, \"#7201a8\"], [0.3333333333333333, \"#9c179e\"], [0.4444444444444444, \"#bd3786\"], [0.5555555555555556, \"#d8576b\"], [0.6666666666666666, \"#ed7953\"], [0.7777777777777778, \"#fb9f3a\"], [0.8888888888888888, \"#fdca26\"], [1.0, \"#f0f921\"]], \"type\": \"histogram2d\"}], \"histogram2dcontour\": [{\"colorbar\": {\"outlinewidth\": 0, \"ticks\": \"\"}, \"colorscale\": [[0.0, \"#0d0887\"], [0.1111111111111111, \"#46039f\"], [0.2222222222222222, \"#7201a8\"], [0.3333333333333333, \"#9c179e\"], [0.4444444444444444, \"#bd3786\"], [0.5555555555555556, \"#d8576b\"], [0.6666666666666666, \"#ed7953\"], [0.7777777777777778, \"#fb9f3a\"], [0.8888888888888888, \"#fdca26\"], [1.0, \"#f0f921\"]], \"type\": \"histogram2dcontour\"}], \"mesh3d\": [{\"colorbar\": {\"outlinewidth\": 0, \"ticks\": \"\"}, \"type\": \"mesh3d\"}], \"parcoords\": [{\"line\": {\"colorbar\": {\"outlinewidth\": 0, \"ticks\": \"\"}}, \"type\": \"parcoords\"}], \"scatter\": [{\"marker\": {\"colorbar\": {\"outlinewidth\": 0, \"ticks\": \"\"}}, \"type\": \"scatter\"}], \"scatter3d\": [{\"line\": {\"colorbar\": {\"outlinewidth\": 0, \"ticks\": \"\"}}, \"marker\": {\"colorbar\": {\"outlinewidth\": 0, \"ticks\": \"\"}}, \"type\": \"scatter3d\"}], \"scattercarpet\": [{\"marker\": {\"colorbar\": {\"outlinewidth\": 0, \"ticks\": \"\"}}, \"type\": \"scattercarpet\"}], \"scattergeo\": [{\"marker\": {\"colorbar\": {\"outlinewidth\": 0, \"ticks\": \"\"}}, \"type\": \"scattergeo\"}], \"scattergl\": [{\"marker\": {\"colorbar\": {\"outlinewidth\": 0, \"ticks\": \"\"}}, \"type\": \"scattergl\"}], \"scattermapbox\": [{\"marker\": {\"colorbar\": {\"outlinewidth\": 0, \"ticks\": \"\"}}, \"type\": \"scattermapbox\"}], \"scatterpolar\": [{\"marker\": {\"colorbar\": {\"outlinewidth\": 0, \"ticks\": \"\"}}, \"type\": \"scatterpolar\"}], \"scatterpolargl\": [{\"marker\": {\"colorbar\": {\"outlinewidth\": 0, \"ticks\": \"\"}}, \"type\": \"scatterpolargl\"}], \"scatterternary\": [{\"marker\": {\"colorbar\": {\"outlinewidth\": 0, \"ticks\": \"\"}}, \"type\": \"scatterternary\"}], \"surface\": [{\"colorbar\": {\"outlinewidth\": 0, \"ticks\": \"\"}, \"colorscale\": [[0.0, \"#0d0887\"], [0.1111111111111111, \"#46039f\"], [0.2222222222222222, \"#7201a8\"], [0.3333333333333333, \"#9c179e\"], [0.4444444444444444, \"#bd3786\"], [0.5555555555555556, \"#d8576b\"], [0.6666666666666666, \"#ed7953\"], [0.7777777777777778, \"#fb9f3a\"], [0.8888888888888888, \"#fdca26\"], [1.0, \"#f0f921\"]], \"type\": \"surface\"}], \"table\": [{\"cells\": {\"fill\": {\"color\": \"#EBF0F8\"}, \"line\": {\"color\": \"white\"}}, \"header\": {\"fill\": {\"color\": \"#C8D4E3\"}, \"line\": {\"color\": \"white\"}}, \"type\": \"table\"}]}, \"layout\": {\"annotationdefaults\": {\"arrowcolor\": \"#2a3f5f\", \"arrowhead\": 0, \"arrowwidth\": 1}, \"colorscale\": {\"diverging\": [[0, \"#8e0152\"], [0.1, \"#c51b7d\"], [0.2, \"#de77ae\"], [0.3, \"#f1b6da\"], [0.4, \"#fde0ef\"], [0.5, \"#f7f7f7\"], [0.6, \"#e6f5d0\"], [0.7, \"#b8e186\"], [0.8, \"#7fbc41\"], [0.9, \"#4d9221\"], [1, \"#276419\"]], \"sequential\": [[0.0, \"#0d0887\"], [0.1111111111111111, \"#46039f\"], [0.2222222222222222, \"#7201a8\"], [0.3333333333333333, \"#9c179e\"], [0.4444444444444444, \"#bd3786\"], [0.5555555555555556, \"#d8576b\"], [0.6666666666666666, \"#ed7953\"], [0.7777777777777778, \"#fb9f3a\"], [0.8888888888888888, \"#fdca26\"], [1.0, \"#f0f921\"]], \"sequentialminus\": [[0.0, \"#0d0887\"], [0.1111111111111111, \"#46039f\"], [0.2222222222222222, \"#7201a8\"], [0.3333333333333333, \"#9c179e\"], [0.4444444444444444, \"#bd3786\"], [0.5555555555555556, \"#d8576b\"], [0.6666666666666666, \"#ed7953\"], [0.7777777777777778, \"#fb9f3a\"], [0.8888888888888888, \"#fdca26\"], [1.0, \"#f0f921\"]]}, \"colorway\": [\"#636efa\", \"#EF553B\", \"#00cc96\", \"#ab63fa\", \"#FFA15A\", \"#19d3f3\", \"#FF6692\", \"#B6E880\", \"#FF97FF\", \"#FECB52\"], \"font\": {\"color\": \"#2a3f5f\"}, \"geo\": {\"bgcolor\": \"white\", \"lakecolor\": \"white\", \"landcolor\": \"#E5ECF6\", \"showlakes\": true, \"showland\": true, \"subunitcolor\": \"white\"}, \"hoverlabel\": {\"align\": \"left\"}, \"hovermode\": \"closest\", \"mapbox\": {\"style\": \"light\"}, \"paper_bgcolor\": \"white\", \"plot_bgcolor\": \"#E5ECF6\", \"polar\": {\"angularaxis\": {\"gridcolor\": \"white\", \"linecolor\": \"white\", \"ticks\": \"\"}, \"bgcolor\": \"#E5ECF6\", \"radialaxis\": {\"gridcolor\": \"white\", \"linecolor\": \"white\", \"ticks\": \"\"}}, \"scene\": {\"xaxis\": {\"backgroundcolor\": \"#E5ECF6\", \"gridcolor\": \"white\", \"gridwidth\": 2, \"linecolor\": \"white\", \"showbackground\": true, \"ticks\": \"\", \"zerolinecolor\": \"white\"}, \"yaxis\": {\"backgroundcolor\": \"#E5ECF6\", \"gridcolor\": \"white\", \"gridwidth\": 2, \"linecolor\": \"white\", \"showbackground\": true, \"ticks\": \"\", \"zerolinecolor\": \"white\"}, \"zaxis\": {\"backgroundcolor\": \"#E5ECF6\", \"gridcolor\": \"white\", \"gridwidth\": 2, \"linecolor\": \"white\", \"showbackground\": true, \"ticks\": \"\", \"zerolinecolor\": \"white\"}}, \"shapedefaults\": {\"line\": {\"color\": \"#2a3f5f\"}}, \"ternary\": {\"aaxis\": {\"gridcolor\": \"white\", \"linecolor\": \"white\", \"ticks\": \"\"}, \"baxis\": {\"gridcolor\": \"white\", \"linecolor\": \"white\", \"ticks\": \"\"}, \"bgcolor\": \"#E5ECF6\", \"caxis\": {\"gridcolor\": \"white\", \"linecolor\": \"white\", \"ticks\": \"\"}}, \"title\": {\"x\": 0.05}, \"xaxis\": {\"automargin\": true, \"gridcolor\": \"white\", \"linecolor\": \"white\", \"ticks\": \"\", \"zerolinecolor\": \"white\", \"zerolinewidth\": 2}, \"yaxis\": {\"automargin\": true, \"gridcolor\": \"white\", \"linecolor\": \"white\", \"ticks\": \"\", \"zerolinecolor\": \"white\", \"zerolinewidth\": 2}}}, \"xaxis\": {\"anchor\": \"y\", \"domain\": [0.0, 0.98], \"title\": {\"text\": \"feature\"}}, \"yaxis\": {\"anchor\": \"x\", \"domain\": [0.0, 1.0], \"title\": {\"text\": \"frequ\"}}},\n",
       "                        {\"responsive\": true}\n",
       "                    ).then(function(){\n",
       "                            \n",
       "var gd = document.getElementById('81485d97-6870-4f03-8288-4f8771fd60a3');\n",
       "var x = new MutationObserver(function (mutations, observer) {{\n",
       "        var display = window.getComputedStyle(gd).display;\n",
       "        if (!display || display === 'none') {{\n",
       "            console.log([gd, 'removed!']);\n",
       "            Plotly.purge(gd);\n",
       "            observer.disconnect();\n",
       "        }}\n",
       "}});\n",
       "\n",
       "// Listen for the removal of the full notebook cells\n",
       "var notebookContainer = gd.closest('#notebook-container');\n",
       "if (notebookContainer) {{\n",
       "    x.observe(notebookContainer, {childList: true});\n",
       "}}\n",
       "\n",
       "// Listen for the clearing of the current output cell\n",
       "var outputEl = gd.closest('.output');\n",
       "if (outputEl) {{\n",
       "    x.observe(outputEl, {childList: true});\n",
       "}}\n",
       "\n",
       "                        })\n",
       "                };\n",
       "                });\n",
       "            </script>\n",
       "        </div>"
      ]
     },
     "metadata": {},
     "output_type": "display_data"
    }
   ],
   "source": [
    "fig = px.bar(bardata_reduces, x='feature', y='frequ', color='frequ')\n",
    "fig.show()"
   ]
  },
  {
   "cell_type": "markdown",
   "metadata": {},
   "source": [
    "---"
   ]
  },
  {
   "cell_type": "markdown",
   "metadata": {},
   "source": [
    "### >>> **Exercise 15 (take home):** \n",
    "Additionally, you can attempt to sort the terms on the `x-axis` by frequency instead of in alphabetical order. This way the visualization is more meaninfgul and you will be able to observe the so called [long tail](https://en.wikipedia.org/wiki/Long_tail) (get familiar with this term since it will appear a lot in data mining and other statistics courses). see picture below\n",
    "\n",
    "![alt txt](https://upload.wikimedia.org/wikipedia/commons/thumb/8/8a/Long_tail.svg/1000px-Long_tail.svg.png)"
   ]
  },
  {
   "cell_type": "code",
   "execution_count": 169,
   "metadata": {},
   "outputs": [
    {
     "data": {
      "application/vnd.plotly.v1+json": {
       "config": {
        "plotlyServerURL": "https://plot.ly"
       },
       "data": [
        {
         "alignmentgroup": "True",
         "hoverlabel": {
          "namelength": 0
         },
         "hovertemplate": "feature=%{x}<br>frequ=%{marker.color}",
         "legendgroup": "",
         "marker": {
          "color": [
           378,
           236,
           215,
           134,
           105,
           100,
           95,
           92,
           82,
           62,
           59,
           47,
           40,
           34,
           27,
           24,
           20,
           19,
           18,
           16,
           15,
           13,
           11,
           10,
           9,
           9,
           8,
           8,
           8,
           7,
           7,
           7,
           7,
           7,
           6,
           6,
           6,
           5,
           5,
           5,
           5,
           5,
           5,
           5,
           5,
           5,
           5,
           5,
           5,
           5,
           5,
           5,
           5,
           5,
           4,
           4,
           4,
           4,
           4,
           4,
           4,
           4,
           4,
           4,
           4,
           4,
           4,
           4,
           3,
           3,
           3,
           3,
           3,
           3,
           3,
           3,
           3,
           3,
           3,
           3,
           3,
           3,
           3,
           3,
           3,
           3,
           3,
           3,
           3,
           3,
           3,
           3,
           3,
           3,
           3,
           3,
           3,
           3,
           2,
           2,
           2,
           2,
           2,
           2,
           2,
           2,
           2,
           2,
           2,
           2,
           2,
           2,
           2,
           2,
           2,
           2,
           2,
           2,
           2,
           2,
           2,
           2,
           2,
           2,
           2,
           2,
           2,
           2,
           2,
           2,
           2,
           2,
           2,
           2,
           2,
           2,
           2,
           2,
           2,
           2,
           2,
           2,
           2,
           2,
           2,
           2,
           2,
           2,
           2,
           2,
           2,
           2,
           2,
           2,
           2,
           2,
           2,
           2,
           2,
           2,
           2,
           2,
           2,
           2,
           2,
           2,
           2,
           2,
           2,
           2,
           2,
           2,
           2,
           2,
           2,
           2,
           2,
           2,
           2,
           2,
           1,
           1,
           1,
           1,
           1,
           1,
           1,
           1,
           1,
           1,
           1,
           1,
           1,
           1,
           1,
           1,
           1,
           1,
           1,
           1,
           1,
           1,
           1,
           1,
           1,
           1,
           1,
           1,
           1,
           1,
           1,
           1,
           1,
           1,
           1,
           1,
           1,
           1,
           1,
           1,
           1,
           1,
           1,
           1,
           1,
           1,
           1,
           1,
           1,
           1,
           1,
           1,
           1,
           1,
           1,
           1,
           1,
           1,
           1,
           1,
           1,
           1,
           1,
           1,
           1,
           1,
           1,
           1,
           1,
           1,
           1,
           1,
           1,
           1,
           1,
           1,
           1,
           1,
           1,
           1,
           1,
           1,
           1,
           1,
           1,
           1,
           1,
           1,
           1,
           1,
           1,
           1,
           1,
           1,
           1,
           1,
           1,
           1,
           1,
           1,
           1,
           1,
           1,
           1,
           1,
           1,
           1,
           1,
           1,
           1,
           1,
           1,
           1,
           1,
           1,
           1,
           1,
           1,
           1,
           1,
           1,
           1,
           1,
           1,
           1,
           1,
           1,
           1,
           1,
           1,
           1,
           1,
           1,
           1,
           1,
           1,
           1,
           1,
           1,
           1,
           1,
           1,
           1,
           1,
           1,
           1,
           1,
           1,
           1,
           1,
           1,
           1,
           1,
           1,
           1,
           1,
           1,
           1,
           1,
           1,
           1,
           1,
           1,
           1,
           1,
           1,
           1,
           1,
           1,
           1,
           1,
           1,
           1,
           1,
           1,
           1,
           1,
           1,
           1,
           1,
           1,
           1,
           1,
           1,
           1,
           1,
           1,
           1,
           1,
           1,
           1,
           1,
           1,
           1,
           1,
           1,
           1,
           1,
           1,
           1,
           1,
           1,
           1,
           1,
           1,
           1,
           1,
           1,
           1,
           1,
           1,
           1,
           1,
           1,
           1,
           1,
           1,
           1,
           1,
           1,
           1,
           1,
           1,
           1,
           1,
           1,
           1,
           1,
           1,
           1,
           1,
           1,
           1,
           1,
           1,
           1,
           1,
           1,
           1,
           1,
           1,
           1,
           1,
           1,
           1,
           1,
           1,
           1,
           1,
           1,
           1,
           1,
           1,
           1,
           1,
           1,
           1,
           1,
           1,
           1,
           1,
           1,
           1,
           1,
           1,
           1,
           1,
           1,
           1,
           1,
           1,
           1,
           1,
           1,
           1,
           1,
           1,
           1,
           1,
           1,
           1,
           1,
           1,
           1,
           1,
           1,
           1,
           1,
           1,
           1,
           1,
           1,
           1,
           1,
           1,
           1,
           1,
           1,
           1,
           1,
           1,
           1,
           1,
           1,
           1,
           1,
           1,
           1,
           1,
           1,
           1,
           1,
           1,
           1,
           1,
           1,
           1,
           1,
           1,
           1
          ],
          "coloraxis": "coloraxis"
         },
         "name": "",
         "offsetgroup": "",
         "orientation": "v",
         "showlegend": false,
         "textposition": "auto",
         "type": "bar",
         "x": [
          "term_10",
          "term_12",
          "term_11",
          "term_00",
          "term_100",
          "term_03",
          "term_01",
          "term_000",
          "term_128",
          "term_05",
          "term_02",
          "term_04",
          "term_08",
          "term_09",
          "term_07",
          "term_0358",
          "term_1000",
          "term_101",
          "term_06",
          "term_110",
          "term_127",
          "term_00pm",
          "term_109",
          "term_114",
          "term_120",
          "term_1200",
          "term_113",
          "term_1013",
          "term_123",
          "term_102",
          "term_071",
          "term_11632",
          "term_1024x768",
          "term_117",
          "term_106",
          "term_1111",
          "term_111",
          "term_11292",
          "term_112",
          "term_116305",
          "term_104",
          "term_1165",
          "term_1024",
          "term_115",
          "term_105",
          "term_10th",
          "term_0511",
          "term_081052",
          "term_122647",
          "term_084042",
          "term_122",
          "term_00am",
          "term_121",
          "term_0349",
          "term_0423",
          "term_040",
          "term_0200",
          "term_1170",
          "term_12091",
          "term_114127",
          "term_01580",
          "term_103",
          "term_1100",
          "term_115a",
          "term_0100",
          "term_1192d",
          "term_101010",
          "term_095220",
          "term_041343",
          "term_06320",
          "term_0608",
          "term_102007",
          "term_108",
          "term_0x100",
          "term_02173",
          "term_103237",
          "term_023044",
          "term_024103",
          "term_02118",
          "term_0293",
          "term_10101",
          "term_0600",
          "term_115565",
          "term_1113",
          "term_0010580b",
          "term_125",
          "term_11825",
          "term_118",
          "term_11670",
          "term_126",
          "term_119",
          "term_1246",
          "term_115288",
          "term_114158",
          "term_0001",
          "term_1280",
          "term_002",
          "term_11230",
          "term_0987",
          "term_124",
          "term_093300",
          "term_0930",
          "term_091844",
          "term_1244",
          "term_091258",
          "term_123315",
          "term_091139",
          "term_1095",
          "term_125245",
          "term_090030",
          "term_122329",
          "term_12533",
          "term_08057",
          "term_0721",
          "term_071823",
          "term_1266",
          "term_1271",
          "term_063425",
          "term_061",
          "term_1281",
          "term_0x",
          "term_120kvolt",
          "term_12187",
          "term_12153",
          "term_107",
          "term_10669",
          "term_113223",
          "term_11361",
          "term_115290",
          "term_115300",
          "term_115437",
          "term_1028",
          "term_1024x786x24",
          "term_115707",
          "term_1177",
          "term_11782",
          "term_10193",
          "term_10179",
          "term_1015",
          "term_11830",
          "term_11836",
          "term_11th",
          "term_100k",
          "term_100grams",
          "term_10016",
          "term_12092",
          "term_100015",
          "term_100000",
          "term_10000",
          "term_121019",
          "term_121134",
          "term_11004",
          "term_12872",
          "term_011720",
          "term_000usd",
          "term_0391",
          "term_031423",
          "term_013",
          "term_0138",
          "term_0184",
          "term_050046mvs104",
          "term_0500",
          "term_001642",
          "term_025924",
          "term_025240",
          "term_003258u19250",
          "term_004021809",
          "term_044140",
          "term_043654",
          "term_024150",
          "term_0510",
          "term_015931",
          "term_02115",
          "term_033446",
          "term_020504",
          "term_034226",
          "term_032251",
          "term_02142",
          "term_01a",
          "term_0000001200",
          "term_115561",
          "term_115694",
          "term_117th",
          "term_012019",
          "term_115571",
          "term_115468",
          "term_115621",
          "term_115670",
          "term_115686",
          "term_115687",
          "term_0150",
          "term_11710",
          "term_11716",
          "term_015518",
          "term_11705",
          "term_11721",
          "term_012946",
          "term_11743",
          "term_013034",
          "term_0131",
          "term_013657",
          "term_013846",
          "term_11766",
          "term_115847",
          "term_115846",
          "term_012536",
          "term_115716",
          "term_11776",
          "term_013423tan102",
          "term_05402",
          "term_01720",
          "term_01752",
          "term_1124",
          "term_112329",
          "term_0199",
          "term_112203jer4",
          "term_1122",
          "term_112127",
          "term_1121",
          "term_111834",
          "term_111713",
          "term_111651",
          "term_01wb",
          "term_020",
          "term_110mbytes",
          "term_020637",
          "term_020646",
          "term_020701tan102",
          "term_020751",
          "term_112430",
          "term_0195",
          "term_01890",
          "term_1143",
          "term_115287",
          "term_11810",
          "term_115072",
          "term_0179",
          "term_1145040",
          "term_114440",
          "term_114428",
          "term_01821",
          "term_01854",
          "term_114140",
          "term_114133",
          "term_01830",
          "term_1137",
          "term_01852",
          "term_113528",
          "term_113255",
          "term_115256",
          "term_011308pxf3",
          "term_11812",
          "term_125109",
          "term_001004",
          "term_124753",
          "term_001125",
          "term_001200201pixel",
          "term_124221",
          "term_124216",
          "term_124112",
          "term_1240002",
          "term_0014",
          "term_123858",
          "term_123832",
          "term_123213",
          "term_1231",
          "term_00196",
          "term_12295",
          "term_122738",
          "term_0028",
          "term_1251",
          "term_125145",
          "term_11820",
          "term_125147",
          "term_0000",
          "term_000005102000",
          "term_1275",
          "term_1273",
          "term_000100255pixel",
          "term_12700",
          "term_00014",
          "term_1268",
          "term_126645",
          "term_000406",
          "term_1263",
          "term_12602",
          "term_0007",
          "term_125920",
          "term_125750",
          "term_125545",
          "term_0010",
          "term_12252",
          "term_12222",
          "term_1221",
          "term_122037",
          "term_0094",
          "term_11x17",
          "term_00index",
          "term_11dec89",
          "term_1198",
          "term_010116",
          "term_11915",
          "term_1191",
          "term_11903",
          "term_010702",
          "term_11857",
          "term_11847",
          "term_11841",
          "term_11838",
          "term_011255",
          "term_11826",
          "term_011605",
          "term_008561",
          "term_00630",
          "term_1200x900",
          "term_1210",
          "term_0033",
          "term_121925",
          "term_0038",
          "term_0039",
          "term_12144",
          "term_12132",
          "term_004158",
          "term_004627",
          "term_1201",
          "term_0049",
          "term_00500",
          "term_005148",
          "term_1207",
          "term_120493020107",
          "term_120352",
          "term_1203",
          "term_10yo",
          "term_02139",
          "term_10mhz",
          "term_095148",
          "term_093904",
          "term_040493161915",
          "term_040819",
          "term_0926",
          "term_0922",
          "term_092051",
          "term_0410",
          "term_0418",
          "term_042100",
          "term_0908",
          "term_090306",
          "term_0903",
          "term_0901",
          "term_0900",
          "term_08934",
          "term_08786",
          "term_08690",
          "term_0943",
          "term_04046",
          "term_084258",
          "term_040286",
          "term_0xc010",
          "term_0x8",
          "term_0x3d4",
          "term_0x1f",
          "term_0380",
          "term_0x00",
          "term_0u1",
          "term_0s",
          "term_0l7",
          "term_0hb",
          "term_0e9",
          "term_0b15",
          "term_0b10",
          "term_0b",
          "term_0a",
          "term_0______________________________________________________________________0",
          "term_0_",
          "term_085526",
          "term_044946",
          "term_10mg",
          "term_0700",
          "term_0656",
          "term_065230",
          "term_06510",
          "term_0649",
          "term_051039",
          "term_051201",
          "term_062908mvs104",
          "term_062328",
          "term_051246",
          "term_0513",
          "term_060493161931",
          "term_0600lines",
          "term_053250",
          "term_05401",
          "term_0578",
          "term_055958",
          "term_054600",
          "term_068",
          "term_0704",
          "term_084",
          "term_0706",
          "term_083731",
          "term_081303",
          "term_04g",
          "term_081",
          "term_080719",
          "term_0804",
          "term_07748",
          "term_077",
          "term_07653",
          "term_0752",
          "term_07410",
          "term_0729",
          "term_0502",
          "term_050524",
          "term_071613j5j",
          "term_07102",
          "term_050750",
          "term_0xc018",
          "term_03756",
          "term_0372",
          "term_1060",
          "term_10598",
          "term_105805",
          "term_10553",
          "term_105094",
          "term_0223",
          "term_1049",
          "term_10461",
          "term_104107",
          "term_1040",
          "term_02254",
          "term_1039",
          "term_10368",
          "term_022621tan102",
          "term_1030",
          "term_0235",
          "term_1029",
          "term_102810",
          "term_021708",
          "term_1065",
          "term_0362",
          "term_1066",
          "term_10k",
          "term_10h",
          "term_10fps",
          "term_10984",
          "term_10983",
          "term_05446",
          "term_10893",
          "term_10818",
          "term_1080",
          "term_02154",
          "term_10789",
          "term_10780",
          "term_1070",
          "term_02160",
          "term_10679",
          "term_021635",
          "term_10665",
          "term_0237",
          "term_1027",
          "term_10250",
          "term_1024x768x65000",
          "term_100lez",
          "term_0318",
          "term_100c",
          "term_1007",
          "term_10056",
          "term_1005",
          "term_10038",
          "term_10036",
          "term_10032",
          "term_1003",
          "term_10021",
          "term_10012",
          "term_1001",
          "term_0330",
          "term_100042",
          "term_100039",
          "term_033843",
          "term_100megs",
          "term_100mg",
          "term_030734",
          "term_101h",
          "term_1024x768x24",
          "term_024626",
          "term_1024x728",
          "term_1024x512",
          "term_1024x1024",
          "term_1023",
          "term_0278",
          "term_10196",
          "term_1010",
          "term_02908",
          "term_030105",
          "term_101747",
          "term_0303",
          "term_030334",
          "term_03051",
          "term_0306",
          "term_1000mg"
         ],
         "xaxis": "x",
         "y": [
          378,
          236,
          215,
          134,
          105,
          100,
          95,
          92,
          82,
          62,
          59,
          47,
          40,
          34,
          27,
          24,
          20,
          19,
          18,
          16,
          15,
          13,
          11,
          10,
          9,
          9,
          8,
          8,
          8,
          7,
          7,
          7,
          7,
          7,
          6,
          6,
          6,
          5,
          5,
          5,
          5,
          5,
          5,
          5,
          5,
          5,
          5,
          5,
          5,
          5,
          5,
          5,
          5,
          5,
          4,
          4,
          4,
          4,
          4,
          4,
          4,
          4,
          4,
          4,
          4,
          4,
          4,
          4,
          3,
          3,
          3,
          3,
          3,
          3,
          3,
          3,
          3,
          3,
          3,
          3,
          3,
          3,
          3,
          3,
          3,
          3,
          3,
          3,
          3,
          3,
          3,
          3,
          3,
          3,
          3,
          3,
          3,
          3,
          2,
          2,
          2,
          2,
          2,
          2,
          2,
          2,
          2,
          2,
          2,
          2,
          2,
          2,
          2,
          2,
          2,
          2,
          2,
          2,
          2,
          2,
          2,
          2,
          2,
          2,
          2,
          2,
          2,
          2,
          2,
          2,
          2,
          2,
          2,
          2,
          2,
          2,
          2,
          2,
          2,
          2,
          2,
          2,
          2,
          2,
          2,
          2,
          2,
          2,
          2,
          2,
          2,
          2,
          2,
          2,
          2,
          2,
          2,
          2,
          2,
          2,
          2,
          2,
          2,
          2,
          2,
          2,
          2,
          2,
          2,
          2,
          2,
          2,
          2,
          2,
          2,
          2,
          2,
          2,
          2,
          2,
          1,
          1,
          1,
          1,
          1,
          1,
          1,
          1,
          1,
          1,
          1,
          1,
          1,
          1,
          1,
          1,
          1,
          1,
          1,
          1,
          1,
          1,
          1,
          1,
          1,
          1,
          1,
          1,
          1,
          1,
          1,
          1,
          1,
          1,
          1,
          1,
          1,
          1,
          1,
          1,
          1,
          1,
          1,
          1,
          1,
          1,
          1,
          1,
          1,
          1,
          1,
          1,
          1,
          1,
          1,
          1,
          1,
          1,
          1,
          1,
          1,
          1,
          1,
          1,
          1,
          1,
          1,
          1,
          1,
          1,
          1,
          1,
          1,
          1,
          1,
          1,
          1,
          1,
          1,
          1,
          1,
          1,
          1,
          1,
          1,
          1,
          1,
          1,
          1,
          1,
          1,
          1,
          1,
          1,
          1,
          1,
          1,
          1,
          1,
          1,
          1,
          1,
          1,
          1,
          1,
          1,
          1,
          1,
          1,
          1,
          1,
          1,
          1,
          1,
          1,
          1,
          1,
          1,
          1,
          1,
          1,
          1,
          1,
          1,
          1,
          1,
          1,
          1,
          1,
          1,
          1,
          1,
          1,
          1,
          1,
          1,
          1,
          1,
          1,
          1,
          1,
          1,
          1,
          1,
          1,
          1,
          1,
          1,
          1,
          1,
          1,
          1,
          1,
          1,
          1,
          1,
          1,
          1,
          1,
          1,
          1,
          1,
          1,
          1,
          1,
          1,
          1,
          1,
          1,
          1,
          1,
          1,
          1,
          1,
          1,
          1,
          1,
          1,
          1,
          1,
          1,
          1,
          1,
          1,
          1,
          1,
          1,
          1,
          1,
          1,
          1,
          1,
          1,
          1,
          1,
          1,
          1,
          1,
          1,
          1,
          1,
          1,
          1,
          1,
          1,
          1,
          1,
          1,
          1,
          1,
          1,
          1,
          1,
          1,
          1,
          1,
          1,
          1,
          1,
          1,
          1,
          1,
          1,
          1,
          1,
          1,
          1,
          1,
          1,
          1,
          1,
          1,
          1,
          1,
          1,
          1,
          1,
          1,
          1,
          1,
          1,
          1,
          1,
          1,
          1,
          1,
          1,
          1,
          1,
          1,
          1,
          1,
          1,
          1,
          1,
          1,
          1,
          1,
          1,
          1,
          1,
          1,
          1,
          1,
          1,
          1,
          1,
          1,
          1,
          1,
          1,
          1,
          1,
          1,
          1,
          1,
          1,
          1,
          1,
          1,
          1,
          1,
          1,
          1,
          1,
          1,
          1,
          1,
          1,
          1,
          1,
          1,
          1,
          1,
          1,
          1,
          1,
          1,
          1,
          1,
          1,
          1,
          1,
          1,
          1,
          1,
          1,
          1,
          1,
          1,
          1,
          1,
          1,
          1,
          1,
          1,
          1,
          1,
          1,
          1
         ],
         "yaxis": "y"
        }
       ],
       "layout": {
        "barmode": "relative",
        "coloraxis": {
         "colorbar": {
          "title": {
           "text": "frequ"
          }
         },
         "colorscale": [
          [
           0,
           "#0d0887"
          ],
          [
           0.1111111111111111,
           "#46039f"
          ],
          [
           0.2222222222222222,
           "#7201a8"
          ],
          [
           0.3333333333333333,
           "#9c179e"
          ],
          [
           0.4444444444444444,
           "#bd3786"
          ],
          [
           0.5555555555555556,
           "#d8576b"
          ],
          [
           0.6666666666666666,
           "#ed7953"
          ],
          [
           0.7777777777777778,
           "#fb9f3a"
          ],
          [
           0.8888888888888888,
           "#fdca26"
          ],
          [
           1,
           "#f0f921"
          ]
         ]
        },
        "height": 600,
        "legend": {
         "tracegroupgap": 0
        },
        "margin": {
         "t": 60
        },
        "template": {
         "data": {
          "bar": [
           {
            "error_x": {
             "color": "#2a3f5f"
            },
            "error_y": {
             "color": "#2a3f5f"
            },
            "marker": {
             "line": {
              "color": "#E5ECF6",
              "width": 0.5
             }
            },
            "type": "bar"
           }
          ],
          "barpolar": [
           {
            "marker": {
             "line": {
              "color": "#E5ECF6",
              "width": 0.5
             }
            },
            "type": "barpolar"
           }
          ],
          "carpet": [
           {
            "aaxis": {
             "endlinecolor": "#2a3f5f",
             "gridcolor": "white",
             "linecolor": "white",
             "minorgridcolor": "white",
             "startlinecolor": "#2a3f5f"
            },
            "baxis": {
             "endlinecolor": "#2a3f5f",
             "gridcolor": "white",
             "linecolor": "white",
             "minorgridcolor": "white",
             "startlinecolor": "#2a3f5f"
            },
            "type": "carpet"
           }
          ],
          "choropleth": [
           {
            "colorbar": {
             "outlinewidth": 0,
             "ticks": ""
            },
            "type": "choropleth"
           }
          ],
          "contour": [
           {
            "colorbar": {
             "outlinewidth": 0,
             "ticks": ""
            },
            "colorscale": [
             [
              0,
              "#0d0887"
             ],
             [
              0.1111111111111111,
              "#46039f"
             ],
             [
              0.2222222222222222,
              "#7201a8"
             ],
             [
              0.3333333333333333,
              "#9c179e"
             ],
             [
              0.4444444444444444,
              "#bd3786"
             ],
             [
              0.5555555555555556,
              "#d8576b"
             ],
             [
              0.6666666666666666,
              "#ed7953"
             ],
             [
              0.7777777777777778,
              "#fb9f3a"
             ],
             [
              0.8888888888888888,
              "#fdca26"
             ],
             [
              1,
              "#f0f921"
             ]
            ],
            "type": "contour"
           }
          ],
          "contourcarpet": [
           {
            "colorbar": {
             "outlinewidth": 0,
             "ticks": ""
            },
            "type": "contourcarpet"
           }
          ],
          "heatmap": [
           {
            "colorbar": {
             "outlinewidth": 0,
             "ticks": ""
            },
            "colorscale": [
             [
              0,
              "#0d0887"
             ],
             [
              0.1111111111111111,
              "#46039f"
             ],
             [
              0.2222222222222222,
              "#7201a8"
             ],
             [
              0.3333333333333333,
              "#9c179e"
             ],
             [
              0.4444444444444444,
              "#bd3786"
             ],
             [
              0.5555555555555556,
              "#d8576b"
             ],
             [
              0.6666666666666666,
              "#ed7953"
             ],
             [
              0.7777777777777778,
              "#fb9f3a"
             ],
             [
              0.8888888888888888,
              "#fdca26"
             ],
             [
              1,
              "#f0f921"
             ]
            ],
            "type": "heatmap"
           }
          ],
          "heatmapgl": [
           {
            "colorbar": {
             "outlinewidth": 0,
             "ticks": ""
            },
            "colorscale": [
             [
              0,
              "#0d0887"
             ],
             [
              0.1111111111111111,
              "#46039f"
             ],
             [
              0.2222222222222222,
              "#7201a8"
             ],
             [
              0.3333333333333333,
              "#9c179e"
             ],
             [
              0.4444444444444444,
              "#bd3786"
             ],
             [
              0.5555555555555556,
              "#d8576b"
             ],
             [
              0.6666666666666666,
              "#ed7953"
             ],
             [
              0.7777777777777778,
              "#fb9f3a"
             ],
             [
              0.8888888888888888,
              "#fdca26"
             ],
             [
              1,
              "#f0f921"
             ]
            ],
            "type": "heatmapgl"
           }
          ],
          "histogram": [
           {
            "marker": {
             "colorbar": {
              "outlinewidth": 0,
              "ticks": ""
             }
            },
            "type": "histogram"
           }
          ],
          "histogram2d": [
           {
            "colorbar": {
             "outlinewidth": 0,
             "ticks": ""
            },
            "colorscale": [
             [
              0,
              "#0d0887"
             ],
             [
              0.1111111111111111,
              "#46039f"
             ],
             [
              0.2222222222222222,
              "#7201a8"
             ],
             [
              0.3333333333333333,
              "#9c179e"
             ],
             [
              0.4444444444444444,
              "#bd3786"
             ],
             [
              0.5555555555555556,
              "#d8576b"
             ],
             [
              0.6666666666666666,
              "#ed7953"
             ],
             [
              0.7777777777777778,
              "#fb9f3a"
             ],
             [
              0.8888888888888888,
              "#fdca26"
             ],
             [
              1,
              "#f0f921"
             ]
            ],
            "type": "histogram2d"
           }
          ],
          "histogram2dcontour": [
           {
            "colorbar": {
             "outlinewidth": 0,
             "ticks": ""
            },
            "colorscale": [
             [
              0,
              "#0d0887"
             ],
             [
              0.1111111111111111,
              "#46039f"
             ],
             [
              0.2222222222222222,
              "#7201a8"
             ],
             [
              0.3333333333333333,
              "#9c179e"
             ],
             [
              0.4444444444444444,
              "#bd3786"
             ],
             [
              0.5555555555555556,
              "#d8576b"
             ],
             [
              0.6666666666666666,
              "#ed7953"
             ],
             [
              0.7777777777777778,
              "#fb9f3a"
             ],
             [
              0.8888888888888888,
              "#fdca26"
             ],
             [
              1,
              "#f0f921"
             ]
            ],
            "type": "histogram2dcontour"
           }
          ],
          "mesh3d": [
           {
            "colorbar": {
             "outlinewidth": 0,
             "ticks": ""
            },
            "type": "mesh3d"
           }
          ],
          "parcoords": [
           {
            "line": {
             "colorbar": {
              "outlinewidth": 0,
              "ticks": ""
             }
            },
            "type": "parcoords"
           }
          ],
          "scatter": [
           {
            "marker": {
             "colorbar": {
              "outlinewidth": 0,
              "ticks": ""
             }
            },
            "type": "scatter"
           }
          ],
          "scatter3d": [
           {
            "line": {
             "colorbar": {
              "outlinewidth": 0,
              "ticks": ""
             }
            },
            "marker": {
             "colorbar": {
              "outlinewidth": 0,
              "ticks": ""
             }
            },
            "type": "scatter3d"
           }
          ],
          "scattercarpet": [
           {
            "marker": {
             "colorbar": {
              "outlinewidth": 0,
              "ticks": ""
             }
            },
            "type": "scattercarpet"
           }
          ],
          "scattergeo": [
           {
            "marker": {
             "colorbar": {
              "outlinewidth": 0,
              "ticks": ""
             }
            },
            "type": "scattergeo"
           }
          ],
          "scattergl": [
           {
            "marker": {
             "colorbar": {
              "outlinewidth": 0,
              "ticks": ""
             }
            },
            "type": "scattergl"
           }
          ],
          "scattermapbox": [
           {
            "marker": {
             "colorbar": {
              "outlinewidth": 0,
              "ticks": ""
             }
            },
            "type": "scattermapbox"
           }
          ],
          "scatterpolar": [
           {
            "marker": {
             "colorbar": {
              "outlinewidth": 0,
              "ticks": ""
             }
            },
            "type": "scatterpolar"
           }
          ],
          "scatterpolargl": [
           {
            "marker": {
             "colorbar": {
              "outlinewidth": 0,
              "ticks": ""
             }
            },
            "type": "scatterpolargl"
           }
          ],
          "scatterternary": [
           {
            "marker": {
             "colorbar": {
              "outlinewidth": 0,
              "ticks": ""
             }
            },
            "type": "scatterternary"
           }
          ],
          "surface": [
           {
            "colorbar": {
             "outlinewidth": 0,
             "ticks": ""
            },
            "colorscale": [
             [
              0,
              "#0d0887"
             ],
             [
              0.1111111111111111,
              "#46039f"
             ],
             [
              0.2222222222222222,
              "#7201a8"
             ],
             [
              0.3333333333333333,
              "#9c179e"
             ],
             [
              0.4444444444444444,
              "#bd3786"
             ],
             [
              0.5555555555555556,
              "#d8576b"
             ],
             [
              0.6666666666666666,
              "#ed7953"
             ],
             [
              0.7777777777777778,
              "#fb9f3a"
             ],
             [
              0.8888888888888888,
              "#fdca26"
             ],
             [
              1,
              "#f0f921"
             ]
            ],
            "type": "surface"
           }
          ],
          "table": [
           {
            "cells": {
             "fill": {
              "color": "#EBF0F8"
             },
             "line": {
              "color": "white"
             }
            },
            "header": {
             "fill": {
              "color": "#C8D4E3"
             },
             "line": {
              "color": "white"
             }
            },
            "type": "table"
           }
          ]
         },
         "layout": {
          "annotationdefaults": {
           "arrowcolor": "#2a3f5f",
           "arrowhead": 0,
           "arrowwidth": 1
          },
          "colorscale": {
           "diverging": [
            [
             0,
             "#8e0152"
            ],
            [
             0.1,
             "#c51b7d"
            ],
            [
             0.2,
             "#de77ae"
            ],
            [
             0.3,
             "#f1b6da"
            ],
            [
             0.4,
             "#fde0ef"
            ],
            [
             0.5,
             "#f7f7f7"
            ],
            [
             0.6,
             "#e6f5d0"
            ],
            [
             0.7,
             "#b8e186"
            ],
            [
             0.8,
             "#7fbc41"
            ],
            [
             0.9,
             "#4d9221"
            ],
            [
             1,
             "#276419"
            ]
           ],
           "sequential": [
            [
             0,
             "#0d0887"
            ],
            [
             0.1111111111111111,
             "#46039f"
            ],
            [
             0.2222222222222222,
             "#7201a8"
            ],
            [
             0.3333333333333333,
             "#9c179e"
            ],
            [
             0.4444444444444444,
             "#bd3786"
            ],
            [
             0.5555555555555556,
             "#d8576b"
            ],
            [
             0.6666666666666666,
             "#ed7953"
            ],
            [
             0.7777777777777778,
             "#fb9f3a"
            ],
            [
             0.8888888888888888,
             "#fdca26"
            ],
            [
             1,
             "#f0f921"
            ]
           ],
           "sequentialminus": [
            [
             0,
             "#0d0887"
            ],
            [
             0.1111111111111111,
             "#46039f"
            ],
            [
             0.2222222222222222,
             "#7201a8"
            ],
            [
             0.3333333333333333,
             "#9c179e"
            ],
            [
             0.4444444444444444,
             "#bd3786"
            ],
            [
             0.5555555555555556,
             "#d8576b"
            ],
            [
             0.6666666666666666,
             "#ed7953"
            ],
            [
             0.7777777777777778,
             "#fb9f3a"
            ],
            [
             0.8888888888888888,
             "#fdca26"
            ],
            [
             1,
             "#f0f921"
            ]
           ]
          },
          "colorway": [
           "#636efa",
           "#EF553B",
           "#00cc96",
           "#ab63fa",
           "#FFA15A",
           "#19d3f3",
           "#FF6692",
           "#B6E880",
           "#FF97FF",
           "#FECB52"
          ],
          "font": {
           "color": "#2a3f5f"
          },
          "geo": {
           "bgcolor": "white",
           "lakecolor": "white",
           "landcolor": "#E5ECF6",
           "showlakes": true,
           "showland": true,
           "subunitcolor": "white"
          },
          "hoverlabel": {
           "align": "left"
          },
          "hovermode": "closest",
          "mapbox": {
           "style": "light"
          },
          "paper_bgcolor": "white",
          "plot_bgcolor": "#E5ECF6",
          "polar": {
           "angularaxis": {
            "gridcolor": "white",
            "linecolor": "white",
            "ticks": ""
           },
           "bgcolor": "#E5ECF6",
           "radialaxis": {
            "gridcolor": "white",
            "linecolor": "white",
            "ticks": ""
           }
          },
          "scene": {
           "xaxis": {
            "backgroundcolor": "#E5ECF6",
            "gridcolor": "white",
            "gridwidth": 2,
            "linecolor": "white",
            "showbackground": true,
            "ticks": "",
            "zerolinecolor": "white"
           },
           "yaxis": {
            "backgroundcolor": "#E5ECF6",
            "gridcolor": "white",
            "gridwidth": 2,
            "linecolor": "white",
            "showbackground": true,
            "ticks": "",
            "zerolinecolor": "white"
           },
           "zaxis": {
            "backgroundcolor": "#E5ECF6",
            "gridcolor": "white",
            "gridwidth": 2,
            "linecolor": "white",
            "showbackground": true,
            "ticks": "",
            "zerolinecolor": "white"
           }
          },
          "shapedefaults": {
           "line": {
            "color": "#2a3f5f"
           }
          },
          "ternary": {
           "aaxis": {
            "gridcolor": "white",
            "linecolor": "white",
            "ticks": ""
           },
           "baxis": {
            "gridcolor": "white",
            "linecolor": "white",
            "ticks": ""
           },
           "bgcolor": "#E5ECF6",
           "caxis": {
            "gridcolor": "white",
            "linecolor": "white",
            "ticks": ""
           }
          },
          "title": {
           "x": 0.05
          },
          "xaxis": {
           "automargin": true,
           "gridcolor": "white",
           "linecolor": "white",
           "ticks": "",
           "zerolinecolor": "white",
           "zerolinewidth": 2
          },
          "yaxis": {
           "automargin": true,
           "gridcolor": "white",
           "linecolor": "white",
           "ticks": "",
           "zerolinecolor": "white",
           "zerolinewidth": 2
          }
         }
        },
        "xaxis": {
         "anchor": "y",
         "domain": [
          0,
          0.98
         ],
         "title": {
          "text": "feature"
         }
        },
        "yaxis": {
         "anchor": "x",
         "domain": [
          0,
          1
         ],
         "title": {
          "text": "frequ"
         }
        }
       }
      },
      "text/html": [
       "<div>\n",
       "        \n",
       "        \n",
       "            <div id=\"9e0b879c-5419-4dfe-8141-1f0ceee80acb\" class=\"plotly-graph-div\" style=\"height:600px; width:100%;\"></div>\n",
       "            <script type=\"text/javascript\">\n",
       "                require([\"plotly\"], function(Plotly) {\n",
       "                    window.PLOTLYENV=window.PLOTLYENV || {};\n",
       "                    \n",
       "                if (document.getElementById(\"9e0b879c-5419-4dfe-8141-1f0ceee80acb\")) {\n",
       "                    Plotly.newPlot(\n",
       "                        '9e0b879c-5419-4dfe-8141-1f0ceee80acb',\n",
       "                        [{\"alignmentgroup\": \"True\", \"hoverlabel\": {\"namelength\": 0}, \"hovertemplate\": \"feature=%{x}<br>frequ=%{marker.color}\", \"legendgroup\": \"\", \"marker\": {\"color\": [378, 236, 215, 134, 105, 100, 95, 92, 82, 62, 59, 47, 40, 34, 27, 24, 20, 19, 18, 16, 15, 13, 11, 10, 9, 9, 8, 8, 8, 7, 7, 7, 7, 7, 6, 6, 6, 5, 5, 5, 5, 5, 5, 5, 5, 5, 5, 5, 5, 5, 5, 5, 5, 5, 4, 4, 4, 4, 4, 4, 4, 4, 4, 4, 4, 4, 4, 4, 3, 3, 3, 3, 3, 3, 3, 3, 3, 3, 3, 3, 3, 3, 3, 3, 3, 3, 3, 3, 3, 3, 3, 3, 3, 3, 3, 3, 3, 3, 2, 2, 2, 2, 2, 2, 2, 2, 2, 2, 2, 2, 2, 2, 2, 2, 2, 2, 2, 2, 2, 2, 2, 2, 2, 2, 2, 2, 2, 2, 2, 2, 2, 2, 2, 2, 2, 2, 2, 2, 2, 2, 2, 2, 2, 2, 2, 2, 2, 2, 2, 2, 2, 2, 2, 2, 2, 2, 2, 2, 2, 2, 2, 2, 2, 2, 2, 2, 2, 2, 2, 2, 2, 2, 2, 2, 2, 2, 2, 2, 2, 2, 1, 1, 1, 1, 1, 1, 1, 1, 1, 1, 1, 1, 1, 1, 1, 1, 1, 1, 1, 1, 1, 1, 1, 1, 1, 1, 1, 1, 1, 1, 1, 1, 1, 1, 1, 1, 1, 1, 1, 1, 1, 1, 1, 1, 1, 1, 1, 1, 1, 1, 1, 1, 1, 1, 1, 1, 1, 1, 1, 1, 1, 1, 1, 1, 1, 1, 1, 1, 1, 1, 1, 1, 1, 1, 1, 1, 1, 1, 1, 1, 1, 1, 1, 1, 1, 1, 1, 1, 1, 1, 1, 1, 1, 1, 1, 1, 1, 1, 1, 1, 1, 1, 1, 1, 1, 1, 1, 1, 1, 1, 1, 1, 1, 1, 1, 1, 1, 1, 1, 1, 1, 1, 1, 1, 1, 1, 1, 1, 1, 1, 1, 1, 1, 1, 1, 1, 1, 1, 1, 1, 1, 1, 1, 1, 1, 1, 1, 1, 1, 1, 1, 1, 1, 1, 1, 1, 1, 1, 1, 1, 1, 1, 1, 1, 1, 1, 1, 1, 1, 1, 1, 1, 1, 1, 1, 1, 1, 1, 1, 1, 1, 1, 1, 1, 1, 1, 1, 1, 1, 1, 1, 1, 1, 1, 1, 1, 1, 1, 1, 1, 1, 1, 1, 1, 1, 1, 1, 1, 1, 1, 1, 1, 1, 1, 1, 1, 1, 1, 1, 1, 1, 1, 1, 1, 1, 1, 1, 1, 1, 1, 1, 1, 1, 1, 1, 1, 1, 1, 1, 1, 1, 1, 1, 1, 1, 1, 1, 1, 1, 1, 1, 1, 1, 1, 1, 1, 1, 1, 1, 1, 1, 1, 1, 1, 1, 1, 1, 1, 1, 1, 1, 1, 1, 1, 1, 1, 1, 1, 1, 1, 1, 1, 1, 1, 1, 1, 1, 1, 1, 1, 1, 1, 1, 1, 1, 1, 1, 1, 1, 1, 1, 1, 1, 1, 1, 1, 1, 1, 1, 1, 1, 1, 1, 1, 1, 1, 1, 1, 1, 1], \"coloraxis\": \"coloraxis\"}, \"name\": \"\", \"offsetgroup\": \"\", \"orientation\": \"v\", \"showlegend\": false, \"textposition\": \"auto\", \"type\": \"bar\", \"x\": [\"term_10\", \"term_12\", \"term_11\", \"term_00\", \"term_100\", \"term_03\", \"term_01\", \"term_000\", \"term_128\", \"term_05\", \"term_02\", \"term_04\", \"term_08\", \"term_09\", \"term_07\", \"term_0358\", \"term_1000\", \"term_101\", \"term_06\", \"term_110\", \"term_127\", \"term_00pm\", \"term_109\", \"term_114\", \"term_120\", \"term_1200\", \"term_113\", \"term_1013\", \"term_123\", \"term_102\", \"term_071\", \"term_11632\", \"term_1024x768\", \"term_117\", \"term_106\", \"term_1111\", \"term_111\", \"term_11292\", \"term_112\", \"term_116305\", \"term_104\", \"term_1165\", \"term_1024\", \"term_115\", \"term_105\", \"term_10th\", \"term_0511\", \"term_081052\", \"term_122647\", \"term_084042\", \"term_122\", \"term_00am\", \"term_121\", \"term_0349\", \"term_0423\", \"term_040\", \"term_0200\", \"term_1170\", \"term_12091\", \"term_114127\", \"term_01580\", \"term_103\", \"term_1100\", \"term_115a\", \"term_0100\", \"term_1192d\", \"term_101010\", \"term_095220\", \"term_041343\", \"term_06320\", \"term_0608\", \"term_102007\", \"term_108\", \"term_0x100\", \"term_02173\", \"term_103237\", \"term_023044\", \"term_024103\", \"term_02118\", \"term_0293\", \"term_10101\", \"term_0600\", \"term_115565\", \"term_1113\", \"term_0010580b\", \"term_125\", \"term_11825\", \"term_118\", \"term_11670\", \"term_126\", \"term_119\", \"term_1246\", \"term_115288\", \"term_114158\", \"term_0001\", \"term_1280\", \"term_002\", \"term_11230\", \"term_0987\", \"term_124\", \"term_093300\", \"term_0930\", \"term_091844\", \"term_1244\", \"term_091258\", \"term_123315\", \"term_091139\", \"term_1095\", \"term_125245\", \"term_090030\", \"term_122329\", \"term_12533\", \"term_08057\", \"term_0721\", \"term_071823\", \"term_1266\", \"term_1271\", \"term_063425\", \"term_061\", \"term_1281\", \"term_0x\", \"term_120kvolt\", \"term_12187\", \"term_12153\", \"term_107\", \"term_10669\", \"term_113223\", \"term_11361\", \"term_115290\", \"term_115300\", \"term_115437\", \"term_1028\", \"term_1024x786x24\", \"term_115707\", \"term_1177\", \"term_11782\", \"term_10193\", \"term_10179\", \"term_1015\", \"term_11830\", \"term_11836\", \"term_11th\", \"term_100k\", \"term_100grams\", \"term_10016\", \"term_12092\", \"term_100015\", \"term_100000\", \"term_10000\", \"term_121019\", \"term_121134\", \"term_11004\", \"term_12872\", \"term_011720\", \"term_000usd\", \"term_0391\", \"term_031423\", \"term_013\", \"term_0138\", \"term_0184\", \"term_050046mvs104\", \"term_0500\", \"term_001642\", \"term_025924\", \"term_025240\", \"term_003258u19250\", \"term_004021809\", \"term_044140\", \"term_043654\", \"term_024150\", \"term_0510\", \"term_015931\", \"term_02115\", \"term_033446\", \"term_020504\", \"term_034226\", \"term_032251\", \"term_02142\", \"term_01a\", \"term_0000001200\", \"term_115561\", \"term_115694\", \"term_117th\", \"term_012019\", \"term_115571\", \"term_115468\", \"term_115621\", \"term_115670\", \"term_115686\", \"term_115687\", \"term_0150\", \"term_11710\", \"term_11716\", \"term_015518\", \"term_11705\", \"term_11721\", \"term_012946\", \"term_11743\", \"term_013034\", \"term_0131\", \"term_013657\", \"term_013846\", \"term_11766\", \"term_115847\", \"term_115846\", \"term_012536\", \"term_115716\", \"term_11776\", \"term_013423tan102\", \"term_05402\", \"term_01720\", \"term_01752\", \"term_1124\", \"term_112329\", \"term_0199\", \"term_112203jer4\", \"term_1122\", \"term_112127\", \"term_1121\", \"term_111834\", \"term_111713\", \"term_111651\", \"term_01wb\", \"term_020\", \"term_110mbytes\", \"term_020637\", \"term_020646\", \"term_020701tan102\", \"term_020751\", \"term_112430\", \"term_0195\", \"term_01890\", \"term_1143\", \"term_115287\", \"term_11810\", \"term_115072\", \"term_0179\", \"term_1145040\", \"term_114440\", \"term_114428\", \"term_01821\", \"term_01854\", \"term_114140\", \"term_114133\", \"term_01830\", \"term_1137\", \"term_01852\", \"term_113528\", \"term_113255\", \"term_115256\", \"term_011308pxf3\", \"term_11812\", \"term_125109\", \"term_001004\", \"term_124753\", \"term_001125\", \"term_001200201pixel\", \"term_124221\", \"term_124216\", \"term_124112\", \"term_1240002\", \"term_0014\", \"term_123858\", \"term_123832\", \"term_123213\", \"term_1231\", \"term_00196\", \"term_12295\", \"term_122738\", \"term_0028\", \"term_1251\", \"term_125145\", \"term_11820\", \"term_125147\", \"term_0000\", \"term_000005102000\", \"term_1275\", \"term_1273\", \"term_000100255pixel\", \"term_12700\", \"term_00014\", \"term_1268\", \"term_126645\", \"term_000406\", \"term_1263\", \"term_12602\", \"term_0007\", \"term_125920\", \"term_125750\", \"term_125545\", \"term_0010\", \"term_12252\", \"term_12222\", \"term_1221\", \"term_122037\", \"term_0094\", \"term_11x17\", \"term_00index\", \"term_11dec89\", \"term_1198\", \"term_010116\", \"term_11915\", \"term_1191\", \"term_11903\", \"term_010702\", \"term_11857\", \"term_11847\", \"term_11841\", \"term_11838\", \"term_011255\", \"term_11826\", \"term_011605\", \"term_008561\", \"term_00630\", \"term_1200x900\", \"term_1210\", \"term_0033\", \"term_121925\", \"term_0038\", \"term_0039\", \"term_12144\", \"term_12132\", \"term_004158\", \"term_004627\", \"term_1201\", \"term_0049\", \"term_00500\", \"term_005148\", \"term_1207\", \"term_120493020107\", \"term_120352\", \"term_1203\", \"term_10yo\", \"term_02139\", \"term_10mhz\", \"term_095148\", \"term_093904\", \"term_040493161915\", \"term_040819\", \"term_0926\", \"term_0922\", \"term_092051\", \"term_0410\", \"term_0418\", \"term_042100\", \"term_0908\", \"term_090306\", \"term_0903\", \"term_0901\", \"term_0900\", \"term_08934\", \"term_08786\", \"term_08690\", \"term_0943\", \"term_04046\", \"term_084258\", \"term_040286\", \"term_0xc010\", \"term_0x8\", \"term_0x3d4\", \"term_0x1f\", \"term_0380\", \"term_0x00\", \"term_0u1\", \"term_0s\", \"term_0l7\", \"term_0hb\", \"term_0e9\", \"term_0b15\", \"term_0b10\", \"term_0b\", \"term_0a\", \"term_0______________________________________________________________________0\", \"term_0_\", \"term_085526\", \"term_044946\", \"term_10mg\", \"term_0700\", \"term_0656\", \"term_065230\", \"term_06510\", \"term_0649\", \"term_051039\", \"term_051201\", \"term_062908mvs104\", \"term_062328\", \"term_051246\", \"term_0513\", \"term_060493161931\", \"term_0600lines\", \"term_053250\", \"term_05401\", \"term_0578\", \"term_055958\", \"term_054600\", \"term_068\", \"term_0704\", \"term_084\", \"term_0706\", \"term_083731\", \"term_081303\", \"term_04g\", \"term_081\", \"term_080719\", \"term_0804\", \"term_07748\", \"term_077\", \"term_07653\", \"term_0752\", \"term_07410\", \"term_0729\", \"term_0502\", \"term_050524\", \"term_071613j5j\", \"term_07102\", \"term_050750\", \"term_0xc018\", \"term_03756\", \"term_0372\", \"term_1060\", \"term_10598\", \"term_105805\", \"term_10553\", \"term_105094\", \"term_0223\", \"term_1049\", \"term_10461\", \"term_104107\", \"term_1040\", \"term_02254\", \"term_1039\", \"term_10368\", \"term_022621tan102\", \"term_1030\", \"term_0235\", \"term_1029\", \"term_102810\", \"term_021708\", \"term_1065\", \"term_0362\", \"term_1066\", \"term_10k\", \"term_10h\", \"term_10fps\", \"term_10984\", \"term_10983\", \"term_05446\", \"term_10893\", \"term_10818\", \"term_1080\", \"term_02154\", \"term_10789\", \"term_10780\", \"term_1070\", \"term_02160\", \"term_10679\", \"term_021635\", \"term_10665\", \"term_0237\", \"term_1027\", \"term_10250\", \"term_1024x768x65000\", \"term_100lez\", \"term_0318\", \"term_100c\", \"term_1007\", \"term_10056\", \"term_1005\", \"term_10038\", \"term_10036\", \"term_10032\", \"term_1003\", \"term_10021\", \"term_10012\", \"term_1001\", \"term_0330\", \"term_100042\", \"term_100039\", \"term_033843\", \"term_100megs\", \"term_100mg\", \"term_030734\", \"term_101h\", \"term_1024x768x24\", \"term_024626\", \"term_1024x728\", \"term_1024x512\", \"term_1024x1024\", \"term_1023\", \"term_0278\", \"term_10196\", \"term_1010\", \"term_02908\", \"term_030105\", \"term_101747\", \"term_0303\", \"term_030334\", \"term_03051\", \"term_0306\", \"term_1000mg\"], \"xaxis\": \"x\", \"y\": [378, 236, 215, 134, 105, 100, 95, 92, 82, 62, 59, 47, 40, 34, 27, 24, 20, 19, 18, 16, 15, 13, 11, 10, 9, 9, 8, 8, 8, 7, 7, 7, 7, 7, 6, 6, 6, 5, 5, 5, 5, 5, 5, 5, 5, 5, 5, 5, 5, 5, 5, 5, 5, 5, 4, 4, 4, 4, 4, 4, 4, 4, 4, 4, 4, 4, 4, 4, 3, 3, 3, 3, 3, 3, 3, 3, 3, 3, 3, 3, 3, 3, 3, 3, 3, 3, 3, 3, 3, 3, 3, 3, 3, 3, 3, 3, 3, 3, 2, 2, 2, 2, 2, 2, 2, 2, 2, 2, 2, 2, 2, 2, 2, 2, 2, 2, 2, 2, 2, 2, 2, 2, 2, 2, 2, 2, 2, 2, 2, 2, 2, 2, 2, 2, 2, 2, 2, 2, 2, 2, 2, 2, 2, 2, 2, 2, 2, 2, 2, 2, 2, 2, 2, 2, 2, 2, 2, 2, 2, 2, 2, 2, 2, 2, 2, 2, 2, 2, 2, 2, 2, 2, 2, 2, 2, 2, 2, 2, 2, 2, 1, 1, 1, 1, 1, 1, 1, 1, 1, 1, 1, 1, 1, 1, 1, 1, 1, 1, 1, 1, 1, 1, 1, 1, 1, 1, 1, 1, 1, 1, 1, 1, 1, 1, 1, 1, 1, 1, 1, 1, 1, 1, 1, 1, 1, 1, 1, 1, 1, 1, 1, 1, 1, 1, 1, 1, 1, 1, 1, 1, 1, 1, 1, 1, 1, 1, 1, 1, 1, 1, 1, 1, 1, 1, 1, 1, 1, 1, 1, 1, 1, 1, 1, 1, 1, 1, 1, 1, 1, 1, 1, 1, 1, 1, 1, 1, 1, 1, 1, 1, 1, 1, 1, 1, 1, 1, 1, 1, 1, 1, 1, 1, 1, 1, 1, 1, 1, 1, 1, 1, 1, 1, 1, 1, 1, 1, 1, 1, 1, 1, 1, 1, 1, 1, 1, 1, 1, 1, 1, 1, 1, 1, 1, 1, 1, 1, 1, 1, 1, 1, 1, 1, 1, 1, 1, 1, 1, 1, 1, 1, 1, 1, 1, 1, 1, 1, 1, 1, 1, 1, 1, 1, 1, 1, 1, 1, 1, 1, 1, 1, 1, 1, 1, 1, 1, 1, 1, 1, 1, 1, 1, 1, 1, 1, 1, 1, 1, 1, 1, 1, 1, 1, 1, 1, 1, 1, 1, 1, 1, 1, 1, 1, 1, 1, 1, 1, 1, 1, 1, 1, 1, 1, 1, 1, 1, 1, 1, 1, 1, 1, 1, 1, 1, 1, 1, 1, 1, 1, 1, 1, 1, 1, 1, 1, 1, 1, 1, 1, 1, 1, 1, 1, 1, 1, 1, 1, 1, 1, 1, 1, 1, 1, 1, 1, 1, 1, 1, 1, 1, 1, 1, 1, 1, 1, 1, 1, 1, 1, 1, 1, 1, 1, 1, 1, 1, 1, 1, 1, 1, 1, 1, 1, 1, 1, 1, 1, 1, 1, 1, 1, 1, 1, 1, 1, 1, 1, 1, 1, 1, 1, 1, 1, 1, 1, 1, 1, 1, 1, 1, 1], \"yaxis\": \"y\"}],\n",
       "                        {\"barmode\": \"relative\", \"coloraxis\": {\"colorbar\": {\"title\": {\"text\": \"frequ\"}}, \"colorscale\": [[0.0, \"#0d0887\"], [0.1111111111111111, \"#46039f\"], [0.2222222222222222, \"#7201a8\"], [0.3333333333333333, \"#9c179e\"], [0.4444444444444444, \"#bd3786\"], [0.5555555555555556, \"#d8576b\"], [0.6666666666666666, \"#ed7953\"], [0.7777777777777778, \"#fb9f3a\"], [0.8888888888888888, \"#fdca26\"], [1.0, \"#f0f921\"]]}, \"height\": 600, \"legend\": {\"tracegroupgap\": 0}, \"margin\": {\"t\": 60}, \"template\": {\"data\": {\"bar\": [{\"error_x\": {\"color\": \"#2a3f5f\"}, \"error_y\": {\"color\": \"#2a3f5f\"}, \"marker\": {\"line\": {\"color\": \"#E5ECF6\", \"width\": 0.5}}, \"type\": \"bar\"}], \"barpolar\": [{\"marker\": {\"line\": {\"color\": \"#E5ECF6\", \"width\": 0.5}}, \"type\": \"barpolar\"}], \"carpet\": [{\"aaxis\": {\"endlinecolor\": \"#2a3f5f\", \"gridcolor\": \"white\", \"linecolor\": \"white\", \"minorgridcolor\": \"white\", \"startlinecolor\": \"#2a3f5f\"}, \"baxis\": {\"endlinecolor\": \"#2a3f5f\", \"gridcolor\": \"white\", \"linecolor\": \"white\", \"minorgridcolor\": \"white\", \"startlinecolor\": \"#2a3f5f\"}, \"type\": \"carpet\"}], \"choropleth\": [{\"colorbar\": {\"outlinewidth\": 0, \"ticks\": \"\"}, \"type\": \"choropleth\"}], \"contour\": [{\"colorbar\": {\"outlinewidth\": 0, \"ticks\": \"\"}, \"colorscale\": [[0.0, \"#0d0887\"], [0.1111111111111111, \"#46039f\"], [0.2222222222222222, \"#7201a8\"], [0.3333333333333333, \"#9c179e\"], [0.4444444444444444, \"#bd3786\"], [0.5555555555555556, \"#d8576b\"], [0.6666666666666666, \"#ed7953\"], [0.7777777777777778, \"#fb9f3a\"], [0.8888888888888888, \"#fdca26\"], [1.0, \"#f0f921\"]], \"type\": \"contour\"}], \"contourcarpet\": [{\"colorbar\": {\"outlinewidth\": 0, \"ticks\": \"\"}, \"type\": \"contourcarpet\"}], \"heatmap\": [{\"colorbar\": {\"outlinewidth\": 0, \"ticks\": \"\"}, \"colorscale\": [[0.0, \"#0d0887\"], [0.1111111111111111, \"#46039f\"], [0.2222222222222222, \"#7201a8\"], [0.3333333333333333, \"#9c179e\"], [0.4444444444444444, \"#bd3786\"], [0.5555555555555556, \"#d8576b\"], [0.6666666666666666, \"#ed7953\"], [0.7777777777777778, \"#fb9f3a\"], [0.8888888888888888, \"#fdca26\"], [1.0, \"#f0f921\"]], \"type\": \"heatmap\"}], \"heatmapgl\": [{\"colorbar\": {\"outlinewidth\": 0, \"ticks\": \"\"}, \"colorscale\": [[0.0, \"#0d0887\"], [0.1111111111111111, \"#46039f\"], [0.2222222222222222, \"#7201a8\"], [0.3333333333333333, \"#9c179e\"], [0.4444444444444444, \"#bd3786\"], [0.5555555555555556, \"#d8576b\"], [0.6666666666666666, \"#ed7953\"], [0.7777777777777778, \"#fb9f3a\"], [0.8888888888888888, \"#fdca26\"], [1.0, \"#f0f921\"]], \"type\": \"heatmapgl\"}], \"histogram\": [{\"marker\": {\"colorbar\": {\"outlinewidth\": 0, \"ticks\": \"\"}}, \"type\": \"histogram\"}], \"histogram2d\": [{\"colorbar\": {\"outlinewidth\": 0, \"ticks\": \"\"}, \"colorscale\": [[0.0, \"#0d0887\"], [0.1111111111111111, \"#46039f\"], [0.2222222222222222, \"#7201a8\"], [0.3333333333333333, \"#9c179e\"], [0.4444444444444444, \"#bd3786\"], [0.5555555555555556, \"#d8576b\"], [0.6666666666666666, \"#ed7953\"], [0.7777777777777778, \"#fb9f3a\"], [0.8888888888888888, \"#fdca26\"], [1.0, \"#f0f921\"]], \"type\": \"histogram2d\"}], \"histogram2dcontour\": [{\"colorbar\": {\"outlinewidth\": 0, \"ticks\": \"\"}, \"colorscale\": [[0.0, \"#0d0887\"], [0.1111111111111111, \"#46039f\"], [0.2222222222222222, \"#7201a8\"], [0.3333333333333333, \"#9c179e\"], [0.4444444444444444, \"#bd3786\"], [0.5555555555555556, \"#d8576b\"], [0.6666666666666666, \"#ed7953\"], [0.7777777777777778, \"#fb9f3a\"], [0.8888888888888888, \"#fdca26\"], [1.0, \"#f0f921\"]], \"type\": \"histogram2dcontour\"}], \"mesh3d\": [{\"colorbar\": {\"outlinewidth\": 0, \"ticks\": \"\"}, \"type\": \"mesh3d\"}], \"parcoords\": [{\"line\": {\"colorbar\": {\"outlinewidth\": 0, \"ticks\": \"\"}}, \"type\": \"parcoords\"}], \"scatter\": [{\"marker\": {\"colorbar\": {\"outlinewidth\": 0, \"ticks\": \"\"}}, \"type\": \"scatter\"}], \"scatter3d\": [{\"line\": {\"colorbar\": {\"outlinewidth\": 0, \"ticks\": \"\"}}, \"marker\": {\"colorbar\": {\"outlinewidth\": 0, \"ticks\": \"\"}}, \"type\": \"scatter3d\"}], \"scattercarpet\": [{\"marker\": {\"colorbar\": {\"outlinewidth\": 0, \"ticks\": \"\"}}, \"type\": \"scattercarpet\"}], \"scattergeo\": [{\"marker\": {\"colorbar\": {\"outlinewidth\": 0, \"ticks\": \"\"}}, \"type\": \"scattergeo\"}], \"scattergl\": [{\"marker\": {\"colorbar\": {\"outlinewidth\": 0, \"ticks\": \"\"}}, \"type\": \"scattergl\"}], \"scattermapbox\": [{\"marker\": {\"colorbar\": {\"outlinewidth\": 0, \"ticks\": \"\"}}, \"type\": \"scattermapbox\"}], \"scatterpolar\": [{\"marker\": {\"colorbar\": {\"outlinewidth\": 0, \"ticks\": \"\"}}, \"type\": \"scatterpolar\"}], \"scatterpolargl\": [{\"marker\": {\"colorbar\": {\"outlinewidth\": 0, \"ticks\": \"\"}}, \"type\": \"scatterpolargl\"}], \"scatterternary\": [{\"marker\": {\"colorbar\": {\"outlinewidth\": 0, \"ticks\": \"\"}}, \"type\": \"scatterternary\"}], \"surface\": [{\"colorbar\": {\"outlinewidth\": 0, \"ticks\": \"\"}, \"colorscale\": [[0.0, \"#0d0887\"], [0.1111111111111111, \"#46039f\"], [0.2222222222222222, \"#7201a8\"], [0.3333333333333333, \"#9c179e\"], [0.4444444444444444, \"#bd3786\"], [0.5555555555555556, \"#d8576b\"], [0.6666666666666666, \"#ed7953\"], [0.7777777777777778, \"#fb9f3a\"], [0.8888888888888888, \"#fdca26\"], [1.0, \"#f0f921\"]], \"type\": \"surface\"}], \"table\": [{\"cells\": {\"fill\": {\"color\": \"#EBF0F8\"}, \"line\": {\"color\": \"white\"}}, \"header\": {\"fill\": {\"color\": \"#C8D4E3\"}, \"line\": {\"color\": \"white\"}}, \"type\": \"table\"}]}, \"layout\": {\"annotationdefaults\": {\"arrowcolor\": \"#2a3f5f\", \"arrowhead\": 0, \"arrowwidth\": 1}, \"colorscale\": {\"diverging\": [[0, \"#8e0152\"], [0.1, \"#c51b7d\"], [0.2, \"#de77ae\"], [0.3, \"#f1b6da\"], [0.4, \"#fde0ef\"], [0.5, \"#f7f7f7\"], [0.6, \"#e6f5d0\"], [0.7, \"#b8e186\"], [0.8, \"#7fbc41\"], [0.9, \"#4d9221\"], [1, \"#276419\"]], \"sequential\": [[0.0, \"#0d0887\"], [0.1111111111111111, \"#46039f\"], [0.2222222222222222, \"#7201a8\"], [0.3333333333333333, \"#9c179e\"], [0.4444444444444444, \"#bd3786\"], [0.5555555555555556, \"#d8576b\"], [0.6666666666666666, \"#ed7953\"], [0.7777777777777778, \"#fb9f3a\"], [0.8888888888888888, \"#fdca26\"], [1.0, \"#f0f921\"]], \"sequentialminus\": [[0.0, \"#0d0887\"], [0.1111111111111111, \"#46039f\"], [0.2222222222222222, \"#7201a8\"], [0.3333333333333333, \"#9c179e\"], [0.4444444444444444, \"#bd3786\"], [0.5555555555555556, \"#d8576b\"], [0.6666666666666666, \"#ed7953\"], [0.7777777777777778, \"#fb9f3a\"], [0.8888888888888888, \"#fdca26\"], [1.0, \"#f0f921\"]]}, \"colorway\": [\"#636efa\", \"#EF553B\", \"#00cc96\", \"#ab63fa\", \"#FFA15A\", \"#19d3f3\", \"#FF6692\", \"#B6E880\", \"#FF97FF\", \"#FECB52\"], \"font\": {\"color\": \"#2a3f5f\"}, \"geo\": {\"bgcolor\": \"white\", \"lakecolor\": \"white\", \"landcolor\": \"#E5ECF6\", \"showlakes\": true, \"showland\": true, \"subunitcolor\": \"white\"}, \"hoverlabel\": {\"align\": \"left\"}, \"hovermode\": \"closest\", \"mapbox\": {\"style\": \"light\"}, \"paper_bgcolor\": \"white\", \"plot_bgcolor\": \"#E5ECF6\", \"polar\": {\"angularaxis\": {\"gridcolor\": \"white\", \"linecolor\": \"white\", \"ticks\": \"\"}, \"bgcolor\": \"#E5ECF6\", \"radialaxis\": {\"gridcolor\": \"white\", \"linecolor\": \"white\", \"ticks\": \"\"}}, \"scene\": {\"xaxis\": {\"backgroundcolor\": \"#E5ECF6\", \"gridcolor\": \"white\", \"gridwidth\": 2, \"linecolor\": \"white\", \"showbackground\": true, \"ticks\": \"\", \"zerolinecolor\": \"white\"}, \"yaxis\": {\"backgroundcolor\": \"#E5ECF6\", \"gridcolor\": \"white\", \"gridwidth\": 2, \"linecolor\": \"white\", \"showbackground\": true, \"ticks\": \"\", \"zerolinecolor\": \"white\"}, \"zaxis\": {\"backgroundcolor\": \"#E5ECF6\", \"gridcolor\": \"white\", \"gridwidth\": 2, \"linecolor\": \"white\", \"showbackground\": true, \"ticks\": \"\", \"zerolinecolor\": \"white\"}}, \"shapedefaults\": {\"line\": {\"color\": \"#2a3f5f\"}}, \"ternary\": {\"aaxis\": {\"gridcolor\": \"white\", \"linecolor\": \"white\", \"ticks\": \"\"}, \"baxis\": {\"gridcolor\": \"white\", \"linecolor\": \"white\", \"ticks\": \"\"}, \"bgcolor\": \"#E5ECF6\", \"caxis\": {\"gridcolor\": \"white\", \"linecolor\": \"white\", \"ticks\": \"\"}}, \"title\": {\"x\": 0.05}, \"xaxis\": {\"automargin\": true, \"gridcolor\": \"white\", \"linecolor\": \"white\", \"ticks\": \"\", \"zerolinecolor\": \"white\", \"zerolinewidth\": 2}, \"yaxis\": {\"automargin\": true, \"gridcolor\": \"white\", \"linecolor\": \"white\", \"ticks\": \"\", \"zerolinecolor\": \"white\", \"zerolinewidth\": 2}}}, \"xaxis\": {\"anchor\": \"y\", \"domain\": [0.0, 0.98], \"title\": {\"text\": \"feature\"}}, \"yaxis\": {\"anchor\": \"x\", \"domain\": [0.0, 1.0], \"title\": {\"text\": \"frequ\"}}},\n",
       "                        {\"responsive\": true}\n",
       "                    ).then(function(){\n",
       "                            \n",
       "var gd = document.getElementById('9e0b879c-5419-4dfe-8141-1f0ceee80acb');\n",
       "var x = new MutationObserver(function (mutations, observer) {{\n",
       "        var display = window.getComputedStyle(gd).display;\n",
       "        if (!display || display === 'none') {{\n",
       "            console.log([gd, 'removed!']);\n",
       "            Plotly.purge(gd);\n",
       "            observer.disconnect();\n",
       "        }}\n",
       "}});\n",
       "\n",
       "// Listen for the removal of the full notebook cells\n",
       "var notebookContainer = gd.closest('#notebook-container');\n",
       "if (notebookContainer) {{\n",
       "    x.observe(notebookContainer, {childList: true});\n",
       "}}\n",
       "\n",
       "// Listen for the clearing of the current output cell\n",
       "var outputEl = gd.closest('.output');\n",
       "if (outputEl) {{\n",
       "    x.observe(outputEl, {childList: true});\n",
       "}}\n",
       "\n",
       "                        })\n",
       "                };\n",
       "                });\n",
       "            </script>\n",
       "        </div>"
      ]
     },
     "metadata": {},
     "output_type": "display_data"
    }
   ],
   "source": [
    "# Answer here\n",
    "\n",
    "bardatast=bardata.sort_values(by=['frequ'],ascending=False)\n",
    "\n",
    "fig = px.bar(bardatast, x='feature', y='frequ', color='frequ')\n",
    "fig.show()\n"
   ]
  },
  {
   "cell_type": "markdown",
   "metadata": {},
   "source": [
    "---"
   ]
  },
  {
   "cell_type": "markdown",
   "metadata": {},
   "source": [
    "Since we already have those term frequencies, we can also transform the values in that vector into the log distribution. All we need is to import the `math` library provided by python and apply it to the array of values of the term frequency vector. This is a typical example of attribute transformation. Let's go for it. The log distribution is a technique to visualize the term frequency into a scale that makes you easily visualize the distribution in a more readable format. In other words, the variations between the term frequencies are now easy to observe. Let us try it out!"
   ]
  },
  {
   "cell_type": "code",
   "execution_count": 101,
   "metadata": {},
   "outputs": [],
   "source": [
    "import math\n",
    "term_frequencies_log = [math.log(i) for i in term_frequencies]"
   ]
  },
  {
   "cell_type": "code",
   "execution_count": 102,
   "metadata": {},
   "outputs": [
    {
     "data": {
      "image/png": "[encoded data removed]",
      "text/plain": [
       "<Figure size 7200x720 with 1 Axes>"
      ]
     },
     "metadata": {
      "needs_background": "light"
     },
     "output_type": "display_data"
    }
   ],
   "source": [
    "plt.subplots(figsize=(100, 10))\n",
    "g = sns.barplot(x=count_vect.get_feature_names()[:300],\n",
    "                y=term_frequencies_log[:300])\n",
    "g.set_xticklabels(count_vect.get_feature_names()[:300], rotation = 90);"
   ]
  },
  {
   "cell_type": "markdown",
   "metadata": {},
   "source": [
    "Besides observing a complete transformation on the disrtibution, notice the scale on the y-axis. The log distribution in our unsorted example has no meaning, but try to properly sort the terms by their frequency, and you will see an interesting effect. Go for it!"
   ]
  },
  {
   "cell_type": "markdown",
   "metadata": {},
   "source": [
    "---"
   ]
  },
  {
   "cell_type": "markdown",
   "metadata": {},
   "source": [
    "### 5.6 Discretization and Binarization\n",
    "In this section we are going to discuss a very important pre-preprocessing technique used to transform the data, specifically categorical values, into a format that satisfies certain criteria required by particular algorithms. Given our current original dataset, we would like to transform one of the attributes, `category_name`, into four binary attributes. In other words, we are taking the category name and replacing it with a `n` asymmetric binary attributes. The logic behind this transformation is discussed in detail in the recommended Data Mining text book (please refer to it on page 58). People from the machine learning community also refer to this transformation as one-hot encoding, but as you may become aware later in the course, these concepts are all the same, we just have different prefrence on how we refer to the concepts. Let us take a look at what we want to achieve in code. "
   ]
  },
  {
   "cell_type": "code",
   "execution_count": 103,
   "metadata": {},
   "outputs": [],
   "source": [
    "from sklearn import preprocessing, metrics, decomposition, pipeline, dummy"
   ]
  },
  {
   "cell_type": "code",
   "execution_count": 104,
   "metadata": {},
   "outputs": [],
   "source": [
    "mlb = preprocessing.LabelBinarizer()"
   ]
  },
  {
   "cell_type": "code",
   "execution_count": 105,
   "metadata": {},
   "outputs": [
    {
     "data": {
      "text/plain": [
       "LabelBinarizer(neg_label=0, pos_label=1, sparse_output=False)"
      ]
     },
     "execution_count": 105,
     "metadata": {},
     "output_type": "execute_result"
    }
   ],
   "source": [
    "mlb.fit(X.category)"
   ]
  },
  {
   "cell_type": "code",
   "execution_count": 106,
   "metadata": {},
   "outputs": [
    {
     "data": {
      "text/plain": [
       "array([0, 1, 2, 3])"
      ]
     },
     "execution_count": 106,
     "metadata": {},
     "output_type": "execute_result"
    }
   ],
   "source": [
    "mlb.classes_"
   ]
  },
  {
   "cell_type": "code",
   "execution_count": 107,
   "metadata": {},
   "outputs": [],
   "source": [
    "X['bin_category'] = mlb.transform(X['category']).tolist()"
   ]
  },
  {
   "cell_type": "code",
   "execution_count": 108,
   "metadata": {},
   "outputs": [
    {
     "data": {
      "text/html": [
       "<div>\n",
       "<style scoped>\n",
       "    .dataframe tbody tr th:only-of-type {\n",
       "        vertical-align: middle;\n",
       "    }\n",
       "\n",
       "    .dataframe tbody tr th {\n",
       "        vertical-align: top;\n",
       "    }\n",
       "\n",
       "    .dataframe thead th {\n",
       "        text-align: right;\n",
       "    }\n",
       "</style>\n",
       "<table border=\"1\" class=\"dataframe\">\n",
       "  <thead>\n",
       "    <tr style=\"text-align: right;\">\n",
       "      <th></th>\n",
       "      <th>text</th>\n",
       "      <th>category</th>\n",
       "      <th>category_name</th>\n",
       "      <th>unigrams</th>\n",
       "      <th>bin_category</th>\n",
       "    </tr>\n",
       "  </thead>\n",
       "  <tbody>\n",
       "    <tr>\n",
       "      <td>0</td>\n",
       "      <td>From: sd345@city.ac.uk (Michael Collier) Subje...</td>\n",
       "      <td>1</td>\n",
       "      <td>comp.graphics</td>\n",
       "      <td>[From, :, sd345, @, city.ac.uk, (, Michael, Co...</td>\n",
       "      <td>[0, 1, 0, 0]</td>\n",
       "    </tr>\n",
       "    <tr>\n",
       "      <td>1</td>\n",
       "      <td>From: ani@ms.uky.edu (Aniruddha B. Deglurkar) ...</td>\n",
       "      <td>1</td>\n",
       "      <td>comp.graphics</td>\n",
       "      <td>[From, :, ani, @, ms.uky.edu, (, Aniruddha, B....</td>\n",
       "      <td>[0, 1, 0, 0]</td>\n",
       "    </tr>\n",
       "    <tr>\n",
       "      <td>2</td>\n",
       "      <td>From: djohnson@cs.ucsd.edu (Darin Johnson) Sub...</td>\n",
       "      <td>3</td>\n",
       "      <td>soc.religion.christian</td>\n",
       "      <td>[From, :, djohnson, @, cs.ucsd.edu, (, Darin, ...</td>\n",
       "      <td>[0, 0, 0, 1]</td>\n",
       "    </tr>\n",
       "    <tr>\n",
       "      <td>3</td>\n",
       "      <td>From: s0612596@let.rug.nl (M.M. Zwart) Subject...</td>\n",
       "      <td>3</td>\n",
       "      <td>soc.religion.christian</td>\n",
       "      <td>[From, :, s0612596, @, let.rug.nl, (, M.M, ., ...</td>\n",
       "      <td>[0, 0, 0, 1]</td>\n",
       "    </tr>\n",
       "    <tr>\n",
       "      <td>4</td>\n",
       "      <td>From: stanly@grok11.columbiasc.ncr.com (stanly...</td>\n",
       "      <td>3</td>\n",
       "      <td>soc.religion.christian</td>\n",
       "      <td>[From, :, stanly, @, grok11.columbiasc.ncr.com...</td>\n",
       "      <td>[0, 0, 0, 1]</td>\n",
       "    </tr>\n",
       "    <tr>\n",
       "      <td>5</td>\n",
       "      <td>From: vbv@lor.eeap.cwru.edu (Virgilio (Dean) B...</td>\n",
       "      <td>3</td>\n",
       "      <td>soc.religion.christian</td>\n",
       "      <td>[From, :, vbv, @, lor.eeap.cwru.edu, (, Virgil...</td>\n",
       "      <td>[0, 0, 0, 1]</td>\n",
       "    </tr>\n",
       "    <tr>\n",
       "      <td>6</td>\n",
       "      <td>From: jodfishe@silver.ucs.indiana.edu (joseph ...</td>\n",
       "      <td>3</td>\n",
       "      <td>soc.religion.christian</td>\n",
       "      <td>[From, :, jodfishe, @, silver.ucs.indiana.edu,...</td>\n",
       "      <td>[0, 0, 0, 1]</td>\n",
       "    </tr>\n",
       "    <tr>\n",
       "      <td>7</td>\n",
       "      <td>From: aldridge@netcom.com (Jacquelin Aldridge)...</td>\n",
       "      <td>2</td>\n",
       "      <td>sci.med</td>\n",
       "      <td>[From, :, aldridge, @, netcom.com, (, Jacqueli...</td>\n",
       "      <td>[0, 0, 1, 0]</td>\n",
       "    </tr>\n",
       "    <tr>\n",
       "      <td>8</td>\n",
       "      <td>From: geb@cs.pitt.edu (Gordon Banks) Subject: ...</td>\n",
       "      <td>2</td>\n",
       "      <td>sci.med</td>\n",
       "      <td>[From, :, geb, @, cs.pitt.edu, (, Gordon, Bank...</td>\n",
       "      <td>[0, 0, 1, 0]</td>\n",
       "    </tr>\n",
       "  </tbody>\n",
       "</table>\n",
       "</div>"
      ],
      "text/plain": [
       "                                                text  category  \\\n",
       "0  From: sd345@city.ac.uk (Michael Collier) Subje...         1   \n",
       "1  From: ani@ms.uky.edu (Aniruddha B. Deglurkar) ...         1   \n",
       "2  From: djohnson@cs.ucsd.edu (Darin Johnson) Sub...         3   \n",
       "3  From: s0612596@let.rug.nl (M.M. Zwart) Subject...         3   \n",
       "4  From: stanly@grok11.columbiasc.ncr.com (stanly...         3   \n",
       "5  From: vbv@lor.eeap.cwru.edu (Virgilio (Dean) B...         3   \n",
       "6  From: jodfishe@silver.ucs.indiana.edu (joseph ...         3   \n",
       "7  From: aldridge@netcom.com (Jacquelin Aldridge)...         2   \n",
       "8  From: geb@cs.pitt.edu (Gordon Banks) Subject: ...         2   \n",
       "\n",
       "            category_name                                           unigrams  \\\n",
       "0           comp.graphics  [From, :, sd345, @, city.ac.uk, (, Michael, Co...   \n",
       "1           comp.graphics  [From, :, ani, @, ms.uky.edu, (, Aniruddha, B....   \n",
       "2  soc.religion.christian  [From, :, djohnson, @, cs.ucsd.edu, (, Darin, ...   \n",
       "3  soc.religion.christian  [From, :, s0612596, @, let.rug.nl, (, M.M, ., ...   \n",
       "4  soc.religion.christian  [From, :, stanly, @, grok11.columbiasc.ncr.com...   \n",
       "5  soc.religion.christian  [From, :, vbv, @, lor.eeap.cwru.edu, (, Virgil...   \n",
       "6  soc.religion.christian  [From, :, jodfishe, @, silver.ucs.indiana.edu,...   \n",
       "7                 sci.med  [From, :, aldridge, @, netcom.com, (, Jacqueli...   \n",
       "8                 sci.med  [From, :, geb, @, cs.pitt.edu, (, Gordon, Bank...   \n",
       "\n",
       "   bin_category  \n",
       "0  [0, 1, 0, 0]  \n",
       "1  [0, 1, 0, 0]  \n",
       "2  [0, 0, 0, 1]  \n",
       "3  [0, 0, 0, 1]  \n",
       "4  [0, 0, 0, 1]  \n",
       "5  [0, 0, 0, 1]  \n",
       "6  [0, 0, 0, 1]  \n",
       "7  [0, 0, 1, 0]  \n",
       "8  [0, 0, 1, 0]  "
      ]
     },
     "execution_count": 108,
     "metadata": {},
     "output_type": "execute_result"
    }
   ],
   "source": [
    "X[0:9]"
   ]
  },
  {
   "cell_type": "markdown",
   "metadata": {},
   "source": [
    "Take a look at the new attribute we have added to the `X` table. You can see that the new attribute, which is called `bin_category`, contains an array of 0's and 1's. The `1` is basically to indicate the position of the label or category we binarized. If you look at the first two records, the one is places in slot 2 in the array; this helps to indicate to any of the algorithms which we are feeding this data to, that the record belong to that specific category. \n",
    "\n",
    "Attributes with **continuous values** also have strategies to tranform the data; this is usually called **Discretization** (please refer to the text book for more inforamation)."
   ]
  },
  {
   "cell_type": "markdown",
   "metadata": {},
   "source": [
    "---"
   ]
  },
  {
   "cell_type": "markdown",
   "metadata": {},
   "source": [
    "### >>> **Exercise 16 (take home):**\n",
    "Try to generate the binarization using the `category_name` column instead. Does it work?"
   ]
  },
  {
   "cell_type": "code",
   "execution_count": 109,
   "metadata": {},
   "outputs": [],
   "source": [
    "# Answer here\n"
   ]
  },
  {
   "cell_type": "markdown",
   "metadata": {},
   "source": [
    "---"
   ]
  },
  {
   "cell_type": "markdown",
   "metadata": {},
   "source": [
    "# 6. Data Exploration"
   ]
  },
  {
   "cell_type": "markdown",
   "metadata": {},
   "source": [
    "Sometimes you need to take a peek at your data to understand the relationships in your dataset. Here, we will focus in a similarity example. Let's take 3 documents and compare them."
   ]
  },
  {
   "cell_type": "code",
   "execution_count": 110,
   "metadata": {},
   "outputs": [],
   "source": [
    "# We retrieve 2 sentences for a random record, here, indexed at 50 and 100\n",
    "document_to_transform_1 = []\n",
    "random_record_1 = X.iloc[50]\n",
    "random_record_1 = random_record_1['text']\n",
    "document_to_transform_1.append(random_record_1)\n",
    "\n",
    "document_to_transform_2 = []\n",
    "random_record_2 = X.iloc[100]\n",
    "random_record_2 = random_record_2['text']\n",
    "document_to_transform_2.append(random_record_2)\n",
    "\n",
    "document_to_transform_3 = []\n",
    "random_record_3 = X.iloc[150]\n",
    "random_record_3 = random_record_3['text']\n",
    "document_to_transform_3.append(random_record_3)"
   ]
  },
  {
   "cell_type": "markdown",
   "metadata": {},
   "source": [
    "Let's look at our emails."
   ]
  },
  {
   "cell_type": "code",
   "execution_count": 111,
   "metadata": {},
   "outputs": [
    {
     "name": "stdout",
     "output_type": "stream",
     "text": [
      "['From: ab@nova.cc.purdue.edu (Allen B) Subject: Re: TIFF: philosophical significance of 42 Organization: Purdue University Lines: 39  In article <prestonm.735400848@cs.man.ac.uk> prestonm@cs.man.ac.uk (Martin   Preston) writes: > Why not use the PD C library for reading/writing TIFF files? It took me a > good 20 minutes to start using them in your own app.  I certainly do use it whenever I have to do TIFF, and it usually works very well.  That\\'s not my point.  I\\'m >philosophically< opposed to it because of its complexity.  This complexity has led to some programs\\' poor TIFF writers making some very bizarre files, other programs\\' inability to load TIFF images (though they\\'ll save them, of course), and a general inability to interchange images between different environments despite the fact they all think they understand TIFF.  As the saying goes, \"It\\'s not me I\\'m worried about- it\\'s all the >other<  assholes out there!\"  I\\'ve had big trouble with misuse and abuse of TIFF over the years, and I chalk it all up to the immense (and unnecessary) complexity of the format.  In the words of the TIFF 5.0 spec, Appendix G, page G-1 (capitalized emphasis mine):  \"The only problem with this sort of success is that TIFF was designed to be powerful and flexible, at the expense of simplicity.  It takes a fair amount of effort to handle all the options currently defined in this specification (PROBABLY NO APPLICATION DOES A COMPLETE JOB), and that is currently the only way you can be >sure< that you will be able to import any TIFF image, since there are so many image-generating applications out there now.\"   If a program (or worse all applications) can\\'t read >every< TIFF image, that means there are some it won\\'t- some that I might have to deal with.  Why would I want my images to be trapped in that format?  I don\\'t and neither should anyone who agrees with my reasoning- not that anyone does, of course! :-)  ab ']\n",
      "['From: mathew <mathew@mantis.co.uk> Subject: Re: university violating separation of church/state? Organization: Mantis Consultants, Cambridge. UK. X-Newsreader: rusnews v1.01 Lines: 29  dmn@kepler.unh.edu (...until kings become philosophers or philosophers become kings) writes: >      Recently, RAs have been ordered (and none have resisted or cared about > it apparently) to post a religious flyer entitled _The Soul Scroll: Thoughts > on religion, spirituality, and matters of the soul_ on the inside of bathroom > stall doors. (at my school, the University of New Hampshire) It is some sort > of newsletter assembled by a Hall Director somewhere on campus. It poses a > question about \\'spirituality\\' each issue, and solicits responses to be  > included in the next \\'issue.\\' It\\'s all pretty vague. I assume it\\'s put out > by a Christian, but they\\'re very careful not to mention Jesus or the bible. > I\\'ve heard someone defend it, saying \"Well it doesn\\'t support any one religion. > \" So what??? This is a STATE university, and as a strong supporter of the > separation of church and state, I was enraged. >  >      What can I do about this?  It sounds to me like it\\'s just SCREAMING OUT for parody.  Give a copy to your friendly neighbourhood SubGenius preacher; with luck, he\\'ll run it through the mental mincer and hand you back an outrageously offensive and gut-bustingly funny parody you can paste over the originals.  I can see it now:                                 The Stool Scroll          Thoughts on Religion, Spirituality, and Matters of the Colon                         (You can use this text to wipe)   mathew ']\n",
      "['From: lfoard@hopper.virginia.edu (Lawrence C. Foard) Subject: Re: Assurance of Hell Organization: ITC/UVA Community Access UNIX/Internet Project Lines: 43  In article <Apr.20.03.01.19.1993.3755@geneva.rutgers.edu> REXLEX@fnal.fnal.gov writes: > >I dreamed that the great judgment morning had dawned, >     and the trumpet had blown. >I dreamed that the sinners had gathered for judgment >     before the white throne. >Oh what weeping and wailing as the lost were told of their fate. >They cried for the rock and the mountains. >They prayed, but their prayers were too late. >The soul that had put off salvation,  >\"Not tonight I\\'ll get saved by and by. > No time now to think of ....... religion,\"  >Alas, he had found time to die. >And I saw a Great White Throne.  If I believed in the God of the bible I would be very fearful of making this statement. Doesn\\'t it say those who judge will be judged by the same measure?   >Now, some have protest by saying that the fear of hell is not good for >motivation, yet Jesus thought it was.  Paul thought it was.  Paul said,  >\"Knowing therefore, the terror of the Lord, we persuade men.\"  A God who must motivate through fear is not a God worthy of worship. If the God Jesus spoke of did indeed exist he would not need hell to convince people to worship him.  >Today, too much of our evangelism is nothing but soft soap and some of >it is nothing but evangelical salesmanship.  We don\\'t tell people anymore, that >there\\'s such a thing as sin or that there\\'s such a place as hell.    It was the myth of hell that made me finally realize that the whole thing was untrue. If it hadn\\'t been for hell I would still be a believer today. The myth of hell made me realize that if there was a God that he was not the all knowing and all good God he claimed to be. Why should I take such a being at his word, even if there was evidence for his existance?  --  ------          Join the Pythagorean Reform Church!               . \\\\    /        Repent of your evil irrational numbers             . .  \\\\  /   and bean eating ways. Accept 10 into your heart!        . . .   \\\\/   Call the Pythagorean Reform Church BBS at 508-793-9568  . . . .      ']\n"
     ]
    }
   ],
   "source": [
    "print(document_to_transform_1)\n",
    "print(document_to_transform_2)\n",
    "print(document_to_transform_3)"
   ]
  },
  {
   "cell_type": "code",
   "execution_count": 112,
   "metadata": {},
   "outputs": [
    {
     "name": "stdout",
     "output_type": "stream",
     "text": [
      "Let's take a look at the count vectors:\n",
      "[[0 0 0 ... 0 0 0]]\n",
      "[[0 0 0 ... 0 0 0]]\n",
      "[[0 0 0 ... 0 0 0]]\n"
     ]
    }
   ],
   "source": [
    "from sklearn.preprocessing import binarize\n",
    "\n",
    "# Transform sentence with Vectorizers\n",
    "document_vector_count_1 = count_vect.transform(document_to_transform_1)\n",
    "document_vector_count_2 = count_vect.transform(document_to_transform_2)\n",
    "document_vector_count_3 = count_vect.transform(document_to_transform_3)\n",
    "\n",
    "# Binarize vecors to simplify: 0 for abscence, 1 for prescence\n",
    "document_vector_count_1_bin = binarize(document_vector_count_1)\n",
    "document_vector_count_2_bin = binarize(document_vector_count_2)\n",
    "document_vector_count_3_bin = binarize(document_vector_count_3)\n",
    "\n",
    "# print\n",
    "print(\"Let's take a look at the count vectors:\")\n",
    "print(document_vector_count_1.todense())\n",
    "print(document_vector_count_2.todense())\n",
    "print(document_vector_count_3.todense())"
   ]
  },
  {
   "cell_type": "code",
   "execution_count": 113,
   "metadata": {},
   "outputs": [
    {
     "name": "stdout",
     "output_type": "stream",
     "text": [
      "Cosine Similarity using count bw 1 and 2: 0.608862\n",
      "Cosine Similarity using count bw 1 and 3: 0.622050\n",
      "Cosine Similarity using count bw 1 and 1: 1.000000\n",
      "Cosine Similarity using count bw 2 and 2: 1.000000\n"
     ]
    }
   ],
   "source": [
    "from sklearn.metrics.pairwise import cosine_similarity\n",
    "\n",
    "# Calculate Cosine Similarity\n",
    "cos_sim_count_1_2 = cosine_similarity(document_vector_count_1, document_vector_count_2, dense_output=True)\n",
    "cos_sim_count_1_3 = cosine_similarity(document_vector_count_1, document_vector_count_3, dense_output=True)\n",
    "cos_sim_count_1_1 = cosine_similarity(document_vector_count_1, document_vector_count_1, dense_output=True)\n",
    "cos_sim_count_2_2 = cosine_similarity(document_vector_count_2, document_vector_count_2, dense_output=True)\n",
    "\n",
    "# Print \n",
    "print(\"Cosine Similarity using count bw 1 and 2: %(x)f\" %{\"x\":cos_sim_count_1_2})\n",
    "print(\"Cosine Similarity using count bw 1 and 3: %(x)f\" %{\"x\":cos_sim_count_1_3})\n",
    "print(\"Cosine Similarity using count bw 1 and 1: %(x)f\" %{\"x\":cos_sim_count_1_1})\n",
    "print(\"Cosine Similarity using count bw 2 and 2: %(x)f\" %{\"x\":cos_sim_count_2_2})"
   ]
  },
  {
   "cell_type": "markdown",
   "metadata": {},
   "source": [
    "As expected, cosine similarity between a sentence and itself is 1. Between 2 entirely different sentences, it will be 0. \n",
    "\n",
    "We can assume that we have the more common features in bthe documents 1 and 3 than in documents 1 and 2. This reflects indeed in a higher similarity than that of sentences 1 and 3. \n"
   ]
  },
  {
   "cell_type": "markdown",
   "metadata": {},
   "source": [
    "---"
   ]
  },
  {
   "cell_type": "markdown",
   "metadata": {},
   "source": [
    "## 7. Concluding Remarks"
   ]
  },
  {
   "cell_type": "markdown",
   "metadata": {},
   "source": [
    "Wow! We have come a long way! We can now call ourselves experts of Data Preprocessing. You should feel excited and proud because the process of Data Mining usually involves 70% preprocessing and 30% training learning models. You will learn this as you progress in the Data Mining course. I really feel that if you go through the exercises and challenge yourself, you are on your way to becoming a super Data Scientist. \n",
    "\n",
    "From here the possibilities for you are endless. You now know how to use almost every common technique for preprocessing with state-of-the-art tools, such as as Pandas and Scikit-learn. You are now with the trend! \n",
    "\n",
    "After completing this notebook you can do a lot with the results we have generated. You can train algorithms and models that are able to classify articles into certain categories and much more. You can also try to experiment with different datasets, or venture further into text analytics by using new deep learning techniques such as word2vec. All of this will be presented in the next lab session. Until then, go teach machines how to be intelligent to make the world a better place. "
   ]
  },
  {
   "cell_type": "markdown",
   "metadata": {},
   "source": [
    "----"
   ]
  },
  {
   "cell_type": "markdown",
   "metadata": {},
   "source": [
    "## 8. References"
   ]
  },
  {
   "cell_type": "markdown",
   "metadata": {},
   "source": [
    "- Pandas cook book ([Recommended for starters](http://pandas.pydata.org/pandas-docs/stable/cookbook.html))\n",
    "- [Pang-Ning Tan, Michael Steinbach, Vipin Kumar, Introduction to Data Mining, Addison Wesley](https://dl.acm.org/citation.cfm?id=1095618)"
   ]
  },
  {
   "cell_type": "code",
   "execution_count": null,
   "metadata": {},
   "outputs": [],
   "source": []
  }
 ],
 "metadata": {
  "kernelspec": {
   "display_name": "Python 3",
   "language": "python",
   "name": "python3"
  },
  "language_info": {
   "codemirror_mode": {
    "name": "ipython",
    "version": 3
   },
   "file_extension": ".py",
   "mimetype": "text/x-python",
   "name": "python",
   "nbconvert_exporter": "python",
   "pygments_lexer": "ipython3",
   "version": "3.7.4"
  }
 },
 "nbformat": 4,
 "nbformat_minor": 2
}
